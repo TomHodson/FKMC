{
 "cells": [
  {
   "cell_type": "markdown",
   "metadata": {},
   "source": [
    "# Process 2D Phase diagrams"
   ]
  },
  {
   "cell_type": "code",
   "execution_count": 22,
   "metadata": {},
   "outputs": [
    {
     "name": "stdout",
     "output_type": "stream",
     "text": [
      "The autoreload extension is already loaded. To reload it, use:\n",
      "  %reload_ext autoreload\n"
     ]
    }
   ],
   "source": [
    "%load_ext autoreload\n",
    "%autoreload 2"
   ]
  },
  {
   "cell_type": "code",
   "execution_count": 2,
   "metadata": {},
   "outputs": [],
   "source": [
    "from pathlib import Path\n",
    "import numpy as np\n",
    "import os\n",
    "from matplotlib import pyplot as plt\n",
    "import matplotlib as mpl\n",
    "from time import time\n",
    "from munch import Munch\n",
    "\n",
    "from FKMC.import_funcs import get_data_funcmap, mean_over_MCMC, IPRandDOS\n",
    "\n",
    "%matplotlib inline\n",
    "np.seterr(all='warn')\n",
    "textwidth = 6.268\n",
    "mpl.rcParams['figure.dpi'] = 70\n",
    "default_figargs = dict(figsize = (textwidth,textwidth))\n",
    "\n",
    "import logging\n",
    "mpl_logger = logging.getLogger('matplotlib')\n",
    "mpl_logger.setLevel(logging.WARNING) \n",
    "\n",
    "#HPC_data = Path('/data/users/tch14/slurm_runs/') #CMTH\n",
    "HPC_data = Path('~/HPC_data/').expanduser() #CX1"
   ]
  },
  {
   "cell_type": "code",
   "execution_count": 10,
   "metadata": {},
   "outputs": [
    {
     "name": "stderr",
     "output_type": "stream",
     "text": [
      "looking in /rds/general/user/tch14/home/HPC_data/117969\n"
     ]
    },
    {
     "ename": "FileNotFoundError",
     "evalue": "[Errno 2] No such file or directory: '/rds/general/user/tch14/home/HPC_data/117969'",
     "output_type": "error",
     "traceback": [
      "\u001b[0;31m---------------------------------------------------------------------------\u001b[0m",
      "\u001b[0;31mFileNotFoundError\u001b[0m                         Traceback (most recent call last)",
      "\u001b[0;32m<ipython-input-10-0a8870a661dc>\u001b[0m in \u001b[0;36m<module>\u001b[0;34m\u001b[0m\n\u001b[1;32m      4\u001b[0m TJ_phase_obs = get_data_funcmap(fpath,\n\u001b[1;32m      5\u001b[0m                          \u001b[0mfunctions\u001b[0m \u001b[0;34m=\u001b[0m \u001b[0;34m[\u001b[0m\u001b[0mmean_over_MCMC\u001b[0m\u001b[0;34m(\u001b[0m\u001b[0;34m'Mf_moments'\u001b[0m\u001b[0;34m)\u001b[0m\u001b[0;34m,\u001b[0m \u001b[0mIPRandDOS\u001b[0m\u001b[0;34m(\u001b[0m\u001b[0;34m)\u001b[0m\u001b[0;34m]\u001b[0m\u001b[0;34m,\u001b[0m\u001b[0;34m\u001b[0m\u001b[0;34m\u001b[0m\u001b[0m\n\u001b[0;32m----> 6\u001b[0;31m                           \u001b[0mstructure_names\u001b[0m \u001b[0;34m=\u001b[0m \u001b[0;34m(\u001b[0m\u001b[0;34m'repeats'\u001b[0m\u001b[0;34m,\u001b[0m\u001b[0;34m'Js'\u001b[0m\u001b[0;34m,\u001b[0m\u001b[0;34m'Ts'\u001b[0m\u001b[0;34m)\u001b[0m\u001b[0;34m,\u001b[0m\u001b[0;34m\u001b[0m\u001b[0;34m\u001b[0m\u001b[0m\n\u001b[0m\u001b[1;32m      7\u001b[0m                          )\n",
      "\u001b[0;32m/rdsgpfs/general/user/tch14/home/FKMC/FKMC/import_funcs.py\u001b[0m in \u001b[0;36mget_data_funcmap\u001b[0;34m(this_run, functions, structure_names, structure_dims)\u001b[0m\n\u001b[1;32m    307\u001b[0m     \u001b[0mlogger\u001b[0m\u001b[0;34m.\u001b[0m\u001b[0mwarning\u001b[0m\u001b[0;34m(\u001b[0m\u001b[0;34mf'looking in {this_run}'\u001b[0m\u001b[0;34m)\u001b[0m\u001b[0;34m\u001b[0m\u001b[0;34m\u001b[0m\u001b[0m\n\u001b[1;32m    308\u001b[0m     \u001b[0mfunctions\u001b[0m \u001b[0;34m+=\u001b[0m \u001b[0;34m[\u001b[0m\u001b[0mextract\u001b[0m\u001b[0;34m(\u001b[0m\u001b[0;34m'time'\u001b[0m\u001b[0;34m)\u001b[0m\u001b[0;34m,\u001b[0m \u001b[0mmean_over_MCMC\u001b[0m\u001b[0;34m(\u001b[0m\u001b[0;34m'accept_rates'\u001b[0m\u001b[0;34m)\u001b[0m\u001b[0;34m,\u001b[0m \u001b[0mmean_over_MCMC\u001b[0m\u001b[0;34m(\u001b[0m\u001b[0;34m'proposal_rates'\u001b[0m\u001b[0;34m)\u001b[0m\u001b[0;34m]\u001b[0m\u001b[0;34m\u001b[0m\u001b[0;34m\u001b[0m\u001b[0m\n\u001b[0;32m--> 309\u001b[0;31m     \u001b[0mdatafiles\u001b[0m \u001b[0;34m=\u001b[0m \u001b[0msorted\u001b[0m\u001b[0;34m(\u001b[0m\u001b[0;34m[\u001b[0m\u001b[0;34m(\u001b[0m\u001b[0mint\u001b[0m\u001b[0;34m(\u001b[0m\u001b[0mf\u001b[0m\u001b[0;34m.\u001b[0m\u001b[0mstem\u001b[0m\u001b[0;34m)\u001b[0m\u001b[0;34m,\u001b[0m \u001b[0mf\u001b[0m\u001b[0;34m)\u001b[0m \u001b[0;32mfor\u001b[0m \u001b[0mf\u001b[0m \u001b[0;32min\u001b[0m \u001b[0mthis_run\u001b[0m\u001b[0;34m.\u001b[0m\u001b[0miterdir\u001b[0m\u001b[0;34m(\u001b[0m\u001b[0;34m)\u001b[0m \u001b[0;32mif\u001b[0m \u001b[0mf\u001b[0m\u001b[0;34m.\u001b[0m\u001b[0mname\u001b[0m\u001b[0;34m.\u001b[0m\u001b[0mendswith\u001b[0m\u001b[0;34m(\u001b[0m\u001b[0;34m'npz'\u001b[0m\u001b[0;34m)\u001b[0m \u001b[0;32mand\u001b[0m \u001b[0;32mnot\u001b[0m \u001b[0mf\u001b[0m\u001b[0;34m.\u001b[0m\u001b[0mname\u001b[0m \u001b[0;34m==\u001b[0m \u001b[0;34m'parameters.npz'\u001b[0m\u001b[0;34m]\u001b[0m\u001b[0;34m)\u001b[0m\u001b[0;34m\u001b[0m\u001b[0;34m\u001b[0m\u001b[0m\n\u001b[0m\u001b[1;32m    310\u001b[0m     \u001b[0mjobs\u001b[0m \u001b[0;34m=\u001b[0m \u001b[0mnp\u001b[0m\u001b[0;34m.\u001b[0m\u001b[0marray\u001b[0m\u001b[0;34m(\u001b[0m\u001b[0;34m[\u001b[0m\u001b[0mj_id\u001b[0m \u001b[0;32mfor\u001b[0m \u001b[0mj_id\u001b[0m\u001b[0;34m,\u001b[0m \u001b[0mf\u001b[0m \u001b[0;32min\u001b[0m \u001b[0mdatafiles\u001b[0m\u001b[0;34m]\u001b[0m\u001b[0;34m)\u001b[0m\u001b[0;34m\u001b[0m\u001b[0;34m\u001b[0m\u001b[0m\n\u001b[1;32m    311\u001b[0m     \u001b[0;32mif\u001b[0m \u001b[0mlen\u001b[0m\u001b[0;34m(\u001b[0m\u001b[0mjobs\u001b[0m\u001b[0;34m)\u001b[0m \u001b[0;34m==\u001b[0m \u001b[0;36m0\u001b[0m\u001b[0;34m:\u001b[0m\u001b[0;34m\u001b[0m\u001b[0;34m\u001b[0m\u001b[0m\n",
      "\u001b[0;32m/rdsgpfs/general/user/tch14/home/FKMC/FKMC/import_funcs.py\u001b[0m in \u001b[0;36m<listcomp>\u001b[0;34m(.0)\u001b[0m\n\u001b[1;32m    307\u001b[0m     \u001b[0mlogger\u001b[0m\u001b[0;34m.\u001b[0m\u001b[0mwarning\u001b[0m\u001b[0;34m(\u001b[0m\u001b[0;34mf'looking in {this_run}'\u001b[0m\u001b[0;34m)\u001b[0m\u001b[0;34m\u001b[0m\u001b[0;34m\u001b[0m\u001b[0m\n\u001b[1;32m    308\u001b[0m     \u001b[0mfunctions\u001b[0m \u001b[0;34m+=\u001b[0m \u001b[0;34m[\u001b[0m\u001b[0mextract\u001b[0m\u001b[0;34m(\u001b[0m\u001b[0;34m'time'\u001b[0m\u001b[0;34m)\u001b[0m\u001b[0;34m,\u001b[0m \u001b[0mmean_over_MCMC\u001b[0m\u001b[0;34m(\u001b[0m\u001b[0;34m'accept_rates'\u001b[0m\u001b[0;34m)\u001b[0m\u001b[0;34m,\u001b[0m \u001b[0mmean_over_MCMC\u001b[0m\u001b[0;34m(\u001b[0m\u001b[0;34m'proposal_rates'\u001b[0m\u001b[0;34m)\u001b[0m\u001b[0;34m]\u001b[0m\u001b[0;34m\u001b[0m\u001b[0;34m\u001b[0m\u001b[0m\n\u001b[0;32m--> 309\u001b[0;31m     \u001b[0mdatafiles\u001b[0m \u001b[0;34m=\u001b[0m \u001b[0msorted\u001b[0m\u001b[0;34m(\u001b[0m\u001b[0;34m[\u001b[0m\u001b[0;34m(\u001b[0m\u001b[0mint\u001b[0m\u001b[0;34m(\u001b[0m\u001b[0mf\u001b[0m\u001b[0;34m.\u001b[0m\u001b[0mstem\u001b[0m\u001b[0;34m)\u001b[0m\u001b[0;34m,\u001b[0m \u001b[0mf\u001b[0m\u001b[0;34m)\u001b[0m \u001b[0;32mfor\u001b[0m \u001b[0mf\u001b[0m \u001b[0;32min\u001b[0m \u001b[0mthis_run\u001b[0m\u001b[0;34m.\u001b[0m\u001b[0miterdir\u001b[0m\u001b[0;34m(\u001b[0m\u001b[0;34m)\u001b[0m \u001b[0;32mif\u001b[0m \u001b[0mf\u001b[0m\u001b[0;34m.\u001b[0m\u001b[0mname\u001b[0m\u001b[0;34m.\u001b[0m\u001b[0mendswith\u001b[0m\u001b[0;34m(\u001b[0m\u001b[0;34m'npz'\u001b[0m\u001b[0;34m)\u001b[0m \u001b[0;32mand\u001b[0m \u001b[0;32mnot\u001b[0m \u001b[0mf\u001b[0m\u001b[0;34m.\u001b[0m\u001b[0mname\u001b[0m \u001b[0;34m==\u001b[0m \u001b[0;34m'parameters.npz'\u001b[0m\u001b[0;34m]\u001b[0m\u001b[0;34m)\u001b[0m\u001b[0;34m\u001b[0m\u001b[0;34m\u001b[0m\u001b[0m\n\u001b[0m\u001b[1;32m    310\u001b[0m     \u001b[0mjobs\u001b[0m \u001b[0;34m=\u001b[0m \u001b[0mnp\u001b[0m\u001b[0;34m.\u001b[0m\u001b[0marray\u001b[0m\u001b[0;34m(\u001b[0m\u001b[0;34m[\u001b[0m\u001b[0mj_id\u001b[0m \u001b[0;32mfor\u001b[0m \u001b[0mj_id\u001b[0m\u001b[0;34m,\u001b[0m \u001b[0mf\u001b[0m \u001b[0;32min\u001b[0m \u001b[0mdatafiles\u001b[0m\u001b[0;34m]\u001b[0m\u001b[0;34m)\u001b[0m\u001b[0;34m\u001b[0m\u001b[0;34m\u001b[0m\u001b[0m\n\u001b[1;32m    311\u001b[0m     \u001b[0;32mif\u001b[0m \u001b[0mlen\u001b[0m\u001b[0;34m(\u001b[0m\u001b[0mjobs\u001b[0m\u001b[0;34m)\u001b[0m \u001b[0;34m==\u001b[0m \u001b[0;36m0\u001b[0m\u001b[0;34m:\u001b[0m\u001b[0;34m\u001b[0m\u001b[0;34m\u001b[0m\u001b[0m\n",
      "\u001b[0;32m~/anaconda3/lib/python3.7/pathlib.py\u001b[0m in \u001b[0;36miterdir\u001b[0;34m(self)\u001b[0m\n\u001b[1;32m   1088\u001b[0m         \u001b[0;32mif\u001b[0m \u001b[0mself\u001b[0m\u001b[0;34m.\u001b[0m\u001b[0m_closed\u001b[0m\u001b[0;34m:\u001b[0m\u001b[0;34m\u001b[0m\u001b[0;34m\u001b[0m\u001b[0m\n\u001b[1;32m   1089\u001b[0m             \u001b[0mself\u001b[0m\u001b[0;34m.\u001b[0m\u001b[0m_raise_closed\u001b[0m\u001b[0;34m(\u001b[0m\u001b[0;34m)\u001b[0m\u001b[0;34m\u001b[0m\u001b[0;34m\u001b[0m\u001b[0m\n\u001b[0;32m-> 1090\u001b[0;31m         \u001b[0;32mfor\u001b[0m \u001b[0mname\u001b[0m \u001b[0;32min\u001b[0m \u001b[0mself\u001b[0m\u001b[0;34m.\u001b[0m\u001b[0m_accessor\u001b[0m\u001b[0;34m.\u001b[0m\u001b[0mlistdir\u001b[0m\u001b[0;34m(\u001b[0m\u001b[0mself\u001b[0m\u001b[0;34m)\u001b[0m\u001b[0;34m:\u001b[0m\u001b[0;34m\u001b[0m\u001b[0;34m\u001b[0m\u001b[0m\n\u001b[0m\u001b[1;32m   1091\u001b[0m             \u001b[0;32mif\u001b[0m \u001b[0mname\u001b[0m \u001b[0;32min\u001b[0m \u001b[0;34m{\u001b[0m\u001b[0;34m'.'\u001b[0m\u001b[0;34m,\u001b[0m \u001b[0;34m'..'\u001b[0m\u001b[0;34m}\u001b[0m\u001b[0;34m:\u001b[0m\u001b[0;34m\u001b[0m\u001b[0;34m\u001b[0m\u001b[0m\n\u001b[1;32m   1092\u001b[0m                 \u001b[0;31m# Yielding a path object for these makes little sense\u001b[0m\u001b[0;34m\u001b[0m\u001b[0;34m\u001b[0m\u001b[0;34m\u001b[0m\u001b[0m\n",
      "\u001b[0;31mFileNotFoundError\u001b[0m: [Errno 2] No such file or directory: '/rds/general/user/tch14/home/HPC_data/117969'"
     ]
    }
   ],
   "source": [
    "## TJ phase data\n",
    "fpath = HPC_data / '117969'\n",
    "\n",
    "TJ_phase_obs = get_data_funcmap(fpath,\n",
    "                         functions = [mean_over_MCMC('Mf_moments'), IPRandDOS()],\n",
    "                          structure_names = ('repeats','Js','Ts'),\n",
    "                         )"
   ]
  },
  {
   "cell_type": "code",
   "execution_count": 10,
   "metadata": {},
   "outputs": [
    {
     "name": "stdout",
     "output_type": "stream",
     "text": [
      "Pickling Successful\n"
     ]
    }
   ],
   "source": [
    "import pickle \n",
    "with open(f'/data/users/tch14/pickled_data/TJ_phase_data.pickle', 'wb') as f:\n",
    "    # Pickle the 'data' dictionary using the highest protocol available.\n",
    "    pickle.dump(TJ_phase_obs, f, pickle.HIGHEST_PROTOCOL)\n",
    "    print('Pickling Successful')"
   ]
  },
  {
   "cell_type": "code",
   "execution_count": 32,
   "metadata": {},
   "outputs": [],
   "source": [
    "del TJ_phase_obs"
   ]
  },
  {
   "cell_type": "code",
   "execution_count": 25,
   "metadata": {},
   "outputs": [
    {
     "name": "stdout",
     "output_type": "stream",
     "text": [
      "CRITICAL:FKMC.import_funcs:looking in /data/users/tch14/slurm_runs/117734\n",
      "INFO:FKMC.import_funcs:job ids range from 0 to 899\n",
      "INFO:FKMC.import_funcs:structure_names = ('repeats', 'Us', 'Ts')\n",
      "INFO:FKMC.import_funcs:structure_dims = (array(1), 30, 30)\n",
      "INFO:FKMC.import_funcs:Expected number of jobs 900\n",
      "INFO:FKMC.import_funcs:Logger keys: ['total_jobs', 'Us', 'Ts', 'Ns', 'repeats', 'structure_names', 'parameters', 'MCMC_params', 'logs', 'desc'] \n",
      "\n",
      "INFO:FKMC.import_funcs:MCMC_params: Munch({'state': None, 'N_steps': 100000, 'N_burn_in': 10000, 'thin': 100, 'logger': <FKMC.montecarlo.Eigenspectrum_IPR_all object at 0x7f3bd84376d8>, 'proposal': <function p_multi_site_uniform_reflect at 0x7f3be33d1400>, 'accept_function': <function perturbation_accept at 0x7f3be33d1730>, 'warnings': True}) \n",
      "\n",
      "INFO:FKMC.import_funcs:MCMC Steps: 100000 with thinning = 100 for 1000 recorded steps\n",
      "INFO:FKMC.import_funcs:[(0, 'repeats', array(1)), (1, 'Us', 30), (2, 'Ts', 30)]\n",
      "INFO:FKMC.import_funcs:available observables = ['A', 'Fc', 'Ff', 'IPRs', 'Mf_moments', 'N_cumulants', 'N_sites', 'N_steps', 'Nc', 'Nf', 'accept_rates', 'classical_accept_rates', 'eigenval_bins', 'eigenvals', 'last_state', 'powers', 'proposal_rates', 'return_vals', 'start', 'state', 'time', 'update']\n",
      "INFO:FKMC.import_funcs:Allocating space for the requested observables:\n",
      "INFO:FKMC.import_funcs:observables['Mf_moments'] = np.array(shape = (6, 900, 5), dtype = float64) approx size: 0.00Gb\n",
      "INFO:FKMC.import_funcs:observables['IPRs'] = np.array(shape = (6, 900, 2000), dtype = <class 'numpy.float64'>) approx size: 0.04Gb\n",
      "INFO:FKMC.import_funcs:observables['DOS'] = np.array(shape = (6, 900, 2000), dtype = <class 'numpy.float64'>) approx size: 0.04Gb\n",
      "0 INFO:FKMC.import_funcs:\n",
      "Took 0.36s to do the first 10, should take 32.45s to do the remaining 890\n",
      "\n",
      "18 36 54 72 90 108 126 144 162 180 198 216 234 252 270 288 306 324 342 360 378 396 414 432 INFO:FKMC.import_funcs:\n",
      "Took 39.50s to do the first 450, should take 39.50s to do the remaining 450\n",
      "\n",
      "450 468 486 504 522 540 558 576 594 612 630 648 666 684 702 720 738 756 774 792 810 828 846 864 882 INFO:FKMC.import_funcs:########################################################################\n",
      "\n",
      "INFO:FKMC.import_funcs:Observables has keys: dict_keys(['Mf_moments', 'sigma_Mf_moments', 'E_bins', 'IPR', 'DOS', 'total_jobs', 'Us', 'Ts', 'Ns', 'repeats', 'structure_names', 'parameters', 'MCMC_params', 'desc', 'structure_dims', 'hints', 'T'])\n"
     ]
    }
   ],
   "source": [
    "## TU phase data\n",
    "fpath = Path('/data/users/tch14/slurm_runs/117734')\n",
    "\n",
    "\n",
    "TU_phase_obs = get_data_funcmap(fpath,\n",
    "                         functions = [mean_over_MCMC('Mf_moments'), IPRandDOS(E_bins = np.linspace(-10, 10, 2000 + 1))],\n",
    "                          structure_names = ('repeats','Us','Ts'),\n",
    "                         )\n",
    "\n",
    "import pickle \n",
    "with open(f'/data/users/tch14/pickled_data/TU_phase_data.pickle', 'wb') as f:\n",
    "    # Pickle the 'data' dictionary using the highest protocol available.\n",
    "    pickle.dump(TU_phase_obs, f, pickle.HIGHEST_PROTOCOL)\n",
    "    print('Pickling Successful')"
   ]
  },
  {
   "cell_type": "code",
   "execution_count": 17,
   "metadata": {},
   "outputs": [
    {
     "name": "stdout",
     "output_type": "stream",
     "text": [
      "CRITICAL:FKMC.import_funcs:looking in /data/users/tch14/slurm_runs/119596\n",
      "INFO:FKMC.import_funcs:job ids range from 0 to 899\n",
      "INFO:FKMC.import_funcs:structure_names = ('repeats', 'alphas', 'Ts')\n",
      "INFO:FKMC.import_funcs:structure_dims = (array(1), 30, 30)\n",
      "INFO:FKMC.import_funcs:Expected number of jobs 900\n",
      "WARNING:FKMC.import_funcs:Missing jobs: {58}\n",
      "\n",
      "INFO:FKMC.import_funcs:Logger keys: ['total_jobs', 'U', 'Ts', 'Ns', 'alphas', 'repeats', 'structure_names', 'parameters', 'MCMC_params', 'logs', 'desc'] \n",
      "\n",
      "INFO:FKMC.import_funcs:MCMC_params: Munch({'state': None, 'N_steps': 100000, 'N_burn_in': 10000, 'thin': 100, 'logger': <FKMC.montecarlo.Eigenspectrum_IPR_all object at 0x7f3be29eae10>, 'proposal': <function p_multi_site_uniform_reflect at 0x7f3be33d1400>, 'accept_function': <function perturbation_accept at 0x7f3be33d1730>, 'warnings': True}) \n",
      "\n",
      "INFO:FKMC.import_funcs:MCMC Steps: 100000 with thinning = 100 for 1000 recorded steps\n",
      "INFO:FKMC.import_funcs:[(0, 'repeats', array(1)), (1, 'alphas', 30), (2, 'Ts', 30)]\n",
      "INFO:FKMC.import_funcs:available observables = ['A', 'Fc', 'Ff', 'IPRs', 'Mf_moments', 'N_cumulants', 'N_sites', 'N_steps', 'Nc', 'Nf', 'accept_rates', 'classical_accept_rates', 'eigenval_bins', 'eigenvals', 'last_state', 'powers', 'proposal_rates', 'return_vals', 'start', 'state', 'time', 'update']\n",
      "INFO:FKMC.import_funcs:Allocating space for the requested observables:\n",
      "INFO:FKMC.import_funcs:observables['Mf_moments'] = np.array(shape = (6, 900, 5), dtype = float64) approx size: 0.00Gb\n",
      "INFO:FKMC.import_funcs:observables['IPRs'] = np.array(shape = (6, 900, 2000), dtype = <class 'numpy.float64'>) approx size: 0.04Gb\n",
      "INFO:FKMC.import_funcs:observables['DOS'] = np.array(shape = (6, 900, 2000), dtype = <class 'numpy.float64'>) approx size: 0.04Gb\n",
      "0 INFO:FKMC.import_funcs:\n",
      "Took 0.49s to do the first 10, should take 43.14s to do the remaining 889\n",
      "\n",
      "17 34 51 68 85 102 119 136 153 170 187 204 221 238 255 272 289 306 323 340 357 374 391 408 425 442 INFO:FKMC.import_funcs:\n",
      "Took 27.07s to do the first 449, should take 27.13s to do the remaining 450\n",
      "\n",
      "459 476 493 510 527 544 561 578 595 612 629 646 663 680 697 714 731 748 765 782 799 816 833 850 867 884 INFO:FKMC.import_funcs:########################################################################\n",
      "\n",
      "INFO:FKMC.import_funcs:Observables has keys: dict_keys(['Mf_moments', 'sigma_Mf_moments', 'E_bins', 'IPR', 'DOS', 'total_jobs', 'U', 'Ts', 'Ns', 'alphas', 'repeats', 'structure_names', 'parameters', 'MCMC_params', 'desc', 'structure_dims', 'hints', 'T'])\n"
     ]
    }
   ],
   "source": [
    "## TAlpha phase data\n",
    "fpath = Path('/data/users/tch14/slurm_runs/119596')\n",
    "\n",
    "TAlpha_phase_obs1 = get_data_funcmap(fpath,\n",
    "                         functions = [mean_over_MCMC('Mf_moments'), IPRandDOS()],\n",
    "                          structure_names = ('repeats','alphas','Ts'),\n",
    "                         )"
   ]
  },
  {
   "cell_type": "code",
   "execution_count": 13,
   "metadata": {},
   "outputs": [
    {
     "name": "stdout",
     "output_type": "stream",
     "text": [
      "CRITICAL:FKMC.import_funcs:looking in /data/users/tch14/slurm_runs/128530\n",
      "INFO:FKMC.import_funcs:job ids range from 0 to 899\n",
      "INFO:FKMC.import_funcs:structure_names = ('repeats', 'alphas', 'Ts')\n",
      "INFO:FKMC.import_funcs:structure_dims = (array(1), 30, 30)\n",
      "INFO:FKMC.import_funcs:Expected number of jobs 900\n",
      "INFO:FKMC.import_funcs:Logger keys: ['total_jobs', 'U', 'Ts', 'Ns', 'alphas', 'repeats', 'structure_names', 'parameters', 'MCMC_params', 'logs', 'desc'] \n",
      "\n",
      "INFO:FKMC.import_funcs:MCMC_params: Munch({'state': None, 'N_steps': 100000, 'N_burn_in': 10000, 'thin': 100, 'logger': <FKMC.montecarlo.Eigenspectrum_IPR_all object at 0x7f3be2a37c50>, 'proposal': <function p_multi_site_uniform_reflect at 0x7f3be33d1400>, 'accept_function': <function perturbation_accept at 0x7f3be33d1730>, 'warnings': True}) \n",
      "\n",
      "INFO:FKMC.import_funcs:MCMC Steps: 100000 with thinning = 100 for 1000 recorded steps\n",
      "INFO:FKMC.import_funcs:[(0, 'repeats', array(1)), (1, 'alphas', 30), (2, 'Ts', 30)]\n",
      "INFO:FKMC.import_funcs:available observables = ['A', 'Fc', 'Ff', 'IPRs', 'Mf_moments', 'N_cumulants', 'N_sites', 'N_steps', 'Nc', 'Nf', 'accept_rates', 'classical_accept_rates', 'eigenval_bins', 'eigenvals', 'last_state', 'powers', 'proposal_rates', 'return_vals', 'start', 'state', 'time', 'update']\n",
      "INFO:FKMC.import_funcs:Allocating space for the requested observables:\n",
      "INFO:FKMC.import_funcs:observables['Mf_moments'] = np.array(shape = (6, 900, 5), dtype = float64) approx size: 0.00Gb\n",
      "INFO:FKMC.import_funcs:observables['IPRs'] = np.array(shape = (6, 900, 2000), dtype = <class 'numpy.float64'>) approx size: 0.04Gb\n",
      "INFO:FKMC.import_funcs:observables['DOS'] = np.array(shape = (6, 900, 2000), dtype = <class 'numpy.float64'>) approx size: 0.04Gb\n",
      "0 INFO:FKMC.import_funcs:\n",
      "Took 0.96s to do the first 10, should take 85.03s to do the remaining 890\n",
      "\n",
      "18 36 54 72 90 108 126 144 162 180 198 216 234 252 270 288 306 324 342 360 378 396 414 432 INFO:FKMC.import_funcs:\n",
      "Took 71.09s to do the first 450, should take 71.09s to do the remaining 450\n",
      "\n",
      "450 468 486 504 522 540 558 576 594 612 630 648 666 684 702 720 738 756 774 792 810 828 846 864 882 INFO:FKMC.import_funcs:########################################################################\n",
      "\n",
      "INFO:FKMC.import_funcs:Observables has keys: dict_keys(['Mf_moments', 'sigma_Mf_moments', 'E_bins', 'IPR', 'DOS', 'total_jobs', 'U', 'Ts', 'Ns', 'alphas', 'repeats', 'structure_names', 'parameters', 'MCMC_params', 'desc', 'structure_dims', 'hints', 'T'])\n"
     ]
    }
   ],
   "source": [
    "fpath = Path('/data/users/tch14/slurm_runs/128530')\n",
    "\n",
    "TAlpha_phase_obs2 = get_data_funcmap(fpath,\n",
    "                         functions = [mean_over_MCMC('Mf_moments'), IPRandDOS()],\n",
    "                          structure_names = ('repeats','alphas','Ts'),\n",
    "                         )"
   ]
  },
  {
   "cell_type": "code",
   "execution_count": 21,
   "metadata": {},
   "outputs": [],
   "source": [
    "for name in ['Mf_moments', 'IPR', 'DOS']:\n",
    "    TAlpha_phase_obs[name] = np.concatenate([TAlpha_phase_obs1[name], TAlpha_phase_obs2[name]], axis = 1)"
   ]
  },
  {
   "cell_type": "code",
   "execution_count": 22,
   "metadata": {},
   "outputs": [
    {
     "data": {
      "text/plain": [
       "(6, 2, 30, 30, 5)"
      ]
     },
     "execution_count": 22,
     "metadata": {},
     "output_type": "execute_result"
    }
   ],
   "source": [
    "TAlpha_phase_obs.Mf_moments.shape"
   ]
  },
  {
   "cell_type": "code",
   "execution_count": 23,
   "metadata": {},
   "outputs": [
    {
     "data": {
      "text/plain": [
       "('Ns', 'repeats', 'alphas', 'Ts', 'MCstep')"
      ]
     },
     "execution_count": 23,
     "metadata": {},
     "output_type": "execute_result"
    }
   ],
   "source": [
    "TAlpha_phase_obs.hints.Mf_moments"
   ]
  },
  {
   "cell_type": "code",
   "execution_count": 24,
   "metadata": {},
   "outputs": [
    {
     "name": "stdout",
     "output_type": "stream",
     "text": [
      "Pickling Successful\n"
     ]
    }
   ],
   "source": [
    "import pickle \n",
    "with open(f'/data/users/tch14/pickled_data/TAlpha_phase_data.pickle', 'wb') as f:\n",
    "    # Pickle the 'data' dictionary using the highest protocol available.\n",
    "    pickle.dump(TAlpha_phase_obs, f, pickle.HIGHEST_PROTOCOL)\n",
    "    print('Pickling Successful')"
   ]
  },
  {
   "cell_type": "code",
   "execution_count": 40,
   "metadata": {},
   "outputs": [],
   "source": [
    "del TAlpha_phase_obs"
   ]
  },
  {
   "cell_type": "markdown",
   "metadata": {},
   "source": [
    "# Read in new TU data"
   ]
  },
  {
   "cell_type": "code",
   "execution_count": 65,
   "metadata": {},
   "outputs": [],
   "source": [
    "from FKMC.import_funcs import mean_over_MCMC, IPRandDOS\n",
    "TUfunctions = [\n",
    "    mean_over_MCMC('Mf_moments', N_error_bins = 10),\n",
    "    IPRandDOS(),\n",
    "    ]"
   ]
  },
  {
   "cell_type": "code",
   "execution_count": 37,
   "metadata": {},
   "outputs": [
    {
     "name": "stderr",
     "output_type": "stream",
     "text": [
      "INFO:FKMC.import_funcs:looking in /rds/general/user/tch14/home/HPC_data/TU_phase_diagram2_finer_detail\n",
      "DEBUG:FKMC.import_funcs:structure_names = ['Rs', 'Us', 'Ts']\n",
      "DEBUG:FKMC.import_funcs:structure_dims = (4, 50, 50)\n"
     ]
    },
    {
     "name": "stdout",
     "output_type": "stream",
     "text": [
      "[PosixPath('/rds/general/user/tch14/home/HPC_data/TU_phase_diagram2_finer_detail/code/TU_simulation.py')]\n",
      "Ham_params:  t=1, alpha=1.25, mu=0, beta=varying, J=5, U=5, normalise=True,\n",
      "\n",
      "\n",
      "Tasks per chain: 10,\n",
      "\n",
      "Each doing 5000 steps,\n",
      "\n",
      "50000 total chain length,\n",
      "\n",
      "5000 samples,\n",
      "\n",
      "\n",
      "MCMC_params:  N_steps=5000, N_burn_in=5000, thin=10, proposal=<function p_multi_site_uniform_reflect at 0x2af0dd116ef0>, accept_function=<function perturbation_accept at 0x2af0dd117290>, warnings=False,\n"
     ]
    },
    {
     "name": "stderr",
     "output_type": "stream",
     "text": [
      "DEBUG:FKMC.import_funcs:Expected number of tasks 10000\n",
      "DEBUG:FKMC.import_funcs:Measured number of tasks 8988\n",
      "DEBUG:FKMC.import_funcs:Expected number of chains None\n",
      "DEBUG:FKMC.import_funcs:Measured number of chains 1\n",
      "INFO:FKMC.import_funcs:Logger keys: ['Ns', 'parameters', 'MCMC_params', 'structure_names', 'structure_dimensions', 'chain_id', 'task_id', 'logs', 'allow_pickle', 'desc'] \n",
      "\n",
      "INFO:FKMC.import_funcs:MCMC_params keys: ['N_steps', 'N_burn_in', 'thin', 'proposal', 'accept_function', 'warnings', 'state', 'logger'] \n",
      "\n",
      "INFO:FKMC.import_funcs:Overall steps = 500\n",
      "DEBUG:FKMC.import_funcs:[(0, 'Rs', 4), (1, 'Us', 50), (2, 'Ts', 50)]\n",
      "DEBUG:FKMC.import_funcs:available observables = ['A', 'Fc', 'Ff', 'IPRs', 'Mf_moments', 'N_cumulants', 'N_sites', 'N_steps', 'Nc', 'Nf', 'accept_rates', 'classical_accept_rates', 'eigenval_bins', 'eigenvals', 'last_state', 'powers', 'proposal_rates', 'return_vals', 'start', 'state', 'time', 'update']\n",
      "DEBUG:FKMC.import_funcs:Allocating space for the requested observables:\n",
      "DEBUG:FKMC.import_funcs:observables.flat['Mf_moments'] = np.array(shape = (1, 10000, 5), dtype = float64) approx size: 0.00Gb\n",
      "DEBUG:FKMC.import_funcs:observables.flat['IPRs'] = np.array(shape = (1, 10000, 2000), dtype = <class 'numpy.float64'>) approx size: 0.08Gb\n",
      "DEBUG:FKMC.import_funcs:observables.flat['DOS'] = np.array(shape = (1, 10000, 2000), dtype = <class 'numpy.float64'>) approx size: 0.08Gb\n",
      "DEBUG:FKMC.import_funcs:observables.flat['time'] = np.array(shape = (1, 10000), dtype = float64) approx size: 0.00Gb\n",
      "DEBUG:FKMC.import_funcs:observables.flat['accept_rates'] = np.array(shape = (1, 10000), dtype = float64) approx size: 0.00Gb\n",
      "DEBUG:FKMC.import_funcs:observables.flat['proposal_rates'] = np.array(shape = (1, 10000), dtype = float64) approx size: 0.00Gb\n",
      "WARNING:FKMC.import_funcs:data files contain a key structure_names which observables already has, not overwriting\n",
      "DEBUG:FKMC.import_funcs:todo: [0, 1, 2, 3, 4, 5, 6, 7, 8, 9]\n"
     ]
    },
    {
     "name": "stdout",
     "output_type": "stream",
     "text": [
      "0 1 2 3 4 5 6 7 8 9 "
     ]
    },
    {
     "name": "stderr",
     "output_type": "stream",
     "text": [
      "INFO:FKMC.import_funcs:########################################################################\n",
      "\n",
      "INFO:FKMC.import_funcs:Observables has keys: dict_keys(['functions', 'flat', 'hints', 'processed_task_ids', 'task_id_range', 'this_run', 'datapath', 'codepath', 'py_script', 'batch_params', 'structure_names', 'structure_dims', 'N_tasks', 'N_chains', 'original_N_steps', 'thin', 'N_steps', 'E_bins', 'Ns', 'parameters', 'MCMC_params', 'structure_dimensions', 'chain_id', 'task_id', 'allow_pickle', 'desc', 'Rs', 'Us', 'Ts', 'Mf_moments', 'DOS', 'IPR', 'dDOS', 'dIPR', 'time', 'accept_rates', 'proposal_rates'])\n",
      "INFO:FKMC.import_funcs:    Completed jobs:?\n",
      "    MCMC Steps: 1 chains of 5000 for 5000 with thinning = 10 for 500 recorded steps\n",
      "    Burn in: 5000\n",
      "    Structure_names: {'Rs': 4, 'Us': 50, 'Ts': 50}\n",
      "    Ns = [250]\n",
      "    Runtimes: \n",
      "        Average: 14.0 minutes\n",
      "        Min: 13.0 minutes\n",
      "        Max: 15.0 minutes\n",
      "        Total: 2.0 hours\n",
      "    \n"
     ]
    },
    {
     "name": "stdout",
     "output_type": "stream",
     "text": [
      "{0, 1, 2, 3, 4, 5, 6, 7, 8, 9}\n"
     ]
    }
   ],
   "source": [
    "#%%time\n",
    "import logging\n",
    "import shutil\n",
    "from FKMC.import_funcs import get_data_funcmap_chain_ext\n",
    "logging.basicConfig()\n",
    "logger = logging.getLogger()\n",
    "logger.setLevel(logging.DEBUG)\n",
    "\n",
    "oTU = get_data_funcmap_chain_ext(Path('~/HPC_data/TU_phase_diagram2_finer_detail'),\n",
    "            functions = TUfunctions,\n",
    "            task_id_range = range(10),\n",
    "            )\n",
    "print(oTU.processed_task_ids)\n",
    "\n",
    "print(\"Backing up the data...\")\n",
    "shutil.copy(Path('~/HPC_data/pickled_data/TU_finer_data.pickle').expanduser(), Path('~/HPC_data/pickled_data/TU_finer_data.pickle.backup').expanduser())\n",
    "\n",
    "\n",
    "print(\"Saving the new data...\")\n",
    "with open(Path('~/HPC_data/pickled_data/TU_finer_data.pickle').expanduser(), 'wb') as f:\n",
    "    # Pickle the 'data' dictionary using the highest protocol available.\n",
    "    oTU.functions = None\n",
    "    pickle.dump(oTU, f, pickle.HIGHEST_PROTOCOL)\n",
    "    print('Pickling Successful')"
   ]
  },
  {
   "cell_type": "code",
   "execution_count": 62,
   "metadata": {},
   "outputs": [
    {
     "name": "stdout",
     "output_type": "stream",
     "text": [
      "Pickling Successful\n"
     ]
    }
   ],
   "source": []
  },
  {
   "cell_type": "code",
   "execution_count": 74,
   "metadata": {},
   "outputs": [
    {
     "name": "stdout",
     "output_type": "stream",
     "text": [
      "Reading in more data...\n",
      "\u001b[31m2867\u001b[0m \u001b[31m2868\u001b[0m \u001b[31m2869\u001b[0m \u001b[31m2870\u001b[0m \u001b[31m6346\u001b[0m \u001b[31m6499\u001b[0m \u001b[31m6589\u001b[0m \u001b[31m6689\u001b[0m \u001b[31m6694\u001b[0m \u001b[31m6743\u001b[0m \u001b[31m6789\u001b[0m \u001b[31m6794\u001b[0m \u001b[31m6848\u001b[0m \u001b[31m6940\u001b[0m \u001b[31m6986\u001b[0m \u001b[31m7136\u001b[0m \u001b[31m7188\u001b[0m \u001b[31m7333\u001b[0m \u001b[31m7388\u001b[0m \u001b[31m7392\u001b[0m \u001b[31m7396\u001b[0m \u001b[31m7493\u001b[0m \u001b[31m7541\u001b[0m \u001b[31m7585\u001b[0m \u001b[31m7634\u001b[0m \u001b[31m7794\u001b[0m \u001b[31m7797\u001b[0m \u001b[31m7798\u001b[0m \u001b[31m7799\u001b[0m \u001b[31m7840\u001b[0m \u001b[31m7848\u001b[0m \u001b[31m7939\u001b[0m \u001b[31m7981\u001b[0m \u001b[31m7993\u001b[0m \u001b[31m7994\u001b[0m \u001b[31m7999\u001b[0m \u001b[31m8042\u001b[0m \u001b[31m8046\u001b[0m \u001b[31m8099\u001b[0m \u001b[31m8141\u001b[0m \u001b[31m8142\u001b[0m \u001b[31m8149\u001b[0m \u001b[31m8192\u001b[0m \u001b[31m8193\u001b[0m \u001b[31m8194\u001b[0m \u001b[31m8195\u001b[0m \u001b[31m8196\u001b[0m \u001b[31m8198\u001b[0m \u001b[31m8199\u001b[0m \u001b[31m8232\u001b[0m \u001b[31m8233\u001b[0m \u001b[31m8239\u001b[0m \u001b[31m8245\u001b[0m \u001b[31m8286\u001b[0m \u001b[31m8290\u001b[0m \u001b[31m8291\u001b[0m \u001b[31m8292\u001b[0m \u001b[31m8297\u001b[0m \u001b[31m8298\u001b[0m \u001b[31m8299\u001b[0m \u001b[31m8332\u001b[0m \u001b[31m8338\u001b[0m \u001b[31m8339\u001b[0m \u001b[31m8341\u001b[0m \u001b[31m8342\u001b[0m \u001b[31m8343\u001b[0m \u001b[31m8344\u001b[0m \u001b[31m8345\u001b[0m \u001b[31m8383\u001b[0m \u001b[31m8389\u001b[0m \u001b[31m8394\u001b[0m \u001b[31m8432\u001b[0m \u001b[31m8435\u001b[0m \u001b[31m8438\u001b[0m \u001b[31m8439\u001b[0m \u001b[31m8442\u001b[0m \u001b[31m8443\u001b[0m \u001b[31m8445\u001b[0m \u001b[31m8446\u001b[0m \u001b[31m8447\u001b[0m \u001b[31m8449\u001b[0m \u001b[31m8488\u001b[0m \u001b[31m8491\u001b[0m \u001b[31m8492\u001b[0m \u001b[31m8493\u001b[0m \u001b[31m8534\u001b[0m \u001b[31m8537\u001b[0m \u001b[31m8538\u001b[0m \u001b[31m8539\u001b[0m \u001b[31m8540\u001b[0m \u001b[31m8541\u001b[0m \u001b[31m8542\u001b[0m \u001b[31m8543\u001b[0m \u001b[31m8547\u001b[0m \u001b[31m8548\u001b[0m \u001b[31m8584\u001b[0m \u001b[31m8585\u001b[0m \u001b[31m8590\u001b[0m \u001b[31m8632\u001b[0m \u001b[31m8639\u001b[0m \u001b[31m8640\u001b[0m \u001b[31m8642\u001b[0m \u001b[31m8646\u001b[0m \u001b[31m8647\u001b[0m \u001b[31m8648\u001b[0m \u001b[31m8684\u001b[0m \u001b[31m8692\u001b[0m \u001b[31m8693\u001b[0m \u001b[31m8696\u001b[0m \u001b[31m8697\u001b[0m \u001b[31m8698\u001b[0m \u001b[31m8699\u001b[0m \u001b[31m8738\u001b[0m \u001b[31m8739\u001b[0m \u001b[31m8742\u001b[0m \u001b[31m8744\u001b[0m \u001b[31m8746\u001b[0m \u001b[31m8747\u001b[0m \u001b[31m8748\u001b[0m \u001b[31m8749\u001b[0m \u001b[31m8784\u001b[0m \u001b[31m8785\u001b[0m \u001b[31m8786\u001b[0m \u001b[31m8788\u001b[0m \u001b[31m8792\u001b[0m \u001b[31m8794\u001b[0m \u001b[31m8795\u001b[0m \u001b[31m8796\u001b[0m \u001b[31m8797\u001b[0m \u001b[31m8798\u001b[0m \u001b[31m8799\u001b[0m \u001b[31m8839\u001b[0m \u001b[31m8841\u001b[0m \u001b[31m8845\u001b[0m \u001b[31m8847\u001b[0m \u001b[31m8848\u001b[0m \u001b[31m8849\u001b[0m \u001b[31m8883\u001b[0m \u001b[31m8886\u001b[0m \u001b[31m8890\u001b[0m \u001b[31m8892\u001b[0m \u001b[31m8894\u001b[0m \u001b[31m8895\u001b[0m \u001b[31m8896\u001b[0m \u001b[31m8897\u001b[0m \u001b[31m8898\u001b[0m \u001b[31m8899\u001b[0m \u001b[31m8932\u001b[0m \u001b[31m8933\u001b[0m \u001b[31m8934\u001b[0m \u001b[31m8937\u001b[0m \u001b[31m8938\u001b[0m \u001b[31m8939\u001b[0m \u001b[31m8940\u001b[0m \u001b[31m8943\u001b[0m \u001b[31m8944\u001b[0m \u001b[31m8945\u001b[0m \u001b[31m8946\u001b[0m \u001b[31m8947\u001b[0m \u001b[31m8948\u001b[0m \u001b[31m8949\u001b[0m \u001b[31m8980\u001b[0m \u001b[31m8982\u001b[0m \u001b[31m8983\u001b[0m \u001b[31m8985\u001b[0m \u001b[31m8993\u001b[0m \u001b[31m8994\u001b[0m \u001b[31m8995\u001b[0m \u001b[31m8996\u001b[0m \u001b[31m8997\u001b[0m \u001b[31m8998\u001b[0m \u001b[31m8999\u001b[0m \u001b[31m9032\u001b[0m \u001b[31m9038\u001b[0m \u001b[31m9039\u001b[0m \u001b[31m9040\u001b[0m \u001b[31m9041\u001b[0m \u001b[31m9042\u001b[0m \u001b[31m9043\u001b[0m \u001b[31m9044\u001b[0m \u001b[31m9045\u001b[0m \u001b[31m9046\u001b[0m \u001b[31m9047\u001b[0m \u001b[31m9049\u001b[0m \u001b[31m9081\u001b[0m \u001b[31m9083\u001b[0m \u001b[31m9087\u001b[0m \u001b[31m9088\u001b[0m \u001b[31m9091\u001b[0m \u001b[31m9092\u001b[0m \u001b[31m9093\u001b[0m \u001b[31m9094\u001b[0m \u001b[31m9095\u001b[0m \u001b[31m9096\u001b[0m \u001b[31m9097\u001b[0m \u001b[31m9098\u001b[0m \u001b[31m9133\u001b[0m \u001b[31m9136\u001b[0m \u001b[31m9137\u001b[0m \u001b[31m9138\u001b[0m \u001b[31m9139\u001b[0m \u001b[31m9140\u001b[0m \u001b[31m9141\u001b[0m \u001b[31m9142\u001b[0m \u001b[31m9143\u001b[0m \u001b[31m9144\u001b[0m \u001b[31m9145\u001b[0m \u001b[31m9146\u001b[0m \u001b[31m9147\u001b[0m \u001b[31m9148\u001b[0m \u001b[31m9149\u001b[0m \u001b[31m9182\u001b[0m \u001b[31m9183\u001b[0m \u001b[31m9185\u001b[0m \u001b[31m9186\u001b[0m \u001b[31m9187\u001b[0m \u001b[31m9188\u001b[0m \u001b[31m9189\u001b[0m \u001b[31m9190\u001b[0m \u001b[31m9191\u001b[0m \u001b[31m9192\u001b[0m \u001b[31m9193\u001b[0m \u001b[31m9194\u001b[0m \u001b[31m9195\u001b[0m \u001b[31m9196\u001b[0m \u001b[31m9197\u001b[0m \u001b[31m9198\u001b[0m \u001b[31m9199\u001b[0m \u001b[31m9231\u001b[0m \u001b[31m9232\u001b[0m \u001b[31m9234\u001b[0m \u001b[31m9237\u001b[0m \u001b[31m9238\u001b[0m \u001b[31m9239\u001b[0m \u001b[31m9240\u001b[0m \u001b[31m9241\u001b[0m \u001b[31m9242\u001b[0m \u001b[31m9244\u001b[0m \u001b[31m9245\u001b[0m \u001b[31m9246\u001b[0m \u001b[31m9247\u001b[0m \u001b[31m9248\u001b[0m \u001b[31m9249\u001b[0m \u001b[31m9279\u001b[0m \u001b[31m9280\u001b[0m \u001b[31m9281\u001b[0m \u001b[31m9282\u001b[0m \u001b[31m9283\u001b[0m \u001b[31m9284\u001b[0m \u001b[31m9285\u001b[0m \u001b[31m9287\u001b[0m \u001b[31m9289\u001b[0m \u001b[31m9290\u001b[0m \u001b[31m9291\u001b[0m \u001b[31m9292\u001b[0m \u001b[31m9293\u001b[0m \u001b[31m9294\u001b[0m \u001b[31m9295\u001b[0m \u001b[31m9296\u001b[0m \u001b[31m9297\u001b[0m \u001b[31m9298\u001b[0m \u001b[31m9299\u001b[0m \u001b[31m9329\u001b[0m \u001b[31m9330\u001b[0m \u001b[31m9335\u001b[0m \u001b[31m9337\u001b[0m \u001b[31m9338\u001b[0m \u001b[31m9339\u001b[0m \u001b[31m9340\u001b[0m \u001b[31m9341\u001b[0m \u001b[31m9342\u001b[0m \u001b[31m9343\u001b[0m \u001b[31m9344\u001b[0m \u001b[31m9345\u001b[0m \u001b[31m9346\u001b[0m \u001b[31m9347\u001b[0m \u001b[31m9348\u001b[0m \u001b[31m9349\u001b[0m \u001b[31m9378\u001b[0m \u001b[31m9380\u001b[0m \u001b[31m9383\u001b[0m \u001b[31m9384\u001b[0m \u001b[31m9385\u001b[0m \u001b[31m9386\u001b[0m \u001b[31m9387\u001b[0m \u001b[31m9388\u001b[0m \u001b[31m9389\u001b[0m \u001b[31m9390\u001b[0m \u001b[31m9391\u001b[0m \u001b[31m9392\u001b[0m \u001b[31m9393\u001b[0m \u001b[31m9394\u001b[0m \u001b[31m9395\u001b[0m \u001b[31m9396\u001b[0m \u001b[31m9397\u001b[0m \u001b[31m9398\u001b[0m \u001b[31m9399\u001b[0m \u001b[31m9430\u001b[0m \u001b[31m9432\u001b[0m \u001b[31m9434\u001b[0m \u001b[31m9435\u001b[0m \u001b[31m9436\u001b[0m \u001b[31m9437\u001b[0m \u001b[31m9439\u001b[0m \u001b[31m9440\u001b[0m \u001b[31m9441\u001b[0m \u001b[31m9442\u001b[0m \u001b[31m9443\u001b[0m \u001b[31m9444\u001b[0m \u001b[31m9445\u001b[0m \u001b[31m9446\u001b[0m \u001b[31m9447\u001b[0m \u001b[31m9448\u001b[0m \u001b[31m9449\u001b[0m \u001b[31m9478\u001b[0m \u001b[31m9485\u001b[0m \u001b[31m9486\u001b[0m \u001b[31m9487\u001b[0m \u001b[31m9488\u001b[0m \u001b[31m9489\u001b[0m \u001b[31m9490\u001b[0m \u001b[31m9491\u001b[0m \u001b[31m9492\u001b[0m \u001b[31m9493\u001b[0m \u001b[31m9494\u001b[0m \u001b[31m9495\u001b[0m \u001b[31m9496\u001b[0m \u001b[31m9497\u001b[0m \u001b[31m9498\u001b[0m \u001b[31m9499\u001b[0m \u001b[31m9512\u001b[0m \u001b[31m9529\u001b[0m \u001b[31m9531\u001b[0m \u001b[31m9534\u001b[0m \u001b[31m9535\u001b[0m \u001b[31m9536\u001b[0m \u001b[31m9537\u001b[0m \u001b[31m9538\u001b[0m \u001b[31m9539\u001b[0m \u001b[31m9540\u001b[0m \u001b[31m9541\u001b[0m \u001b[31m9542\u001b[0m \u001b[31m9543\u001b[0m \u001b[31m9544\u001b[0m \u001b[31m9545\u001b[0m \u001b[31m9546\u001b[0m \u001b[31m9547\u001b[0m \u001b[31m9548\u001b[0m \u001b[31m9549\u001b[0m \u001b[31m9566\u001b[0m \u001b[31m9581\u001b[0m \u001b[31m9582\u001b[0m \u001b[31m9583\u001b[0m \u001b[31m9584\u001b[0m \u001b[31m9585\u001b[0m \u001b[31m9586\u001b[0m \u001b[31m9587\u001b[0m \u001b[31m9588\u001b[0m \u001b[31m9589\u001b[0m \u001b[31m9590\u001b[0m \u001b[31m9591\u001b[0m \u001b[31m9592\u001b[0m \u001b[31m9593\u001b[0m \u001b[31m9594\u001b[0m \u001b[31m9595\u001b[0m \u001b[31m9596\u001b[0m \u001b[31m9597\u001b[0m \u001b[31m9598\u001b[0m \u001b[31m9599\u001b[0m \u001b[31m9602\u001b[0m \u001b[31m9608\u001b[0m \u001b[31m9628\u001b[0m \u001b[31m9630\u001b[0m \u001b[31m9631\u001b[0m \u001b[31m9632\u001b[0m \u001b[31m9633\u001b[0m \u001b[31m9634\u001b[0m \u001b[31m9635\u001b[0m \u001b[31m9636\u001b[0m \u001b[31m9637\u001b[0m \u001b[31m9638\u001b[0m \u001b[31m9639\u001b[0m \u001b[31m9640\u001b[0m \u001b[31m9641\u001b[0m \u001b[31m9642\u001b[0m \u001b[31m9643\u001b[0m \u001b[31m9644\u001b[0m \u001b[31m9645\u001b[0m \u001b[31m9646\u001b[0m \u001b[31m9647\u001b[0m \u001b[31m9648\u001b[0m \u001b[31m9649\u001b[0m \u001b[31m9651\u001b[0m \u001b[31m9674\u001b[0m \u001b[31m9675\u001b[0m \u001b[31m9676\u001b[0m \u001b[31m9677\u001b[0m \u001b[31m9678\u001b[0m \u001b[31m9679\u001b[0m \u001b[31m9680\u001b[0m \u001b[31m9681\u001b[0m \u001b[31m9682\u001b[0m \u001b[31m9683\u001b[0m \u001b[31m9684\u001b[0m \u001b[31m9685\u001b[0m \u001b[31m9686\u001b[0m \u001b[31m9687\u001b[0m \u001b[31m9688\u001b[0m \u001b[31m9689\u001b[0m \u001b[31m9690\u001b[0m \u001b[31m9691\u001b[0m \u001b[31m9692\u001b[0m \u001b[31m9693\u001b[0m \u001b[31m9694\u001b[0m \u001b[31m9695\u001b[0m \u001b[31m9696\u001b[0m \u001b[31m9697\u001b[0m \u001b[31m9698\u001b[0m \u001b[31m9699\u001b[0m \u001b[31m9700\u001b[0m \u001b[31m9701\u001b[0m \u001b[31m9702\u001b[0m \u001b[31m9703\u001b[0m \u001b[31m9704\u001b[0m \u001b[31m9705\u001b[0m \u001b[31m9706\u001b[0m \u001b[31m9707\u001b[0m \u001b[31m9708\u001b[0m \u001b[31m9709\u001b[0m \u001b[31m9710\u001b[0m \u001b[31m9711\u001b[0m \u001b[31m9712\u001b[0m \u001b[31m9713\u001b[0m \u001b[31m9714\u001b[0m \u001b[31m9715\u001b[0m \u001b[31m9716\u001b[0m \u001b[31m9717\u001b[0m \u001b[31m9718\u001b[0m \u001b[31m9719\u001b[0m \u001b[31m9720\u001b[0m \u001b[31m9721\u001b[0m \u001b[31m9722\u001b[0m \u001b[31m9723\u001b[0m \u001b[31m9724\u001b[0m \u001b[31m9725\u001b[0m \u001b[31m9726\u001b[0m \u001b[31m9727\u001b[0m \u001b[31m9728\u001b[0m \u001b[31m9729\u001b[0m \u001b[31m9730\u001b[0m \u001b[31m9731\u001b[0m \u001b[31m9732\u001b[0m \u001b[31m9733\u001b[0m \u001b[31m9734\u001b[0m \u001b[31m9735\u001b[0m \u001b[31m9736\u001b[0m \u001b[31m9737\u001b[0m \u001b[31m9738\u001b[0m \u001b[31m9739\u001b[0m \u001b[31m9740\u001b[0m \u001b[31m9741\u001b[0m \u001b[31m9742\u001b[0m \u001b[31m9743\u001b[0m \u001b[31m9744\u001b[0m \u001b[31m9745\u001b[0m \u001b[31m9746\u001b[0m \u001b[31m9747\u001b[0m \u001b[31m9748\u001b[0m \u001b[31m9749\u001b[0m \u001b[31m9750\u001b[0m \u001b[31m9751\u001b[0m \u001b[31m9752\u001b[0m \u001b[31m9753\u001b[0m \u001b[31m9754\u001b[0m \u001b[31m9755\u001b[0m \u001b[31m9756\u001b[0m \u001b[31m9757\u001b[0m \u001b[31m9758\u001b[0m \u001b[31m9759\u001b[0m \u001b[31m9760\u001b[0m \u001b[31m9761\u001b[0m \u001b[31m9762\u001b[0m \u001b[31m9763\u001b[0m \u001b[31m9764\u001b[0m \u001b[31m9765\u001b[0m \u001b[31m9766\u001b[0m \u001b[31m9767\u001b[0m \u001b[31m9768\u001b[0m \u001b[31m9769\u001b[0m \u001b[31m9770\u001b[0m \u001b[31m9771\u001b[0m \u001b[31m9772\u001b[0m \u001b[31m9773\u001b[0m \u001b[31m9774\u001b[0m \u001b[31m9775\u001b[0m \u001b[31m9776\u001b[0m \u001b[31m9777\u001b[0m \u001b[31m9778\u001b[0m \u001b[31m9779\u001b[0m \u001b[31m9780\u001b[0m \u001b[31m9781\u001b[0m \u001b[31m9782\u001b[0m \u001b[31m9783\u001b[0m \u001b[31m9784\u001b[0m \u001b[31m9785\u001b[0m \u001b[31m9786\u001b[0m \u001b[31m9787\u001b[0m \u001b[31m9788\u001b[0m \u001b[31m9789\u001b[0m \u001b[31m9790\u001b[0m \u001b[31m9791\u001b[0m \u001b[31m9792\u001b[0m \u001b[31m9793\u001b[0m \u001b[31m9794\u001b[0m \u001b[31m9795\u001b[0m \u001b[31m9796\u001b[0m \u001b[31m9797\u001b[0m \u001b[31m9798\u001b[0m \u001b[31m9799\u001b[0m \u001b[31m9800\u001b[0m \u001b[31m9801\u001b[0m \u001b[31m9802\u001b[0m \u001b[31m9803\u001b[0m \u001b[31m9804\u001b[0m \u001b[31m9805\u001b[0m \u001b[31m9806\u001b[0m \u001b[31m9807\u001b[0m \u001b[31m9808\u001b[0m \u001b[31m9809\u001b[0m \u001b[31m9810\u001b[0m \u001b[31m9811\u001b[0m \u001b[31m9812\u001b[0m \u001b[31m9813\u001b[0m \u001b[31m9814\u001b[0m \u001b[31m9815\u001b[0m \u001b[31m9816\u001b[0m \u001b[31m9817\u001b[0m \u001b[31m9818\u001b[0m \u001b[31m9819\u001b[0m \u001b[31m9820\u001b[0m \u001b[31m9821\u001b[0m \u001b[31m9822\u001b[0m \u001b[31m9823\u001b[0m \u001b[31m9824\u001b[0m \u001b[31m9825\u001b[0m \u001b[31m9826\u001b[0m \u001b[31m9827\u001b[0m \u001b[31m9828\u001b[0m \u001b[31m9829\u001b[0m \u001b[31m9830\u001b[0m \u001b[31m9831\u001b[0m \u001b[31m9832\u001b[0m \u001b[31m9833\u001b[0m \u001b[31m9834\u001b[0m \u001b[31m9835\u001b[0m \u001b[31m9836\u001b[0m \u001b[31m9837\u001b[0m \u001b[31m9838\u001b[0m \u001b[31m9839\u001b[0m \u001b[31m9840\u001b[0m \u001b[31m9841\u001b[0m \u001b[31m9842\u001b[0m \u001b[31m9843\u001b[0m \u001b[31m9844\u001b[0m \u001b[31m9845\u001b[0m \u001b[31m9846\u001b[0m \u001b[31m9847\u001b[0m \u001b[31m9848\u001b[0m \u001b[31m9849\u001b[0m \u001b[31m9850\u001b[0m \u001b[31m9851\u001b[0m \u001b[31m9852\u001b[0m \u001b[31m9853\u001b[0m \u001b[31m9854\u001b[0m \u001b[31m9855\u001b[0m \u001b[31m9856\u001b[0m \u001b[31m9857\u001b[0m \u001b[31m9858\u001b[0m \u001b[31m9859\u001b[0m \u001b[31m9860\u001b[0m \u001b[31m9861\u001b[0m \u001b[31m9862\u001b[0m \u001b[31m9863\u001b[0m \u001b[31m9864\u001b[0m \u001b[31m9865\u001b[0m \u001b[31m9866\u001b[0m \u001b[31m9867\u001b[0m \u001b[31m9868\u001b[0m \u001b[31m9869\u001b[0m \u001b[31m9870\u001b[0m \u001b[31m9871\u001b[0m \u001b[31m9872\u001b[0m \u001b[31m9873\u001b[0m \u001b[31m9874\u001b[0m \u001b[31m9875\u001b[0m \u001b[31m9876\u001b[0m \u001b[31m9877\u001b[0m \u001b[31m9878\u001b[0m \u001b[31m9879\u001b[0m \u001b[31m9880\u001b[0m \u001b[31m9881\u001b[0m \u001b[31m9882\u001b[0m \u001b[31m9883\u001b[0m \u001b[31m9884\u001b[0m \u001b[31m9885\u001b[0m \u001b[31m9886\u001b[0m \u001b[31m9887\u001b[0m \u001b[31m9888\u001b[0m \u001b[31m9889\u001b[0m \u001b[31m9890\u001b[0m \u001b[31m9891\u001b[0m \u001b[31m9892\u001b[0m \u001b[31m9893\u001b[0m \u001b[31m9894\u001b[0m \u001b[31m9895\u001b[0m \u001b[31m9896\u001b[0m \u001b[31m9897\u001b[0m \u001b[31m9898\u001b[0m \u001b[31m9899\u001b[0m \u001b[31m9900\u001b[0m \u001b[31m9901\u001b[0m \u001b[31m9902\u001b[0m \u001b[31m9903\u001b[0m \u001b[31m9904\u001b[0m \u001b[31m9905\u001b[0m \u001b[31m9906\u001b[0m \u001b[31m9907\u001b[0m \u001b[31m9908\u001b[0m \u001b[31m9909\u001b[0m \u001b[31m9910\u001b[0m \u001b[31m9911\u001b[0m \u001b[31m9912\u001b[0m \u001b[31m9913\u001b[0m \u001b[31m9914\u001b[0m \u001b[31m9915\u001b[0m \u001b[31m9916\u001b[0m \u001b[31m9917\u001b[0m \u001b[31m9918\u001b[0m \u001b[31m9919\u001b[0m \u001b[31m9920\u001b[0m \u001b[31m9921\u001b[0m \u001b[31m9922\u001b[0m \u001b[31m9923\u001b[0m \u001b[31m9924\u001b[0m \u001b[31m9925\u001b[0m \u001b[31m9926\u001b[0m \u001b[31m9927\u001b[0m \u001b[31m9928\u001b[0m \u001b[31m9929\u001b[0m \u001b[31m9930\u001b[0m \u001b[31m9931\u001b[0m \u001b[31m9932\u001b[0m \u001b[31m9933\u001b[0m \u001b[31m9934\u001b[0m \u001b[31m9935\u001b[0m \u001b[31m9936\u001b[0m \u001b[31m9937\u001b[0m \u001b[31m9938\u001b[0m \u001b[31m9939\u001b[0m \u001b[31m9940\u001b[0m \u001b[31m9941\u001b[0m \u001b[31m9942\u001b[0m \u001b[31m9943\u001b[0m \u001b[31m9944\u001b[0m \u001b[31m9945\u001b[0m \u001b[31m9946\u001b[0m \u001b[31m9947\u001b[0m \u001b[31m9948\u001b[0m \u001b[31m9949\u001b[0m \u001b[31m9950\u001b[0m \u001b[31m9951\u001b[0m \u001b[31m9952\u001b[0m \u001b[31m9953\u001b[0m \u001b[31m9954\u001b[0m \u001b[31m9955\u001b[0m \u001b[31m9956\u001b[0m \u001b[31m9957\u001b[0m \u001b[31m9958\u001b[0m \u001b[31m9959\u001b[0m \u001b[31m9960\u001b[0m \u001b[31m9961\u001b[0m \u001b[31m9962\u001b[0m \u001b[31m9963\u001b[0m \u001b[31m9964\u001b[0m \u001b[31m9965\u001b[0m \u001b[31m9966\u001b[0m \u001b[31m9967\u001b[0m \u001b[31m9968\u001b[0m \u001b[31m9969\u001b[0m \u001b[31m9970\u001b[0m \u001b[31m9971\u001b[0m \u001b[31m9972\u001b[0m \u001b[31m9973\u001b[0m \u001b[31m9974\u001b[0m \u001b[31m9975\u001b[0m \u001b[31m9976\u001b[0m \u001b[31m9977\u001b[0m \u001b[31m9978\u001b[0m \u001b[31m9979\u001b[0m \u001b[31m9980\u001b[0m \u001b[31m9981\u001b[0m \u001b[31m9982\u001b[0m \u001b[31m9983\u001b[0m \u001b[31m9984\u001b[0m \u001b[31m9985\u001b[0m \u001b[31m9986\u001b[0m \u001b[31m9987\u001b[0m \u001b[31m9988\u001b[0m \u001b[31m9989\u001b[0m \u001b[31m9990\u001b[0m \u001b[31m9991\u001b[0m \u001b[31m9992\u001b[0m \u001b[31m9993\u001b[0m \u001b[31m9994\u001b[0m \u001b[31m9995\u001b[0m \u001b[31m9996\u001b[0m \u001b[31m9997\u001b[0m \u001b[31m9998\u001b[0m \u001b[31m9999\u001b[0m "
     ]
    },
    {
     "name": "stderr",
     "output_type": "stream",
     "text": [
      "INFO:FKMC.import_funcs:########################################################################\n",
      "\n",
      "INFO:FKMC.import_funcs:Observables has keys: dict_keys(['functions', 'flat', 'hints', 'processed_task_ids', 'task_id_range', 'this_run', 'datapath', 'codepath', 'py_script', 'batch_params', 'structure_names', 'structure_dims', 'N_tasks', 'N_chains', 'original_N_steps', 'thin', 'N_steps', 'E_bins', 'Ns', 'parameters', 'MCMC_params', 'structure_dimensions', 'chain_id', 'task_id', 'allow_pickle', 'desc', 'Rs', 'Us', 'Ts', 'Mf_moments', 'DOS', 'IPR', 'dDOS', 'dIPR', 'time', 'accept_rates', 'proposal_rates'])\n",
      "INFO:FKMC.import_funcs:    Completed jobs:?\n",
      "    MCMC Steps: 1 chains of 5000 for 5000 with thinning = 10 for 500 recorded steps\n",
      "    Burn in: 5000\n",
      "    Structure_names: {'Rs': 4, 'Us': 50, 'Ts': 50}\n",
      "    Ns = [250]\n",
      "    Runtimes: \n",
      "        Average: 2.0 hours\n",
      "        Min: 7.0 minutes\n",
      "        Max: 14.0 hours\n",
      "        Total: 120.0 weeks\n",
      "    \n",
      "    \n"
     ]
    },
    {
     "name": "stdout",
     "output_type": "stream",
     "text": [
      "Backing up the data...\n",
      "Saving the new data...\n",
      "Pickling Successful\n"
     ]
    }
   ],
   "source": [
    "from FKMC.import_funcs import incremental_get_data_funcmap_chain_ext\n",
    "\n",
    "if 'oTU' not in globals():\n",
    "    print(\"Loading incremental data...\")\n",
    "    with open(Path('~/HPC_data/pickled_data/TU_finer_data.pickle').expanduser(), 'rb') as f:\n",
    "        # Pickle the 'data' dictionary using the highest protocol available.\n",
    "        oTU = pickle.load(f)\n",
    "        oTU.functions = TUfunctions\n",
    "\n",
    "print(\"Reading in more data...\")\n",
    "logging.basicConfig()\n",
    "logger = logging.getLogger()\n",
    "logger.setLevel(logging.INFO)\n",
    "incremental_get_data_funcmap_chain_ext(oTU, task_id_range = range(10000));\n",
    "\n",
    "import shutil\n",
    "\n",
    "print(\"Backing up the data...\")\n",
    "shutil.copy(Path('~/HPC_data/pickled_data/TU_finer_data.pickle').expanduser(), Path('~/HPC_data/pickled_data/TU_finer_data.pickle.backup').expanduser())\n",
    "\n",
    "\n",
    "print(\"Saving the new data...\")\n",
    "with open(Path('~/HPC_data/pickled_data/TU_finer_data.pickle').expanduser(), 'wb') as f:\n",
    "    # Pickle the 'data' dictionary using the highest protocol available.\n",
    "    oTU.functions = None\n",
    "    pickle.dump(oTU, f, pickle.HIGHEST_PROTOCOL)\n",
    "    print('Pickling Successful')"
   ]
  },
  {
   "cell_type": "code",
   "execution_count": 44,
   "metadata": {},
   "outputs": [
    {
     "data": {
      "text/plain": [
       "('Ns', 'Rs', 'Us', 'Ts', 'nth moment')"
      ]
     },
     "execution_count": 44,
     "metadata": {},
     "output_type": "execute_result"
    }
   ],
   "source": [
    "oTU.hints.Mf_moments"
   ]
  },
  {
   "cell_type": "code",
   "execution_count": 46,
   "metadata": {},
   "outputs": [
    {
     "data": {
      "text/plain": [
       "array([[[ 0.,  0.,  0., ...,  0.,  0.,  0.],\n",
       "        [ 0.,  0.,  0., ...,  0.,  0.,  0.],\n",
       "        [ 0.,  0.,  0., ...,  0.,  0.,  0.],\n",
       "        ...,\n",
       "        [nan, nan, nan, ..., nan, nan, nan],\n",
       "        [nan, nan, nan, ..., nan, nan, nan],\n",
       "        [nan, nan, nan, ..., nan, nan, nan]]])"
      ]
     },
     "execution_count": 46,
     "metadata": {},
     "output_type": "execute_result"
    }
   ],
   "source": [
    "oTU.flat.DOS"
   ]
  },
  {
   "cell_type": "code",
   "execution_count": 80,
   "metadata": {},
   "outputs": [
    {
     "data": {
      "image/png": "[encoded data removed]",
      "text/plain": [
       "<Figure size 432x288 with 1 Axes>"
      ]
     },
     "metadata": {
      "needs_background": "light"
     },
     "output_type": "display_data"
    }
   ],
   "source": [
    "def TU_phase_diagram(ax, TU_data):\n",
    "    plot_binder = False\n",
    "    norm = mpl.colors.Normalize(vmin=0, vmax=1)\n",
    "    #TU_data.hints.Mf_moments == ('Ns', 'repeats', 'Us', 'Ts', 'moment', 'MCstep')\n",
    "    M2 = np.nanmean(TU_data.Mf_moments[-1, :, :, :, 2], axis = 0).T\n",
    "    M4 = np.nanmean(TU_data.Mf_moments[-1, :, :, :, 4], axis = 0).T\n",
    "    Y = M2**2 / M4 if plot_binder else M2\n",
    "    \n",
    "    pcol = ax.pcolormesh(TU_data.Us, TU_data.Ts, Y, cmap=\"RdBu_r\", norm = norm, linewidth=0, rasterized = True)\n",
    "    #pcol.set_edgecolor('face')\n",
    "    ax.set(ylabel = 'T', xlabel = 'U')\n",
    " \n",
    "with open(Path('~/HPC_data/pickled_data/TU_phase_data.pickle').expanduser(), 'rb') as file: \n",
    "    TU_data = pickle.load(file)   \n",
    "\n",
    "f, axes = plt.subplots(1,1, sharey = 'all', gridspec_kw = dict(wspace = 0.1))\n",
    "TU_phase_diagram(axes, TU_data)\n",
    "TU_phase_diagram(axes, oTU)"
   ]
  },
  {
   "cell_type": "code",
   "execution_count": 100,
   "metadata": {},
   "outputs": [
    {
     "data": {
      "text/plain": [
       "30"
      ]
     },
     "execution_count": 100,
     "metadata": {},
     "output_type": "execute_result"
    }
   ],
   "source": []
  },
  {
   "cell_type": "code",
   "execution_count": 98,
   "metadata": {},
   "outputs": [
    {
     "name": "stdout",
     "output_type": "stream",
     "text": [
      "T = 3.6816326530612242 U = 0.25918367346938775, N = 250\n",
      "166.66666666666032\n",
      "0.0\n"
     ]
    },
    {
     "data": {
      "image/png": "[encoded data removed]",
      "text/plain": [
       "<Figure size 1440x360 with 4 Axes>"
      ]
     },
     "metadata": {
      "needs_background": "light"
     },
     "output_type": "display_data"
    }
   ],
   "source": [
    "def plot_opening(TU_data, Ti = 45, Ui = 5):\n",
    "    print(f'T = { TU_data.Ts[Ti]} U = { TU_data.Us[Ui]}, N = {TU_data.Ns[-1]}')\n",
    "    \n",
    "    e = 0.1\n",
    "    ix = (-e < TU_data.E_bins[:-1] ) & (TU_data.E_bins[:-1] < e)\n",
    "\n",
    "    DOS = np.nanmean(TU_data.DOS[-1, :, :, :, :], axis = 0)\n",
    "    normalisation = DOS.sum(axis = -1)[0, 0]\n",
    "    print(normalisation)\n",
    "    percent_low_E_states = np.nansum(DOS[:, :, ix], axis = -1) / normalisation\n",
    "\n",
    "    f, ax = plt.subplots(1,4, figsize = (20, 5), gridspec_kw = dict())\n",
    "\n",
    "    TU_phase_diagram(ax[0], TU_data)\n",
    "    ax[1].pcolormesh(TU_data.Us, TU_data.Ts, percent_low_E_states.T, linewidth=0, rasterized = True)\n",
    "    \n",
    "\n",
    "    ax[0].plot([TU_data.Us[Ui],], [TU_data.Ts[Ti],], marker = 'o', color = 'k')\n",
    "    ax[1].plot([TU_data.Us[Ui],], [TU_data.Ts[Ti],], marker = 'o', color = 'k')\n",
    "    ax[2].plot([TU_data.Us[Ui],], [TU_data.Ts[Ti],], marker = 'o', color = 'k')\n",
    "\n",
    "\n",
    "    M2 = np.nanmean(TU_data.Mf_moments[-1, :, :, :, 2], axis = 0).T\n",
    "    ax[2].pcolormesh(TU_data.Us, TU_data.Ts, (percent_low_E_states.T > 0) & (M2 < 0.7) , linewidth=0, rasterized = True)\n",
    "\n",
    "    single = np.nanmean(TU_data.DOS[-1, :, Ui, Ti, :], axis = 0)\n",
    "    \n",
    "    ax[3].plot(TU_data.E_bins[:-1], single)\n",
    "    single[~ix] = np.NaN\n",
    "    ax[3].plot(TU_data.E_bins[:-1], single)\n",
    "\n",
    "    print(percent_low_E_states[Ui, Ti])\n",
    "    \n",
    "plot_opening(oTU, Ti = 45, Ui = 2)"
   ]
  },
  {
   "cell_type": "code",
   "execution_count": 97,
   "metadata": {},
   "outputs": [
    {
     "name": "stdout",
     "output_type": "stream",
     "text": [
      "T = 4.324137931034483 U = 1.7241379310344829, N = 128\n",
      "128000.0\n",
      "0.0281796875\n"
     ]
    },
    {
     "data": {
      "image/png": "[encoded data removed]",
      "text/plain": [
       "<Figure size 1440x360 with 4 Axes>"
      ]
     },
     "metadata": {
      "needs_background": "light"
     },
     "output_type": "display_data"
    }
   ],
   "source": [
    "plot_opening(TU_data, Ti = 25, Ui = 5)"
   ]
  },
  {
   "cell_type": "code",
   "execution_count": null,
   "metadata": {},
   "outputs": [],
   "source": []
  }
 ],
 "metadata": {
  "kernelspec": {
   "display_name": "Anaconda3/base",
   "language": "python",
   "name": "base"
  },
  "language_info": {
   "codemirror_mode": {
    "name": "ipython",
    "version": 3
   },
   "file_extension": ".py",
   "mimetype": "text/x-python",
   "name": "python",
   "nbconvert_exporter": "python",
   "pygments_lexer": "ipython3",
   "version": "3.7.4"
  }
 },
 "nbformat": 4,
 "nbformat_minor": 4
}
