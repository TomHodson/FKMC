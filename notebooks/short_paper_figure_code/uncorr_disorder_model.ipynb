{
 "cells": [
  {
   "cell_type": "code",
   "execution_count": 1,
   "metadata": {},
   "outputs": [
    {
     "name": "stdout",
     "output_type": "stream",
     "text": [
      "Imported pathlib::Path, os, munch::Munch, pickle, logging, itertools::count, matplotlib::colors\n",
      "Names are pyplot = plt, matplotlib = mpl, numpy = np\n"
     ]
    }
   ],
   "source": [
    "%load_ext autoreload\n",
    "%autoreload 2\n",
    "%run ~/FKMC/notebooks/notebook_preamble.py\n",
    "%matplotlib inline\n",
    "np.seterr(under = 'ignore')\n",
    "from time import time\n",
    "from munch import munchify\n",
    "from FKMC.general import shapes \n",
    "from FKMC.plotting import spread"
   ]
  },
  {
   "cell_type": "code",
   "execution_count": 2,
   "metadata": {},
   "outputs": [
    {
     "ename": "ModuleNotFoundError",
     "evalue": "No module named 'shared_functions'",
     "output_type": "error",
     "traceback": [
      "\u001b[0;31m---------------------------------------------------------------------------\u001b[0m",
      "\u001b[0;31mModuleNotFoundError\u001b[0m                       Traceback (most recent call last)",
      "\u001b[0;32m<ipython-input-2-b73ac118bb8d>\u001b[0m in \u001b[0;36m<module>\u001b[0;34m\u001b[0m\n\u001b[0;32m----> 1\u001b[0;31m \u001b[0;32mfrom\u001b[0m \u001b[0mshared_functions\u001b[0m \u001b[0;32mimport\u001b[0m \u001b[0msolve_systems\u001b[0m\u001b[0;34m\u001b[0m\u001b[0;34m\u001b[0m\u001b[0m\n\u001b[0m\u001b[1;32m      2\u001b[0m \u001b[0;32mfrom\u001b[0m \u001b[0mFKMC\u001b[0m\u001b[0;34m.\u001b[0m\u001b[0mgeneral\u001b[0m \u001b[0;32mimport\u001b[0m \u001b[0minteraction_matrix\u001b[0m\u001b[0;34m,\u001b[0m \u001b[0msolve_H_vectorised\u001b[0m\u001b[0;34m\u001b[0m\u001b[0;34m\u001b[0m\u001b[0m\n\u001b[1;32m      3\u001b[0m \u001b[0;32mfrom\u001b[0m \u001b[0mFKMC\u001b[0m\u001b[0;34m.\u001b[0m\u001b[0mgeneral\u001b[0m \u001b[0;32mimport\u001b[0m \u001b[0mindex_histogram_array\u001b[0m\u001b[0;34m,\u001b[0m \u001b[0msort_IPRs\u001b[0m\u001b[0;34m,\u001b[0m \u001b[0mnormalise_IPR\u001b[0m\u001b[0;34m,\u001b[0m \u001b[0msmooth\u001b[0m\u001b[0;34m,\u001b[0m \u001b[0mget_nearby_index\u001b[0m\u001b[0;34m,\u001b[0m  \u001b[0mcompute_IPR_and_DOS_histograms\u001b[0m\u001b[0;34m\u001b[0m\u001b[0;34m\u001b[0m\u001b[0m\n\u001b[1;32m      4\u001b[0m \u001b[0;34m\u001b[0m\u001b[0m\n\u001b[1;32m      5\u001b[0m \u001b[0;34m\u001b[0m\u001b[0m\n",
      "\u001b[0;31mModuleNotFoundError\u001b[0m: No module named 'shared_functions'"
     ]
    }
   ],
   "source": [
    "from shared_functions import solve_systems\n",
    "from FKMC.general import interaction_matrix, solve_H_vectorised\n",
    "from FKMC.general import index_histogram_array, sort_IPRs, normalise_IPR, smooth, get_nearby_index,  compute_IPR_and_DOS_histograms\n",
    "\n",
    "\n",
    "energy_histogram_bins = np.linspace(-4, 4, 200 + 1)\n",
    "\n",
    "N_states = int(1e3) # average over N_states // N replications\n",
    "t = 1\n",
    "U = 2\n",
    "\n",
    "f, axes = plt.subplots(2,1, figsize = (15,7), sharex = 'col')\n",
    "\n",
    "for N in Ns:\n",
    "    M = N_states // N\n",
    "    states = np.random.choice([1,0], size = (M,N)) #take 50-50 uncorrelated coin flips to simulate infinite temp limit.\n",
    "    params = Munch(mu=0.0, beta = np.nan, U = U, t = t, N = N, alpha = 1.25, J = 1.0)\n",
    "    scale = 10 / N\n",
    "    \n",
    "    N = states.shape[-1]\n",
    "    params.J_matrix = interaction_matrix(**params)\n",
    "\n",
    "    #NB the states argument should have only 1s and 0s\n",
    "    #Fc is infinite at infinite temperature\n",
    "    Ff, Fc, eigenvals, eigenvecs = solve_H_vectorised(states, **params)\n",
    "\n",
    "    #calculate the IPR measure\n",
    "    raw_IPRs = ((eigenvecs * np.conj(eigenvecs))**2).sum(axis = -2)\n",
    "\n",
    "    DOS, dDOS, IPR, dIPR = compute_IPR_and_DOS_histograms(eigenvals, raw_IPRs, energy_histogram_bins, bootstrap_bins = 1)\n",
    "\n",
    "    IPR = np.where(DOS > 0, IPR, np.NaN)\n",
    "    dIPR = np.where(DOS > 0, dIPR, 0)\n",
    "    \n",
    "    #smooth out the spikey IPR values\n",
    "    DOS = smooth(DOS, scale = scale, axis = -1)\n",
    "    #IPR = smooth(IPR, scale = scale, axis = -1)\n",
    "    \n",
    "    dDOS = smooth(dDOS, scale = scale, axis = -1)\n",
    "    #dIPR = smooth(dIPR, scale = scale, axis = -1)\n",
    "\n",
    "\n",
    "    spread(axes[0], energy_histogram_bins[1:] / U, DOS, dDOS, label = f'N = {N}')\n",
    "    spread(axes[1], energy_histogram_bins[1:] / U, IPR, dIPR)\n",
    "\n",
    "\n",
    "f.suptitle(fr'Random states: T = $\\infty$, U = {U}, t = {t}, J and $\\alpha$ irrelevant')\n",
    "axes[0].set(ylabel = 'DOS')    \n",
    "axes[1].set(ylabel = 'IPR', xlabel = 'E / U')\n",
    "axes[0].legend();"
   ]
  },
  {
   "cell_type": "code",
   "execution_count": null,
   "metadata": {},
   "outputs": [],
   "source": []
  }
 ],
 "metadata": {
  "kernelspec": {
   "display_name": "Python [conda env:root]",
   "language": "python",
   "name": "conda-root-py"
  },
  "language_info": {
   "codemirror_mode": {
    "name": "ipython",
    "version": 3
   },
   "file_extension": ".py",
   "mimetype": "text/x-python",
   "name": "python",
   "nbconvert_exporter": "python",
   "pygments_lexer": "ipython3",
   "version": "3.7.4"
  }
 },
 "nbformat": 4,
 "nbformat_minor": 4
}
