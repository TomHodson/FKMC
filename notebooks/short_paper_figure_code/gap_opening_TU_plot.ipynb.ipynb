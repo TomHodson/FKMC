{
 "cells": [
  {
   "cell_type": "code",
   "execution_count": 1,
   "metadata": {},
   "outputs": [
    {
     "name": "stdout",
     "output_type": "stream",
     "text": [
      "Imported pathlib::Path, os, munch::Munch, pickle, logging, itertools::count, matplotlib::colors\n",
      "Names are pyplot = plt, matplotlib = mpl, numpy = np\n"
     ]
    }
   ],
   "source": [
    "%load_ext autoreload\n",
    "%autoreload 2\n",
    "%run ~/FKMC/notebooks/notebook_preamble.py\n",
    "%matplotlib inline\n",
    "np.seterr(under = 'ignore')\n",
    "from time import time\n",
    "\n",
    "#data_location = Path('/data/users/tch14/pickled_data')\n",
    "#figure_location = Path('/home/tch14/workspace/fake_home/Dropbox/Apps/Overleaf/Short Paper/figs')\n",
    "\n",
    "data_location = Path('~/HPC_data/pickled_data').expanduser()"
   ]
  },
  {
   "cell_type": "code",
   "execution_count": 7,
   "metadata": {},
   "outputs": [
    {
     "data": {
      "image/png": "[encoded data removed]",
      "text/plain": [
       "<Figure size 432x288 with 1 Axes>"
      ]
     },
     "metadata": {
      "needs_background": "light"
     },
     "output_type": "display_data"
    }
   ],
   "source": [
    "def TU_phase_diagram(ax):\n",
    "    with open( data_location / 'TU_phase_data.pickle', 'rb') as file: \n",
    "        TU_data = pickle.load(file)   \n",
    "    \n",
    "\n",
    "    plot_binder = False\n",
    "    norm = mpl.colors.Normalize(vmin=0, vmax=1)\n",
    "    #TU_data.hints.Mf_moments == ('Ns', 'repeats', 'Us', 'Ts', 'moment', 'MCstep')\n",
    "    M2 = TU_data.Mf_moments[-1, :, :, :, 2].mean(axis = (0)).T\n",
    "    M4 = TU_data.Mf_moments[-1, :, :, :, 4].mean(axis = (0)).T\n",
    "    Y = M2**2 / M4 if plot_binder else M2\n",
    "    \n",
    "    pcol = ax.pcolormesh(TU_data.Us, TU_data.Ts, Y, cmap=\"RdBu_r\", norm = norm, linewidth=0, rasterized = True)\n",
    "    #pcol.set_edgecolor('face')\n",
    "    ax.set(ylabel = 'T', xlabel = 'U')\n",
    "    \n",
    "f, axes = plt.subplots(1,1, sharey = 'all', gridspec_kw = dict(wspace = 0.1))\n",
    "TU_phase_diagram(axes)\n"
   ]
  },
  {
   "cell_type": "code",
   "execution_count": 8,
   "metadata": {},
   "outputs": [
    {
     "data": {
      "text/plain": [
       "dict_keys(['Mf_moments', 'sigma_Mf_moments', 'E_bins', 'IPR', 'DOS', 'total_jobs', 'Us', 'Ts', 'Ns', 'repeats', 'structure_names', 'parameters', 'MCMC_params', 'desc', 'structure_dims', 'hints', 'T'])"
      ]
     },
     "execution_count": 8,
     "metadata": {},
     "output_type": "execute_result"
    }
   ],
   "source": [
    "with open( data_location / 'TU_phase_data.pickle', 'rb') as file: \n",
    "    TU_data = pickle.load(file) \n",
    "    \n",
    "TU_data.keys()"
   ]
  },
  {
   "cell_type": "code",
   "execution_count": 12,
   "metadata": {},
   "outputs": [
    {
     "data": {
      "text/plain": [
       "(('Ns', 'repeats', 'Us', 'Ts', 'energy index'), (6, 1, 30, 30, 2000))"
      ]
     },
     "execution_count": 12,
     "metadata": {},
     "output_type": "execute_result"
    }
   ],
   "source": [
    "TU_data.hints.IPR, TU_data.IPR.shape"
   ]
  },
  {
   "cell_type": "code",
   "execution_count": 144,
   "metadata": {},
   "outputs": [
    {
     "name": "stdout",
     "output_type": "stream",
     "text": [
      "128000.0\n",
      "9.375e-05\n"
     ]
    },
    {
     "data": {
      "image/png": "[encoded data removed]",
      "text/plain": [
       "<Figure size 1440x360 with 4 Axes>"
      ]
     },
     "metadata": {
      "needs_background": "light"
     },
     "output_type": "display_data"
    }
   ],
   "source": [
    "Ui = 11\n",
    "Ti = 10\n",
    "\n",
    "DOS = TU_data.DOS[-1, :, :, :, :].mean(axis = 0)\n",
    "normalisation = DOS.sum(axis = -1)[0, 0]\n",
    "print(normalisation)\n",
    "percent_low_E_states = DOS[:, :, ix].sum(axis = -1) / normalisation\n",
    "\n",
    "single = TU_data.DOS[-1, :, Ui, Ti, :].mean(axis = 0)\n",
    "\n",
    "f, ax = plt.subplots(1,4, figsize = (20, 5), gridspec_kw = dict())\n",
    "\n",
    "TU_phase_diagram(ax[0])\n",
    "ax[1].pcolormesh(TU_data.Us, TU_data.Ts, percent_low_E_states.T, linewidth=0, rasterized = True)\n",
    "ax[3].plot(TU_data.E_bins[:-1], single)\n",
    "\n",
    "ax[0].plot([TU_data.Us[Ui],], [TU_data.Ts[Ti],], marker = 'o', color = 'k')\n",
    "ax[1].plot([TU_data.Us[Ui],], [TU_data.Ts[Ti],], marker = 'o', color = 'k')\n",
    "ax[2].plot([TU_data.Us[Ui],], [TU_data.Ts[Ti],], marker = 'o', color = 'k')\n",
    "\n",
    "\n",
    "M2 = TU_data.Mf_moments[-1, :, :, :, 2].mean(axis = (0)).T\n",
    "ax[2].pcolormesh(TU_data.Us, TU_data.Ts, (percent_low_E_states.T > 0) & (M2 < 0.7) , linewidth=0, rasterized = True)\n",
    "\n",
    "e = 0.01\n",
    "ix = (-e < TU_data.E_bins[:-1] ) & (TU_data.E_bins[:-1] < e)\n",
    "single[~ix] = np.NaN\n",
    "ax[3].plot(TU_data.E_bins[:-1], single)\n",
    "\n",
    "percent_low_E_states = DOS[:, :, ix].sum(axis = -1) / normalisation\n",
    "print(percent_low_E_states[Ui, Ti])"
   ]
  },
  {
   "cell_type": "code",
   "execution_count": null,
   "metadata": {},
   "outputs": [],
   "source": [
    "f, ax = plt.subplots(1,1, figsize = (5, 5), gridspec_kw = dict())\n",
    "Y = (percent_low_E_states.T > 0) & (M2 < 0.6)\n",
    "edge = numpy.where(Y == 1)[-1, :]\n",
    "print(edge)\n",
    "\n",
    "pcol = ax.pcolormesh(TU_data.Us, TU_data.Ts, Y, linewidth=0, rasterized = True)\n",
    "\n"
   ]
  },
  {
   "cell_type": "code",
   "execution_count": null,
   "metadata": {},
   "outputs": [],
   "source": []
  }
 ],
 "metadata": {
  "kernelspec": {
   "display_name": "Anaconda3/base",
   "language": "python",
   "name": "base"
  },
  "language_info": {
   "codemirror_mode": {
    "name": "ipython",
    "version": 3
   },
   "file_extension": ".py",
   "mimetype": "text/x-python",
   "name": "python",
   "nbconvert_exporter": "python",
   "pygments_lexer": "ipython3",
   "version": "3.7.4"
  }
 },
 "nbformat": 4,
 "nbformat_minor": 4
}
