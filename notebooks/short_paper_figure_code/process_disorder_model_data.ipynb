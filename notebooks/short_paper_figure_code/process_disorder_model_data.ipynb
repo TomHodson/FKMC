{
 "cells": [
  {
   "cell_type": "code",
   "execution_count": 1,
   "metadata": {},
   "outputs": [
    {
     "name": "stdout",
     "output_type": "stream",
     "text": [
      "Imported pathlib::Path, os, munch::Munch, pickle, logging, itertools::count, matplotlib::colors\n",
      "Names are pyplot = plt, matplotlib = mpl, numpy = np\n"
     ]
    }
   ],
   "source": [
    "%load_ext autoreload\n",
    "%autoreload 2\n",
    "%run ~/FKMC/notebooks/notebook_preamble.py\n",
    "%matplotlib inline\n",
    "%run ./matplotlib_fig_settings.py\n",
    "np.seterr(under = 'ignore')\n",
    "from time import time\n",
    "from munch import munchify"
   ]
  },
  {
   "cell_type": "code",
   "execution_count": null,
   "metadata": {},
   "outputs": [],
   "source": [
    "#%%time\n",
    "from FKMC.import_funcs import incremental_load, extract, mean_over_MCMC, IPRandDOS, extractStates\n",
    "\n",
    "functions = [\n",
    "    mean_over_MCMC('Mf_moments', N_error_bins = 10),\n",
    "    IPRandDOS(),\n",
    "    #extractStates(),\n",
    "]\n",
    "oU5 = incremental_load(folder = '~/HPC_data/disorder_model/sweep_across_defect_density', functions = functions, \n",
    "                       force_reload = True,\n",
    "                      loglevel = logging.DEBUG)\n",
    "\n",
    "def prepare_data(o):\n",
    "    o.energy_histogram_bins = o.E_bins\n",
    "\n",
    "    interpolate_IPR(o.E_bins, unsmoothed_DOS=o.DOS, IPR=o.IPR, dIPR=o.dIPR)\n",
    "\n",
    "    #smooth them\n",
    "    for i, N in zip(count(), o.Ns):\n",
    "        scale = 0.1\n",
    "        o.DOS[i] = smooth(o.DOS[i], scale)\n",
    "        o.IPR[i] = smooth(o.IPR[i], scale)\n",
    "    return o\n",
    "\n",
    "prepare_data(oU5)\n",
    "None"
   ]
  }
 ],
 "metadata": {
  "kernelspec": {
   "display_name": "Anaconda3/base",
   "language": "python",
   "name": "base"
  },
  "language_info": {
   "codemirror_mode": {
    "name": "ipython",
    "version": 3
   },
   "file_extension": ".py",
   "mimetype": "text/x-python",
   "name": "python",
   "nbconvert_exporter": "python",
   "pygments_lexer": "ipython3",
   "version": "3.7.4"
  }
 },
 "nbformat": 4,
 "nbformat_minor": 4
}
