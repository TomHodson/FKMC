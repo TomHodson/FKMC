{
 "cells": [
  {
   "cell_type": "code",
   "execution_count": 1,
   "metadata": {},
   "outputs": [],
   "source": [
    "import numpy as np\n",
    "from matplotlib import pyplot as plt\n",
    "import timeit\n",
    "\n",
    "%matplotlib inline\n",
    "%load_ext autoreload\n",
    "%autoreload 2\n",
    "\n",
    "import h5py\n",
    "from pathlib import Path\n",
    "from FKMC.jobmanager import *"
   ]
  },
  {
   "cell_type": "markdown",
   "metadata": {},
   "source": [
    "## Test a single run first"
   ]
  },
  {
   "cell_type": "code",
   "execution_count": 3,
   "metadata": {},
   "outputs": [
    {
     "name": "stdout",
     "output_type": "stream",
     "text": [
      "CPU times: user 104 ms, sys: 0 ns, total: 104 ms\n",
      "Wall time: 103 ms\n"
     ]
    }
   ],
   "source": [
    "%%time\n",
    "from FKMC.quantum_montecarlo import quantum_cython_mcmc\n",
    "\n",
    "config = dict(  N_steps = int(1e2),\n",
    "                N_system = 8,\n",
    "                mu = 0,\n",
    "                beta = 10,\n",
    "                V=-1,\n",
    "                alpha=1.5,\n",
    "                U = 0.1,\n",
    "                output_state = False,\n",
    "                output_correlator=True,\n",
    "                output_history=False,\n",
    "                quantum = True,\n",
    "                job_id = 1020242,\n",
    "               )\n",
    "\n",
    "results = quantum_cython_mcmc(**config)"
   ]
  },
  {
   "cell_type": "markdown",
   "metadata": {},
   "source": [
    "## Setup a new job from scratch"
   ]
  },
  {
   "cell_type": "code",
   "execution_count": 4,
   "metadata": {},
   "outputs": [
    {
     "name": "stdout",
     "output_type": "stream",
     "text": [
      "INFO:FKMC.jobmanager:Working in: data/spin_spin_correlation_functions_using_quantum_simulator\n",
      "INFO:FKMC.jobmanager:Sample results:\n",
      "INFO:FKMC.jobmanager:classical_energies_moments: array(shape=(9,), dtype=float64)\n",
      "INFO:FKMC.jobmanager:numbers_moments: array(shape=(9,), dtype=float64)\n",
      "INFO:FKMC.jobmanager:magnetisations_moments: array(shape=(9,), dtype=float64)\n",
      "INFO:FKMC.jobmanager:quantum_energies_moments: array(shape=(9,), dtype=float64)\n",
      "INFO:FKMC.jobmanager:classical_energies_moments_err: array(shape=(9,), dtype=float64)\n",
      "INFO:FKMC.jobmanager:numbers_moments_err: array(shape=(9,), dtype=float64)\n",
      "INFO:FKMC.jobmanager:magnetisations_moments_err: array(shape=(9,), dtype=float64)\n",
      "INFO:FKMC.jobmanager:quantum_energies_moments_err: array(shape=(9,), dtype=float64)\n",
      "INFO:FKMC.jobmanager:correlator: array(shape=(129,), dtype=float64)\n",
      "INFO:FKMC.jobmanager:q_energy_histogram: array(shape=(100,), dtype=float64)\n",
      "INFO:FKMC.jobmanager:q_energy_histogram_bins: array(shape=(100,), dtype=float64)\n",
      "INFO:FKMC.jobmanager:runtime: array(shape=(1,), dtype=int64)\n",
      "#!/usr/bin/env bash\n",
      "#PBS -N spin_spin_correlation_functions_using_quantum_simulator\n",
      "#PBS -lselect=1:ncpus=1:mem=4gb:avx=true\n",
      "#PBS -lwalltime=24:00:00\n",
      "#PBS -J 1-100\n",
      "\n",
      "echo ------------------------------------------------------\n",
      "echo -n 'Job is running on node '; cat $PBS_NODEFILE\n",
      "echo ------------------------------------------------------\n",
      "echo PBS: qsub is running on $PBS_O_HOST\n",
      "echo PBS: originating queue is $PBS_O_QUEUE\n",
      "echo PBS: executing queue is $PBS_QUEUE\n",
      "echo PBS: working directory is $PBS_O_WORKDIR\n",
      "echo PBS: execution mode is $PBS_ENVIRONMENT\n",
      "echo PBS: job identifier is $PBS_JOBID\n",
      "echo PBS: job name is $PBS_JOBNAME\n",
      "echo PBS: node file is $PBS_NODEFILE\n",
      "echo PBS: current home directory is $PBS_O_HOME\n",
      "echo PBS: PATH = $PBS_O_PATH\n",
      "echo ------------------------------------------------------\n",
      "\n",
      "module load intel-suite anaconda3/personal\n",
      ". /home/tch14/anaconda3/etc/profile.d/conda.sh\n",
      "conda activate idp\n",
      "\n",
      "cd $HOME/Falicok-Kimball-Monte-Carlo/notebooks/data/spin_spin_correlation_functions_using_quantum_simulator\n",
      "let \"JOB_ID = PBS_ARRAY_INDEX - 1\"\n",
      "run_mcmc --job-id $JOB_ID --temp-dir $TMPDIR --working-dir ./\n"
     ]
    },
    {
     "data": {
      "text/plain": [
       "{'mcmc_routine': 'quantum_cython_mcmc',\n",
       " 'N_steps': 10000,\n",
       " 'N_system': 256,\n",
       " 'mu': 0,\n",
       " 'beta': array([0.1       , 0.11919192, 0.13838384, 0.15757576, 0.17676768,\n",
       "        0.1959596 , 0.21515152, 0.23434343, 0.25353535, 0.27272727,\n",
       "        0.29191919, 0.31111111, 0.33030303, 0.34949495, 0.36868687,\n",
       "        0.38787879, 0.40707071, 0.42626263, 0.44545455, 0.46464646,\n",
       "        0.48383838, 0.5030303 , 0.52222222, 0.54141414, 0.56060606,\n",
       "        0.57979798, 0.5989899 , 0.61818182, 0.63737374, 0.65656566,\n",
       "        0.67575758, 0.69494949, 0.71414141, 0.73333333, 0.75252525,\n",
       "        0.77171717, 0.79090909, 0.81010101, 0.82929293, 0.84848485,\n",
       "        0.86767677, 0.88686869, 0.90606061, 0.92525253, 0.94444444,\n",
       "        0.96363636, 0.98282828, 1.0020202 , 1.02121212, 1.04040404,\n",
       "        1.05959596, 1.07878788, 1.0979798 , 1.11717172, 1.13636364,\n",
       "        1.15555556, 1.17474747, 1.19393939, 1.21313131, 1.23232323,\n",
       "        1.25151515, 1.27070707, 1.28989899, 1.30909091, 1.32828283,\n",
       "        1.34747475, 1.36666667, 1.38585859, 1.40505051, 1.42424242,\n",
       "        1.44343434, 1.46262626, 1.48181818, 1.5010101 , 1.52020202,\n",
       "        1.53939394, 1.55858586, 1.57777778, 1.5969697 , 1.61616162,\n",
       "        1.63535354, 1.65454545, 1.67373737, 1.69292929, 1.71212121,\n",
       "        1.73131313, 1.75050505, 1.76969697, 1.78888889, 1.80808081,\n",
       "        1.82727273, 1.84646465, 1.86565657, 1.88484848, 1.9040404 ,\n",
       "        1.92323232, 1.94242424, 1.96161616, 1.98080808, 2.        ]),\n",
       " 'U': 0.1,\n",
       " 'V': -1,\n",
       " 'alpha': 1.5,\n",
       " 'loop_over': array(['beta'], dtype=object),\n",
       " 'quantum': True,\n",
       " 'output_history': False,\n",
       " 'output_correlator': True,\n",
       " 'output_state': False}"
      ]
     },
     "execution_count": 4,
     "metadata": {},
     "output_type": "execute_result"
    }
   ],
   "source": [
    "config = dict(\n",
    "              mcmc_routine='quantum_cython_mcmc',\n",
    "              N_steps = 10**4,\n",
    "              N_system = 256,\n",
    "              mu = 0,\n",
    "              beta = np.linspace(0.1,2,100),\n",
    "              U = 0.1,\n",
    "              V= -1,\n",
    "              alpha= 1.5,\n",
    "              loop_over = np.array(['beta',], dtype=h5py.special_dtype(vlen=str)),\n",
    "              quantum = True,\n",
    "              output_history = False,\n",
    "              output_correlator = True,\n",
    "              output_state = False,\n",
    "            )\n",
    "\n",
    "working_dir = Path('./data/spin_spin_correlation_functions_using_quantum_simulator')\n",
    "setup_mcmc(config, working_dir, overwrite = True)\n",
    "\n",
    "config = read_config_file(working_dir)\n",
    "config"
   ]
  },
  {
   "cell_type": "code",
   "execution_count": 28,
   "metadata": {},
   "outputs": [
    {
     "name": "stderr",
     "output_type": "stream",
     "text": [
      "INFO:jobmanager:Working in: data/test\n",
      "INFO:jobmanager:Sample results:\n",
      "INFO:jobmanager:classical_energies_moments: array(shape=(9,), dtype=float64)\n",
      "INFO:jobmanager:numbers_moments: array(shape=(9,), dtype=float64)\n",
      "INFO:jobmanager:magnetisations_moments: array(shape=(9,), dtype=float64)\n",
      "INFO:jobmanager:quantum_energies_moments: array(shape=(9,), dtype=float64)\n",
      "INFO:jobmanager:classical_energies_moments_err: array(shape=(9,), dtype=float64)\n",
      "INFO:jobmanager:numbers_moments_err: array(shape=(9,), dtype=float64)\n",
      "INFO:jobmanager:magnetisations_moments_err: array(shape=(9,), dtype=float64)\n",
      "INFO:jobmanager:quantum_energies_moments_err: array(shape=(9,), dtype=float64)\n",
      "INFO:jobmanager:correlator: array(shape=(17,), dtype=float64)\n",
      "INFO:jobmanager:q_energy_histogram: array(shape=(100,), dtype=float64)\n",
      "INFO:jobmanager:runtime: array(shape=(1,), dtype=int64)\n"
     ]
    },
    {
     "name": "stdout",
     "output_type": "stream",
     "text": [
      "#!/usr/bin/env bash\n",
      "#PBS -N test\n",
      "#PBS -lselect=1:ncpus=1:mem=4gb:avx=true\n",
      "#PBS -lwalltime=24:00:00\n",
      "#PBS -J 1-75\n",
      "\n",
      "echo ------------------------------------------------------\n",
      "echo -n 'Job is running on node '; cat $PBS_NODEFILE\n",
      "echo ------------------------------------------------------\n",
      "echo PBS: qsub is running on $PBS_O_HOST\n",
      "echo PBS: originating queue is $PBS_O_QUEUE\n",
      "echo PBS: executing queue is $PBS_QUEUE\n",
      "echo PBS: working directory is $PBS_O_WORKDIR\n",
      "echo PBS: execution mode is $PBS_ENVIRONMENT\n",
      "echo PBS: job identifier is $PBS_JOBID\n",
      "echo PBS: job name is $PBS_JOBNAME\n",
      "echo PBS: node file is $PBS_NODEFILE\n",
      "echo PBS: current home directory is $PBS_O_HOME\n",
      "echo PBS: PATH = $PBS_O_PATH\n",
      "echo ------------------------------------------------------\n",
      "\n",
      "module load intel-suite anaconda3/personal\n",
      ". /home/tch14/anaconda3/etc/profile.d/conda.sh\n",
      "conda activate idp\n",
      "\n",
      "cd $HOME/Falicok-Kimball-Monte-Carlo/data/test\n",
      "let \"JOB_ID = PBS_ARRAY_INDEX - 1\"\n",
      "run_mcmc --job-id $JOB_ID --temp-dir $TMPDIR --working-dir ./\n"
     ]
    },
    {
     "data": {
      "text/plain": [
       "{'mcmc_routine': 'quantum_cython_mcmc',\n",
       " 'N_steps': 100,\n",
       " 'N_system': 32,\n",
       " 'mu': 0,\n",
       " 'beta': array([ 0.2       ,  0.26490066,  0.39215686,  0.75471698, 10.        ]),\n",
       " 'U': array([ 0.1  ,  2.575,  5.05 ,  7.525, 10.   ]),\n",
       " 'V': array([  0,  -1, -10]),\n",
       " 'alpha': 1.5,\n",
       " 'loop_over': array(['V', 'beta', 'U'], dtype=object),\n",
       " 'quantum': True,\n",
       " 'output_history': False,\n",
       " 'output_correlator': True,\n",
       " 'output_state': False}"
      ]
     },
     "execution_count": 28,
     "metadata": {},
     "output_type": "execute_result"
    }
   ],
   "source": [
    "config = dict(\n",
    "              mcmc_routine='quantum_cython_mcmc',\n",
    "              N_steps = 10**2,\n",
    "              N_system = 32,\n",
    "              mu = 0,\n",
    "              beta = 1/np.linspace(5,0.1,5),\n",
    "              U = np.linspace(0.1,10,5),\n",
    "              V= np.array([0,-1,-10]),\n",
    "              alpha= 1.5,\n",
    "              loop_over = np.array(['V','beta','U'], dtype=h5py.special_dtype(vlen=str)),\n",
    "              quantum = True,\n",
    "              output_history = False,\n",
    "              output_correlator = True,\n",
    "              output_state = False,\n",
    "            )\n",
    "\n",
    "working_dir = Path('data/test')\n",
    "setup_mcmc(config, working_dir, overwrite = True)\n",
    "\n",
    "config = read_config_file(working_dir)\n",
    "config"
   ]
  },
  {
   "cell_type": "code",
   "execution_count": 2,
   "metadata": {},
   "outputs": [
    {
     "name": "stdout",
     "output_type": "stream",
     "text": [
      "INFO:FKMC.jobmanager:Working in: data/phase_diagram_6\n",
      "INFO:FKMC.jobmanager:Sample results:\n",
      "INFO:FKMC.jobmanager:flag_6: array(shape=(2,), dtype=int64)\n",
      "INFO:FKMC.jobmanager:classical_energies_moments: array(shape=(9,), dtype=float64)\n",
      "INFO:FKMC.jobmanager:numbers_moments: array(shape=(9,), dtype=float64)\n",
      "INFO:FKMC.jobmanager:magnetisations_moments: array(shape=(9,), dtype=float64)\n",
      "INFO:FKMC.jobmanager:quantum_energies_moments: array(shape=(9,), dtype=float64)\n",
      "INFO:FKMC.jobmanager:classical_energies_moments_err: array(shape=(9,), dtype=float64)\n",
      "INFO:FKMC.jobmanager:numbers_moments_err: array(shape=(9,), dtype=float64)\n",
      "INFO:FKMC.jobmanager:magnetisations_moments_err: array(shape=(9,), dtype=float64)\n",
      "INFO:FKMC.jobmanager:quantum_energies_moments_err: array(shape=(9,), dtype=float64)\n",
      "INFO:FKMC.jobmanager:correlator: array(shape=(65,), dtype=float64)\n",
      "INFO:FKMC.jobmanager:q_energy_histogram: array(shape=(500,), dtype=float64)\n",
      "INFO:FKMC.jobmanager:IPR_histogram: array(shape=(500,), dtype=float64)\n",
      "INFO:FKMC.jobmanager:q_energy_histogram_bins: array(shape=(501,), dtype=float64)\n",
      "INFO:FKMC.jobmanager:q_energy_bounds: array(shape=(2,), dtype=float64)\n",
      "INFO:FKMC.jobmanager:runtime: array(shape=(1,), dtype=int64)\n"
     ]
    },
    {
     "ename": "ValueError",
     "evalue": "'/workspace/tch14/static_cx1_home/Falicov-Kimball-Monte-Carlo/notebooks/data/phase_diagram_6' does not start with '/workspace/tch14/cx1_home'",
     "output_type": "error",
     "traceback": [
      "\u001b[0;31m---------------------------------------------------------------------------\u001b[0m",
      "\u001b[0;31mValueError\u001b[0m                                Traceback (most recent call last)",
      "\u001b[0;32m<ipython-input-2-095a83cfec67>\u001b[0m in \u001b[0;36m<module>\u001b[0;34m()\u001b[0m\n\u001b[1;32m     17\u001b[0m \u001b[0;34m\u001b[0m\u001b[0m\n\u001b[1;32m     18\u001b[0m \u001b[0mworking_dir\u001b[0m \u001b[0;34m=\u001b[0m \u001b[0mPath\u001b[0m\u001b[0;34m(\u001b[0m\u001b[0;34m'data/phase_diagram_6'\u001b[0m\u001b[0;34m)\u001b[0m\u001b[0;34m\u001b[0m\u001b[0m\n\u001b[0;32m---> 19\u001b[0;31m \u001b[0msetup_mcmc\u001b[0m\u001b[0;34m(\u001b[0m\u001b[0mconfig\u001b[0m\u001b[0;34m,\u001b[0m \u001b[0mworking_dir\u001b[0m\u001b[0;34m,\u001b[0m \u001b[0moverwrite\u001b[0m \u001b[0;34m=\u001b[0m \u001b[0;32mTrue\u001b[0m\u001b[0;34m)\u001b[0m\u001b[0;34m\u001b[0m\u001b[0m\n\u001b[0m\u001b[1;32m     20\u001b[0m \u001b[0;34m\u001b[0m\u001b[0m\n\u001b[1;32m     21\u001b[0m \u001b[0mconfig\u001b[0m \u001b[0;34m=\u001b[0m \u001b[0mread_config_file\u001b[0m\u001b[0;34m(\u001b[0m\u001b[0mworking_dir\u001b[0m\u001b[0;34m)\u001b[0m\u001b[0;34m\u001b[0m\u001b[0m\n",
      "\u001b[0;32m/workspace/tch14/conda-envs/cmth_intelpython3/lib/python3.6/site-packages/FKMC/jobmanager.py\u001b[0m in \u001b[0;36msetup_mcmc\u001b[0;34m(config, working_dir, overwrite)\u001b[0m\n\u001b[1;32m     99\u001b[0m \u001b[0;34m\u001b[0m\u001b[0m\n\u001b[1;32m    100\u001b[0m     \u001b[0;31m#update or create the script because the number of jobs to do might have changed\u001b[0m\u001b[0;34m\u001b[0m\u001b[0;34m\u001b[0m\u001b[0m\n\u001b[0;32m--> 101\u001b[0;31m     \u001b[0mcx1_wdir\u001b[0m \u001b[0;34m=\u001b[0m \u001b[0;34m'$HOME'\u001b[0m \u001b[0;34m/\u001b[0m \u001b[0mworking_dir\u001b[0m\u001b[0;34m.\u001b[0m\u001b[0mresolve\u001b[0m\u001b[0;34m(\u001b[0m\u001b[0;34m)\u001b[0m\u001b[0;34m.\u001b[0m\u001b[0mrelative_to\u001b[0m\u001b[0;34m(\u001b[0m\u001b[0;34m'/workspace/tch14/cx1_home/'\u001b[0m\u001b[0;34m)\u001b[0m\u001b[0;34m\u001b[0m\u001b[0m\n\u001b[0m\u001b[1;32m    102\u001b[0m \u001b[0;34m\u001b[0m\u001b[0m\n\u001b[1;32m    103\u001b[0m     \u001b[0mscript\u001b[0m \u001b[0;34m=\u001b[0m \u001b[0mopen\u001b[0m\u001b[0;34m(\u001b[0m\u001b[0;34m'../sample_runscript.sh'\u001b[0m\u001b[0;34m)\u001b[0m\u001b[0;34m.\u001b[0m\u001b[0mread\u001b[0m\u001b[0;34m(\u001b[0m\u001b[0;34m)\u001b[0m\u001b[0;34m.\u001b[0m\u001b[0mformat\u001b[0m\u001b[0;34m(\u001b[0m\u001b[0mworking_dir\u001b[0m\u001b[0;34m=\u001b[0m\u001b[0mcx1_wdir\u001b[0m\u001b[0;34m,\u001b[0m \u001b[0mN_jobs\u001b[0m\u001b[0;34m=\u001b[0m\u001b[0mN_jobs\u001b[0m\u001b[0;34m,\u001b[0m \u001b[0mname\u001b[0m \u001b[0;34m=\u001b[0m \u001b[0mworking_dir\u001b[0m\u001b[0;34m.\u001b[0m\u001b[0mstem\u001b[0m\u001b[0;34m)\u001b[0m\u001b[0;34m\u001b[0m\u001b[0m\n",
      "\u001b[0;32m/workspace/tch14/conda-envs/cmth_intelpython3/lib/python3.6/pathlib.py\u001b[0m in \u001b[0;36mrelative_to\u001b[0;34m(self, *other)\u001b[0m\n\u001b[1;32m    870\u001b[0m             \u001b[0mformatted\u001b[0m \u001b[0;34m=\u001b[0m \u001b[0mself\u001b[0m\u001b[0;34m.\u001b[0m\u001b[0m_format_parsed_parts\u001b[0m\u001b[0;34m(\u001b[0m\u001b[0mto_drv\u001b[0m\u001b[0;34m,\u001b[0m \u001b[0mto_root\u001b[0m\u001b[0;34m,\u001b[0m \u001b[0mto_parts\u001b[0m\u001b[0;34m)\u001b[0m\u001b[0;34m\u001b[0m\u001b[0m\n\u001b[1;32m    871\u001b[0m             raise ValueError(\"{!r} does not start with {!r}\"\n\u001b[0;32m--> 872\u001b[0;31m                              .format(str(self), str(formatted)))\n\u001b[0m\u001b[1;32m    873\u001b[0m         return self._from_parsed_parts('', root if n == 1 else '',\n\u001b[1;32m    874\u001b[0m                                        abs_parts[n:])\n",
      "\u001b[0;31mValueError\u001b[0m: '/workspace/tch14/static_cx1_home/Falicov-Kimball-Monte-Carlo/notebooks/data/phase_diagram_6' does not start with '/workspace/tch14/cx1_home'"
     ]
    }
   ],
   "source": [
    "config = dict(\n",
    "              mcmc_routine='quantum_cython_mcmc',\n",
    "              N_burn_in = 10**3,\n",
    "              N_steps = 10**4,\n",
    "              N_system = 128,\n",
    "              mu = 0,\n",
    "              beta = np.logspace(-4,3,10),\n",
    "              U = np.logspace(-2,2,10),\n",
    "              V = np.array([-0.01,-0.05,-0.1,-0.15,-0.2,-0.5]),\n",
    "              alpha= 1.5,\n",
    "              loop_over = np.array(['V','beta','U'], dtype=h5py.special_dtype(vlen=str)),\n",
    "              quantum = True,\n",
    "              output_history = False,\n",
    "              output_correlator = True,\n",
    "              output_state = False,\n",
    "            )\n",
    "\n",
    "working_dir = Path('data/phase_diagram_6')\n",
    "setup_mcmc(config, working_dir, overwrite = True)\n",
    "\n",
    "config = read_config_file(working_dir)\n",
    "config"
   ]
  },
  {
   "cell_type": "code",
   "execution_count": 5,
   "metadata": {},
   "outputs": [
    {
     "name": "stdout",
     "output_type": "stream",
     "text": [
      "INFO:FKMC.jobmanager:Working in: ../data/test\n",
      "INFO:FKMC.jobmanager:Sample results:\n",
      "INFO:FKMC.jobmanager:classical_energies_moments: array(shape=(9,), dtype=float64)\n",
      "INFO:FKMC.jobmanager:numbers_moments: array(shape=(9,), dtype=float64)\n",
      "INFO:FKMC.jobmanager:magnetisations_moments: array(shape=(9,), dtype=float64)\n",
      "INFO:FKMC.jobmanager:quantum_energies_moments: array(shape=(9,), dtype=float64)\n",
      "INFO:FKMC.jobmanager:classical_energies_moments_err: array(shape=(9,), dtype=float64)\n",
      "INFO:FKMC.jobmanager:numbers_moments_err: array(shape=(9,), dtype=float64)\n",
      "INFO:FKMC.jobmanager:magnetisations_moments_err: array(shape=(9,), dtype=float64)\n",
      "INFO:FKMC.jobmanager:quantum_energies_moments_err: array(shape=(9,), dtype=float64)\n",
      "INFO:FKMC.jobmanager:correlator: array(shape=(65,), dtype=float64)\n",
      "INFO:FKMC.jobmanager:q_energy_histogram: array(shape=(100,), dtype=float64)\n",
      "INFO:FKMC.jobmanager:q_energy_histogram_bins: array(shape=(100,), dtype=float64)\n",
      "INFO:FKMC.jobmanager:classical_energies: array(shape=(100,), dtype=float64)\n",
      "INFO:FKMC.jobmanager:numbers: array(shape=(100,), dtype=float64)\n",
      "INFO:FKMC.jobmanager:magnetisations: array(shape=(100,), dtype=float64)\n",
      "INFO:FKMC.jobmanager:quantum_energies: array(shape=(100,), dtype=float64)\n",
      "INFO:FKMC.jobmanager:states: array(shape=(100, 128), dtype=float64)\n",
      "INFO:FKMC.jobmanager:ts: array(shape=(100, 128), dtype=float64)\n",
      "INFO:FKMC.jobmanager:eigenvalue_hist: array(shape=(100, 128), dtype=float64)\n",
      "INFO:FKMC.jobmanager:eigenvector_hist: array(shape=(100, 128, 128), dtype=float64)\n",
      "INFO:FKMC.jobmanager:runtime: array(shape=(1,), dtype=int64)\n",
      "#!/usr/bin/env bash\n",
      "#PBS -N test\n",
      "#PBS -lselect=1:ncpus=1:mem=4gb:avx=true\n",
      "#PBS -lwalltime=24:00:00\n",
      "#PBS -J 1-2\n",
      "\n",
      "echo ------------------------------------------------------\n",
      "echo -n 'Job is running on node '; cat $PBS_NODEFILE\n",
      "echo ------------------------------------------------------\n",
      "echo PBS: qsub is running on $PBS_O_HOST\n",
      "echo PBS: originating queue is $PBS_O_QUEUE\n",
      "echo PBS: executing queue is $PBS_QUEUE\n",
      "echo PBS: working directory is $PBS_O_WORKDIR\n",
      "echo PBS: execution mode is $PBS_ENVIRONMENT\n",
      "echo PBS: job identifier is $PBS_JOBID\n",
      "echo PBS: job name is $PBS_JOBNAME\n",
      "echo PBS: node file is $PBS_NODEFILE\n",
      "echo PBS: current home directory is $PBS_O_HOME\n",
      "echo PBS: PATH = $PBS_O_PATH\n",
      "echo ------------------------------------------------------\n",
      "\n",
      "module load intel-suite anaconda3/personal\n",
      ". /home/tch14/anaconda3/etc/profile.d/conda.sh\n",
      "conda activate idp\n",
      "\n",
      "cd $HOME/Falicok-Kimball-Monte-Carlo/data/test\n",
      "let \"JOB_ID = PBS_ARRAY_INDEX - 1\"\n",
      "run_mcmc --job-id $JOB_ID --temp-dir $TMPDIR --working-dir ./\n"
     ]
    },
    {
     "data": {
      "text/plain": [
       "{'mcmc_routine': 'quantum_cython_mcmc',\n",
       " 'N_steps': 100,\n",
       " 'N_system': 128,\n",
       " 'mu': 0,\n",
       " 'beta': 0.6,\n",
       " 'U': array([1, 2]),\n",
       " 'V': -0.1,\n",
       " 'alpha': 1.5,\n",
       " 'loop_over': array(['U'], dtype=object),\n",
       " 'quantum': True,\n",
       " 'output_history': True,\n",
       " 'output_correlator': True,\n",
       " 'output_state': True}"
      ]
     },
     "execution_count": 5,
     "metadata": {},
     "output_type": "execute_result"
    }
   ],
   "source": [
    "config = dict(\n",
    "              mcmc_routine='quantum_cython_mcmc',\n",
    "              N_steps = int(10**2),\n",
    "              N_system = 128,\n",
    "              mu = 0,\n",
    "              beta = 0.6,\n",
    "              U = np.array([1,2]),\n",
    "              V = -0.1,\n",
    "              alpha= 1.5,\n",
    "              loop_over = np.array(['U'], dtype=h5py.special_dtype(vlen=str)),\n",
    "              quantum = True,\n",
    "              output_history = True,\n",
    "              output_correlator = True,\n",
    "              output_state = True,\n",
    "            )\n",
    "\n",
    "working_dir = Path('../data/test')\n",
    "setup_mcmc(config, working_dir, overwrite = True)\n",
    "\n",
    "config = read_config_file(working_dir)\n",
    "config"
   ]
  },
  {
   "cell_type": "markdown",
   "metadata": {},
   "source": [
    "# Test a config before running on the cluster"
   ]
  },
  {
   "cell_type": "code",
   "execution_count": null,
   "metadata": {},
   "outputs": [],
   "source": [
    "%%time\n",
    "#working_dir = Path('./data/phase_diagram_2')\n",
    "working_dir = Path('./data/spin_spin_correlation_functions_using_quantum_simulator')\n",
    "#config = read_config_file(working_dir)\n",
    "for job_id in [50]:\n",
    "    run_mcmc(job_id, working_dir = working_dir, overwrite = True)"
   ]
  },
  {
   "cell_type": "code",
   "execution_count": null,
   "metadata": {},
   "outputs": [],
   "source": [
    "config = read_config_file(working_dir)\n",
    "incomplete = job_completion(working_dir)\n",
    "\n",
    "print(working_dir)\n",
    "print(f'Remaining: {len(incomplete)} Total: {total_jobs(config)}\\n')\n",
    "!qstat\n",
    "!qstat -q"
   ]
  },
  {
   "cell_type": "code",
   "execution_count": 11,
   "metadata": {},
   "outputs": [
    {
     "name": "stdout",
     "output_type": "stream",
     "text": [
      "INFO:jobmanager:Number of Jobs to copy in: 10\n",
      "INFO:jobmanager:Job IDs: [ 729  954 1060 1463 1464 1840 1904 1967 5123 5267]...\n",
      "INFO:jobmanager:missing : [729, 954, 1060, 1464, 1840, 1904, 1967, 5123, 5267]\n",
      "INFO:jobmanager:Jobs attempted this time: 10\n",
      "INFO:jobmanager:Overall completion: 5391 / 5400\n",
      "INFO:jobmanager:File size: 0.02Gb\n",
      "CPU times: user 80.2 ms, sys: 8.39 ms, total: 88.6 ms\n",
      "Wall time: 193 ms\n"
     ]
    }
   ],
   "source": [
    "%%time\n",
    "#working_dir = Path('./data/spin_spin_correlation_functions')\n",
    "#working_dir = Path('./data/luijten_paper_Q_finer/')\n",
    "#working_dir = Path('./data/spin_spin_correlation_functions_using_quantum_simulator')\n",
    "working_dir = Path('./data/phase_diagram_5')\n",
    "gather_mcmc(working_dir, do_all = False)"
   ]
  },
  {
   "cell_type": "code",
   "execution_count": null,
   "metadata": {},
   "outputs": [],
   "source": []
  }
 ],
 "metadata": {
  "kernelspec": {
   "display_name": "Python3 (conda intel)",
   "language": "python",
   "name": "cmth_intelpython3"
  },
  "language_info": {
   "codemirror_mode": {
    "name": "ipython",
    "version": 3
   },
   "file_extension": ".py",
   "mimetype": "text/x-python",
   "name": "python",
   "nbconvert_exporter": "python",
   "pygments_lexer": "ipython3",
   "version": "3.6.5"
  }
 },
 "nbformat": 4,
 "nbformat_minor": 2
}
