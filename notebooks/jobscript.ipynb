{
 "cells": [
  {
   "cell_type": "code",
   "execution_count": 3,
   "metadata": {},
   "outputs": [
    {
     "name": "stdout",
     "output_type": "stream",
     "text": [
      "DEBUG:matplotlib.backends:backend module://ipykernel.pylab.backend_inline version unknown\n",
      "The autoreload extension is already loaded. To reload it, use:\n",
      "  %reload_ext autoreload\n"
     ]
    }
   ],
   "source": [
    "import numpy as np\n",
    "from matplotlib import pyplot as plt\n",
    "import timeit\n",
    "\n",
    "%matplotlib inline\n",
    "%load_ext autoreload\n",
    "%autoreload 2\n",
    "\n",
    "import h5py\n",
    "from pathlib import Path\n",
    "from FKMC.jobmanager import *"
   ]
  },
  {
   "cell_type": "markdown",
   "metadata": {},
   "source": [
    "## Test a single run first"
   ]
  },
  {
   "cell_type": "code",
   "execution_count": null,
   "metadata": {},
   "outputs": [],
   "source": [
    "%%time\n",
    "from FKMC.quantum_montecarlo import quantum_cython_mcmc\n",
    "\n",
    "config = dict(  N_steps = int(1e2),\n",
    "                N_system = 8,\n",
    "                mu = 0,\n",
    "                beta = 10,\n",
    "                V=-1,\n",
    "                alpha=1.5,\n",
    "                U = 0.1,\n",
    "                output_state = False,\n",
    "                output_correlator=True,\n",
    "                output_history=False,\n",
    "                quantum = True,\n",
    "                job_id = 1020242,\n",
    "               )\n",
    "\n",
    "results = quantum_cython_mcmc(**config)"
   ]
  },
  {
   "cell_type": "markdown",
   "metadata": {},
   "source": [
    "## Setup a new job from scratch"
   ]
  },
  {
   "cell_type": "code",
   "execution_count": null,
   "metadata": {},
   "outputs": [],
   "source": [
    "config = dict(\n",
    "              mcmc_routine='quantum_cython_mcmc',\n",
    "              N_steps = 10**4,\n",
    "              N_system = 256,\n",
    "              mu = 0,\n",
    "              beta = np.linspace(0.1,2,100),\n",
    "              U = 0.1,\n",
    "              V= -1,\n",
    "              alpha= 1.5,\n",
    "              loop_over = np.array(['beta',], dtype=h5py.special_dtype(vlen=str)),\n",
    "              quantum = True,\n",
    "              output_history = False,\n",
    "              output_correlator = True,\n",
    "              output_state = False,\n",
    "            )\n",
    "\n",
    "working_dir = Path('./data/spin_spin_correlation_functions_using_quantum_simulator')\n",
    "setup_mcmc(config, working_dir, overwrite = True)\n",
    "\n",
    "config = read_config_file(working_dir)\n",
    "config"
   ]
  },
  {
   "cell_type": "code",
   "execution_count": 4,
   "metadata": {},
   "outputs": [
    {
     "name": "stdout",
     "output_type": "stream",
     "text": [
      "INFO:FKMC.jobmanager:Working in: ../data/phase_diagram_6\n",
      "INFO:FKMC.jobmanager:Sample results:\n",
      "INFO:FKMC.jobmanager:flag_6: array(shape=(2,), dtype=int64)\n",
      "INFO:FKMC.jobmanager:classical_energies_moments: array(shape=(9,), dtype=float64)\n",
      "INFO:FKMC.jobmanager:numbers_moments: array(shape=(9,), dtype=float64)\n",
      "INFO:FKMC.jobmanager:magnetisations_moments: array(shape=(9,), dtype=float64)\n",
      "INFO:FKMC.jobmanager:quantum_energies_moments: array(shape=(9,), dtype=float64)\n",
      "INFO:FKMC.jobmanager:classical_energies_moments_err: array(shape=(9,), dtype=float64)\n",
      "INFO:FKMC.jobmanager:numbers_moments_err: array(shape=(9,), dtype=float64)\n",
      "INFO:FKMC.jobmanager:magnetisations_moments_err: array(shape=(9,), dtype=float64)\n",
      "INFO:FKMC.jobmanager:quantum_energies_moments_err: array(shape=(9,), dtype=float64)\n",
      "INFO:FKMC.jobmanager:correlator: array(shape=(65,), dtype=float64)\n",
      "INFO:FKMC.jobmanager:q_energy_histogram: array(shape=(500,), dtype=float64)\n",
      "INFO:FKMC.jobmanager:IPR_histogram: array(shape=(500,), dtype=float64)\n",
      "INFO:FKMC.jobmanager:q_energy_histogram_bins: array(shape=(501,), dtype=float64)\n",
      "INFO:FKMC.jobmanager:q_energy_bounds: array(shape=(2,), dtype=float64)\n",
      "INFO:FKMC.jobmanager:runtime: array(shape=(1,), dtype=int64)\n"
     ]
    },
    {
     "ename": "FileNotFoundError",
     "evalue": "[Errno 2] No such file or directory: './CX1_runscript.sh'",
     "output_type": "error",
     "traceback": [
      "\u001b[0;31m---------------------------------------------------------------------------\u001b[0m",
      "\u001b[0;31mFileNotFoundError\u001b[0m                         Traceback (most recent call last)",
      "\u001b[0;32m<ipython-input-4-b740da494471>\u001b[0m in \u001b[0;36m<module>\u001b[0;34m()\u001b[0m\n\u001b[1;32m     18\u001b[0m \u001b[0;34m\u001b[0m\u001b[0m\n\u001b[1;32m     19\u001b[0m \u001b[0mworking_dir\u001b[0m \u001b[0;34m=\u001b[0m \u001b[0mPath\u001b[0m\u001b[0;34m(\u001b[0m\u001b[0;34m'../data/phase_diagram_6'\u001b[0m\u001b[0;34m)\u001b[0m\u001b[0;34m\u001b[0m\u001b[0m\n\u001b[0;32m---> 20\u001b[0;31m \u001b[0msetup_mcmc\u001b[0m\u001b[0;34m(\u001b[0m\u001b[0mconfig\u001b[0m\u001b[0;34m,\u001b[0m \u001b[0mworking_dir\u001b[0m\u001b[0;34m,\u001b[0m \u001b[0moverwrite\u001b[0m \u001b[0;34m=\u001b[0m \u001b[0;32mTrue\u001b[0m\u001b[0;34m)\u001b[0m\u001b[0;34m\u001b[0m\u001b[0m\n\u001b[0m\u001b[1;32m     21\u001b[0m \u001b[0;34m\u001b[0m\u001b[0m\n\u001b[1;32m     22\u001b[0m \u001b[0mconfig\u001b[0m \u001b[0;34m=\u001b[0m \u001b[0mread_config_file\u001b[0m\u001b[0;34m(\u001b[0m\u001b[0mworking_dir\u001b[0m\u001b[0;34m)\u001b[0m\u001b[0;34m\u001b[0m\u001b[0m\n",
      "\u001b[0;32m/home/tch14/anaconda3/envs/idp/lib/python3.6/site-packages/FKMC/jobmanager.py\u001b[0m in \u001b[0;36msetup_mcmc\u001b[0;34m(config, working_dir, overwrite)\u001b[0m\n\u001b[1;32m    149\u001b[0m     \u001b[0mcx1_wdir\u001b[0m \u001b[0;34m=\u001b[0m \u001b[0mworking_dir\u001b[0m\u001b[0;34m.\u001b[0m\u001b[0mresolve\u001b[0m\u001b[0;34m(\u001b[0m\u001b[0;34m)\u001b[0m\u001b[0;34m\u001b[0m\u001b[0m\n\u001b[1;32m    150\u001b[0m \u001b[0;34m\u001b[0m\u001b[0m\n\u001b[0;32m--> 151\u001b[0;31m     \u001b[0mscript\u001b[0m \u001b[0;34m=\u001b[0m \u001b[0mopen\u001b[0m\u001b[0;34m(\u001b[0m\u001b[0;34m'./CX1_runscript.sh'\u001b[0m\u001b[0;34m)\u001b[0m\u001b[0;34m.\u001b[0m\u001b[0mread\u001b[0m\u001b[0;34m(\u001b[0m\u001b[0;34m)\u001b[0m\u001b[0;34m.\u001b[0m\u001b[0mformat\u001b[0m\u001b[0;34m(\u001b[0m\u001b[0mworking_dir\u001b[0m\u001b[0;34m=\u001b[0m\u001b[0mcx1_wdir\u001b[0m\u001b[0;34m,\u001b[0m \u001b[0mN_jobs\u001b[0m\u001b[0;34m=\u001b[0m\u001b[0mN_jobs\u001b[0m\u001b[0;34m,\u001b[0m \u001b[0mname\u001b[0m \u001b[0;34m=\u001b[0m \u001b[0mworking_dir\u001b[0m\u001b[0;34m.\u001b[0m\u001b[0mstem\u001b[0m\u001b[0;34m)\u001b[0m\u001b[0;34m\u001b[0m\u001b[0m\n\u001b[0m\u001b[1;32m    152\u001b[0m     \u001b[0;32mwith\u001b[0m \u001b[0mopen\u001b[0m\u001b[0;34m(\u001b[0m\u001b[0mworking_dir\u001b[0m \u001b[0;34m/\u001b[0m \u001b[0;34m'CX1_runscript.sh'\u001b[0m\u001b[0;34m,\u001b[0m \u001b[0;34m'w'\u001b[0m\u001b[0;34m)\u001b[0m \u001b[0;32mas\u001b[0m \u001b[0mf\u001b[0m\u001b[0;34m:\u001b[0m\u001b[0;34m\u001b[0m\u001b[0m\n\u001b[1;32m    153\u001b[0m         \u001b[0mf\u001b[0m\u001b[0;34m.\u001b[0m\u001b[0mwrite\u001b[0m\u001b[0;34m(\u001b[0m\u001b[0mscript\u001b[0m\u001b[0;34m)\u001b[0m\u001b[0;34m\u001b[0m\u001b[0m\n",
      "\u001b[0;31mFileNotFoundError\u001b[0m: [Errno 2] No such file or directory: './CX1_runscript.sh'"
     ]
    }
   ],
   "source": [
    "config = dict(\n",
    "              mcmc_routine='quantum_cython_mcmc',\n",
    "              N_burn_in = 10**3,\n",
    "              N_steps = 10**4,\n",
    "              N_system = 128,\n",
    "              mu = 0,\n",
    "              beta = np.logspace(-4,3,40),\n",
    "              U = np.logspace(-2,2,40),\n",
    "              V = np.array([-0.01,-0.05,-0.1,-0.15,-0.2,-0.5]),\n",
    "              alpha= 1.5,\n",
    "              outer_loop = np.array(['V','beta'], dtype=h5py.special_dtype(vlen=str)),\n",
    "              inner_loop = np.array(['U'], dtype=h5py.special_dtype(vlen=str)),\n",
    "              quantum = True,\n",
    "              output_history = False,\n",
    "              output_correlator = True,\n",
    "              output_state = False,\n",
    "            )\n",
    "\n",
    "working_dir = Path('../data/phase_diagram_6')\n",
    "setup_mcmc(config, working_dir, overwrite = True)\n",
    "\n",
    "config = read_config_file(working_dir)\n",
    "config"
   ]
  },
  {
   "cell_type": "code",
   "execution_count": 9,
   "metadata": {},
   "outputs": [
    {
     "name": "stdout",
     "output_type": "stream",
     "text": [
      "INFO:FKMC.jobmanager:Working in: ../data/IPR_scaling\n",
      "INFO:FKMC.jobmanager:Sample results:\n",
      "INFO:FKMC.jobmanager:flag_6: array(shape=(2,), dtype=int64)\n",
      "INFO:FKMC.jobmanager:classical_energies_moments: array(shape=(9,), dtype=float64)\n",
      "INFO:FKMC.jobmanager:numbers_moments: array(shape=(9,), dtype=float64)\n",
      "INFO:FKMC.jobmanager:magnetisations_moments: array(shape=(9,), dtype=float64)\n",
      "INFO:FKMC.jobmanager:quantum_energies_moments: array(shape=(9,), dtype=float64)\n",
      "INFO:FKMC.jobmanager:classical_energies_moments_err: array(shape=(9,), dtype=float64)\n",
      "INFO:FKMC.jobmanager:numbers_moments_err: array(shape=(9,), dtype=float64)\n",
      "INFO:FKMC.jobmanager:magnetisations_moments_err: array(shape=(9,), dtype=float64)\n",
      "INFO:FKMC.jobmanager:quantum_energies_moments_err: array(shape=(9,), dtype=float64)\n",
      "INFO:FKMC.jobmanager:correlator: array(shape=(3,), dtype=float64)\n",
      "INFO:FKMC.jobmanager:q_energy_histogram: array(shape=(500,), dtype=float64)\n",
      "INFO:FKMC.jobmanager:IPR_histogram: array(shape=(500,), dtype=float64)\n",
      "INFO:FKMC.jobmanager:q_energy_histogram_bins: array(shape=(501,), dtype=float64)\n",
      "INFO:FKMC.jobmanager:q_energy_bounds: array(shape=(2,), dtype=float64)\n",
      "INFO:FKMC.jobmanager:runtime: array(shape=(1,), dtype=int64)\n",
      "#!/usr/bin/env bash\n",
      "#PBS -N IPR_scaling\n",
      "#PBS -lselect=1:ncpus=1:mem=4gb:avx=true\n",
      "#PBS -lwalltime=24:00:00\n",
      "#PBS -J 1-140\n",
      "#PBS -j oe\n",
      "\n",
      "echo ------------------------------------------------------\n",
      "echo -n 'Job is running on node '; cat $PBS_NODEFILE\n",
      "echo ------------------------------------------------------\n",
      "echo PBS: qsub is running on $PBS_O_HOST\n",
      "echo PBS: originating queue is $PBS_O_QUEUE\n",
      "echo PBS: executing queue is $PBS_QUEUE\n",
      "echo PBS: working directory is $PBS_O_WORKDIR\n",
      "echo PBS: execution mode is $PBS_ENVIRONMENT\n",
      "echo PBS: job identifier is $PBS_JOBID\n",
      "echo PBS: job name is $PBS_JOBNAME\n",
      "echo PBS: node file is $PBS_NODEFILE\n",
      "echo PBS: current home directory is $PBS_O_HOME\n",
      "echo PBS: PATH = $PBS_O_PATH\n",
      "echo ------------------------------------------------------\n",
      "\n",
      "module load intel-suite anaconda3/personal\n",
      ". /home/tch14/anaconda3/etc/profile.d/conda.sh\n",
      "conda activate idp\n",
      "\n",
      "cd /rds/general/user/tch14/home/FKMC/data/IPR_scaling\n",
      "let \"JOB_ID = PBS_ARRAY_INDEX - 1\"\n",
      "run_mcmc --job-id $JOB_ID --temp-dir $TMPDIR --working-dir ./\n"
     ]
    },
    {
     "data": {
      "text/plain": [
       "{'mcmc_routine': 'quantum_cython_mcmc',\n",
       " 'N_burn_in': 1000,\n",
       " 'N_steps': 10000,\n",
       " 'N_system': array([  4,   8,  16,  32,  64, 128, 256]),\n",
       " 'mu': 0,\n",
       " 'beta': array([1.00000000e-04, 2.33572147e-04, 5.45559478e-04, 1.27427499e-03,\n",
       "        2.97635144e-03, 6.95192796e-03, 1.62377674e-02, 3.79269019e-02,\n",
       "        8.85866790e-02, 2.06913808e-01, 4.83293024e-01, 1.12883789e+00,\n",
       "        2.63665090e+00, 6.15848211e+00, 1.43844989e+01, 3.35981829e+01,\n",
       "        7.84759970e+01, 1.83298071e+02, 4.28133240e+02, 1.00000000e+03]),\n",
       " 'U': 2.0,\n",
       " 'V': -1.0,\n",
       " 'alpha': 1.5,\n",
       " 'loop_over': array(['N_system', 'beta'], dtype=object),\n",
       " 'quantum': True,\n",
       " 'output_history': False,\n",
       " 'output_correlator': True,\n",
       " 'output_state': False}"
      ]
     },
     "execution_count": 9,
     "metadata": {},
     "output_type": "execute_result"
    }
   ],
   "source": [
    "config = dict(\n",
    "              mcmc_routine='quantum_cython_mcmc',\n",
    "              N_burn_in = 10**3,\n",
    "              N_steps = 10**4,\n",
    "              N_system = np.array([4,8,16,32,64,128,256]),\n",
    "              mu = 0,\n",
    "              beta = np.logspace(-4,3,20),\n",
    "              U = 2.0,\n",
    "              V = -1.0,\n",
    "              alpha= 1.5,\n",
    "              outer_loop = np.array(['N_system',], dtype=h5py.special_dtype(vlen=str)),\n",
    "              inner_loop = np.array(['beta',], dtype=h5py.special_dtype(vlen=str)),\n",
    "              quantum = True,\n",
    "              output_history = False,\n",
    "              output_correlator = False,\n",
    "              output_state = False,\n",
    "            )\n",
    "\n",
    "working_dir = Path('../data/IPR_scaling')\n",
    "setup_mcmc(config, working_dir, overwrite = True)\n",
    "\n",
    "config = read_config_file(working_dir)\n",
    "config"
   ]
  },
  {
   "cell_type": "code",
   "execution_count": 6,
   "metadata": {},
   "outputs": [
    {
     "name": "stdout",
     "output_type": "stream",
     "text": [
      "INFO:FKMC.jobmanager:Working in: ../data/test\n",
      "INFO:FKMC.jobmanager:Sample results:\n",
      "INFO:FKMC.jobmanager:flag_6: array(shape=(2,), dtype=int64)\n",
      "INFO:FKMC.jobmanager:classical_energies_moments: array(shape=(9,), dtype=float64)\n",
      "INFO:FKMC.jobmanager:numbers_moments: array(shape=(9,), dtype=float64)\n",
      "INFO:FKMC.jobmanager:magnetisations_moments: array(shape=(9,), dtype=float64)\n",
      "INFO:FKMC.jobmanager:quantum_energies_moments: array(shape=(9,), dtype=float64)\n",
      "INFO:FKMC.jobmanager:classical_energies_moments_err: array(shape=(9,), dtype=float64)\n",
      "INFO:FKMC.jobmanager:numbers_moments_err: array(shape=(9,), dtype=float64)\n",
      "INFO:FKMC.jobmanager:magnetisations_moments_err: array(shape=(9,), dtype=float64)\n",
      "INFO:FKMC.jobmanager:quantum_energies_moments_err: array(shape=(9,), dtype=float64)\n",
      "INFO:FKMC.jobmanager:correlator: array(shape=(33,), dtype=float64)\n",
      "INFO:FKMC.jobmanager:q_energy_histogram: array(shape=(500,), dtype=float64)\n",
      "INFO:FKMC.jobmanager:IPR_histogram: array(shape=(500,), dtype=float64)\n",
      "INFO:FKMC.jobmanager:q_energy_histogram_bins: array(shape=(501,), dtype=float64)\n",
      "INFO:FKMC.jobmanager:q_energy_bounds: array(shape=(2,), dtype=float64)\n",
      "INFO:FKMC.jobmanager:classical_energies: array(shape=(100,), dtype=float64)\n",
      "INFO:FKMC.jobmanager:numbers: array(shape=(100,), dtype=float64)\n",
      "INFO:FKMC.jobmanager:magnetisations: array(shape=(100,), dtype=float64)\n",
      "INFO:FKMC.jobmanager:quantum_energies: array(shape=(100,), dtype=float64)\n",
      "INFO:FKMC.jobmanager:states: array(shape=(100, 64), dtype=float64)\n",
      "INFO:FKMC.jobmanager:ts: array(shape=(100, 64), dtype=float64)\n",
      "INFO:FKMC.jobmanager:eigenvalue_hist: array(shape=(100, 64), dtype=float64)\n",
      "INFO:FKMC.jobmanager:eigenvector_hist: array(shape=(100, 64, 64), dtype=float64)\n",
      "INFO:FKMC.jobmanager:runtime: array(shape=(1,), dtype=int64)\n",
      "#!/usr/bin/env bash\n",
      "#PBS -N test\n",
      "#PBS -lselect=1:ncpus=1:mem=4gb:avx=true\n",
      "#PBS -lwalltime=24:00:00\n",
      "#PBS -J 1-2\n",
      "#PBS -j oe\n",
      "\n",
      "echo ------------------------------------------------------\n",
      "echo -n 'Job is running on node '; cat $PBS_NODEFILE\n",
      "echo ------------------------------------------------------\n",
      "echo PBS: qsub is running on $PBS_O_HOST\n",
      "echo PBS: originating queue is $PBS_O_QUEUE\n",
      "echo PBS: executing queue is $PBS_QUEUE\n",
      "echo PBS: working directory is $PBS_O_WORKDIR\n",
      "echo PBS: execution mode is $PBS_ENVIRONMENT\n",
      "echo PBS: job identifier is $PBS_JOBID\n",
      "echo PBS: job name is $PBS_JOBNAME\n",
      "echo PBS: node file is $PBS_NODEFILE\n",
      "echo PBS: current home directory is $PBS_O_HOME\n",
      "echo PBS: PATH = $PBS_O_PATH\n",
      "echo ------------------------------------------------------\n",
      "\n",
      "module load intel-suite anaconda3/personal\n",
      ". /home/tch14/anaconda3/etc/profile.d/conda.sh\n",
      "conda activate idp\n",
      "\n",
      "cd /rds/general/user/tch14/home/FKMC/data/test\n",
      "let \"JOB_ID = PBS_ARRAY_INDEX - 1\"\n",
      "run_mcmc --job-id $JOB_ID --temp-dir $TMPDIR --working-dir ./\n"
     ]
    },
    {
     "data": {
      "text/plain": [
       "{'mcmc_routine': 'quantum_cython_mcmc',\n",
       " 'N_steps': 100,\n",
       " 'N_burn_in': 100,\n",
       " 'N_system': 64,\n",
       " 'mu': 0,\n",
       " 'beta': 0.6,\n",
       " 'U': array([1, 2]),\n",
       " 'V': -0.1,\n",
       " 'alpha': 1.5,\n",
       " 'loop_over': array(['U'], dtype=object),\n",
       " 'quantum': True,\n",
       " 'output_history': True,\n",
       " 'output_correlator': True,\n",
       " 'output_state': True}"
      ]
     },
     "execution_count": 6,
     "metadata": {},
     "output_type": "execute_result"
    }
   ],
   "source": [
    "config = dict(\n",
    "              mcmc_routine='quantum_cython_mcmc',\n",
    "              N_steps = 5,\n",
    "              bins = 1,\n",
    "              N_burn_in = 5,\n",
    "              N_system = np.array([4,8,16]),\n",
    "              mu = 0,\n",
    "              beta = np.array([1,2,3]),\n",
    "              U = np.array([1,2,3]),\n",
    "              V = -0.1*np.array([1,2,3]),\n",
    "              alpha= 1.5,\n",
    "              outer_loop = np.array(['N_system','V'], dtype=h5py.special_dtype(vlen=str)),\n",
    "              inner_loop = np.array(['U','beta'], dtype=h5py.special_dtype(vlen=str)),\n",
    "              quantum = True,\n",
    "              output_history = False,\n",
    "              output_correlator = False,\n",
    "              output_state = False,\n",
    "            )\n",
    "\n",
    "working_dir = Path('../data/test')\n",
    "setup_mcmc(config, working_dir, overwrite = True)\n",
    "\n",
    "config = read_config_file(working_dir)\n",
    "config"
   ]
  },
  {
   "cell_type": "markdown",
   "metadata": {},
   "source": [
    "# Test a config before running on the cluster"
   ]
  },
  {
   "cell_type": "code",
   "execution_count": null,
   "metadata": {},
   "outputs": [],
   "source": [
    "%%time\n",
    "#working_dir = Path('./data/phase_diagram_2')\n",
    "working_dir = Path('./data/spin_spin_correlation_functions_using_quantum_simulator')\n",
    "#config = read_config_file(working_dir)\n",
    "for job_id in [50]:\n",
    "    run_mcmc(job_id, working_dir = working_dir, overwrite = True)"
   ]
  },
  {
   "cell_type": "code",
   "execution_count": null,
   "metadata": {},
   "outputs": [],
   "source": [
    "config = read_config_file(working_dir)\n",
    "incomplete = job_completion(working_dir)\n",
    "\n",
    "print(working_dir)\n",
    "print(f'Remaining: {len(incomplete)} Total: {total_jobs(config)}\\n')\n",
    "!qstat\n",
    "!qstat -q"
   ]
  },
  {
   "cell_type": "code",
   "execution_count": null,
   "metadata": {},
   "outputs": [
    {
     "name": "stdout",
     "output_type": "stream",
     "text": [
      "INFO:FKMC.jobmanager:copied_in wasn't in config, initialising it\n",
      "INFO:FKMC.jobmanager:Number of Jobs to copy in: 9600\n",
      "INFO:FKMC.jobmanager:Job IDs: [   0    1    2 ... 9597 9598 9599]...\n"
     ]
    }
   ],
   "source": [
    "%%time\n",
    "#working_dir = Path('./data/spin_spin_correlation_functions')\n",
    "#working_dir = Path('./data/luijten_paper_Q_finer/')\n",
    "#working_dir = Path('./data/spin_spin_correlation_functions_using_quantum_simulator')\n",
    "working_dir = Path('../data/phase_diagram_6')\n",
    "#working_dir = Path('../data/IPR_scaling')\n",
    "gather_mcmc(working_dir, do_all = False)"
   ]
  },
  {
   "cell_type": "code",
   "execution_count": null,
   "metadata": {},
   "outputs": [],
   "source": []
  }
 ],
 "metadata": {
  "kernelspec": {
   "display_name": "Python3 (intel)",
   "language": "python",
   "name": "idp"
  },
  "language_info": {
   "codemirror_mode": {
    "name": "ipython",
    "version": 3
   },
   "file_extension": ".py",
   "mimetype": "text/x-python",
   "name": "python",
   "nbconvert_exporter": "python",
   "pygments_lexer": "ipython3",
   "version": "3.6.5"
  }
 },
 "nbformat": 4,
 "nbformat_minor": 2
}
