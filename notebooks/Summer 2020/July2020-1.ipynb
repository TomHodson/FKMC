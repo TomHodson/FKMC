{
 "cells": [
  {
   "cell_type": "code",
   "execution_count": 1,
   "metadata": {},
   "outputs": [
    {
     "name": "stdout",
     "output_type": "stream",
     "text": [
      "Imported pathlib::Path, os, munch::Munch, pickle, logging, itertools::count, matplotlib::colors\n",
      "Names are pyplot = plt, matplotlib = mpl, numpy = np\n"
     ]
    }
   ],
   "source": [
    "%load_ext autoreload\n",
    "%autoreload 2\n",
    "%run ~/FKMC/notebooks/notebook_preamble.py\n",
    "%matplotlib inline\n",
    "np.seterr(under = 'ignore')\n",
    "from time import time\n",
    "from munch import munchify"
   ]
  },
  {
   "cell_type": "code",
   "execution_count": 12,
   "metadata": {},
   "outputs": [
    {
     "name": "stderr",
     "output_type": "stream",
     "text": [
      "WARNING:FKMC.import_funcs:looking in /Users/tom/HPC_data/Tsweep_U5_J5\n"
     ]
    },
    {
     "name": "stdout",
     "output_type": "stream",
     "text": [
      "[PosixPath('/Users/tom/HPC_data/Tsweep_U5_J5/code/varyingT.py')]\n",
      "Ham_params:  t=1, alpha=1.25, mu=0, beta=varying, J=5, U=5, normalise=True,\n",
      "\n",
      "\n",
      "Tasks per chain: 10,\n",
      "\n",
      "Each doing 1000 steps,\n",
      "\n",
      "10000 total chain length,\n",
      "\n",
      "1000 samples,\n",
      "\n",
      "\n",
      "MCMC_params:  N_steps=1000, N_burn_in=1000, thin=10, logger=<FKMC.montecarlo.Eigenspectrum_IPR_all object at 0x7f91dc35e8d0>, proposal=<function p_multi_site_uniform_reflect at 0x7f91dc223950>, accept_function=<function perturbation_accept at 0x7f91dc223cb0>, warnings=False,\n"
     ]
    },
    {
     "ename": "ValueError",
     "evalue": "The truth value of an array with more than one element is ambiguous. Use a.any() or a.all()",
     "output_type": "error",
     "traceback": [
      "\u001b[0;31m---------------------------------------------------------------------------\u001b[0m",
      "\u001b[0;31mValueError\u001b[0m                                Traceback (most recent call last)",
      "\u001b[0;32m<ipython-input-12-1a18e813b5a4>\u001b[0m in \u001b[0;36m<module>\u001b[0;34m\u001b[0m\n\u001b[1;32m      6\u001b[0m                             ],\n\u001b[1;32m      7\u001b[0m             \u001b[0mstructure_names\u001b[0m \u001b[0;34m=\u001b[0m \u001b[0;34m(\u001b[0m\u001b[0;34m'Ts'\u001b[0m\u001b[0;34m,\u001b[0m\u001b[0;34m)\u001b[0m\u001b[0;34m,\u001b[0m\u001b[0;34m\u001b[0m\u001b[0;34m\u001b[0m\u001b[0m\n\u001b[0;32m----> 8\u001b[0;31m             \u001b[0mstructure_dims\u001b[0m \u001b[0;34m=\u001b[0m \u001b[0;34m(\u001b[0m\u001b[0;34m)\u001b[0m\u001b[0;34m,\u001b[0m\u001b[0;34m\u001b[0m\u001b[0;34m\u001b[0m\u001b[0m\n\u001b[0m\u001b[1;32m      9\u001b[0m             )\n",
      "\u001b[0;32m~/FKMC/FKMC/import_funcs.py\u001b[0m in \u001b[0;36mget_data_funcmap_chain_ext\u001b[0;34m(this_run, functions, structure_names, structure_dims)\u001b[0m\n\u001b[1;32m    476\u001b[0m         \u001b[0mlogger\u001b[0m\u001b[0;34m.\u001b[0m\u001b[0merror\u001b[0m\u001b[0;34m(\u001b[0m\u001b[0;34m\"NO DATA FILES FOUND\"\u001b[0m\u001b[0;34m)\u001b[0m\u001b[0;34m;\u001b[0m\u001b[0;34m\u001b[0m\u001b[0;34m\u001b[0m\u001b[0m\n\u001b[1;32m    477\u001b[0m         \u001b[0;32mreturn\u001b[0m\u001b[0;34m\u001b[0m\u001b[0;34m\u001b[0m\u001b[0m\n\u001b[0;32m--> 478\u001b[0;31m     \u001b[0mlogger\u001b[0m\u001b[0;34m.\u001b[0m\u001b[0mdebug\u001b[0m\u001b[0;34m(\u001b[0m\u001b[0;34mf'job ids range from {min(jobs)} to {max(jobs)}'\u001b[0m\u001b[0;34m)\u001b[0m\u001b[0;34m\u001b[0m\u001b[0;34m\u001b[0m\u001b[0m\n\u001b[0m\u001b[1;32m    479\u001b[0m \u001b[0;34m\u001b[0m\u001b[0m\n\u001b[1;32m    480\u001b[0m     \u001b[0;31m#get stuff from an an example datafile\u001b[0m\u001b[0;34m\u001b[0m\u001b[0;34m\u001b[0m\u001b[0;34m\u001b[0m\u001b[0m\n",
      "\u001b[0;31mValueError\u001b[0m: The truth value of an array with more than one element is ambiguous. Use a.any() or a.all()"
     ]
    }
   ],
   "source": [
    "from FKMC.import_funcs import get_data_funcmap_chain_ext, mean_over_MCMC, IPRandDOS, extract\n",
    "\n",
    "get_data_funcmap_chain_ext(Path('~/HPC_data/Tsweep_U5_J5'),\n",
    "            functions = [IPRandDOS(E_bins = np.linspace(-20, 20, 10000 + 1)), \n",
    "                             mean_over_MCMC('Mf_moments'),\n",
    "                            ],\n",
    "            structure_names = ('Ts',),\n",
    "            structure_dims = (),\n",
    "            )"
   ]
  },
  {
   "cell_type": "code",
   "execution_count": null,
   "metadata": {},
   "outputs": [],
   "source": []
  }
 ],
 "metadata": {
  "kernelspec": {
   "display_name": "Python 3",
   "language": "python",
   "name": "python3"
  },
  "language_info": {
   "codemirror_mode": {
    "name": "ipython",
    "version": 3
   },
   "file_extension": ".py",
   "mimetype": "text/x-python",
   "name": "python",
   "nbconvert_exporter": "python",
   "pygments_lexer": "ipython3",
   "version": "3.7.7"
  }
 },
 "nbformat": 4,
 "nbformat_minor": 4
}
