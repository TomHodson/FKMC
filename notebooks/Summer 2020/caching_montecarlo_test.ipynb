{
 "cells": [
  {
   "cell_type": "code",
   "execution_count": 1,
   "metadata": {},
   "outputs": [
    {
     "name": "stdout",
     "output_type": "stream",
     "text": [
      "Imported pathlib::Path, os, munch::Munch, pickle, logging, itertools::count, matplotlib::colors\n",
      "Names are pyplot = plt, matplotlib = mpl, numpy = np\n"
     ]
    }
   ],
   "source": [
    "%load_ext autoreload\n",
    "%autoreload 2\n",
    "%run ~/FKMC/notebooks/notebook_preamble.py\n",
    "%matplotlib inline"
   ]
  },
  {
   "cell_type": "code",
   "execution_count": 2,
   "metadata": {},
   "outputs": [],
   "source": [
    "from pathlib import Path\n",
    "import numpy as np\n",
    "import os\n",
    "from time import time, sleep\n",
    "import sys\n",
    "from munch import Munch\n",
    "from itertools import product, islice\n",
    "from FKMC.montecarlo import *\n",
    "from FKMC.caching_montecarlo import FK_mcmc as cached_FK_mcmc\n",
    "from numpy.random import Generator, PCG64\n",
    "\n",
    "T = 2.25\n",
    "Ns = [270,]\n",
    "make_initial_state = lambda N: np.arange(N, dtype = np.float64) % 2 #a CDW initial state\n",
    "previous_states = [make_initial_state(N) for N in Ns]\n",
    "J = 5\n",
    "U = 5\n",
    "alpha = 1.25\n",
    "\n",
    "\n",
    "previous_states = [np.array(list(map(float, \"\"\"0. 0. 1. 0. 0. 0. 0. 1. 0. 0. 0. 0. 1. 0. 1. 0. 1. 1. 1. 0. 1. 0. 0. 0.\n",
    " 1. 0. 1. 1. 1. 0. 1. 0. 1. 0. 1. 0. 0. 0. 1. 0. 1. 0. 1. 0. 1. 0. 1. 0.\n",
    " 1. 1. 1. 0. 1. 0. 1. 0. 1. 1. 1. 0. 0. 0. 1. 0. 1. 0. 1. 0. 1. 0. 1. 0.\n",
    " 1. 1. 1. 0. 1. 0. 0. 1. 1. 0. 0. 1. 1. 0. 0. 1. 0. 0. 0. 0. 1. 1. 1. 0.\n",
    " 0. 0. 1. 0. 1. 0. 1. 1. 1. 0. 0. 0. 1. 0. 1. 1. 1. 0. 1. 0. 1. 0. 1. 0.\n",
    " 1. 1. 1. 0. 1. 0. 1. 1. 1. 1. 0. 1. 1. 0. 1. 0. 1. 1. 1. 0. 1. 0. 1. 0.\n",
    " 1. 1. 1. 0. 1. 0. 1. 0. 1. 0. 1. 1. 1. 0. 0. 0. 1. 0. 1. 1. 1. 0. 1. 0.\n",
    " 1. 0. 1. 0. 1. 0. 1. 0. 0. 1. 1. 1. 1. 1. 1. 0. 1. 0. 1. 0. 1. 1. 1. 0.\n",
    " 1. 0. 1. 0. 0. 1. 0. 0. 1. 0. 1. 0. 0. 0. 1. 1. 0. 1. 0. 1. 0. 1. 0. 0.\n",
    " 0. 0. 0. 0. 0. 0. 1. 0. 0. 1. 1. 0. 0. 0. 1. 0. 1. 1. 1. 0. 1. 0. 1. 1.\n",
    " 1. 0. 1. 0. 1. 1. 1. 1. 1. 1. 1. 1. 1. 0. 1. 0. 0. 0. 1. 0. 1. 1. 1. 0.\n",
    " 1. 1. 1. 1. 0. 0.\"\"\".split()))), ]\n",
    "\n",
    "proposal = p_multi_site_uniform_reflect\n",
    "\n",
    "Ns = [270,]\n",
    "N_steps = int(10000)\n",
    "previous_states = previous_states = [make_initial_state(N) for N in Ns]"
   ]
  },
  {
   "cell_type": "code",
   "execution_count": 3,
   "metadata": {},
   "outputs": [
    {
     "name": "stdout",
     "output_type": "stream",
     "text": [
      "Starting N = 270\n",
      "N = 270: 0% through after 0.00m             acceptance rates: classical = 0% quantum = 0% overall = 0%\n",
      "N = 270: 10% through after 0.08m             acceptance rates: classical = 0.5% quantum = 1e+02% overall = 0.5%\n",
      "N = 270: 20% through after 0.15m             acceptance rates: classical = 0.6% quantum = 1e+02% overall = 0.6%\n",
      "N = 270: 30% through after 0.23m             acceptance rates: classical = 0.4% quantum = 1e+02% overall = 0.4%\n",
      "N = 270: 40% through after 0.30m             acceptance rates: classical = 0.55% quantum = 1e+02% overall = 0.55%\n",
      "N = 270: 50% through after 0.38m             acceptance rates: classical = 0.56% quantum = 1e+02% overall = 0.56%\n",
      "N = 270: 60% through after 0.46m             acceptance rates: classical = 0.57% quantum = 1e+02% overall = 0.57%\n",
      "N = 270: 70% through after 0.54m             acceptance rates: classical = 0.59% quantum = 1e+02% overall = 0.59%\n",
      "N = 270: 80% through after 0.63m             acceptance rates: classical = 0.53% quantum = 98% overall = 0.51%\n"
     ]
    },
    {
     "name": "stderr",
     "output_type": "stream",
     "text": [
      "/Users/tom/FKMC/FKMC/montecarlo.py:202: RuntimeWarning: underflow encountered in multiply\n",
      "  self.IPRs[j] = ((evecs * np.conj(evecs))**2).sum(axis = 0)\n",
      "/Users/tom/FKMC/FKMC/montecarlo.py:202: RuntimeWarning: underflow encountered in square\n",
      "  self.IPRs[j] = ((evecs * np.conj(evecs))**2).sum(axis = 0)\n"
     ]
    },
    {
     "name": "stdout",
     "output_type": "stream",
     "text": [
      "N = 270: 90% through after 0.71m             acceptance rates: classical = 0.48% quantum = 98% overall = 0.47%\n",
      "Warning, p_acc = 0.0043, {'t': 1, 'alpha': 1.25, 'mu': 0, 'beta': 0.4444444444444444, 'J': 5, 'U': 5, 'normalise': True, 'J_matrix': 'suppressed for brevity'}\n",
      "This N = 270 j =0 took 48 seconds.\n"
     ]
    },
    {
     "data": {
      "text/plain": [
       "array([0., 1., 0., 1., 0., 1., 0., 1., 0., 1., 0., 1., 0., 1., 0., 1., 0.,\n",
       "       1., 0., 1., 0., 1., 0., 1., 0., 1., 0., 1., 0., 1., 0., 1., 0., 1.,\n",
       "       0., 1., 0., 1., 0., 1., 0., 1., 0., 1., 0., 1., 0., 1., 0., 1., 0.,\n",
       "       1., 0., 1., 0., 1., 0., 1., 0., 1., 0., 1., 0., 1., 0., 1., 0., 1.,\n",
       "       0., 1., 0., 1., 0., 1., 0., 1., 0., 1., 0., 1., 0., 1., 0., 1., 0.,\n",
       "       1., 0., 1., 0., 1., 0., 1., 0., 1., 0., 1., 0., 1., 1., 1., 0., 1.,\n",
       "       0., 1., 0., 1., 0., 1., 0., 1., 0., 1., 0., 1., 0., 1., 0., 1., 0.,\n",
       "       1., 0., 1., 0., 1., 0., 1., 0., 1., 0., 1., 0., 0., 0., 1., 0., 1.,\n",
       "       0., 1., 0., 1., 0., 1., 0., 1., 0., 1., 0., 1., 0., 1., 0., 1., 0.,\n",
       "       1., 0., 1., 0., 1., 0., 1., 0., 1., 0., 1., 0., 1., 0., 1., 0., 1.,\n",
       "       0., 1., 0., 1., 0., 1., 0., 1., 0., 1., 0., 1., 0., 1., 0., 1., 0.,\n",
       "       1., 0., 1., 0., 1., 0., 1., 0., 1., 0., 1., 0., 1., 0., 1., 0., 1.,\n",
       "       0., 1., 0., 1., 0., 1., 0., 1., 0., 1., 0., 1., 0., 1., 0., 1., 0.,\n",
       "       1., 0., 1., 0., 1., 0., 1., 0., 1., 0., 1., 0., 1., 0., 1., 0., 1.,\n",
       "       0., 1., 0., 1., 0., 1., 0., 1., 0., 1., 0., 1., 0., 1., 0., 1., 0.,\n",
       "       1., 0., 1., 1., 1., 0., 1., 0., 1., 0., 1., 0., 1., 0., 1.])"
      ]
     },
     "execution_count": 3,
     "metadata": {},
     "output_type": "execute_result"
    }
   ],
   "source": [
    "logs = np.empty(shape = len(Ns), dtype = object)\n",
    "\n",
    "t1 = time()\n",
    "for i, N in enumerate(Ns):\n",
    "    print(f'Starting N = {N}')\n",
    "    parameters = dict(t = 1, alpha = alpha, mu = 0, beta = 1/T, J = J, U = U, normalise = True)\n",
    "    MCMC_params = dict(\n",
    "            state = np.copy(previous_states[i]),\n",
    "            N_steps = N_steps,\n",
    "            N_burn_in = 0,\n",
    "            thin = 1,\n",
    "            logger = Eigenspectrum_IPR_all(bins = 10000, limit = 20),\n",
    "            proposal = proposal,\n",
    "            accept_function = perturbation_accept,\n",
    "            warnings = True,\n",
    "            raw_steps = True,\n",
    "        )\n",
    "\n",
    "    t0 = time()\n",
    "    rng = Generator(PCG64(12345))\n",
    "    logs[i] = FK_mcmc(**MCMC_params, parameters = parameters, rng = rng)\n",
    "    logs[i].time = time() - t0\n",
    "    print(f'This N = {N} j ={i} took {time() - t0:.0f} seconds.')\n",
    "    \n",
    "logs[0].state[-1]"
   ]
  },
  {
   "cell_type": "code",
   "execution_count": 6,
   "metadata": {},
   "outputs": [
    {
     "name": "stdout",
     "output_type": "stream",
     "text": [
      "Starting N = 270\n",
      "N = 270: 0% through after 0.00m             acceptance rate: classical = 0% quantum = 0% overall = 0%             Ff cache 0 full: 0\n",
      "N = 270: 10% through after 0.00m             acceptance rate: classical = 0.5% quantum = 1e+02% overall = 0.5%             Ff cache 0.3 full: 50\n",
      "N = 270: 20% through after 0.00m             acceptance rate: classical = 0.6% quantum = 1e+02% overall = 0.6%             Ff cache 0.5 full: 77\n",
      "N = 270: 30% through after 0.01m             acceptance rate: classical = 0.4% quantum = 1e+02% overall = 0.4%             Ff cache 0.33 full: 77\n",
      "N = 270: 40% through after 0.01m             acceptance rate: classical = 0.55% quantum = 1e+02% overall = 0.55%             Ff cache 0.5 full: 87\n",
      "N = 270: 50% through after 0.01m             acceptance rate: classical = 0.56% quantum = 1e+02% overall = 0.56%             Ff cache 0.52 full: 90\n",
      "N = 270: 60% through after 0.01m             acceptance rate: classical = 0.57% quantum = 1e+02% overall = 0.57%             Ff cache 0.55 full: 91\n",
      "N = 270: 70% through after 0.01m             acceptance rate: classical = 0.59% quantum = 1e+02% overall = 0.59%             Ff cache 0.56 full: 90\n",
      "N = 270: 80% through after 0.01m             acceptance rate: classical = 0.53% quantum = 98% overall = 0.51%             Ff cache 0.52 full: 88\n",
      "N = 270: 90% through after 0.01m             acceptance rate: classical = 0.48% quantum = 98% overall = 0.47%             Ff cache 0.47 full: 86\n",
      "Warning, p_acc = 0.0043, {'t': 1, 'alpha': 1.25, 'mu': 0, 'beta': 0.4444444444444444, 'J': 5, 'U': 5, 'normalise': True, 'J_matrix': 'suppressed for brevity'}\n",
      "This N = 270 j =0 took 1 seconds.\n"
     ]
    },
    {
     "data": {
      "text/plain": [
       "array([0., 1., 0., 1., 0., 1., 0., 1., 0., 1., 0., 1., 0., 1., 0., 1., 0.,\n",
       "       1., 0., 1., 0., 1., 0., 1., 0., 1., 0., 1., 0., 1., 0., 1., 0., 1.,\n",
       "       0., 1., 0., 1., 0., 1., 0., 1., 0., 1., 0., 1., 0., 1., 0., 1., 0.,\n",
       "       1., 0., 1., 0., 1., 0., 1., 0., 1., 0., 1., 0., 1., 0., 1., 0., 1.,\n",
       "       0., 1., 0., 1., 0., 1., 0., 1., 0., 1., 0., 1., 0., 1., 0., 1., 0.,\n",
       "       1., 0., 1., 0., 1., 0., 1., 0., 1., 0., 1., 0., 1., 1., 1., 0., 1.,\n",
       "       0., 1., 0., 1., 0., 1., 0., 1., 0., 1., 0., 1., 0., 1., 0., 1., 0.,\n",
       "       1., 0., 1., 0., 1., 0., 1., 0., 1., 0., 1., 0., 0., 0., 1., 0., 1.,\n",
       "       0., 1., 0., 1., 0., 1., 0., 1., 0., 1., 0., 1., 0., 1., 0., 1., 0.,\n",
       "       1., 0., 1., 0., 1., 0., 1., 0., 1., 0., 1., 0., 1., 0., 1., 0., 1.,\n",
       "       0., 1., 0., 1., 0., 1., 0., 1., 0., 1., 0., 1., 0., 1., 0., 1., 0.,\n",
       "       1., 0., 1., 0., 1., 0., 1., 0., 1., 0., 1., 0., 1., 0., 1., 0., 1.,\n",
       "       0., 1., 0., 1., 0., 1., 0., 1., 0., 1., 0., 1., 0., 1., 0., 1., 0.,\n",
       "       1., 0., 1., 0., 1., 0., 1., 0., 1., 0., 1., 0., 1., 0., 1., 0., 1.,\n",
       "       0., 1., 0., 1., 0., 1., 0., 1., 0., 1., 0., 1., 0., 1., 0., 1., 0.,\n",
       "       1., 0., 1., 1., 1., 0., 1., 0., 1., 0., 1., 0., 1., 0., 1.])"
      ]
     },
     "execution_count": 6,
     "metadata": {},
     "output_type": "execute_result"
    }
   ],
   "source": [
    "t1 = time()\n",
    "\n",
    "for i, N in enumerate(Ns):\n",
    "    print(f'Starting N = {N}')\n",
    "    parameters = dict(t = 1, alpha = alpha, mu = 0, beta = 1/T, J = J, U = U, normalise = True)\n",
    "    MCMC_params = dict(\n",
    "            state = np.copy(previous_states[i]),\n",
    "            N_steps = N_steps,\n",
    "            N_burn_in = int(0),\n",
    "            thin = 1,\n",
    "            proposal = proposal,\n",
    "            warnings = True,\n",
    "            raw_steps = True,\n",
    "        )\n",
    "\n",
    "    t0 = time()\n",
    "    rng = Generator(PCG64(12345))\n",
    "    counts, full_cache, last_state, states = cached_FK_mcmc(**MCMC_params, parameters = parameters, rng = rng)\n",
    "\n",
    "    print(f'This N = {N} j ={i} took {time() - t0:.0f} seconds.')\n",
    "states[-1]"
   ]
  },
  {
   "cell_type": "code",
   "execution_count": 5,
   "metadata": {},
   "outputs": [
    {
     "data": {
      "text/plain": [
       "(10000, 10000)"
      ]
     },
     "execution_count": 5,
     "metadata": {},
     "output_type": "execute_result"
    }
   ],
   "source": [
    "agreement = np.all(logs[0].state == states, axis = 1) \n",
    "sum(agreement), agreement.size"
   ]
  },
  {
   "cell_type": "code",
   "execution_count": null,
   "metadata": {},
   "outputs": [],
   "source": []
  }
 ],
 "metadata": {
  "kernelspec": {
   "display_name": "Python [conda env:root] *",
   "language": "python",
   "name": "conda-root-py"
  },
  "language_info": {
   "codemirror_mode": {
    "name": "ipython",
    "version": 3
   },
   "file_extension": ".py",
   "mimetype": "text/x-python",
   "name": "python",
   "nbconvert_exporter": "python",
   "pygments_lexer": "ipython3",
   "version": "3.7.7"
  }
 },
 "nbformat": 4,
 "nbformat_minor": 4
}
