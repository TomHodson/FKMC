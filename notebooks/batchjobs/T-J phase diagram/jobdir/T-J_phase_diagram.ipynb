{
 "cells": [
  {
   "cell_type": "code",
   "execution_count": 5,
   "metadata": {},
   "outputs": [
    {
     "name": "stdout",
     "output_type": "stream",
     "text": [
      "len(Ts) = 5,\n",
      "      len(Js) = 5,\n",
      "      prod = 25,\n",
      "      max_slurm_task_id = 24\n",
      "starting N = 4\n",
      "\n",
      "    params = {'t': 1, 'alpha': 1.5, 'mu': 0, 'beta': 0.19998000199979998, 'J': 10.0, 'U': 5, 'normalise': True, 'J_matrix': '...'},\n",
      "    mc_params = {'state': '...', 'N_steps': 1000, 'N_burn_in': 0, 'logger': <FKMC.montecarlo.Eigenspectrum_IPR_all object at 0x7fb9c554d400>, 'proposal': <function p_multi_site_uniform_reflect at 0x7fb9c5c968c8>, 'accept_function': <function perturbation_accept at 0x7fb9c5c96bf8>, 'warnings': True}\n",
      "    \n",
      "starting N = 8\n",
      "\n",
      "    params = {'t': 1, 'alpha': 1.5, 'mu': 0, 'beta': 0.19998000199979998, 'J': 10.0, 'U': 5, 'normalise': True, 'J_matrix': '...'},\n",
      "    mc_params = {'state': '...', 'N_steps': 1000, 'N_burn_in': 0, 'logger': <FKMC.montecarlo.Eigenspectrum_IPR_all object at 0x7fb9c554d7f0>, 'proposal': <function p_multi_site_uniform_reflect at 0x7fb9c5c968c8>, 'accept_function': <function perturbation_accept at 0x7fb9c5c96bf8>, 'warnings': True}\n",
      "    \n",
      "starting N = 16\n",
      "\n",
      "    params = {'t': 1, 'alpha': 1.5, 'mu': 0, 'beta': 0.19998000199979998, 'J': 10.0, 'U': 5, 'normalise': True, 'J_matrix': '...'},\n",
      "    mc_params = {'state': '...', 'N_steps': 1000, 'N_burn_in': 0, 'logger': <FKMC.montecarlo.Eigenspectrum_IPR_all object at 0x7fb9c554d208>, 'proposal': <function p_multi_site_uniform_reflect at 0x7fb9c5c968c8>, 'accept_function': <function perturbation_accept at 0x7fb9c5c96bf8>, 'warnings': True}\n",
      "    \n",
      "starting N = 32\n",
      "Warning, p_acc = 0.156, {'t': 1, 'alpha': 1.5, 'mu': 0, 'beta': 0.19998000199979998, 'J': 10.0, 'U': 5, 'normalise': True, 'J_matrix': 'suppressed for brevity'}\n",
      "\n",
      "    params = {'t': 1, 'alpha': 1.5, 'mu': 0, 'beta': 0.19998000199979998, 'J': 10.0, 'U': 5, 'normalise': True, 'J_matrix': '...'},\n",
      "    mc_params = {'state': '...', 'N_steps': 1000, 'N_burn_in': 0, 'logger': <FKMC.montecarlo.Eigenspectrum_IPR_all object at 0x7fb9c554d518>, 'proposal': <function p_multi_site_uniform_reflect at 0x7fb9c5c968c8>, 'accept_function': <function perturbation_accept at 0x7fb9c5c96bf8>, 'warnings': True}\n",
      "    \n",
      "starting N = 64\n",
      "Warning, p_acc = 0.077265625, {'t': 1, 'alpha': 1.5, 'mu': 0, 'beta': 0.19998000199979998, 'J': 10.0, 'U': 5, 'normalise': True, 'J_matrix': 'suppressed for brevity'}\n",
      "\n",
      "    params = {'t': 1, 'alpha': 1.5, 'mu': 0, 'beta': 0.19998000199979998, 'J': 10.0, 'U': 5, 'normalise': True, 'J_matrix': '...'},\n",
      "    mc_params = {'state': '...', 'N_steps': 1000, 'N_burn_in': 0, 'logger': <FKMC.montecarlo.Eigenspectrum_IPR_all object at 0x7fb9fc21cfd0>, 'proposal': <function p_multi_site_uniform_reflect at 0x7fb9c5c968c8>, 'accept_function': <function perturbation_accept at 0x7fb9c5c96bf8>, 'warnings': True}\n",
      "    \n",
      "starting N = 128\n",
      "Warning, p_acc = 0.030234375, {'t': 1, 'alpha': 1.5, 'mu': 0, 'beta': 0.19998000199979998, 'J': 10.0, 'U': 5, 'normalise': True, 'J_matrix': 'suppressed for brevity'}\n",
      "\n",
      "    params = {'t': 1, 'alpha': 1.5, 'mu': 0, 'beta': 0.19998000199979998, 'J': 10.0, 'U': 5, 'normalise': True, 'J_matrix': '...'},\n",
      "    mc_params = {'state': '...', 'N_steps': 1000, 'N_burn_in': 0, 'logger': <FKMC.montecarlo.Eigenspectrum_IPR_all object at 0x7fb9c5f59f28>, 'proposal': <function p_multi_site_uniform_reflect at 0x7fb9c5c968c8>, 'accept_function': <function perturbation_accept at 0x7fb9c5c96bf8>, 'warnings': True}\n",
      "    \n",
      "Total time 19s\n",
      "done\n"
     ]
    }
   ],
   "source": [
    "from pathlib import Path\n",
    "import numpy as np\n",
    "import os\n",
    "\n",
    "from FKMC.montecarlo import *\n",
    "\n",
    "slurm_job_id = int(os.getenv('SLURM_ARRAY_JOB_ID', -1))\n",
    "slurm_task_id = int(os.getenv('SLURM_ARRAY_TASK_ID', 22))\n",
    "max_slurm_task_id = int(os.getenv('SLURM_ARRAY_TASK_MAX', 24))\n",
    "working_dir = Path(f\".\")\n",
    "\n",
    "from time import time, sleep\n",
    "sleeptime = np.random.random() * (5*60)\n",
    "if slurm_job_id != -1: sleep(sleeptime)\n",
    "\n",
    "Js = np.linspace(0.001, 10.0, 5)\n",
    "Ts = np.linspace(0.001, 10.0, 5)\n",
    "Ns = [4,8,16,32,64,128]\n",
    "\n",
    "print(f'''len(Ts) = {len(Ts)},\n",
    "      len(Js) = {len(Js)},\n",
    "      prod = {len(Ts)*len(Js)},\n",
    "      max_slurm_task_id = {max_slurm_task_id}''')\n",
    "\n",
    "assert(max_slurm_task_id == len(Ts) * len(Js) - 1)\n",
    "J = Js[slurm_task_id // len(Ts)]\n",
    "T = Ts[slurm_task_id % len(Ts)]\n",
    "\n",
    "logs = np.empty(shape = len(Ns), dtype = object)\n",
    "\n",
    "for i, N in enumerate(Ns):\n",
    "    parameters = dict(t = 1, alpha = 1.5, mu = 0, beta = 1/T, J = J, U = 5, normalise = True)\n",
    "    MCMC_params = dict(\n",
    "            state = np.arange(N, dtype = np.float64) % 2, #starting from a CDW state\n",
    "            N_steps = int(10),\n",
    "            #N_steps = int(1000 * 1000),\n",
    "            N_burn_in = int(0), \n",
    "            #N_burn_in = int(10 * 1000), \n",
    "            #thin = 1000,\n",
    "            logger = Eigenspectrum_IPR_all(bins = 1000, limit = 10),\n",
    "            proposal = p_multi_site_uniform_reflect,\n",
    "            accept_function = perturbation_accept,\n",
    "            warnings = True,\n",
    "        )\n",
    "\n",
    "    print(f'starting N = {N}')\n",
    "    t0 = time()\n",
    "    logs[i] = FK_mcmc(**MCMC_params, parameters = parameters)\n",
    "    logs[i].time = time() - t0\n",
    "\n",
    "    parameters['J_matrix'] = '...'\n",
    "    MCMC_params['state'] = '...'\n",
    "    print(f'''\n",
    "    params = {parameters},\n",
    "    mc_params = {MCMC_params}\n",
    "    ''')\n",
    "\n",
    "filename = f'{slurm_task_id}.npz'\n",
    "\n",
    "print(f'Total time {time() - t0:.0f}s')\n",
    "\n",
    "if slurm_job_id != -1: \n",
    "    print(f'saving in {filename}')\n",
    "    np.savez_compressed(working_dir/filename, \n",
    "        Ns = Ns, Ts = Ts, parameters = parameters, MCMC_params = MCMC_params, logs = logs, allow_pickle = True,\n",
    "        desc = ''\n",
    "        )\n",
    "print('done')"
   ]
  },
  {
   "cell_type": "code",
   "execution_count": 23,
   "metadata": {},
   "outputs": [
    {
     "data": {
      "text/plain": [
       "0.4444444444444444"
      ]
     },
     "execution_count": 23,
     "metadata": {},
     "output_type": "execute_result"
    }
   ],
   "source": []
  },
  {
   "cell_type": "code",
   "execution_count": null,
   "metadata": {},
   "outputs": [],
   "source": []
  }
 ],
 "metadata": {
  "kernelspec": {
   "display_name": "IntelPython3",
   "language": "python",
   "name": "intelpython3"
  },
  "language_info": {
   "codemirror_mode": {
    "name": "ipython",
    "version": 3
   },
   "file_extension": ".py",
   "mimetype": "text/x-python",
   "name": "python",
   "nbconvert_exporter": "python",
   "pygments_lexer": "ipython3",
   "version": "3.6.8"
  }
 },
 "nbformat": 4,
 "nbformat_minor": 2
}
