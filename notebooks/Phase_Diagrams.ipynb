{
 "cells": [
  {
   "cell_type": "code",
   "execution_count": 8,
   "metadata": {},
   "outputs": [
    {
     "name": "stdout",
     "output_type": "stream",
     "text": [
      "The autoreload extension is already loaded. To reload it, use:\n",
      "  %reload_ext autoreload\n"
     ]
    }
   ],
   "source": [
    "%load_ext autoreload\n",
    "%autoreload 2\n",
    "\n",
    "import numpy as np\n",
    "import scipy as sp\n",
    "import scipy.sparse as sparse\n",
    "import scipy.sparse.linalg as linalg\n",
    "from matplotlib import pyplot as plt\n",
    "import matplotlib\n",
    "from matplotlib import colors\n",
    "\n",
    "import h5py\n",
    "from pathlib import Path\n",
    "textwidth = 6.268\n",
    "%matplotlib inline\n",
    "matplotlib.rcParams['figure.dpi'] = 100\n",
    "\n",
    "import FKMC"
   ]
  },
  {
   "cell_type": "code",
   "execution_count": 12,
   "metadata": {},
   "outputs": [
    {
     "name": "stdout",
     "output_type": "stream",
     "text": [
      "INFO:FKMC.jobmanager:Working in: ../data/phase_diagram_6\n",
      "INFO:FKMC.jobmanager:Sample results:\n",
      "INFO:FKMC.jobmanager:flag_6: array(shape=(2,), dtype=int64)\n",
      "INFO:FKMC.jobmanager:classical_energies_moments: array(shape=(9,), dtype=float64)\n",
      "INFO:FKMC.jobmanager:numbers_moments: array(shape=(9,), dtype=float64)\n",
      "INFO:FKMC.jobmanager:magnetisations_moments: array(shape=(9,), dtype=float64)\n",
      "INFO:FKMC.jobmanager:quantum_energies_moments: array(shape=(9,), dtype=float64)\n",
      "INFO:FKMC.jobmanager:classical_energies_moments_err: array(shape=(9,), dtype=float64)\n",
      "INFO:FKMC.jobmanager:numbers_moments_err: array(shape=(9,), dtype=float64)\n",
      "INFO:FKMC.jobmanager:magnetisations_moments_err: array(shape=(9,), dtype=float64)\n",
      "INFO:FKMC.jobmanager:quantum_energies_moments_err: array(shape=(9,), dtype=float64)\n",
      "INFO:FKMC.jobmanager:correlator: array(shape=(65,), dtype=float64)\n",
      "INFO:FKMC.jobmanager:q_energy_histogram: array(shape=(500,), dtype=float64)\n",
      "INFO:FKMC.jobmanager:IPR_histogram: array(shape=(500,), dtype=float64)\n",
      "INFO:FKMC.jobmanager:q_energy_histogram_bins: array(shape=(501,), dtype=float64)\n",
      "INFO:FKMC.jobmanager:q_energy_bounds: array(shape=(2,), dtype=int64)\n",
      "INFO:FKMC.jobmanager:runtime: array(shape=(1,), dtype=int64)\n",
      "INFO:FKMC.jobmanager:['stats.py', '.nfs000000009c89041800000ea6', 'quantum_montecarlo.cpython-36m-x86_64-linux-gnu.so', 'CX1_runscript.sh', 'wrapped_C_functions.c', '__init__.py', '.nfs000000009c89040e00000ea4', 'shared_mcmc_routines.cpython-36m-x86_64-linux-gnu.so', 'montecarlo.c', 'CMTH_runscript.sh', 'jobmanager.py', 'shared_mcmc_routines.c', '__pycache__', 'quantum_montecarlo.c', 'wrapped_C_functions.cpython-36m-x86_64-linux-gnu.so', 'montecarlo.cpython-36m-x86_64-linux-gnu.so', '.nfs000000009c89041400000ea5']\n",
      "#!/usr/bin/env bash\n",
      "#PBS -N phase_diagram_6\n",
      "#PBS -lselect=1:ncpus=1:mem=4gb:avx=true\n",
      "#PBS -lwalltime=24:00:00\n",
      "#PBS -J 1-6\n",
      "#PBS -j oe\n",
      "\n",
      "echo ------------------------------------------------------\n",
      "echo -n 'Job is running on node '; cat $PBS_NODEFILE\n",
      "echo ------------------------------------------------------\n",
      "echo PBS: qsub is running on $PBS_O_HOST\n",
      "echo PBS: originating queue is $PBS_O_QUEUE\n",
      "echo PBS: executing queue is $PBS_QUEUE\n",
      "echo PBS: working directory is $PBS_O_WORKDIR\n",
      "echo PBS: execution mode is $PBS_ENVIRONMENT\n",
      "echo PBS: job identifier is $PBS_JOBID\n",
      "echo PBS: job name is $PBS_JOBNAME\n",
      "echo PBS: node file is $PBS_NODEFILE\n",
      "echo PBS: current home directory is $PBS_O_HOME\n",
      "echo PBS: PATH = $PBS_O_PATH\n",
      "echo ------------------------------------------------------\n",
      "\n",
      "module load intel-suite anaconda3/personal\n",
      ". /home/tch14/anaconda3/etc/profile.d/conda.sh\n",
      "conda activate idp\n",
      "\n",
      "cd /rds/general/user/tch14/home/FKMC/data/phase_diagram_6\n",
      "let \"JOB_ID = PBS_ARRAY_INDEX - 1\"\n",
      "run_mcmc --job-id $JOB_ID --temp-dir $TMPDIR --working-dir ./\n",
      "#!/bin/bash\n",
      "\n",
      "#SBATCH --job-name phase_diagram_6\n",
      "#SBATCH --time 0-10:00:00\n",
      "#SBATCH --mail-type END\n",
      "#SBATCH --mail-user tch14@imperial.ac.uk\n",
      "#SBATCH --partition tch14\n",
      "#SBATCH --constraint avx\n",
      "#SBATCH --mem 2G\n",
      "\n",
      "# Create a local directory to run in.\n",
      "scratch=/workspace/$USER/scratch/$SLURM_JOB_ID\n",
      "mkdir -p $scratch\n",
      "\n",
      "echo Executing in $scratch on $(hostname)\n",
      "\n",
      ". /workspace/tch14/miniconda3/etc/profile.d/conda.sh\n",
      "conda activate cmth_intelpython3\n",
      "\n",
      "cd /rds/general/user/tch14/home/FKMC/data/phase_diagram_6\n",
      "let \"JOB_ID = PBS_ARRAY_INDEX - 1\"\n",
      "run_mcmc --job-id $JOB_ID --temp-dir $scratch --working-dir ./\n",
      "\n",
      "# Copy back to submit directory. This is wrapped in an if statement so the\n",
      "# working copy is only cleaned up if it has been copied back.\n",
      "if cp output $SLURM_SUBMIT_DIR\n",
      "then\n",
      "  # Clean up.\n",
      "  rm -rf $scratch\n",
      "else\n",
      "  echo \"Copy failed. Data retained in $scratch on $(hostname)\"\n",
      "fi\n"
     ]
    }
   ],
   "source": [
    "config = dict(\n",
    "              mcmc_routine='quantum_cython_mcmc',\n",
    "              N_burn_in = 10**2,\n",
    "              N_steps = 10**3,\n",
    "              N_system = 128,\n",
    "              mu = 0,\n",
    "              beta = np.logspace(-4,3,40),\n",
    "              U = np.logspace(-4,4,40),\n",
    "              V = np.array([-0.01,-0.05,-0.1,-0.15,-0.2,-0.5]),\n",
    "              alpha= 1.5,\n",
    "              outer_loop = np.array(['V',], dtype=h5py.special_dtype(vlen=str)),\n",
    "              inner_loop = np.array(['U','beta'], dtype=h5py.special_dtype(vlen=str)),\n",
    "              quantum = True,\n",
    "              output_history = False,\n",
    "              output_correlator = True,\n",
    "              output_state = False,\n",
    "              energy_max = 8,\n",
    "              energy_min = -8,\n",
    "              N_energy_bins = 500,\n",
    "            )\n",
    "\n",
    "working_dir = Path('../data/phase_diagram_6')\n",
    "FKMC.jobmanager.setup_mcmc(config, working_dir, overwrite = True)"
   ]
  },
  {
   "cell_type": "code",
   "execution_count": 14,
   "metadata": {},
   "outputs": [
    {
     "name": "stdout",
     "output_type": "stream",
     "text": [
      "INFO:FKMC.jobmanager:copied_in wasn't in config, initialising it\n",
      "INFO:FKMC.jobmanager:Number of Jobs to copy in: 6\n",
      "INFO:FKMC.jobmanager:Job IDs: [0 1 2 3 4 5]...\n",
      "INFO:FKMC.jobmanager:Couldn't open ../data/phase_diagram_6/jobs/job_0.hdf5\n",
      "INFO:FKMC.jobmanager:Couldn't open ../data/phase_diagram_6/jobs/job_1.hdf5\n",
      "INFO:FKMC.jobmanager:Couldn't open ../data/phase_diagram_6/jobs/job_2.hdf5\n",
      "INFO:FKMC.jobmanager:Couldn't open ../data/phase_diagram_6/jobs/job_3.hdf5\n",
      "INFO:FKMC.jobmanager:Couldn't open ../data/phase_diagram_6/jobs/job_4.hdf5\n",
      "INFO:FKMC.jobmanager:Couldn't open ../data/phase_diagram_6/jobs/job_5.hdf5\n",
      "INFO:FKMC.jobmanager:missing : []\n",
      "INFO:FKMC.jobmanager:Jobs attempted this time: 6\n",
      "INFO:FKMC.jobmanager:Overall completion: 0 / (6, 1600)\n",
      "INFO:FKMC.jobmanager:File size: 0.13Gb\n"
     ]
    },
    {
     "data": {
      "text/plain": [
       "[]"
      ]
     },
     "execution_count": 14,
     "metadata": {},
     "output_type": "execute_result"
    }
   ],
   "source": [
    "import logging\n",
    "logging.getLogger().setLevel(logging.INFO)\n",
    "FKMC.jobmanager.gather_mcmc(working_dir, do_all = False)"
   ]
  },
  {
   "cell_type": "code",
   "execution_count": 6,
   "metadata": {},
   "outputs": [
    {
     "name": "stdout",
     "output_type": "stream",
     "text": [
      "['IPR_histogram', 'classical_energies_moments', 'classical_energies_moments_err', 'correlator', 'flag_6', 'magnetisations_moments', 'magnetisations_moments_err', 'numbers_moments', 'numbers_moments_err', 'q_energy_bounds', 'q_energy_histogram', 'q_energy_histogram_bins', 'quantum_energies_moments', 'quantum_energies_moments_err', 'runtime']\n",
      "(6, 40, 40, 9)\n"
     ]
    },
    {
     "data": {
      "image/png": "[encoded data removed]",
      "text/plain": [
       "<Figure size 626.8x313.4 with 7 Axes>"
      ]
     },
     "metadata": {},
     "output_type": "display_data"
    }
   ],
   "source": [
    "def phase_diagram_log(working_dir):\n",
    "    result_filename = working_dir / 'results.hdf5'\n",
    "    norm = colors.Normalize(vmin=0, vmax=1)\n",
    "\n",
    "    with h5py.File(result_filename, 'r') as data:\n",
    "        print(list(data.keys()))\n",
    "\n",
    "        Vs = data.attrs['V']\n",
    "        betas = data.attrs['beta']\n",
    "        Us = data.attrs['U']\n",
    "\n",
    "        M = np.array(data['magnetisations_moments'])\n",
    "        #M[M == 0] = np.nan\n",
    "        print(M.shape)\n",
    "\n",
    "        N = len(Vs)\n",
    "        f, axes = plt.subplots(2,N//2,\n",
    "                              figsize = (textwidth, textwidth/2),\n",
    "                               sharey = 'all',\n",
    "                               sharex = 'all',\n",
    "                               constrained_layout = True,\n",
    "                              )\n",
    "        axes = axes.flatten()\n",
    "\n",
    "        for i,V,ax in zip(range(N),Vs,axes):\n",
    "            cs = ax.pcolormesh(Us, 1/betas, M[i, :, :, 0], cmap='RdBu_r', norm = norm)\n",
    "            ax.set(\n",
    "                title = f'J* = {V:.2f}',\n",
    "                #xlim = [0,5],\n",
    "                #ylim = [0,1],\n",
    "                xlabel = 'U',\n",
    "                yscale = 'log',\n",
    "                xscale = 'log',\n",
    "            )\n",
    "\n",
    "\n",
    "        f.colorbar(cs, ax=axes, orientation='vertical')\n",
    "        axes[0].set(ylabel = 'T')\n",
    "        f.savefig(f'{working_dir.stem}_log.pdf')\n",
    "\n",
    "phase_diagram_log(Path('../data/phase_diagram_6'))"
   ]
  }
 ],
 "metadata": {
  "kernelspec": {
   "display_name": "Python3 (intel)",
   "language": "python",
   "name": "idp"
  },
  "language_info": {
   "codemirror_mode": {
    "name": "ipython",
    "version": 3
   },
   "file_extension": ".py",
   "mimetype": "text/x-python",
   "name": "python",
   "nbconvert_exporter": "python",
   "pygments_lexer": "ipython3",
   "version": "3.6.5"
  }
 },
 "nbformat": 4,
 "nbformat_minor": 2
}
