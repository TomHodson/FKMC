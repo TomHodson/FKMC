{
 "cells": [
  {
   "cell_type": "code",
   "execution_count": 6,
   "id": "manual-platinum",
   "metadata": {},
   "outputs": [
    {
     "name": "stdout",
     "output_type": "stream",
     "text": [
      "The autoreload extension is already loaded. To reload it, use:\n",
      "  %reload_ext autoreload\n",
      "Imported pathlib::Path, os, munch::Munch, pickle, logging, itertools::count, matplotlib::colors\n",
      "Names are pyplot = plt, matplotlib = mpl, numpy = np\n"
     ]
    }
   ],
   "source": [
    "%load_ext autoreload\n",
    "%autoreload 2\n",
    "%run ~/FKMC/notebooks/notebook_preamble.py\n",
    "%matplotlib inline\n",
    "np.seterr(under = 'ignore')\n",
    "from time import time\n",
    "from munch import munchify\n",
    "from FKMC.general import shapes \n",
    "from FKMC.plotting import spread\n",
    "\n",
    "from FKMC.general import interaction_matrix, solve_H_vectorised\n",
    "from FKMC.general import index_histogram_array, sort_IPRs, normalise_IPR, smooth, get_nearby_index,  compute_IPR_and_DOS_histograms, interpolate_IPR"
   ]
  },
  {
   "cell_type": "code",
   "execution_count": 3,
   "id": "accepted-samoa",
   "metadata": {},
   "outputs": [],
   "source": [
    "def fermi_function(e, beta):\n",
    "    \"\"\"\n",
    "    Define the fermi function with a special path for the 0 temp Beta = inf case.\n",
    "    \"\"\"\n",
    "    if beta == np.inf:\n",
    "        return e > 0\n",
    "    return 1 / (1 + np.exp(- beta * e))"
   ]
  },
  {
   "cell_type": "code",
   "execution_count": 92,
   "id": "funny-burner",
   "metadata": {},
   "outputs": [
    {
     "name": "stdout",
     "output_type": "stream",
     "text": [
      "No disorder, zero temp fermi function\n",
      "'\n",
      "doing defect_density = 0, \n",
      "m2 = 0.9999999999999996\n",
      "fermion_order = [0.88079779]\n",
      "    \n"
     ]
    },
    {
     "data": {
      "text/plain": [
       "[<matplotlib.lines.Line2D at 0x7faa45219810>]"
      ]
     },
     "execution_count": 92,
     "metadata": {},
     "output_type": "execute_result"
    },
    {
     "data": {
      "image/png": "[encoded data removed]",
      "text/plain": [
       "<Figure size 432x288 with 1 Axes>"
      ]
     },
     "metadata": {
      "needs_background": "light"
     },
     "output_type": "display_data"
    }
   ],
   "source": [
    "energy_histogram_bins = E_bins = np.linspace(-4, 4, 2000 + 1)\n",
    "\n",
    "def test1_no_defects(N, beta, U = 5):\n",
    "    states = (np.arange(N)%2)[None, :]\n",
    "\n",
    "    \n",
    "    o = Munch(#T = 2.5 T_i = 1\n",
    "        E_bins = E_bins,\n",
    "        parameters = Munch(\n",
    "                           N = N,\n",
    "                           beta = np.nan, \n",
    "                           U = U,\n",
    "                           defect_densities = np.linspace(0,0.5,10),\n",
    "                           mu=0.0, \n",
    "                           t = 1,\n",
    "                           alpha = 1.25,\n",
    "                           J = 1.0\n",
    "                          ),\n",
    "        )\n",
    "    o.parameters.J_matrix = interaction_matrix(**o.parameters)\n",
    "    Ff, Fc, eigenvals, eigenvecs = solve_H_vectorised(states, **o.parameters)\n",
    "\n",
    "    A = 2*(np.arange(N) % 2) - 1\n",
    "    m2 = np.sum(2*(states - 1/2) * A / N)**2\n",
    "\n",
    "    #The normalized (unit “length”) eigenvectors, such that the column v[:,i] is the eigenvector corresponding to the eigenvalue w[i]\n",
    "    # fermion_order = np.sum(fermi_function(eigenvals, beta = np.inf) * (A[:, None] * eigenvecs)) / N\n",
    "\n",
    "    #f_k psi*_ik O_ij psi_jk\n",
    "    #k labels energies\n",
    "    #i,j label sites\n",
    "    #l labels disorder realisations\n",
    "    f = fermi_function(eigenvals, beta = beta)\n",
    "    fermion_order = np.einsum('...k,i,...ik', f, A, np.conj(eigenvecs)*eigenvecs) / N * 2\n",
    "\n",
    "    \n",
    "    print(f''''\n",
    "doing defect_density = 0, \n",
    "m2 = {m2}\n",
    "fermion_order = {fermion_order}\n",
    "    ''')\n",
    "    return eigenvals\n",
    "    \n",
    "print('No disorder, zero temp fermi function')\n",
    "eigenvals = test1_no_defects(N =  200, beta = np.inf)\n",
    "plt.hist(eigenvals)\n",
    "plt.plot(E_bins, fermi_function(E_bins, beta = np.inf))"
   ]
  },
  {
   "cell_type": "code",
   "execution_count": 57,
   "id": "incredible-shanghai",
   "metadata": {},
   "outputs": [
    {
     "name": "stdout",
     "output_type": "stream",
     "text": [
      "'\n",
      "doing defect_density = 0, \n",
      "m2 = 0.9999999999999996\n",
      "fermion_order = 0.0012499991416676016\n",
      "    \n"
     ]
    },
    {
     "data": {
      "text/plain": [
       "[<matplotlib.lines.Line2D at 0x7faa4ce72810>]"
      ]
     },
     "execution_count": 57,
     "metadata": {},
     "output_type": "execute_result"
    },
    {
     "data": {
      "image/png": "[encoded data removed]",
      "text/plain": [
       "<Figure size 432x288 with 1 Axes>"
      ]
     },
     "metadata": {
      "needs_background": "light"
     },
     "output_type": "display_data"
    }
   ],
   "source": [
    "beta = 0.001\n",
    "eigenvals = test1_no_defects(N =  200, beta = beta)\n",
    "plt.hist(eigenvals)\n",
    "plt.plot(E_bins, fermi_function(E_bins, beta = beta))"
   ]
  },
  {
   "cell_type": "code",
   "execution_count": 61,
   "id": "knowing-contract",
   "metadata": {},
   "outputs": [
    {
     "name": "stdout",
     "output_type": "stream",
     "text": [
      "'\n",
      "doing defect_density = 0, \n",
      "m2 = 0.9999999999999996\n",
      "fermion_order = 0.12414888302920993\n",
      "    \n"
     ]
    },
    {
     "data": {
      "text/plain": [
       "[<matplotlib.lines.Line2D at 0x7faa545f3f10>]"
      ]
     },
     "execution_count": 61,
     "metadata": {},
     "output_type": "execute_result"
    },
    {
     "data": {
      "image/png": "[encoded data removed]",
      "text/plain": [
       "<Figure size 432x288 with 1 Axes>"
      ]
     },
     "metadata": {
      "needs_background": "light"
     },
     "output_type": "display_data"
    }
   ],
   "source": [
    "beta = 0.1\n",
    "eigenvals = test1_no_defects(N =  200, beta = beta)\n",
    "plt.hist(eigenvals)\n",
    "plt.plot(E_bins, fermi_function(E_bins, beta = beta))"
   ]
  },
  {
   "cell_type": "code",
   "execution_count": 93,
   "id": "large-knock",
   "metadata": {},
   "outputs": [
    {
     "name": "stdout",
     "output_type": "stream",
     "text": [
      "'\n",
      "doing defect_density = 0.5, \n",
      "m2 = 0.2579640000000002 theory 0.25\n",
      "fermion_order = 0.43854459422515313\n",
      "    \n"
     ]
    },
    {
     "data": {
      "text/plain": [
       "[<matplotlib.lines.Line2D at 0x7faa3c61f690>]"
      ]
     },
     "execution_count": 93,
     "metadata": {},
     "output_type": "execute_result"
    },
    {
     "data": {
      "image/png": "[encoded data removed]",
      "text/plain": [
       "<Figure size 432x288 with 1 Axes>"
      ]
     },
     "metadata": {
      "needs_background": "light"
     },
     "output_type": "display_data"
    }
   ],
   "source": [
    "energy_histogram_bins = E_bins = np.linspace(-4, 4, 2000 + 1)\n",
    "rng = np.random.default_rng()\n",
    "\n",
    "def test2_with_defects(N, beta, defect_density, M = 100):\n",
    "    CDW = (np.arange(N)%2)[None, :]\n",
    "    disorder = rng.choice([1,0], p = [0.5,  0.5], size = (M,N))\n",
    "    defects = rng.choice([1,0], p = [defect_density, 1-defect_density], size = (M,N))\n",
    "    states = np.where(defects, disorder, CDW) #choose disorder with probability defect_density\n",
    "\n",
    "    \n",
    "    o = Munch(#T = 2.5 T_i = 1\n",
    "        E_bins = E_bins,\n",
    "        parameters = Munch(\n",
    "                           N = N,\n",
    "                           beta = np.nan, \n",
    "                           U = 5,\n",
    "                           defect_densities = np.linspace(0,0.5,10),\n",
    "                           mu=0.0, \n",
    "                           t = 1,\n",
    "                           alpha = 1.25,\n",
    "                           J = 1.0\n",
    "                          ),\n",
    "        )\n",
    "    o.parameters.J_matrix = interaction_matrix(**o.parameters)\n",
    "    Ff, Fc, eigenvals, eigenvecs = solve_H_vectorised(states, **o.parameters)\n",
    "\n",
    "    A = 2*(np.arange(N) % 2) - 1\n",
    "    m2 = np.mean(np.sum(2*(states - 1/2) * A[None, :] / N, axis = 0)**2)\n",
    "\n",
    "    #The normalized (unit “length”) eigenvectors, such that the column v[:,i] is the eigenvector corresponding to the eigenvalue w[i]\n",
    "    # fermion_order = np.sum(fermi_function(eigenvals, beta = np.inf) * (A[:, None] * eigenvecs)) / N\n",
    "\n",
    "\n",
    "    #f_k psi*_ik O_ij psi_jk\n",
    "    #k labels energies\n",
    "    #i,j label sites\n",
    "    #l labels disorder realisations\n",
    "#     print([np.shape(s) for s in [f, np.conj(eigenvecs), O, eigenvecs]])\n",
    "    f = fermi_function(eigenvals, beta = beta)\n",
    "    fermion_order = np.einsum('...k,i,...ik', f, A, np.conj(eigenvecs)*eigenvecs) / N * 2\n",
    "    fermion_order = np.mean(fermion_order)\n",
    "    \n",
    "    print(f''''\n",
    "doing defect_density = {defect_density}, \n",
    "m2 = {m2} theory {(1 - defect_density)**2}\n",
    "fermion_order = {fermion_order}\n",
    "    ''')\n",
    "    return eigenvals\n",
    "    \n",
    "beta = 5\n",
    "eigenvals = test2_with_defects(N = 100, beta = beta, defect_density = 0.5, M = 100)\n",
    "plt.hist(eigenvals.flatten())\n",
    "l,h = plt.ylim()\n",
    "plt.plot(E_bins, h*fermi_function(E_bins, beta = beta))"
   ]
  },
  {
   "cell_type": "code",
   "execution_count": 49,
   "id": "chubby-sampling",
   "metadata": {},
   "outputs": [
    {
     "name": "stdout",
     "output_type": "stream",
     "text": [
      "'\n",
      "doing defect_density = 0.1, \n",
      "m2 = 0.799640000000001 theory 0.81\n",
      "fermion_order = 1.0000549943238235\n",
      "    \n"
     ]
    },
    {
     "data": {
      "text/plain": [
       "[<matplotlib.lines.Line2D at 0x7faa5ccab490>]"
      ]
     },
     "execution_count": 49,
     "metadata": {},
     "output_type": "execute_result"
    },
    {
     "data": {
      "image/png": "[encoded data removed]",
      "text/plain": [
       "<Figure size 432x288 with 1 Axes>"
      ]
     },
     "metadata": {
      "needs_background": "light"
     },
     "output_type": "display_data"
    }
   ],
   "source": [
    "eigenvals = test2_with_defects(N = 100, beta = 0.01, defect_density = 0.1, M = 100)\n",
    "plt.hist(eigenvals.flatten())\n",
    "l,h = plt.ylim()\n",
    "plt.plot(E_bins, h*fermi_function(E_bins, beta = np.inf))"
   ]
  },
  {
   "cell_type": "code",
   "execution_count": null,
   "id": "parliamentary-ocean",
   "metadata": {},
   "outputs": [],
   "source": [
    "energy_histogram_bins = E_bins = np.linspace(-4, 4, 2000 + 1)\n",
    "\n",
    "N_states = int(1e3) # average over N_states // N replications\n",
    "Ns = np.array([40,  60,  70,  80, 100, 120, 150, 180, 220, 270])\n",
    "rng = np.random.default_rng()\n",
    "\n",
    "o = Munch(#T = 2.5 T_i = 1\n",
    "    E_bins = E_bins,\n",
    "    parameters = Munch(\n",
    "                       N = 100,\n",
    "                       beta = np.nan, \n",
    "                       U = 5,\n",
    "                       defect_densities = np.linspace(0,0.5,10),\n",
    "                       mu=0.0, \n",
    "                       t = 1,\n",
    "                       alpha = 1.25,\n",
    "                       J = 1.0\n",
    "                      ),\n",
    "    )\n",
    "\n",
    "K = len(o.parameters.defect_densities)\n",
    "# o.DOS, o.dDOS, o.IPR, o.dIPR = np.empty((4, K, 2000))\n",
    "\n",
    "o.Mf_moments = np.empty((K, 6))\n",
    "o.fermion_order = np.empty(K)\n",
    "\n",
    "def fermi_function(e, beta):\n",
    "    return 1 / (1 + np.exp(- beta * e))\n",
    "\n",
    "\n",
    "\n",
    "for i,defect_density in enumerate(o.parameters.defect_densities):\n",
    "    M = N_states\n",
    "    N = o.parameters.N\n",
    "\n",
    "    CDW = (np.arange(N)%2)[None, :]\n",
    "    disorder = rng.choice([1,0], p = [0.5,  0.5], size = (M,N))\n",
    "    defects = rng.choice([1,0], p = [defect_density, 1-defect_density], size = (M,N))\n",
    "    states = np.where(defects, disorder, CDW) #choose disorder with probability defect_density\n",
    "\n",
    "    scale = 0.5\n",
    "    o.parameters.J_matrix = interaction_matrix(**o.parameters)\n",
    "\n",
    "\n",
    "    #NB the states argument should have only 1s and 0s\n",
    "    #Fc is infinite at infinite temperature\n",
    "    Ff, Fc, eigenvals, eigenvecs = solve_H_vectorised(states, **o.parameters)\n",
    "    \n",
    "    A = 2*(np.arange(N) % 2) - 1\n",
    "    o.Mf_moments[2, i] = np.sum(2*(states - 1/2) * A[None, :] / N)**2\n",
    "    #The normalized (unit “length”) eigenvectors, such that the column v[:,i] is the eigenvector corresponding to the eigenvalue w[i]\n",
    "    o.fermion_order[i] = np.sum(fermi_function(eigenvals, beta = 5) * (A[:, None] * eigenvecs)) / N\n",
    "\n",
    "    print(f'doing defect_density = {defect_density}, {o.fermion_order[i]}')\n",
    "\n",
    "    o.parameters.J_matrix = None"
   ]
  },
  {
   "cell_type": "code",
   "execution_count": null,
   "id": "fewer-narrow",
   "metadata": {},
   "outputs": [],
   "source": [
    "\n",
    "\n",
    "energy_histogram_bins = E_bins = np.linspace(-4, 4, 2000 + 1)\n",
    "\n",
    "N_states = int(1e3) # average over N_states // N replications\n",
    "t = 1\n",
    "U = 2\n",
    "Ns = np.array([40,  60,  70,  80, 100, 120, 150, 180, 220, 270])\n",
    "rng = np.random.default_rng()\n",
    "\n",
    "Ts = [1.5, 2.5]\n",
    "Us = [2, 5]\n",
    "disorder_data = np.array([\n",
    "    [ #U = 2 U_i = 0\n",
    "    Munch(#T = 1.5 T_i = 0\n",
    "        E_bins = E_bins,\n",
    "        Ns = Ns,\n",
    "        parameters = Munch(beta = np.nan, U = 2, m2s = [0.8095890000000001, 0.7996353333333337, 0.8024489795918364, 0.7962247499999999, 0.8097218399999999, 0.7909586111111111, 0.8109371733333332, 0.8128113086419754, 0.8081882314049587, 0.8092678847736622])\n",
    "        ),\n",
    "    Munch(#T = 2.5 T_i = 1\n",
    "        E_bins = E_bins,\n",
    "        Ns = Ns,\n",
    "        parameters = Munch(beta = np.nan, U = 2, m2s = [0.17062400000000005, 0.1217746666666667, 0.1011862857142857, 0.103533625, 0.08152208000000001, 0.06948605555555555, 0.06154023111111111, 0.05436165432098765, 0.045623024793388436, 0.040707226337448554]),\n",
    "        ),\n",
    "    ],\n",
    "    [#U = 5 U_i = 1\n",
    "    Munch(#T = 1.5 T_i = 0\n",
    "        E_bins = E_bins,\n",
    "        Ns = Ns,\n",
    "        parameters = Munch(beta = np.nan, U = 5, m2s = [0.8140095, 0.8023942222222225, 0.807825959183673, 0.8145024999999999, 0.81666472, 0.817028611111111, 0.8053220977777776, 0.8104926666666665, 0.8188372727272728, 0.8083993415637856])\n",
    "    ),\n",
    "    Munch(#T = 2.5 T_i = 1\n",
    "        E_bins = E_bins,\n",
    "        Ns = Ns,\n",
    "        parameters = Munch(beta = np.nan, U = 5, m2s = [0.15642450000000002, 0.12025133333333335, 0.1100285714285714, 0.104929125, 0.08670792000000001, 0.07406583333333333, 0.06431651555555554, 0.056547012345679014, 0.04651963636363636, 0.04189197256515774])\n",
    "        ),\n",
    "    ],\n",
    "])\n",
    "\n",
    "defect_densities = np.linspace(0,0.5,10)\n",
    "\n",
    "for U_i, U in enumerate(Us):\n",
    "    for T_i, T in enumerate(Ts):\n",
    "        o = disorder_data[U_i, T_i]\n",
    "        o.parameters.m2s = np.array(o.parameters.m2s)\n",
    "        o.parameters.defect_densities = 1 - np.sqrt(o.parameters.m2s)\n",
    "        o.Mf_moments = o.parameters.m2s[:, None, None] * np.ones(6)[None, None, :]\n",
    "        o.parameters.update(mu=0.0, t = t, alpha = 1.25, J = 1.0)\n",
    "        \n",
    "        o.DOS, o.dDOS, o.IPR, o.dIPR = np.empty((4, len(Ns), 2000))\n",
    "        for N_i, N in enumerate(Ns):\n",
    "            M = N_states\n",
    "            defect_density = o.parameters.defect_densities[N_i]\n",
    "            \n",
    "            CDW = (np.arange(N)%2)[None, :]\n",
    "            disorder = rng.choice([1,0], p = [0.5,  0.5], size = (M,N))\n",
    "            defects = rng.choice([1,0], p = [defect_density, 1-defect_density], size = (M,N))\n",
    "            states = np.where(defects, disorder, CDW) #choose disorder with probability defect_density\n",
    "            \n",
    "            scale = 0.5\n",
    "            \n",
    "            o.parameters.N = N\n",
    "            o.parameters.J_matrix = interaction_matrix(**o.parameters)\n",
    "             \n",
    "\n",
    "            #NB the states argument should have only 1s and 0s\n",
    "            #Fc is infinite at infinite temperature\n",
    "            Ff, Fc, eigenvals, eigenvecs = solve_H_vectorised(states, **o.parameters)\n",
    "\n",
    "            #calculate the IPR measure\n",
    "            raw_IPRs = ((eigenvecs * np.conj(eigenvecs))**2).sum(axis = -2)\n",
    "\n",
    "            DOS, dDOS, IPR, dIPR = compute_IPR_and_DOS_histograms(eigenvals, raw_IPRs, energy_histogram_bins, bootstrap_bins = 1)\n",
    "\n",
    "            interpolate_IPR(energy_histogram_bins, unsmoothed_DOS=DOS, IPR=IPR, dIPR=dIPR)\n",
    "\n",
    "            #smooth out the spikey IPR values\n",
    "            o.DOS[N_i] = smooth(DOS, scale = scale, axis = -1)\n",
    "            o.IPR[N_i] = smooth(IPR, scale = scale, axis = -1)\n",
    "\n",
    "            o.dDOS[N_i] = smooth(dDOS, scale = scale, axis = -1)\n",
    "            o.dIPR[N_i] = smooth(dIPR, scale = scale, axis = -1)\n",
    "\n",
    "            o.parameters.J_matrix = None"
   ]
  },
  {
   "cell_type": "code",
   "execution_count": 17,
   "id": "athletic-restriction",
   "metadata": {},
   "outputs": [
    {
     "ename": "ValueError",
     "evalue": "operands could not be broadcast together with shapes (1000,100) (1000,100,100) ",
     "output_type": "error",
     "traceback": [
      "\u001b[0;31m---------------------------------------------------------------------------\u001b[0m",
      "\u001b[0;31mValueError\u001b[0m                                Traceback (most recent call last)",
      "\u001b[0;32m<ipython-input-17-9065dd6fe145>\u001b[0m in \u001b[0;36m<module>\u001b[0;34m\u001b[0m\n\u001b[1;32m     52\u001b[0m     \u001b[0mo\u001b[0m\u001b[0;34m.\u001b[0m\u001b[0mMf_moments\u001b[0m\u001b[0;34m[\u001b[0m\u001b[0;36m2\u001b[0m\u001b[0;34m,\u001b[0m \u001b[0mi\u001b[0m\u001b[0;34m]\u001b[0m \u001b[0;34m=\u001b[0m \u001b[0mnp\u001b[0m\u001b[0;34m.\u001b[0m\u001b[0msum\u001b[0m\u001b[0;34m(\u001b[0m\u001b[0;36m2\u001b[0m\u001b[0;34m*\u001b[0m\u001b[0;34m(\u001b[0m\u001b[0mstates\u001b[0m \u001b[0;34m-\u001b[0m \u001b[0;36m1\u001b[0m\u001b[0;34m/\u001b[0m\u001b[0;36m2\u001b[0m\u001b[0;34m)\u001b[0m \u001b[0;34m*\u001b[0m \u001b[0mA\u001b[0m\u001b[0;34m[\u001b[0m\u001b[0;32mNone\u001b[0m\u001b[0;34m,\u001b[0m \u001b[0;34m:\u001b[0m\u001b[0;34m]\u001b[0m \u001b[0;34m/\u001b[0m \u001b[0mN\u001b[0m\u001b[0;34m)\u001b[0m\u001b[0;34m**\u001b[0m\u001b[0;36m2\u001b[0m\u001b[0;34m\u001b[0m\u001b[0;34m\u001b[0m\u001b[0m\n\u001b[1;32m     53\u001b[0m     \u001b[0;31m#The normalized (unit “length”) eigenvectors, such that the column v[:,i] is the eigenvector corresponding to the eigenvalue w[i]\u001b[0m\u001b[0;34m\u001b[0m\u001b[0;34m\u001b[0m\u001b[0;34m\u001b[0m\u001b[0m\n\u001b[0;32m---> 54\u001b[0;31m     \u001b[0mo\u001b[0m\u001b[0;34m.\u001b[0m\u001b[0mfermion_order\u001b[0m\u001b[0;34m[\u001b[0m\u001b[0mi\u001b[0m\u001b[0;34m]\u001b[0m \u001b[0;34m=\u001b[0m \u001b[0mnp\u001b[0m\u001b[0;34m.\u001b[0m\u001b[0msum\u001b[0m\u001b[0;34m(\u001b[0m\u001b[0mfermi_function\u001b[0m\u001b[0;34m(\u001b[0m\u001b[0meigenvals\u001b[0m\u001b[0;34m,\u001b[0m \u001b[0mbeta\u001b[0m \u001b[0;34m=\u001b[0m \u001b[0;36m5\u001b[0m\u001b[0;34m)\u001b[0m \u001b[0;34m*\u001b[0m \u001b[0;34m(\u001b[0m\u001b[0mA\u001b[0m\u001b[0;34m[\u001b[0m\u001b[0;34m:\u001b[0m\u001b[0;34m,\u001b[0m \u001b[0;32mNone\u001b[0m\u001b[0;34m]\u001b[0m \u001b[0;34m*\u001b[0m \u001b[0meigenvecs\u001b[0m\u001b[0;34m)\u001b[0m\u001b[0;34m)\u001b[0m \u001b[0;34m/\u001b[0m \u001b[0mN\u001b[0m\u001b[0;34m\u001b[0m\u001b[0;34m\u001b[0m\u001b[0m\n\u001b[0m\u001b[1;32m     55\u001b[0m \u001b[0;34m\u001b[0m\u001b[0m\n\u001b[1;32m     56\u001b[0m     \u001b[0mprint\u001b[0m\u001b[0;34m(\u001b[0m\u001b[0;34mf'doing defect_density = {defect_density}, {o.fermion_order[i]}'\u001b[0m\u001b[0;34m)\u001b[0m\u001b[0;34m\u001b[0m\u001b[0;34m\u001b[0m\u001b[0m\n",
      "\u001b[0;31mValueError\u001b[0m: operands could not be broadcast together with shapes (1000,100) (1000,100,100) "
     ]
    }
   ],
   "source": [
    "from FKMC.general import interaction_matrix, solve_H_vectorised\n",
    "from FKMC.general import index_histogram_array, sort_IPRs, normalise_IPR, smooth, get_nearby_index,  compute_IPR_and_DOS_histograms, interpolate_IPR\n",
    "\n",
    "\n",
    "energy_histogram_bins = E_bins = np.linspace(-4, 4, 2000 + 1)\n",
    "\n",
    "N_states = int(1e3) # average over N_states // N replications\n",
    "Ns = np.array([40,  60,  70,  80, 100, 120, 150, 180, 220, 270])\n",
    "rng = np.random.default_rng()\n",
    "\n",
    "o = Munch(#T = 2.5 T_i = 1\n",
    "    E_bins = E_bins,\n",
    "    parameters = Munch(\n",
    "                       N = 100,\n",
    "                       beta = np.nan, \n",
    "                       U = 5,\n",
    "                       defect_densities = np.linspace(0,0.5,10),\n",
    "                       mu=0.0, \n",
    "                       t = 1,\n",
    "                       alpha = 1.25,\n",
    "                       J = 1.0\n",
    "                      ),\n",
    "    )\n",
    "\n",
    "K = len(o.parameters.defect_densities)\n",
    "# o.DOS, o.dDOS, o.IPR, o.dIPR = np.empty((4, K, 2000))\n",
    "\n",
    "o.Mf_moments = np.empty((K, 6))\n",
    "o.fermion_order = np.empty(K)\n",
    "\n",
    "def fermi_function(e, beta):\n",
    "    return 1 / (1 + np.exp(- beta * e))\n",
    "\n",
    "\n",
    "\n",
    "for i,defect_density in enumerate(o.parameters.defect_densities):\n",
    "    M = N_states\n",
    "    N = o.parameters.N\n",
    "\n",
    "    CDW = (np.arange(N)%2)[None, :]\n",
    "    disorder = rng.choice([1,0], p = [0.5,  0.5], size = (M,N))\n",
    "    defects = rng.choice([1,0], p = [defect_density, 1-defect_density], size = (M,N))\n",
    "    states = np.where(defects, disorder, CDW) #choose disorder with probability defect_density\n",
    "\n",
    "    scale = 0.5\n",
    "    o.parameters.J_matrix = interaction_matrix(**o.parameters)\n",
    "\n",
    "\n",
    "    #NB the states argument should have only 1s and 0s\n",
    "    #Fc is infinite at infinite temperature\n",
    "    Ff, Fc, eigenvals, eigenvecs = solve_H_vectorised(states, **o.parameters)\n",
    "    \n",
    "    A = 2*(np.arange(N) % 2) - 1\n",
    "    o.Mf_moments[2, i] = np.sum(2*(states - 1/2) * A[None, :] / N)**2\n",
    "    #The normalized (unit “length”) eigenvectors, such that the column v[:,i] is the eigenvector corresponding to the eigenvalue w[i]\n",
    "    o.fermion_order[i] = np.sum(fermi_function(eigenvals, beta = 5) * (A[:, None] * eigenvecs)) / N\n",
    "\n",
    "    print(f'doing defect_density = {defect_density}, {o.fermion_order[i]}')\n",
    "\n",
    "    o.parameters.J_matrix = None"
   ]
  },
  {
   "cell_type": "code",
   "execution_count": 21,
   "id": "detected-desert",
   "metadata": {},
   "outputs": [
    {
     "data": {
      "text/plain": [
       "True"
      ]
     },
     "execution_count": 21,
     "metadata": {},
     "output_type": "execute_result"
    }
   ],
   "source": [
    "np.inf == np.inf"
   ]
  },
  {
   "cell_type": "code",
   "execution_count": 19,
   "id": "competent-charger",
   "metadata": {},
   "outputs": [
    {
     "name": "stdout",
     "output_type": "stream",
     "text": [
      "no disorder, zero temp fermi function\n",
      "doing defect_density = 0.0, 0.19050375339291545\n"
     ]
    },
    {
     "name": "stderr",
     "output_type": "stream",
     "text": [
      "/Users/tom/miniconda3/envs/FKMC/lib/python3.7/site-packages/ipykernel_launcher.py:32: RuntimeWarning: overflow encountered in exp\n"
     ]
    }
   ],
   "source": [
    "print('no disorder, zero temp fermi function')\n",
    "M = N_states\n",
    "N = 100\n",
    "\n",
    "def fermi_function(e, beta):\n",
    "    if beta == np.inf:\n",
    "        return e > 0\n",
    "    return 1 / (1 + np.exp(- beta * e))\n",
    "\n",
    "states = (np.arange(N)%2)[None, :]\n",
    "\n",
    "o.parameters.J_matrix = interaction_matrix(**o.parameters)\n",
    "Ff, Fc, eigenvals, eigenvecs = solve_H_vectorised(states, **o.parameters)\n",
    "\n",
    "A = 2*(np.arange(N) % 2) - 1\n",
    "o.Mf_moments[2, i] = np.sum(2*(states - 1/2) * A[None, :] / N)**2\n",
    "#The normalized (unit “length”) eigenvectors, such that the column v[:,i] is the eigenvector corresponding to the eigenvalue w[i]\n",
    "\n",
    "o.fermion_order[i] = np.sum(fermi_function(eigenvals, beta = np.inf) * (A[:, None] * eigenvecs)) / N\n",
    "\n",
    "f = fermi_function(eigenvals, beta = 1e10)\n",
    "O = np.diag(A)\n",
    "\n",
    "#f_k psi*_ik O_ij psi_jk\n",
    "o.fermion_order[i] = np.einsum('k,ik,ij,jk', f, np.conj(eigenvecs), O, eigenvecs)\n",
    "\n",
    "print(f'doing defect_density = {defect_density}, {o.fermion_order[i]}')"
   ]
  },
  {
   "cell_type": "code",
   "execution_count": null,
   "id": "familiar-individual",
   "metadata": {},
   "outputs": [],
   "source": [
    "np.diag(np.ones(3))"
   ]
  },
  {
   "cell_type": "code",
   "execution_count": 16,
   "id": "apparent-blair",
   "metadata": {},
   "outputs": [
    {
     "ename": "TypeError",
     "evalue": "zip argument #3 must support iteration",
     "output_type": "error",
     "traceback": [
      "\u001b[0;31m---------------------------------------------------------------------------\u001b[0m",
      "\u001b[0;31mTypeError\u001b[0m                                 Traceback (most recent call last)",
      "\u001b[0;32m<ipython-input-16-e3b07d631815>\u001b[0m in \u001b[0;36m<module>\u001b[0;34m\u001b[0m\n\u001b[1;32m      3\u001b[0m     \u001b[0md\u001b[0m \u001b[0;34m=\u001b[0m \u001b[0moBinder\u001b[0m \u001b[0;34m=\u001b[0m \u001b[0mMunch\u001b[0m\u001b[0;34m(\u001b[0m\u001b[0mpickle\u001b[0m\u001b[0;34m.\u001b[0m\u001b[0mload\u001b[0m\u001b[0;34m(\u001b[0m\u001b[0mfile\u001b[0m\u001b[0;34m)\u001b[0m\u001b[0;34m)\u001b[0m\u001b[0;34m\u001b[0m\u001b[0;34m\u001b[0m\u001b[0m\n\u001b[1;32m      4\u001b[0m \u001b[0;34m\u001b[0m\u001b[0m\n\u001b[0;32m----> 5\u001b[0;31m \u001b[0;32mfor\u001b[0m \u001b[0mi\u001b[0m\u001b[0;34m,\u001b[0m \u001b[0mN\u001b[0m\u001b[0;34m,\u001b[0m \u001b[0mc\u001b[0m \u001b[0;32min\u001b[0m \u001b[0mzip\u001b[0m\u001b[0;34m(\u001b[0m\u001b[0mcount\u001b[0m\u001b[0;34m(\u001b[0m\u001b[0;34m)\u001b[0m\u001b[0;34m,\u001b[0m \u001b[0md\u001b[0m\u001b[0;34m.\u001b[0m\u001b[0mNs\u001b[0m\u001b[0;34m,\u001b[0m \u001b[0mcolors\u001b[0m\u001b[0;34m)\u001b[0m\u001b[0;34m:\u001b[0m\u001b[0;34m\u001b[0m\u001b[0;34m\u001b[0m\u001b[0m\n\u001b[0m\u001b[1;32m      6\u001b[0m \u001b[0;34m\u001b[0m\u001b[0m\n\u001b[1;32m      7\u001b[0m     \u001b[0md\u001b[0m\u001b[0;34m.\u001b[0m\u001b[0mdM2\u001b[0m\u001b[0;34m[\u001b[0m\u001b[0mi\u001b[0m\u001b[0;34m]\u001b[0m \u001b[0;34m=\u001b[0m \u001b[0mnp\u001b[0m\u001b[0;34m.\u001b[0m\u001b[0mmaximum\u001b[0m\u001b[0;34m(\u001b[0m\u001b[0md\u001b[0m\u001b[0;34m.\u001b[0m\u001b[0mdM2\u001b[0m\u001b[0;34m[\u001b[0m\u001b[0mi\u001b[0m\u001b[0;34m]\u001b[0m\u001b[0;34m,\u001b[0m \u001b[0md\u001b[0m\u001b[0;34m.\u001b[0m\u001b[0mdM2\u001b[0m\u001b[0;34m[\u001b[0m\u001b[0mi\u001b[0m\u001b[0;34m]\u001b[0m\u001b[0;34m.\u001b[0m\u001b[0mmean\u001b[0m\u001b[0;34m(\u001b[0m\u001b[0;34m)\u001b[0m \u001b[0;34m*\u001b[0m \u001b[0;36m0.1\u001b[0m\u001b[0;34m)\u001b[0m\u001b[0;34m\u001b[0m\u001b[0;34m\u001b[0m\u001b[0m\n",
      "\u001b[0;31mTypeError\u001b[0m: zip argument #3 must support iteration"
     ]
    }
   ],
   "source": [
    "data_location = Path('~/HPC_data/pickled_data').expanduser()\n",
    "with open(data_location / 'binder_data.pickle', 'rb') as file: \n",
    "    d = oBinder = Munch(pickle.load(file))\n",
    "\n",
    "for i, N, c in zip(count(), d.Ns, colors):\n",
    "    \n",
    "    d.dM2[i] = np.maximum(d.dM2[i], d.dM2[i].mean() * 0.1)\n",
    "    M_interped = UnivariateSpline(d.MX, d.M2[i], w = 1/(d.dM2[i] + 0.01*max(d.dM2[i])), s = len(d.MX))\n",
    "\n",
    "    x = np.linspace(d.MX[0], d.MX[-1], 200)\n",
    "    ax.plot(x, M_interped(x), color = c)\n",
    "\n",
    "    ax.set_ylabel('$m^2$', rotation=0, labelpad=7)\n",
    "    ax.set_xlabel('T', rotation=0, labelpad=5)"
   ]
  },
  {
   "cell_type": "code",
   "execution_count": 146,
   "id": "french-friendly",
   "metadata": {},
   "outputs": [
    {
     "name": "stdout",
     "output_type": "stream",
     "text": [
      "doing N = 10\n",
      "doing N = 20\n",
      "doing N = 30\n",
      "doing N = 50\n",
      "doing N = 70\n",
      "doing N = 110\n",
      "doing N = 160\n",
      "doing N = 250\n"
     ]
    }
   ],
   "source": [
    "columnwidth = 246/72.27\n",
    "plt.style.use('../custom.mplstyle')\n",
    "from customcolors import colors, colors10, custom_cmap\n",
    "\n",
    "np.seterr(under = 'ignore')\n",
    "\n",
    "#data_location = Path('/data/users/tch14/pickled_data')\n",
    "#figure_location = Path('/home/tch14/workspace/fake_home/Dropbox/Apps/Overleaf/Short Paper/figs')\n",
    "\n",
    "data_location = Path('~/HPC_data/pickled_data').expanduser()\n",
    "#figure_location = Path('~/DropBox/Apps/Overleaf/Short Paper/figs/').expanduser()\n",
    "figure_location = Path('~/git/FK_short_paper/figs').expanduser()\n",
    "\n",
    "width = columnwidth\n",
    "height =  columnwidth / 2\n",
    "\n",
    "def fermion_order_param(N, beta, defect_density, M = 300):\n",
    "    CDW = (np.arange(N)%2)[None, :]\n",
    "    disorder = rng.choice([1,0], p = [0.5,  0.5], size = (M,N))\n",
    "    defects = rng.choice([1,0], p = [defect_density, 1-defect_density], size = (M,N))\n",
    "    states = np.where(defects, disorder, CDW) #choose disorder with probability defect_density\n",
    "\n",
    "    \n",
    "    o = Munch(#T = 2.5 T_i = 1\n",
    "        E_bins = E_bins,\n",
    "        parameters = Munch(\n",
    "                           N = N,\n",
    "                           beta = np.nan, \n",
    "                           U = 5,\n",
    "                           defect_densities = np.linspace(0,0.5,10),\n",
    "                           mu=0.0, \n",
    "                           t = 1,\n",
    "                           alpha = 1.25,\n",
    "                           J = 1.0\n",
    "                          ),\n",
    "        )\n",
    "    o.parameters.J_matrix = interaction_matrix(**o.parameters)\n",
    "    Ff, Fc, eigenvals, eigenvecs = solve_H_vectorised(states, **o.parameters)\n",
    "\n",
    "    A = 2*(np.arange(N) % 2) - 1\n",
    "    f = fermi_function(eigenvals, beta = beta)\n",
    "    fermion_order_samples = np.einsum('...k,i,...ik', f, A, np.conj(eigenvecs)*eigenvecs) / N * 2\n",
    "    fermion_order = np.mean(fermion_order_samples)\n",
    "    dfermion_order = sem(fermion_order_samples)\n",
    "\n",
    "    return fermion_order, dfermion_order\n",
    "\n",
    "from scipy.interpolate import interp1d, UnivariateSpline\n",
    "from scipy.stats import sem\n",
    "\n",
    "with open(data_location / 'binder_data.pickle', 'rb') as file: \n",
    "    d = oBinder = Munch(pickle.load(file))\n",
    "\n",
    "fermion = Munch()\n",
    "fermion.o = np.zeros_like(d.M2)\n",
    "fermion.do = np.zeros_like(d.M2)\n",
    "\n",
    "for i, N in enumerate(d.Ns):\n",
    "    print(f\"doing N = {N}\")\n",
    "    dM2 = np.maximum(d.dM2[i], d.dM2[i].mean() * 0.1)\n",
    "    M_interped = UnivariateSpline(d.MX, d.M2[i], w = 1/(dM2 + 0.01*max(dM2)), s = len(d.MX))\n",
    "\n",
    "    f_order_param = np.empty(len(d.M2[i]))\n",
    "    for j in range(len(d.MX)):\n",
    "        T = d.MX[j]\n",
    "        beta = 1/T\n",
    "        m2 = M_interped(T)\n",
    "        defect_density = 1 - min(np.sqrt(m2), 1) \n",
    "#         print(f\"{T}, {beta}, {defect_density}\")\n",
    "        fermion.o[i, j], fermion.do[i, j]  = fermion_order_param(N, beta, defect_density, M = np.int(1e5/N))\n",
    "    "
   ]
  },
  {
   "cell_type": "code",
   "execution_count": 150,
   "id": "detected-point",
   "metadata": {},
   "outputs": [],
   "source": [
    "with open(data_location / 'fermion_binder_data.pickle', 'wb') as file: \n",
    "    pickle.dump(fermion, file)"
   ]
  },
  {
   "cell_type": "code",
   "execution_count": 152,
   "id": "british-advertising",
   "metadata": {},
   "outputs": [
    {
     "data": {
      "image/png": "[encoded data removed]",
      "text/plain": [
       "<Figure size 680.8x680.8 with 1 Axes>"
      ]
     },
     "metadata": {
      "needs_background": "light"
     },
     "output_type": "display_data"
    }
   ],
   "source": [
    "def orderparam(ax):\n",
    "    with open(data_location / 'binder_data.pickle', 'rb') as file: \n",
    "        d = oBinder = Munch(pickle.load(file))\n",
    "    \n",
    "    with open(data_location / 'fermion_binder_data.pickle', 'rb') as file: \n",
    "        fermion = Munch(pickle.load(file))\n",
    "    \n",
    "    for i, N, c in zip(count(), d.Ns, colors):\n",
    "        d.dM2[i] = np.maximum(d.dM2[i], d.dM2[i].mean() * 0.1)\n",
    "        M_interped = UnivariateSpline(d.MX, d.M2[i], w = 1/(d.dM2[i] + 0.01*max(d.dM2[i])), s = len(d.MX))\n",
    "        #axes[0].plot(d.MX, d.M2[i], linewidth = 1, color = c)\n",
    "        #axes[0].errorbar(d.MX, d.M2[i], yerr = d.dM2[i] * 2, color = c, linestyle = \"None\", marker = '|', markersize = 0.5, label = f'N = {N}')\n",
    "\n",
    "        x = np.linspace(d.MX[0], d.MX[-1], 200)\n",
    "        \n",
    "        ax.plot(x, M_interped(x), color = c)\n",
    "        \n",
    "        fermion.do[i] = np.maximum(fermion.do[i], fermion.do[i].mean() * 0.1)\n",
    "        o_interped = UnivariateSpline(d.MX, fermion.o[i], w = 1/fermion.do[i], s = len(d.MX))\n",
    "        ax.plot(x, 1 - o_interped(x), color = c,linestyle = '--')\n",
    "        #spread(axes[0], d.MX, d.M2[i], d.dM2[i], alpha = 0.3, label = f'N = {N}', color = color)\n",
    "        \n",
    "        ax.set_ylabel('$m^2$', rotation=0, labelpad=7)\n",
    "        ax.set_xlabel('T', rotation=0, labelpad=5)\n",
    "    \n",
    "\n",
    "        \n",
    "f, ax = plt.subplots()\n",
    "orderparam(ax)"
   ]
  },
  {
   "cell_type": "code",
   "execution_count": 153,
   "id": "floppy-editor",
   "metadata": {},
   "outputs": [
    {
     "data": {
      "text/plain": [
       "array([0, 1, 2, 3])"
      ]
     },
     "execution_count": 153,
     "metadata": {},
     "output_type": "execute_result"
    }
   ],
   "source": [
    "np.insert([1,2,3], 0, 0)"
   ]
  },
  {
   "cell_type": "code",
   "execution_count": null,
   "id": "unique-wesley",
   "metadata": {},
   "outputs": [],
   "source": []
  }
 ],
 "metadata": {
  "kernelspec": {
   "display_name": "Python [conda env:FKMC]",
   "language": "python",
   "name": "conda-env-FKMC-py"
  },
  "language_info": {
   "codemirror_mode": {
    "name": "ipython",
    "version": 3
   },
   "file_extension": ".py",
   "mimetype": "text/x-python",
   "name": "python",
   "nbconvert_exporter": "python",
   "pygments_lexer": "ipython3",
   "version": "3.7.9"
  }
 },
 "nbformat": 4,
 "nbformat_minor": 5
}
