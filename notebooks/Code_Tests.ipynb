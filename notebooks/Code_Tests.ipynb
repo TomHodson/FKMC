{
 "cells": [
  {
   "cell_type": "code",
   "execution_count": 24,
   "metadata": {},
   "outputs": [
    {
     "name": "stdout",
     "output_type": "stream",
     "text": [
      "The autoreload extension is already loaded. To reload it, use:\n",
      "  %reload_ext autoreload\n"
     ]
    }
   ],
   "source": [
    "import numpy as np\n",
    "from matplotlib import pyplot as plt\n",
    "import timeit\n",
    "\n",
    "%matplotlib inline\n",
    "%load_ext autoreload\n",
    "%autoreload 2"
   ]
  },
  {
   "cell_type": "code",
   "execution_count": 25,
   "metadata": {},
   "outputs": [],
   "source": [
    "import h5py\n",
    "from pathlib import Path\n",
    "from FKMC.jobmanager import *"
   ]
  },
  {
   "cell_type": "code",
   "execution_count": 46,
   "metadata": {},
   "outputs": [
    {
     "name": "stdout",
     "output_type": "stream",
     "text": [
      "INFO:FKMC.jobmanager:Working in: ../data/test\n",
      "INFO:FKMC.jobmanager:Sample results:\n",
      "INFO:FKMC.jobmanager:['montecarlo.cpython-36m-x86_64-linux-gnu.so', 'shared_mcmc_routines.cpython-36m-x86_64-linux-gnu.so', 'CMTH_runscript.sh', 'jobmanager.py', '__init__.py', '__pycache__', 'stats.py', 'montecarlo.c', 'wrapped_C_functions.c', 'shared_mcmc_routines.c', 'quantum_montecarlo.cpython-36m-x86_64-linux-gnu.so', 'quantum_montecarlo.c', 'CX1_runscript.sh', 'wrapped_C_functions.cpython-36m-x86_64-linux-gnu.so']\n",
      "#!/usr/bin/env bash\n",
      "#PBS -N test\n",
      "#PBS -lselect=1:ncpus=1:mem=4gb:avx=true\n",
      "#PBS -lwalltime=24:00:00\n",
      "#PBS -J 1-1\n",
      "#PBS -j oe\n",
      "\n",
      "echo ------------------------------------------------------\n",
      "echo -n 'Job is running on node '; cat $PBS_NODEFILE\n",
      "echo ------------------------------------------------------\n",
      "echo PBS: qsub is running on $PBS_O_HOST\n",
      "echo PBS: originating queue is $PBS_O_QUEUE\n",
      "echo PBS: executing queue is $PBS_QUEUE\n",
      "echo PBS: working directory is $PBS_O_WORKDIR\n",
      "echo PBS: execution mode is $PBS_ENVIRONMENT\n",
      "echo PBS: job identifier is $PBS_JOBID\n",
      "echo PBS: job name is $PBS_JOBNAME\n",
      "echo PBS: node file is $PBS_NODEFILE\n",
      "echo PBS: current home directory is $PBS_O_HOME\n",
      "echo PBS: PATH = $PBS_O_PATH\n",
      "echo ------------------------------------------------------\n",
      "\n",
      "module load intel-suite anaconda3/personal\n",
      ". /home/tch14/anaconda3/etc/profile.d/conda.sh\n",
      "conda activate idp\n",
      "\n",
      "cd /workspace/tch14/FKMC/data/test\n",
      "let \"JOB_ID = PBS_ARRAY_INDEX - 1\"\n",
      "run_mcmc --job-id $JOB_ID --temp-dir $TMPDIR --working-dir ./\n",
      "#!/bin/bash\n",
      "\n",
      "#SBATCH --job-name test\n",
      "#SBATCH --time 0-10:00:00\n",
      "#SBATCH --mail-type END\n",
      "#SBATCH --mail-user tch14@imperial.ac.uk\n",
      "#SBATCH --partition tch14\n",
      "#SBATCH --constraint avx\n",
      "#SBATCH --mem 2G\n",
      "\n",
      "# Create a local directory to run in.\n",
      "scratch=/workspace/$USER/scratch/$SLURM_JOB_ID\n",
      "mkdir -p $scratch\n",
      "\n",
      "echo Executing in $scratch on $(hostname)\n",
      "\n",
      ". /workspace/tch14/miniconda3/etc/profile.d/conda.sh\n",
      "conda activate cmth_intelpython3\n",
      "\n",
      "cd /workspace/tch14/FKMC/data/test\n",
      "let \"JOB_ID = PBS_ARRAY_INDEX - 1\"\n",
      "run_mcmc --job-id $JOB_ID --temp-dir $scratch --working-dir ./\n",
      "\n",
      "# Copy back to submit directory. This is wrapped in an if statement so the\n",
      "# working copy is only cleaned up if it has been copied back.\n",
      "if cp output $SLURM_SUBMIT_DIR\n",
      "then\n",
      "  # Clean up.\n",
      "  rm -rf $scratch\n",
      "else\n",
      "  echo \"Copy failed. Data retained in $scratch on $(hostname)\"\n",
      "fi\n"
     ]
    },
    {
     "name": "stderr",
     "output_type": "stream",
     "text": [
      "/workspace/tch14/conda-envs/cmth_intelpython3/lib/python3.6/site-packages/FKMC/stats.py:8: RuntimeWarning: Degrees of freedom <= 0 for slice\n",
      "  return np.sqrt(np.mean(np.split(O, M), axis = -1).var(ddof = 1) / M)\n",
      "/workspace/tch14/conda-envs/cmth_intelpython3/lib/python3.6/site-packages/numpy/core/_methods.py:132: RuntimeWarning: invalid value encountered in double_scalars\n",
      "  ret = ret.dtype.type(ret / rcount)\n"
     ]
    },
    {
     "data": {
      "text/plain": [
       "{'mcmc_routine': 'quantum_cython_mcmc',\n",
       " 'N_steps': 500,\n",
       " 'bins': 1,\n",
       " 'N_burn_in': 100,\n",
       " 'N_system': array([16, 32, 64]),\n",
       " 'mu': 0,\n",
       " 'beta': 0.9,\n",
       " 'U': 5,\n",
       " 'V': -1,\n",
       " 'alpha': 1.5,\n",
       " 'outer_loop': array([], dtype=object),\n",
       " 'inner_loop': array(['N_system'], dtype=object),\n",
       " 'quantum': True,\n",
       " 'output_history': False,\n",
       " 'output_correlator': False,\n",
       " 'output_state': False,\n",
       " 'energy_max': 8,\n",
       " 'energy_min': -8,\n",
       " 'N_energy_bins': 500}"
      ]
     },
     "execution_count": 46,
     "metadata": {},
     "output_type": "execute_result"
    }
   ],
   "source": [
    "config = dict(\n",
    "              mcmc_routine='quantum_cython_mcmc',\n",
    "              N_steps = 500,\n",
    "              bins = 1,\n",
    "              N_burn_in = 100,\n",
    "              N_system = np.array([16,32,64]),\n",
    "              mu = 0,\n",
    "              beta = 0.9,\n",
    "              U = 5,\n",
    "              V = -1,\n",
    "              alpha= 1.5,\n",
    "              outer_loop = np.array([], dtype=h5py.special_dtype(vlen=str)),\n",
    "              inner_loop = np.array(['N_system'], dtype=h5py.special_dtype(vlen=str)),\n",
    "              quantum = True,\n",
    "              output_history = False,\n",
    "              output_correlator = False,\n",
    "              output_state = False,\n",
    "              energy_max = 8,\n",
    "              energy_min = -8,\n",
    "              N_energy_bins = 500,\n",
    "            )\n",
    "\n",
    "working_dir = Path('../data/test')\n",
    "setup_mcmc(config, working_dir, overwrite = True)\n",
    "\n",
    "config = read_config_file(working_dir)\n",
    "config"
   ]
  },
  {
   "cell_type": "code",
   "execution_count": 47,
   "metadata": {},
   "outputs": [
    {
     "name": "stdout",
     "output_type": "stream",
     "text": [
      "INFO:FKMC.jobmanager:job_id: 0\n",
      "INFO:FKMC.jobmanager:This jobs outer_config is {'outer_loop_index': 0, 'outer_loop_indices': ()}\n",
      "INFO:FKMC.jobmanager:Starting MCMC routine <built-in function quantum_cython_mcmc> inner loop\n",
      "INFO:FKMC.jobmanager:Since it's the first one, creating the datasets:\n",
      "INFO:FKMC.jobmanager:Done: Inner Job: 0 indices: (0,) runtime: 0.71 seconds\n"
     ]
    },
    {
     "name": "stderr",
     "output_type": "stream",
     "text": [
      "/workspace/tch14/conda-envs/cmth_intelpython3/lib/python3.6/site-packages/FKMC/stats.py:8: RuntimeWarning: Degrees of freedom <= 0 for slice\n",
      "  return np.sqrt(np.mean(np.split(O, M), axis = -1).var(ddof = 1) / M)\n",
      "/workspace/tch14/conda-envs/cmth_intelpython3/lib/python3.6/site-packages/numpy/core/_methods.py:132: RuntimeWarning: invalid value encountered in double_scalars\n",
      "  ret = ret.dtype.type(ret / rcount)\n"
     ]
    },
    {
     "name": "stdout",
     "output_type": "stream",
     "text": [
      "INFO:FKMC.jobmanager:Done: Inner Job: 1 indices: (1,) runtime: 2.13 seconds\n",
      "INFO:FKMC.jobmanager:Done: Inner Job: 2 indices: (2,) runtime: 13.10 seconds\n",
      "INFO:FKMC.jobmanager:MCMC routine finished after 15.95 seconds\n",
      "DONE!\n",
      "CPU times: user 54.7 s, sys: 648 ms, total: 55.4 s\n",
      "Wall time: 16 s\n"
     ]
    }
   ],
   "source": [
    "%%time\n",
    "from FKMC.jobmanager import outer_loop_shape\n",
    "logging.getLogger().setLevel(logging.INFO)\n",
    "\n",
    "working_dir = Path('../data/test')\n",
    "config = read_config_file(working_dir)\n",
    "outer_job_length = outer_loop_shape(config).prod()\n",
    "\n",
    "for job_id in range(outer_job_length):\n",
    "    run_mcmc(job_id, working_dir = working_dir, overwrite = True)\n",
    "print('DONE!')"
   ]
  },
  {
   "cell_type": "code",
   "execution_count": 48,
   "metadata": {},
   "outputs": [
    {
     "name": "stdout",
     "output_type": "stream",
     "text": [
      "INFO:FKMC.jobmanager:copied_in wasn't in config, initialising it\n",
      "INFO:FKMC.jobmanager:Number of Jobs to copy in: 1\n",
      "INFO:FKMC.jobmanager:Job IDs: [0]...\n",
      "INFO:FKMC.jobmanager:missing : []\n",
      "INFO:FKMC.jobmanager:Jobs attempted this time: 1\n",
      "INFO:FKMC.jobmanager:Overall completion: 1.0 / (1.0, 3)\n",
      "INFO:FKMC.jobmanager:File size: 0.00Gb\n",
      "CPU times: user 108 ms, sys: 0 ns, total: 108 ms\n",
      "Wall time: 26.8 ms\n"
     ]
    }
   ],
   "source": [
    "%%time\n",
    "#the problem is that the correlator is a different shape for each value of N_system,\n",
    "\n",
    "import logging\n",
    "logging.getLogger().setLevel(logging.INFO)\n",
    "\n",
    "gather_mcmc(working_dir, do_all = True)"
   ]
  },
  {
   "cell_type": "code",
   "execution_count": 49,
   "metadata": {},
   "outputs": [
    {
     "name": "stdout",
     "output_type": "stream",
     "text": [
      "['IPR_histogram', 'classical_energies_moments', 'classical_energies_moments_err', 'flag_6', 'magnetisations_moments', 'magnetisations_moments_err', 'numbers_moments', 'numbers_moments_err', 'q_energy_bounds', 'q_energy_histogram', 'q_energy_histogram_bins', 'quantum_energies_moments', 'quantum_energies_moments_err', 'runtime']\n",
      "[]\n",
      "['N_system']\n"
     ]
    },
    {
     "ename": "TypeError",
     "evalue": "'numpy.int64' object is not iterable",
     "output_type": "error",
     "traceback": [
      "\u001b[0;31m---------------------------------------------------------------------------\u001b[0m",
      "\u001b[0;31mTypeError\u001b[0m                                 Traceback (most recent call last)",
      "\u001b[0;32m<ipython-input-49-b1481e383070>\u001b[0m in \u001b[0;36m<module>\u001b[0;34m()\u001b[0m\n\u001b[1;32m     19\u001b[0m         \u001b[0mf\u001b[0m\u001b[0;34m,\u001b[0m \u001b[0;34m(\u001b[0m\u001b[0mEax\u001b[0m\u001b[0;34m,\u001b[0m \u001b[0mIax\u001b[0m\u001b[0;34m)\u001b[0m \u001b[0;34m=\u001b[0m \u001b[0mplt\u001b[0m\u001b[0;34m.\u001b[0m\u001b[0msubplots\u001b[0m\u001b[0;34m(\u001b[0m\u001b[0;36m2\u001b[0m\u001b[0;34m,\u001b[0m\u001b[0;36m1\u001b[0m\u001b[0;34m,\u001b[0m \u001b[0mfigsize\u001b[0m \u001b[0;34m=\u001b[0m \u001b[0;34m(\u001b[0m\u001b[0;36m10\u001b[0m\u001b[0;34m,\u001b[0m\u001b[0;36m5\u001b[0m\u001b[0;34m)\u001b[0m\u001b[0;34m,\u001b[0m \u001b[0msharex\u001b[0m \u001b[0;34m=\u001b[0m \u001b[0;34m'col'\u001b[0m\u001b[0;34m)\u001b[0m\u001b[0;34m\u001b[0m\u001b[0m\n\u001b[1;32m     20\u001b[0m         \u001b[0mUindx\u001b[0m \u001b[0;34m=\u001b[0m \u001b[0;36m0\u001b[0m\u001b[0;34m\u001b[0m\u001b[0m\n\u001b[0;32m---> 21\u001b[0;31m         \u001b[0;32mfor\u001b[0m \u001b[0mi\u001b[0m\u001b[0;34m,\u001b[0m\u001b[0mU\u001b[0m \u001b[0;32min\u001b[0m \u001b[0menumerate\u001b[0m\u001b[0;34m(\u001b[0m\u001b[0mconfig\u001b[0m\u001b[0;34m.\u001b[0m\u001b[0mU\u001b[0m\u001b[0;34m)\u001b[0m\u001b[0;34m:\u001b[0m\u001b[0;34m\u001b[0m\u001b[0m\n\u001b[0m\u001b[1;32m     22\u001b[0m             \u001b[0mEax\u001b[0m\u001b[0;34m.\u001b[0m\u001b[0mplot\u001b[0m\u001b[0;34m(\u001b[0m\u001b[0mr\u001b[0m\u001b[0;34m.\u001b[0m\u001b[0mq_energy_histogram_bins\u001b[0m\u001b[0;34m[\u001b[0m\u001b[0;36m0\u001b[0m\u001b[0;34m,\u001b[0m\u001b[0;34m:\u001b[0m\u001b[0;34m-\u001b[0m\u001b[0;36m1\u001b[0m\u001b[0;34m]\u001b[0m \u001b[0;34m-\u001b[0m \u001b[0mconfig\u001b[0m\u001b[0;34m.\u001b[0m\u001b[0mU\u001b[0m\u001b[0;34m[\u001b[0m\u001b[0;36m0\u001b[0m\u001b[0;34m]\u001b[0m\u001b[0;34m/\u001b[0m\u001b[0;36m2\u001b[0m\u001b[0;34m,\u001b[0m  \u001b[0mr\u001b[0m\u001b[0;34m.\u001b[0m\u001b[0mq_energy_histogram\u001b[0m\u001b[0;34m[\u001b[0m\u001b[0;36m0\u001b[0m\u001b[0;34m,\u001b[0m\u001b[0;34m:\u001b[0m\u001b[0;34m]\u001b[0m\u001b[0;34m,\u001b[0m \u001b[0mlabel\u001b[0m \u001b[0;34m=\u001b[0m \u001b[0;34mf'Energy {i}'\u001b[0m\u001b[0;34m)\u001b[0m\u001b[0;34m\u001b[0m\u001b[0m\n\u001b[1;32m     23\u001b[0m             \u001b[0mIax\u001b[0m\u001b[0;34m.\u001b[0m\u001b[0mplot\u001b[0m\u001b[0;34m(\u001b[0m\u001b[0mr\u001b[0m\u001b[0;34m.\u001b[0m\u001b[0mq_energy_histogram_bins\u001b[0m\u001b[0;34m[\u001b[0m\u001b[0;36m0\u001b[0m\u001b[0;34m,\u001b[0m\u001b[0;34m:\u001b[0m\u001b[0;34m-\u001b[0m\u001b[0;36m1\u001b[0m\u001b[0;34m]\u001b[0m \u001b[0;34m-\u001b[0m \u001b[0mconfig\u001b[0m\u001b[0;34m.\u001b[0m\u001b[0mU\u001b[0m\u001b[0;34m[\u001b[0m\u001b[0;36m0\u001b[0m\u001b[0;34m]\u001b[0m\u001b[0;34m/\u001b[0m\u001b[0;36m2\u001b[0m\u001b[0;34m,\u001b[0m  \u001b[0mr\u001b[0m\u001b[0;34m.\u001b[0m\u001b[0mIPR_histogram\u001b[0m\u001b[0;34m[\u001b[0m\u001b[0;36m0\u001b[0m\u001b[0;34m,\u001b[0m\u001b[0;34m:\u001b[0m\u001b[0;34m]\u001b[0m\u001b[0;34m,\u001b[0m \u001b[0mlabel\u001b[0m \u001b[0;34m=\u001b[0m \u001b[0;34mf'Energy {i}'\u001b[0m\u001b[0;34m)\u001b[0m\u001b[0;34m\u001b[0m\u001b[0m\n",
      "\u001b[0;31mTypeError\u001b[0m: 'numpy.int64' object is not iterable"
     ]
    },
    {
     "data": {
      "image/png": "[encoded data removed]",
      "text/plain": [
       "<Figure size 720x360 with 2 Axes>"
      ]
     },
     "metadata": {},
     "output_type": "display_data"
    }
   ],
   "source": [
    "class objectview(object):\n",
    "    def __init__(self, dict_like):\n",
    "        self.dict_like = dict_like\n",
    "\n",
    "    def __getattr__(self, name):\n",
    "        return self.dict_like[name]\n",
    "\n",
    "result_filename = working_dir / 'results.hdf5'\n",
    "with h5py.File(result_filename, 'r') as data:\n",
    "        r = objectview(data)\n",
    "        config = objectview(data.attrs)\n",
    "        \n",
    "        print(list(data.keys()))\n",
    "        print(data.attrs['outer_loop'])\n",
    "        print(data.attrs['inner_loop'])\n",
    "        \n",
    "        betas = data.attrs['beta']\n",
    "    \n",
    "        f, (Eax, Iax) = plt.subplots(2,1, figsize = (10,5), sharex = 'col')\n",
    "        Uindx = 0\n",
    "        for i,U in enumerate(config.U):\n",
    "            Eax.plot(r.q_energy_histogram_bins[0,:-1] - config.U[0]/2,  r.q_energy_histogram[0,:], label = f'Energy {i}')\n",
    "            Iax.plot(r.q_energy_histogram_bins[0,:-1] - config.U[0]/2,  r.IPR_histogram[0,:], label = f'Energy {i}')\n",
    "        \n",
    "        Eax.legend()\n",
    "        Iax.set(xlim=(-4,5))"
   ]
  },
  {
   "cell_type": "code",
   "execution_count": null,
   "metadata": {},
   "outputs": [],
   "source": [
    "with h5py.File(result_filename, 'r') as data:\n",
    "        r = objectview(data)\n",
    "        config = objectview(data.attrs)\n",
    "        print(print([dim.label for dim in r.numbers_moments.dims]))\n",
    "\n",
    "        f, axes = plt.subplots(config.beta.size,1, figsize = (10,10), sharex = 'col')\n",
    "        Uindx = 0\n",
    "        for j,beta in enumerate(config.beta):\n",
    "            for i,N in enumerate(config.N_system):\n",
    "                axes[j].plot(r.q_energy_histogram_bins[i,Uindx,j,:-1]  - config.U[Uindx]/2,  r.q_energy_histogram[i,Uindx,j,:], label = N)\n",
    "                axes[j].set(title = f'{beta}', xlim = (-4,4))\n",
    "        axes[0].legend()\n",
    "        #axes.set(ylim=(-1,100))"
   ]
  }
 ],
 "metadata": {
  "kernelspec": {
   "display_name": "Python3 (conda intel) #2",
   "language": "python",
   "name": "cmth_intelpython3"
  },
  "language_info": {
   "codemirror_mode": {
    "name": "ipython",
    "version": 3
   },
   "file_extension": ".py",
   "mimetype": "text/x-python",
   "name": "python",
   "nbconvert_exporter": "python",
   "pygments_lexer": "ipython3",
   "version": "3.6.8"
  }
 },
 "nbformat": 4,
 "nbformat_minor": 2
}
