{
 "cells": [
  {
   "cell_type": "code",
   "execution_count": 1,
   "metadata": {},
   "outputs": [],
   "source": [
    "import numpy as np\n",
    "from matplotlib import pyplot as plt\n",
    "import timeit\n",
    "\n",
    "%matplotlib inline\n",
    "%load_ext autoreload\n",
    "%autoreload 2"
   ]
  },
  {
   "cell_type": "code",
   "execution_count": 2,
   "metadata": {},
   "outputs": [],
   "source": [
    "import h5py\n",
    "from pathlib import Path\n",
    "from FKMC.jobmanager import *"
   ]
  },
  {
   "cell_type": "code",
   "execution_count": 3,
   "metadata": {},
   "outputs": [
    {
     "name": "stdout",
     "output_type": "stream",
     "text": [
      "INFO:FKMC.jobmanager:Working in: ../data/test\n",
      "INFO:FKMC.jobmanager:Sample results:\n",
      "INFO:FKMC.jobmanager:flag_6: array(shape=(2,), dtype=int64)\n",
      "INFO:FKMC.jobmanager:classical_energies_moments: array(shape=(9,), dtype=float64)\n",
      "INFO:FKMC.jobmanager:numbers_moments: array(shape=(9,), dtype=float64)\n",
      "INFO:FKMC.jobmanager:magnetisations_moments: array(shape=(9,), dtype=float64)\n",
      "INFO:FKMC.jobmanager:quantum_energies_moments: array(shape=(9,), dtype=float64)\n",
      "INFO:FKMC.jobmanager:classical_energies_moments_err: array(shape=(9,), dtype=float64)\n",
      "INFO:FKMC.jobmanager:numbers_moments_err: array(shape=(9,), dtype=float64)\n",
      "INFO:FKMC.jobmanager:magnetisations_moments_err: array(shape=(9,), dtype=float64)\n",
      "INFO:FKMC.jobmanager:quantum_energies_moments_err: array(shape=(9,), dtype=float64)\n",
      "INFO:FKMC.jobmanager:q_energy_histogram: array(shape=(200,), dtype=float64)\n",
      "INFO:FKMC.jobmanager:IPR_histogram: array(shape=(200,), dtype=float64)\n",
      "INFO:FKMC.jobmanager:q_energy_histogram_bins: array(shape=(201,), dtype=float64)\n",
      "INFO:FKMC.jobmanager:q_energy_bounds: array(shape=(2,), dtype=int64)\n",
      "INFO:FKMC.jobmanager:runtime: array(shape=(1,), dtype=int64)\n",
      "INFO:FKMC.jobmanager:['montecarlo.cpython-36m-x86_64-linux-gnu.so', 'shared_mcmc_routines.cpython-36m-x86_64-linux-gnu.so', 'CMTH_runscript.sh', 'jobmanager.py', '__init__.py', '__pycache__', 'stats.py', 'montecarlo.c', 'wrapped_C_functions.c', 'shared_mcmc_routines.c', 'quantum_montecarlo.cpython-36m-x86_64-linux-gnu.so', 'quantum_montecarlo.c', 'CX1_runscript.sh', 'wrapped_C_functions.cpython-36m-x86_64-linux-gnu.so']\n",
      "#!/usr/bin/env bash\n",
      "#PBS -N test\n",
      "#PBS -lselect=1:ncpus=1:mem=4gb:avx=true\n",
      "#PBS -lwalltime=24:00:00\n",
      "#PBS -J 1-2\n",
      "#PBS -j oe\n",
      "\n",
      "echo ------------------------------------------------------\n",
      "echo -n 'Job is running on node '; cat $PBS_NODEFILE\n",
      "echo ------------------------------------------------------\n",
      "echo PBS: qsub is running on $PBS_O_HOST\n",
      "echo PBS: originating queue is $PBS_O_QUEUE\n",
      "echo PBS: executing queue is $PBS_QUEUE\n",
      "echo PBS: working directory is $PBS_O_WORKDIR\n",
      "echo PBS: execution mode is $PBS_ENVIRONMENT\n",
      "echo PBS: job identifier is $PBS_JOBID\n",
      "echo PBS: job name is $PBS_JOBNAME\n",
      "echo PBS: node file is $PBS_NODEFILE\n",
      "echo PBS: current home directory is $PBS_O_HOME\n",
      "echo PBS: PATH = $PBS_O_PATH\n",
      "echo ------------------------------------------------------\n",
      "\n",
      "module load intel-suite anaconda3/personal\n",
      ". /home/tch14/anaconda3/etc/profile.d/conda.sh\n",
      "conda activate idp\n",
      "\n",
      "cd /workspace/tch14/FKMC/data/test\n",
      "let \"JOB_ID = PBS_ARRAY_INDEX - 1\"\n",
      "run_mcmc --job-id $JOB_ID --temp-dir $TMPDIR --working-dir ./\n",
      "#!/bin/bash\n",
      "\n",
      "#SBATCH --job-name test\n",
      "#SBATCH --time 0-10:00:00\n",
      "#SBATCH --mail-type END\n",
      "#SBATCH --mail-user tch14@imperial.ac.uk\n",
      "#SBATCH --partition tch14\n",
      "#SBATCH --constraint avx\n",
      "#SBATCH --mem 2G\n",
      "\n",
      "# Create a local directory to run in.\n",
      "scratch=/workspace/$USER/scratch/$SLURM_JOB_ID\n",
      "mkdir -p $scratch\n",
      "\n",
      "echo Executing in $scratch on $(hostname)\n",
      "\n",
      ". /workspace/tch14/miniconda3/etc/profile.d/conda.sh\n",
      "conda activate cmth_intelpython3\n",
      "\n",
      "cd /workspace/tch14/FKMC/data/test\n",
      "let \"JOB_ID = PBS_ARRAY_INDEX - 1\"\n",
      "run_mcmc --job-id $JOB_ID --temp-dir $scratch --working-dir ./\n",
      "\n",
      "# Copy back to submit directory. This is wrapped in an if statement so the\n",
      "# working copy is only cleaned up if it has been copied back.\n",
      "if cp output $SLURM_SUBMIT_DIR\n",
      "then\n",
      "  # Clean up.\n",
      "  rm -rf $scratch\n",
      "else\n",
      "  echo \"Copy failed. Data retained in $scratch on $(hostname)\"\n",
      "fi\n"
     ]
    },
    {
     "name": "stderr",
     "output_type": "stream",
     "text": [
      "/workspace/tch14/conda-envs/cmth_intelpython3/lib/python3.6/site-packages/FKMC/stats.py:8: RuntimeWarning: Degrees of freedom <= 0 for slice\n",
      "  return np.sqrt(np.mean(np.split(O, M), axis = -1).var(ddof = 1) / M)\n",
      "/workspace/tch14/conda-envs/cmth_intelpython3/lib/python3.6/site-packages/numpy/core/_methods.py:132: RuntimeWarning: invalid value encountered in double_scalars\n",
      "  ret = ret.dtype.type(ret / rcount)\n"
     ]
    },
    {
     "data": {
      "text/plain": [
       "{'mcmc_routine': 'quantum_cython_mcmc',\n",
       " 'N_steps': 100,\n",
       " 'bins': 1,\n",
       " 'N_burn_in': 20,\n",
       " 'N_system': array([ 64, 128]),\n",
       " 'mu': 0,\n",
       " 'beta': array([0.6, 0.8, 0.9, 1. , 1.2]),\n",
       " 'U': array([5]),\n",
       " 'V': -1,\n",
       " 'alpha': 1.5,\n",
       " 'outer_loop': array(['N_system'], dtype=object),\n",
       " 'inner_loop': array(['U', 'beta'], dtype=object),\n",
       " 'quantum': True,\n",
       " 'output_history': False,\n",
       " 'output_correlator': False,\n",
       " 'output_state': False,\n",
       " 'energy_max': 8,\n",
       " 'energy_min': -8,\n",
       " 'N_energy_bins': 200}"
      ]
     },
     "execution_count": 3,
     "metadata": {},
     "output_type": "execute_result"
    }
   ],
   "source": [
    "config = dict(\n",
    "              mcmc_routine='quantum_cython_mcmc',\n",
    "              N_steps = 100,\n",
    "              bins = 1,\n",
    "              N_burn_in = 20,\n",
    "              N_system = np.array([64,128]),\n",
    "              mu = 0,\n",
    "              beta = np.array([0.6,0.8,0.9,1.0,1.2]),\n",
    "              U = np.array([5]),\n",
    "              V = -1,\n",
    "              alpha= 1.5,\n",
    "              outer_loop = np.array(['N_system'], dtype=h5py.special_dtype(vlen=str)),\n",
    "              inner_loop = np.array(['U','beta'], dtype=h5py.special_dtype(vlen=str)),\n",
    "              quantum = True,\n",
    "              output_history = False,\n",
    "              output_correlator = False,\n",
    "              output_state = False,\n",
    "              energy_max = 8,\n",
    "              energy_min = -8,\n",
    "              N_energy_bins = 200,\n",
    "            )\n",
    "\n",
    "working_dir = Path('../data/test')\n",
    "setup_mcmc(config, working_dir, overwrite = True)\n",
    "\n",
    "config = read_config_file(working_dir)\n",
    "config"
   ]
  },
  {
   "cell_type": "code",
   "execution_count": 4,
   "metadata": {},
   "outputs": [
    {
     "name": "stdout",
     "output_type": "stream",
     "text": [
      "INFO:FKMC.jobmanager:job_id: 0\n",
      "INFO:FKMC.jobmanager:This jobs outer_config is {'N_system': 64, 'outer_loop_index': 0, 'outer_loop_indices': (0,)}\n",
      "INFO:FKMC.jobmanager:Starting MCMC routine <built-in function quantum_cython_mcmc> inner loop\n",
      "INFO:FKMC.jobmanager:Since it's the first one, creating the datasets:\n",
      "INFO:FKMC.jobmanager:Done: Inner Job: 0 indices: (0, 0) runtime: 2.59 seconds\n"
     ]
    },
    {
     "name": "stderr",
     "output_type": "stream",
     "text": [
      "/workspace/tch14/conda-envs/cmth_intelpython3/lib/python3.6/site-packages/FKMC/stats.py:8: RuntimeWarning: Degrees of freedom <= 0 for slice\n",
      "  return np.sqrt(np.mean(np.split(O, M), axis = -1).var(ddof = 1) / M)\n",
      "/workspace/tch14/conda-envs/cmth_intelpython3/lib/python3.6/site-packages/numpy/core/_methods.py:132: RuntimeWarning: invalid value encountered in double_scalars\n",
      "  ret = ret.dtype.type(ret / rcount)\n"
     ]
    },
    {
     "name": "stdout",
     "output_type": "stream",
     "text": [
      "INFO:FKMC.jobmanager:Done: Inner Job: 1 indices: (0, 1) runtime: 2.50 seconds\n",
      "INFO:FKMC.jobmanager:Done: Inner Job: 2 indices: (0, 2) runtime: 2.49 seconds\n",
      "INFO:FKMC.jobmanager:Done: Inner Job: 3 indices: (0, 3) runtime: 2.50 seconds\n",
      "INFO:FKMC.jobmanager:Done: Inner Job: 4 indices: (0, 4) runtime: 2.48 seconds\n",
      "INFO:FKMC.jobmanager:MCMC routine finished after 12.57 seconds\n",
      "INFO:FKMC.jobmanager:job_id: 1\n",
      "INFO:FKMC.jobmanager:This jobs outer_config is {'N_system': 128, 'outer_loop_index': 1, 'outer_loop_indices': (1,)}\n",
      "INFO:FKMC.jobmanager:Starting MCMC routine <built-in function quantum_cython_mcmc> inner loop\n",
      "INFO:FKMC.jobmanager:Since it's the first one, creating the datasets:\n",
      "INFO:FKMC.jobmanager:Done: Inner Job: 0 indices: (0, 0) runtime: 18.08 seconds\n",
      "INFO:FKMC.jobmanager:Done: Inner Job: 1 indices: (0, 1) runtime: 17.64 seconds\n",
      "INFO:FKMC.jobmanager:Done: Inner Job: 2 indices: (0, 2) runtime: 17.42 seconds\n",
      "INFO:FKMC.jobmanager:Done: Inner Job: 3 indices: (0, 3) runtime: 17.12 seconds\n",
      "INFO:FKMC.jobmanager:Done: Inner Job: 4 indices: (0, 4) runtime: 16.72 seconds\n",
      "INFO:FKMC.jobmanager:MCMC routine finished after 86.99 seconds\n",
      "DONE!\n",
      "CPU times: user 6min 34s, sys: 3.32 s, total: 6min 38s\n",
      "Wall time: 1min 39s\n"
     ]
    }
   ],
   "source": [
    "%%time\n",
    "from FKMC.jobmanager import outer_loop_shape\n",
    "logging.getLogger().setLevel(logging.INFO)\n",
    "\n",
    "working_dir = Path('../data/test')\n",
    "config = read_config_file(working_dir)\n",
    "outer_job_length = outer_loop_shape(config).prod()\n",
    "\n",
    "for job_id in range(outer_job_length):\n",
    "    run_mcmc(job_id, working_dir = working_dir, overwrite = True)\n",
    "print('DONE!')"
   ]
  },
  {
   "cell_type": "code",
   "execution_count": 5,
   "metadata": {},
   "outputs": [
    {
     "name": "stdout",
     "output_type": "stream",
     "text": [
      "INFO:FKMC.jobmanager:copied_in wasn't in config, initialising it\n",
      "INFO:FKMC.jobmanager:Number of Jobs to copy in: 2\n",
      "INFO:FKMC.jobmanager:Job IDs: [0 1]...\n",
      "INFO:FKMC.jobmanager:missing : []\n",
      "INFO:FKMC.jobmanager:Jobs attempted this time: 2\n",
      "INFO:FKMC.jobmanager:Overall completion: 2 / (2, 5)\n",
      "INFO:FKMC.jobmanager:File size: 0.00Gb\n",
      "CPU times: user 52 ms, sys: 0 ns, total: 52 ms\n",
      "Wall time: 50 ms\n"
     ]
    }
   ],
   "source": [
    "%%time\n",
    "#the problem is that the correlator is a different shape for each value of N_system,\n",
    "\n",
    "import logging\n",
    "logging.getLogger().setLevel(logging.INFO)\n",
    "\n",
    "gather_mcmc(working_dir, do_all = True)"
   ]
  },
  {
   "cell_type": "code",
   "execution_count": 7,
   "metadata": {},
   "outputs": [
    {
     "name": "stdout",
     "output_type": "stream",
     "text": [
      "['IPR_histogram', 'classical_energies_moments', 'classical_energies_moments_err', 'flag_6', 'magnetisations_moments', 'magnetisations_moments_err', 'numbers_moments', 'numbers_moments_err', 'q_energy_bounds', 'q_energy_histogram', 'q_energy_histogram_bins', 'quantum_energies_moments', 'quantum_energies_moments_err', 'runtime']\n",
      "['N_system']\n",
      "['U' 'beta']\n"
     ]
    },
    {
     "data": {
      "image/png": "[encoded data removed]",
      "text/plain": [
       "<Figure size 720x360 with 1 Axes>"
      ]
     },
     "metadata": {},
     "output_type": "display_data"
    }
   ],
   "source": [
    "class objectview(object):\n",
    "    def __init__(self, dict_like):\n",
    "        self.dict_like = dict_like\n",
    "\n",
    "    def __getattr__(self, name):\n",
    "        return self.dict_like[name]\n",
    "\n",
    "result_filename = working_dir / 'results.hdf5'\n",
    "with h5py.File(result_filename, 'r') as data:\n",
    "        r = objectview(data)\n",
    "        config = objectview(data.attrs)\n",
    "        \n",
    "        print(list(data.keys()))\n",
    "        print(data.attrs['outer_loop'])\n",
    "        print(data.attrs['inner_loop'])\n",
    "        \n",
    "        betas = data.attrs['beta']\n",
    "    \n",
    "        f, axes = plt.subplots(1,1, figsize = (10,5))\n",
    "        for i,beta in enumerate(betas):\n",
    "            axes.plot(r.q_energy_histogram_bins[-1,0,i,:-1] - config.U/2,  r.q_energy_histogram[-1,0,i], label = f'beta = {beta}')\n",
    "        axes.legend()\n",
    "        axes.set(xlim=(-6,6))"
   ]
  },
  {
   "cell_type": "code",
   "execution_count": null,
   "metadata": {},
   "outputs": [],
   "source": [
    "with h5py.File(result_filename, 'r') as data:\n",
    "        r = objectview(data)\n",
    "        config = objectview(data.attrs)\n",
    "        print(print([dim.label for dim in r.numbers_moments.dims]))\n",
    "\n",
    "        f, axes = plt.subplots(config.beta.size,1, figsize = (10,10), sharex = 'col')\n",
    "        for j,beta in enumerate(config.beta):\n",
    "            for i,N in enumerate(config.N_system):\n",
    "                axes[j].plot(r.q_energy_histogram_bins[i,0,j,:-1]  - config.U/2,  r.q_energy_histogram[i,0,j,:], label = N)\n",
    "                axes[j].set(title = f'{beta}', xlim = (-4,4))\n",
    "        axes[0].legend()\n",
    "        #axes.set(ylim=(-1,100))"
   ]
  }
 ],
 "metadata": {
  "kernelspec": {
   "display_name": "Python3 (conda intel)",
   "language": "python",
   "name": "cmth_intelpython3"
  },
  "language_info": {
   "codemirror_mode": {
    "name": "ipython",
    "version": 3
   },
   "file_extension": ".py",
   "mimetype": "text/x-python",
   "name": "python",
   "nbconvert_exporter": "python",
   "pygments_lexer": "ipython3",
   "version": "3.6.5"
  }
 },
 "nbformat": 4,
 "nbformat_minor": 2
}
