{
 "cells": [
  {
   "cell_type": "code",
   "execution_count": 22,
   "metadata": {},
   "outputs": [
    {
     "name": "stdout",
     "output_type": "stream",
     "text": [
      "N = 32 in t = 0 seconds\n",
      "saving in 000000.npz\n",
      "done\n"
     ]
    }
   ],
   "source": [
    "from pathlib import Path\n",
    "import numpy as np\n",
    "import os\n",
    "\n",
    "from FKMC.montecarlo import *\n",
    "\n",
    "from time import time\n",
    "\n",
    "slurm_job_id = os.getenv('SLURM_ARRAY_JOB_ID', 0)\n",
    "slurm_task_id = os.getenv('SLURM_ARRAY_TASK_ID', 0)\n",
    "max_slurm_task_id = os.getenv('SLURM_ARRAY_TASK_MAX', 29)\n",
    "working_dir = Path(f\"./\")\n",
    "\n",
    "N = 32\n",
    "Ts = np.linspace(0.01, 10, 30)\n",
    "assert((len(Ts) - 1) == max_slurm_task_id)\n",
    "T = Ts[slurm_task_id]\n",
    "\n",
    "parameters = dict(t = 1, alpha = 1.5, mu = 0, beta = 1/T, J = 5, U = 5, normalise = True)\n",
    "n_bins = 1000\n",
    "MCMC_params = dict(\n",
    "        state = np.arange(N) % 2,\n",
    "        N_steps = int(0.01 * 1000),\n",
    "        N_burn_in = int(0.01 * 1000), \n",
    "        logger = Eigenspectrum_IPR_all(bins = n_bins, limit = 10, ),\n",
    "        proposal = p_multi_site_poisson_reflect,\n",
    "        proposal_args = dict(lam = 1),\n",
    "        accept_function = perturbation_accept,\n",
    "        warnings = True,\n",
    "    )\n",
    "\n",
    "if slurm_id == 0: np.savez(working_dir / 'parameters.npz', \n",
    "            N=N, parameters = parameters, MCMC_params = MCMC_params, allow_pickle = True,\n",
    "            )\n",
    "\n",
    "\n",
    "t0 = time()\n",
    "log = FK_mcmc(**MCMC_params, parameters = parameters)\n",
    "log.time = time() - t0\n",
    "\n",
    "print(f'N = {N} in t = {log.time:.0f} seconds')\n",
    "\n",
    "filename = f'{slurm_task_id:06}.npz'\n",
    "\n",
    "print(f'saving in {filename}')\n",
    "\n",
    "np.savez(working_dir/filename, \n",
    "        log = log, allow_pickle = True,\n",
    "        )\n",
    "print('done')"
   ]
  },
  {
   "cell_type": "code",
   "execution_count": 14,
   "metadata": {},
   "outputs": [
    {
     "data": {
      "text/plain": [
       "'1323'"
      ]
     },
     "execution_count": 14,
     "metadata": {},
     "output_type": "execute_result"
    }
   ],
   "source": [
    " N = 1323\n",
    "f'{N:02}'"
   ]
  }
 ],
 "metadata": {
  "kernelspec": {
   "display_name": "Python3 (conda intel) #2",
   "language": "python",
   "name": "cmth_intelpython3"
  },
  "language_info": {
   "codemirror_mode": {
    "name": "ipython",
    "version": 3
   },
   "file_extension": ".py",
   "mimetype": "text/x-python",
   "name": "python",
   "nbconvert_exporter": "python",
   "pygments_lexer": "ipython3",
   "version": "3.6.8"
  }
 },
 "nbformat": 4,
 "nbformat_minor": 2
}
