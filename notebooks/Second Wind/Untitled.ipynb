{
 "cells": [
  {
   "cell_type": "code",
   "execution_count": 4,
   "metadata": {},
   "outputs": [],
   "source": [
    "%load_ext autoreload\n",
    "%autoreload 2"
   ]
  },
  {
   "cell_type": "code",
   "execution_count": 3,
   "metadata": {},
   "outputs": [],
   "source": [
    "import numpy as np\n",
    "from matplotlib import pyplot as plt\n",
    "import matplotlib as mpl\n",
    "import timeit\n",
    "import h5py\n",
    "from pathlib import Path\n",
    "import numpy as np\n",
    "from itertools import product\n",
    "import pickle\n",
    "import scipy.special\n",
    "import scipy.stats\n",
    "from math import exp\n",
    "import multiprocessing\n",
    "import functools\n",
    "\n",
    "from montecarlo import *\n",
    "\n",
    "%matplotlib inline\n",
    "np.seterr(all='warn')\n",
    "textwidth = 6.268\n",
    "mpl.rcParams['figure.dpi'] = 70\n",
    "default_figargs = dict(figsize = (textwidth,textwidth))\n",
    "\n",
    "from montecarlo import *"
   ]
  },
  {
   "cell_type": "code",
   "execution_count": 145,
   "metadata": {},
   "outputs": [
    {
     "name": "stdout",
     "output_type": "stream",
     "text": [
      "Warning, p_acc = 0.0, {'mu': 0, 'beta': 5.0, 'alpha': 1.5, 'J': 1, 'U': 1, 't': 1, 'normalise': True, 'J_matrix': 'suppressed for brevity'}\n",
      "Tuning\n",
      "min p_acc = 0.0\n",
      "Warning, p_acc = 0.8693, {'mu': 0, 'beta': 5.0, 'alpha': 1.5, 'J': 1, 'U': 1, 't': 1, 'normalise': True, 'J_matrix': 'suppressed for brevity'}\n",
      "scale = 0.5, p_acc = 0.8693\n",
      "Warning, p_acc = 0.65, {'mu': 0, 'beta': 5.0, 'alpha': 1.5, 'J': 1, 'U': 1, 't': 1, 'normalise': True, 'J_matrix': 'suppressed for brevity'}\n",
      "scale = 1.0, p_acc = 0.65\n",
      "scale = 2.0, p_acc = 0.4274\n"
     ]
    },
    {
     "data": {
      "text/plain": [
       "<montecarlo.DataLogger at 0x7f24d4089a58>"
      ]
     },
     "execution_count": 145,
     "metadata": {},
     "output_type": "execute_result"
    }
   ],
   "source": [
    "def exponential_tuner(mcmc_func, mcmc_kwargs):\n",
    "    N_tuning_steps = mcmc_kwargs['N_tuning_steps']\n",
    "    tuning_kwargs = mcmc_kwargs.copy()\n",
    "    tuning_kwargs.update(N_steps = N_tuning_steps, N_burn_in = 0)\n",
    "    \n",
    "    tuning_kwargs.update(proposal = p_uniform_proposal)\n",
    "    log = mcmc_func(**tuning_kwargs)\n",
    "    min_p_acc = log.accept_rates.sum()/log.proposal_rates.sum()\n",
    "    \n",
    "    print('Tuning')\n",
    "    print(f'min p_acc = {min_p_acc}')\n",
    "    if min_p_acc > 0.2: return p_uniform_proposal\n",
    "    \n",
    "    scale = 0.5\n",
    "    tuning_kwargs.update(proposal = p_multi_site_variable_reflect_exponential(scale = scale))\n",
    "    \n",
    "    for i in range(10):\n",
    "        log = mcmc_func(**tuning_kwargs)\n",
    "        p_acc = log.accept_rates.sum()/log.proposal_rates.sum()\n",
    "        print(f'scale = {scale}, p_acc = {p_acc}')\n",
    "        \n",
    "        if p_acc > 0.5: scale = scale * 2\n",
    "        elif p_acc < 0.2: scale = scale / 2\n",
    "        else: return p_multi_site_variable_reflect_exponential(scale = scale)\n",
    "        \n",
    "        tuning_kwargs.update(state = log.last_state,\n",
    "                           proposal = p_multi_site_variable_reflect_exponential(scale = scale))\n",
    "def tuner(mcmc_func):\n",
    "    def wrapped_mcmc_func(**kwargs):\n",
    "        proposal = exponential_tuner(mcmc_func, kwargs)\n",
    "        new_kwargs = kwargs.copy()\n",
    "        new_kwargs.update(proposal = proposal)\n",
    "        return mcmc_func(**new_kwargs)\n",
    "    return wrapped_mcmc_func\n",
    "\n",
    "mcmc_func = tuner(FK_mcmc_2)\n",
    "mcmc_kwargs = dict(\n",
    "    state = np.arange(N_sites)%2,\n",
    "    #accept_function = perturbation_accept,\n",
    "    accept_function = simple_accept,\n",
    "    parameters = dict(mu=0, beta=1/0.2, alpha=1.5, J=1, U=1, t=1, normalise = True),            \n",
    "    logger = DataLogger(),\n",
    "    N_tuning_steps = 500,\n",
    "    N_steps = 100, N_burn_in = 0,\n",
    "    )\n",
    "\n",
    "mcmc_func(**mcmc_kwargs)     "
   ]
  },
  {
   "cell_type": "code",
   "execution_count": 134,
   "metadata": {},
   "outputs": [
    {
     "name": "stdout",
     "output_type": "stream",
     "text": [
      "0.21292079207920792\n"
     ]
    },
    {
     "data": {
      "text/plain": [
       "[<matplotlib.lines.Line2D at 0x7f24d4162358>]"
      ]
     },
     "execution_count": 134,
     "metadata": {},
     "output_type": "execute_result"
    },
    {
     "data": {
      "image/png": "[encoded data removed]",
      "text/plain": [
       "<Figure size 420x280 with 2 Axes>"
      ]
     },
     "metadata": {},
     "output_type": "display_data"
    }
   ],
   "source": [
    "from montecarlo import *\n",
    "N_sites = 20\n",
    "\n",
    "log = FK_mcmc_2(\n",
    "    state = np.arange(N_sites)%2,\n",
    "    #proposal = p_multi_site_variable_reflect_poisson(lam = 2),\n",
    "    #proposal = p_multi_site_variable_reflect_exponential(scale = 1),\n",
    "    proposal = p_uniform_proposal,\n",
    "    #accept_function = perturbation_accept,\n",
    "    accept_function = simple_accept,\n",
    "    parameters = dict(mu=0, beta=1/0.5, alpha=1.5, J=1, U=1, t=1, normalise = True),            \n",
    "    N_steps = 1000, N_burn_in = 10,\n",
    "    logger = DataLogger(),\n",
    "    )\n",
    "f, axes = plt.subplots(2)\n",
    "print(log.accept_rates.sum()/log.proposal_rates.sum())\n",
    "axes[0].plot(log.proposal_rates/sum(log.proposal_rates))\n",
    "p = c = np.divide(log.accept_rates, log.proposal_rates, out=np.zeros_like(log.proposal_rates), where = log.proposal_rates != 0)\n",
    "axes[1].plot(p)"
   ]
  },
  {
   "cell_type": "code",
   "execution_count": 14,
   "metadata": {},
   "outputs": [
    {
     "data": {
      "text/plain": [
       "22.7375"
      ]
     },
     "execution_count": 14,
     "metadata": {},
     "output_type": "execute_result"
    }
   ],
   "source": [
    "\n",
    "n = np.array([8,12,14,16,18,20])\n",
    "t = np.array([0, 4, 14,64, 251])\n",
    "np.sum(2.0**(n-10))/60"
   ]
  },
  {
   "cell_type": "code",
   "execution_count": null,
   "metadata": {},
   "outputs": [],
   "source": []
  },
  {
   "cell_type": "code",
   "execution_count": null,
   "metadata": {},
   "outputs": [],
   "source": []
  },
  {
   "cell_type": "code",
   "execution_count": null,
   "metadata": {},
   "outputs": [],
   "source": []
  },
  {
   "cell_type": "code",
   "execution_count": 127,
   "metadata": {},
   "outputs": [
    {
     "data": {
      "text/plain": [
       "(array([0, 1, 3, 5, 6]),)"
      ]
     },
     "execution_count": 127,
     "metadata": {},
     "output_type": "execute_result"
    }
   ],
   "source": [
    "np.nonzero(np.random.choice([0,1], size = 10))"
   ]
  },
  {
   "cell_type": "code",
   "execution_count": 92,
   "metadata": {},
   "outputs": [
    {
     "data": {
      "text/plain": [
       "(array([ 90., 112.,  95., 117., 100.,  95.,  82., 106.,  90., 113.]),\n",
       " array([4.98527043, 4.98673951, 4.9882086 , 4.98967769, 4.99114677,\n",
       "        4.99261586, 4.99408495, 4.99555403, 4.99702312, 4.9984922 ,\n",
       "        4.99996129]),\n",
       " <a list of 10 Patch objects>)"
      ]
     },
     "execution_count": 92,
     "metadata": {},
     "output_type": "execute_result"
    },
    {
     "data": {
      "image/png": "[encoded data removed]",
      "text/plain": [
       "<Figure size 420x280 with 1 Axes>"
      ]
     },
     "metadata": {},
     "output_type": "display_data"
    }
   ],
   "source": []
  }
 ],
 "metadata": {
  "kernelspec": {
   "display_name": "Python 3",
   "language": "python",
   "name": "python3"
  },
  "language_info": {
   "codemirror_mode": {
    "name": "ipython",
    "version": 3
   },
   "file_extension": ".py",
   "mimetype": "text/x-python",
   "name": "python",
   "nbconvert_exporter": "python",
   "pygments_lexer": "ipython3",
   "version": "3.6.8"
  }
 },
 "nbformat": 4,
 "nbformat_minor": 2
}
