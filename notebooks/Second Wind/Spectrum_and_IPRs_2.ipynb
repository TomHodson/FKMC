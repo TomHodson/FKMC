{
 "cells": [
  {
   "cell_type": "code",
   "execution_count": 1,
   "metadata": {},
   "outputs": [],
   "source": [
    "%load_ext autoreload\n",
    "%autoreload 2"
   ]
  },
  {
   "cell_type": "code",
   "execution_count": 13,
   "metadata": {},
   "outputs": [],
   "source": [
    "import numpy as np\n",
    "from matplotlib import pyplot as plt\n",
    "import matplotlib as mpl\n",
    "import timeit\n",
    "import h5py\n",
    "from pathlib import Path\n",
    "import numpy as np\n",
    "from itertools import product\n",
    "import pickle\n",
    "import scipy.special\n",
    "import scipy.stats\n",
    "from math import exp\n",
    "import multiprocessing\n",
    "import functools\n",
    "\n",
    "from montecarlo import *\n",
    "\n",
    "%matplotlib inline\n",
    "np.seterr(all='warn')\n",
    "textwidth = 6.268\n",
    "mpl.rcParams['figure.dpi'] = 70\n",
    "default_figargs = dict(figsize = (textwidth,textwidth))\n",
    "colors = plt.rcParams['axes.prop_cycle'].by_key()['color']\n",
    "\n",
    "from montecarlo import *"
   ]
  },
  {
   "cell_type": "markdown",
   "metadata": {},
   "source": [
    "To check the sanity of the monte carlo routine, the above plot compares the boltzman factor $exp(-\\beta F) $ for each state of a small system (N=6) with the number of occurances seen during a monte carlo run. Each column shows these factors after an increasing number of montecarlo steps. Each row represents the states by a differnt measure, first they're simply ordered by increasing free energy, second they're plotted against free energy so that degernate states clump together. The 3rd and 4th show the overall occupation $Nf + Nc$ and the squared staggered magnetisation. "
   ]
  },
  {
   "cell_type": "markdown",
   "metadata": {},
   "source": [
    "The above plot shows the mean of each observable after x monte carlo steps, showing gradual convergence. Currently the Ff, Fc and Nc observables don't converge to the correct values!"
   ]
  },
  {
   "cell_type": "code",
   "execution_count": 102,
   "metadata": {},
   "outputs": [],
   "source": [
    "#%%time\n",
    "from time import time\n",
    "from montecarlo import *\n",
    "from general import index_histogram\n",
    "\n",
    "class Eigenspectrum_IPR(object):\n",
    "    def __init__(self, bins = 70, limit = 5):\n",
    "        self.eigenval_bins = np.linspace(-limit, limit, bins + 1)\n",
    "    \n",
    "    def start(self, N_steps, N_sites):\n",
    "        self.N_steps = N_steps\n",
    "        self.eigenvals = np.zeros((N_steps,N_sites), dtype = np.float64)\n",
    "        self.eigenval_histogram = np.zeros((N_steps,self.eigenval_bins.shape[0]-1), dtype = np.float64)\n",
    "        self.IPR_histogram = np.zeros((N_steps,self.eigenval_bins.shape[0]-1), dtype = np.float64)\n",
    "\n",
    "    def update(self, j, Ff, Fc, state, evals, evecs, mu, beta, J_matrix, **kwargs):\n",
    "        IPRs = ((evecs * np.conj(evecs))**2).sum(axis = 0)\n",
    "        self.eigenval_histogram[j], _, indices = index_histogram(self.eigenval_bins, evals)\n",
    "        self.IPR_histogram[j] = np.bincount(indices, weights=IPRs, minlength = self.eigenval_bins.shape[0] + 1)[1:-1]\n",
    "\n",
    "    \n",
    "    def return_vals(self):\n",
    "        E_histogram = np.mean(self.eigenval_histogram, axis = 0)\n",
    "        normalisation_factor = np.sum(E_histogram)\n",
    "        \n",
    "        E_histogram = E_histogram / normalisation_factor \n",
    "        dE_histogram = scipy.stats.sem(self.eigenval_histogram, axis = 0) / normalisation_factor\n",
    "        \n",
    "        IPR_histogram, dIPR_histogram = np.mean(self.IPR_histogram, axis = 0), scipy.stats.sem(self.IPR_histogram, axis = 0)\n",
    "        \n",
    "        return self.eigenval_bins, E_histogram, dE_histogram, IPR_histogram, dIPR_histogram\n",
    "\n",
    "parameters = dict(t = 1, alpha = 1.5, mu = 0, beta = 1/1.1, J = 5, U = 5, normalise = True)\n",
    "n_bins = 500\n",
    "MCMC_params = dict(\n",
    "        N_steps = int(10 * 1000),\n",
    "        N_burn_in = int(1 * 1000), \n",
    "        logger = Eigenspectrum_IPR(bins = n_bins, limit = 5),\n",
    "        proposal = p_multi_site_poisson_reflect,\n",
    "        proposal_args = dict(lam = 1),\n",
    "        #accept_function = simple_accept,\n",
    "        accept_function = perturbation_accept,\n",
    "    )\n",
    "\n",
    "#bins, E, dE, IPR, dIPR = FK_mcmc_2(parameters = parameters, **MCMC_params)"
   ]
  },
  {
   "cell_type": "code",
   "execution_count": null,
   "metadata": {},
   "outputs": [
    {
     "name": "stdout",
     "output_type": "stream",
     "text": [
      "N = 8 in t = 17 seconds\n",
      "N = 16 in t = 30 seconds\n",
      "N = 32 in t = 62 seconds\n"
     ]
    },
    {
     "name": "stderr",
     "output_type": "stream",
     "text": [
      "/workspace/tch14/conda-envs/cmth_intelpython3_2/lib/python3.6/site-packages/ipykernel_launcher.py:17: RuntimeWarning: underflow encountered in square\n"
     ]
    },
    {
     "name": "stdout",
     "output_type": "stream",
     "text": [
      "N = 64 in t = 202 seconds\n"
     ]
    }
   ],
   "source": [
    "def compute(N, **kwargs):\n",
    "    t0 = time()\n",
    "    kwargs['state'] = np.arange(N) % 2\n",
    "    bins, E, dE, IPR, dIPR = FK_mcmc_2(**kwargs)\n",
    "    print(f'N = {N} in t = {time() - t0:.0f} seconds')\n",
    "    return bins[:-1], E, dE, IPR, dIPR\n",
    "\n",
    "Ns = [8,16,32,64,128]\n",
    "data = np.zeros(shape = (len(Ns), 5, n_bins))\n",
    "\n",
    "with multiprocessing.Pool(multiprocessing.cpu_count() - 2) as pool:\n",
    "    curried = functools.partial(compute, parameters = parameters, **MCMC_params)\n",
    "    data = np.array(pool.map(curried, Ns))\n",
    "\n",
    "\n",
    "np.savez('./pickled_data/IPRs.npz', \n",
    "        Ns=Ns, parameters = parameters, MCMC_params=MCMC_params, data=data, allow_pickle = True,\n",
    "        )\n",
    "print('done')"
   ]
  },
  {
   "cell_type": "code",
   "execution_count": null,
   "metadata": {},
   "outputs": [],
   "source": [
    "from general import smooth\n",
    "from itertools import count\n",
    "pickled_data = np.load('./pickled_data/IPRs.npz', allow_pickle = True)\n",
    "locals().update(pickled_data)\n",
    "print(data.shape)\n",
    "\n",
    "f, (Eax, Iax) = plt.subplots(2,1, figsize  = (10,10))\n",
    "for i, col, N, Nslice in zip(count(), colors, Ns, data):\n",
    "    bins, E, dE, IPR, dIPR = Nslice\n",
    "    scale = 0.6\n",
    "    E = smooth(E, scale)\n",
    "    IPR = smooth(IPR, scale)\n",
    "    \n",
    "    Eax.plot(bins, E + 0*i/100, label = f'N = {N}')\n",
    "    Iax.plot(bins, IPR + 0*i/50)\n",
    "    \n",
    "Eax.legend()"
   ]
  },
  {
   "cell_type": "code",
   "execution_count": null,
   "metadata": {},
   "outputs": [],
   "source": []
  }
 ],
 "metadata": {
  "kernelspec": {
   "display_name": "Python3 (conda intel) #2",
   "language": "python",
   "name": "cmth_intelpython3"
  },
  "language_info": {
   "codemirror_mode": {
    "name": "ipython",
    "version": 3
   },
   "file_extension": ".py",
   "mimetype": "text/x-python",
   "name": "python",
   "nbconvert_exporter": "python",
   "pygments_lexer": "ipython3",
   "version": "3.6.8"
  }
 },
 "nbformat": 4,
 "nbformat_minor": 2
}
