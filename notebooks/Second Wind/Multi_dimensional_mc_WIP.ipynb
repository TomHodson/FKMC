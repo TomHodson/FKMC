{
 "cells": [
  {
   "cell_type": "code",
   "execution_count": 1,
   "metadata": {},
   "outputs": [],
   "source": [
    "%load_ext autoreload\n",
    "%autoreload 2"
   ]
  },
  {
   "cell_type": "code",
   "execution_count": 80,
   "metadata": {},
   "outputs": [],
   "source": [
    "import numpy as np\n",
    "from matplotlib import pyplot as plt\n",
    "import matplotlib as mpl\n",
    "import multiprocessing\n",
    "import functools\n",
    "from montecarlo import *\n",
    "from itertools import count\n",
    "from functools import wraps\n",
    "\n",
    "%matplotlib inline\n",
    "np.seterr(all='warn')\n",
    "textwidth = 7.2\n",
    "mpl.rcParams['figure.dpi'] = 100\n",
    "\n",
    "if not hasattr(plt, 'old_subplots'): plt.old_subplots = plt.subplots\n",
    "@wraps(plt.old_subplots)\n",
    "def my_subplots(*args, **kwargs):\n",
    "    if not 'figsize' in kwargs and len(args) > 1:\n",
    "        width = 5\n",
    "        maxwidth = 15\n",
    "        rows, cols, *_ = args\n",
    "        w = min(maxwidth, width * cols)\n",
    "        kwargs['figsize'] = (w, w / cols / 1.6 * rows)\n",
    "    \n",
    "    gridspec_kw = dict()\n",
    "    if kwargs.get('sharex') == 'col':\n",
    "        gridspec_kw['hspace'] = 0.1\n",
    "    if kwargs.get('sharey') == 'row':\n",
    "        gridspec_kw['wspace'] = 0.1\n",
    "    if 'gridspec_kw' in kwargs:\n",
    "        gridspec_kw.update(kwargs['gridspec_kw'])\n",
    "    kwargs['gridspec_kw'] = gridspec_kw\n",
    "    \n",
    "    return plt.old_subplots(*args, **kwargs)\n",
    "        \n",
    "plt.subplots = my_subplots"
   ]
  },
  {
   "cell_type": "code",
   "execution_count": 81,
   "metadata": {},
   "outputs": [
    {
     "name": "stdout",
     "output_type": "stream",
     "text": [
      "dict_keys(['t', 'alpha', 'mu', 'U', 'J', 'N', 'beta', 'normalise'])\n"
     ]
    },
    {
     "data": {
      "image/png": "[encoded data removed]",
      "text/plain": [
       "<Figure size 1500x234.375 with 4 Axes>"
      ]
     },
     "metadata": {},
     "output_type": "display_data"
    }
   ],
   "source": [
    "MCMC_params = dict(\n",
    "        N_steps = 1e3, N_burn_in = 1e2, \n",
    "        state = np.arange(100)%2, \n",
    "        logger = Magnetisation_cumulants(N_cumulants = 5),\n",
    "        proposal = p_multi_site_uniform_reflect,\n",
    "        #proposal_args = dict(lam = 4),\n",
    "        accept_function = perturbation_accept,\n",
    "    )\n",
    "\n",
    "model_params = dict(t = 1,\n",
    "                    alpha = 3/2,\n",
    "                    mu = 0,\n",
    "                    U = 10,\n",
    "                    J = np.array([1,-1]),\n",
    "                    N = np.array([1,2,3]),\n",
    "                    beta = np.linspace(0,2,100),\n",
    "                    normalise = True,\n",
    "                   )\n",
    "\n",
    "print(model_params.keys())\n",
    "\n",
    "\n",
    "\n",
    "def multi_dimensional_params(model_params):\n",
    "    p = {k:v for k,v in model_params.items() if type(v) is np.ndarray and v.shape[0] > 1}\n",
    "    other = {k:v for k,v in model_params.items() if not type(v) is np.ndarray or v.shape[0] < 1}\n",
    "    N = len(p)\n",
    "    \n",
    "    def new_shape(i):\n",
    "        s = np.ones(N, dtype = np.int)\n",
    "        s[i] = -1\n",
    "        return s\n",
    "    overall_shape = [v.shape[0] for v in p.values()]\n",
    "    broadcasted = {k : np.broadcast_to(v.reshape(new_shape(i)), overall_shape)\n",
    "                   for i,k,v in zip(count(), p.keys(), p.values())\n",
    "                  }\n",
    "    other = {k : np.broadcast_to(v, overall_shape)\n",
    "                   for k,v in other.items()\n",
    "                  }\n",
    "    broadcasted.update(other)\n",
    "    return broadcasted\n",
    "    \n",
    "    \n",
    "a = multi_dimensional_params(model_params)\n",
    "i = (a['N'] == 64) & (a['beta'] == 100)\n",
    "\n",
    "def func(J, N, beta, **kwargs):\n",
    "    return J * beta**N\n",
    "\n",
    "func(**a)\n",
    "\n",
    "f, axes = plt.subplots(1,4)"
   ]
  },
  {
   "cell_type": "code",
   "execution_count": 28,
   "metadata": {},
   "outputs": [
    {
     "data": {
      "text/plain": [
       "array([[[3, 4, 5],\n",
       "        [4, 5, 6],\n",
       "        [5, 6, 7]],\n",
       "\n",
       "       [[4, 5, 6],\n",
       "        [5, 6, 7],\n",
       "        [6, 7, 8]],\n",
       "\n",
       "       [[5, 6, 7],\n",
       "        [6, 7, 8],\n",
       "        [7, 8, 9]]])"
      ]
     },
     "execution_count": 28,
     "metadata": {},
     "output_type": "execute_result"
    }
   ],
   "source": [
    "x = np.array([1,2,3])\n",
    "y = np.array([1,2,3])\n",
    "z = np.array([1,2,3])\n",
    "\n",
    "x.reshape(3,1,1) + y.reshape(1,3,1) + z.reshape(1,1,3)"
   ]
  },
  {
   "cell_type": "code",
   "execution_count": null,
   "metadata": {},
   "outputs": [],
   "source": []
  }
 ],
 "metadata": {
  "kernelspec": {
   "display_name": "Python3 (conda intel) #2",
   "language": "python",
   "name": "cmth_intelpython3"
  },
  "language_info": {
   "codemirror_mode": {
    "name": "ipython",
    "version": 3
   },
   "file_extension": ".py",
   "mimetype": "text/x-python",
   "name": "python",
   "nbconvert_exporter": "python",
   "pygments_lexer": "ipython3",
   "version": "3.6.8"
  }
 },
 "nbformat": 4,
 "nbformat_minor": 2
}
