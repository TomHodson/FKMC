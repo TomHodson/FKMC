{
 "cells": [
  {
   "cell_type": "code",
   "execution_count": 1,
   "metadata": {},
   "outputs": [],
   "source": [
    "%load_ext autoreload\n",
    "%autoreload 2"
   ]
  },
  {
   "cell_type": "code",
   "execution_count": 2,
   "metadata": {},
   "outputs": [
    {
     "name": "stdout",
     "output_type": "stream",
     "text": [
      "DEBUG:matplotlib.pyplot:Loaded backend module://ipykernel.pylab.backend_inline version unknown.\n"
     ]
    }
   ],
   "source": [
    "from pathlib import Path\n",
    "import numpy as np\n",
    "import os\n",
    "from matplotlib import pyplot as plt\n",
    "import matplotlib as mpl\n",
    "from time import time\n",
    "from munch import Munch\n",
    "\n",
    "from FKMC.import_funcs import get_data_structured, get_data_funcmap\n",
    "\n",
    "%matplotlib inline\n",
    "np.seterr(all='warn')\n",
    "textwidth = 6.268\n",
    "mpl.rcParams['figure.dpi'] = 70\n",
    "default_figargs = dict(figsize = (textwidth,textwidth))\n",
    "\n",
    "import logging\n",
    "mpl_logger = logging.getLogger('matplotlib')\n",
    "mpl_logger.setLevel(logging.WARNING) "
   ]
  },
  {
   "cell_type": "code",
   "execution_count": 9,
   "metadata": {},
   "outputs": [
    {
     "name": "stdout",
     "output_type": "stream",
     "text": [
      "CRITICAL:FKMC.import_funcs:looking in /data/users/tch14/slurm_runs/117969\n",
      "INFO:FKMC.import_funcs:job ids range from 0 to 899\n",
      "INFO:FKMC.import_funcs:structure_names = ('repeats', 'Js', 'Ts')\n",
      "INFO:FKMC.import_funcs:structure_dims = (array(1), 30, 30)\n",
      "INFO:FKMC.import_funcs:Expected number of jobs 900\n",
      "INFO:FKMC.import_funcs:Logger keys: ['total_jobs', 'Js', 'Ts', 'Ns', 'repeats', 'structure_names', 'parameters', 'MCMC_params', 'logs', 'desc'] \n",
      "\n",
      "INFO:FKMC.import_funcs:MCMC_params: Munch({'state': None, 'N_steps': 100000, 'N_burn_in': 10000, 'thin': 100, 'logger': <FKMC.montecarlo.Eigenspectrum_IPR_all object at 0x7f3be2a3d6d8>, 'proposal': <function p_multi_site_uniform_reflect at 0x7f3be33d1400>, 'accept_function': <function perturbation_accept at 0x7f3be33d1730>, 'warnings': True}) \n",
      "\n",
      "INFO:FKMC.import_funcs:MCMC Steps: 100000 with thinning = 100 for 1000 recorded steps\n",
      "INFO:FKMC.import_funcs:[(0, 'repeats', array(1)), (1, 'Js', 30), (2, 'Ts', 30)]\n",
      "INFO:FKMC.import_funcs:available observables = ['A', 'Fc', 'Ff', 'IPRs', 'Mf_moments', 'N_cumulants', 'N_sites', 'N_steps', 'Nc', 'Nf', 'accept_rates', 'classical_accept_rates', 'eigenval_bins', 'eigenvals', 'last_state', 'powers', 'proposal_rates', 'return_vals', 'start', 'state', 'time', 'update']\n",
      "INFO:FKMC.import_funcs:Allocating space for the requested observables:\n",
      "INFO:FKMC.import_funcs:observables['Mf_moments'] = np.array(shape = (6, 900, 5), dtype = float64) approx size: 0.00Gb\n",
      "INFO:FKMC.import_funcs:observables['IPRs'] = np.array(shape = (6, 900, 2000), dtype = <class 'numpy.float64'>) approx size: 0.04Gb\n",
      "INFO:FKMC.import_funcs:observables['DOS'] = np.array(shape = (6, 900, 2000), dtype = <class 'numpy.float64'>) approx size: 0.04Gb\n",
      "0 INFO:FKMC.import_funcs:\n",
      "Took 1.02s to do the first 10, should take 90.99s to do the remaining 890\n",
      "\n",
      "18 36 54 72 90 108 126 144 162 180 198 216 234 252 270 288 306 324 342 360 378 396 414 432 INFO:FKMC.import_funcs:\n",
      "Took 44.95s to do the first 450, should take 44.95s to do the remaining 450\n",
      "\n",
      "450 468 486 504 522 540 558 576 594 612 630 648 666 684 702 720 738 756 774 792 810 828 846 864 882 INFO:FKMC.import_funcs:########################################################################\n",
      "\n",
      "INFO:FKMC.import_funcs:Observables has keys: dict_keys(['Mf_moments', 'sigma_Mf_moments', 'E_bins', 'IPR', 'DOS', 'total_jobs', 'Js', 'Ts', 'Ns', 'repeats', 'structure_names', 'parameters', 'MCMC_params', 'desc', 'structure_dims', 'hints', 'T'])\n"
     ]
    }
   ],
   "source": [
    "## TJ phase data\n",
    "fpath = Path('/data/users/tch14/slurm_runs/117969')\n",
    "\n",
    "TJ_phase_obs = get_data_funcmap(fpath,\n",
    "                         functions = [mean_over_MCMC('Mf_moments'), IPRandDOS()],\n",
    "                          structure_names = ('repeats','Js','Ts'),\n",
    "                         )"
   ]
  },
  {
   "cell_type": "code",
   "execution_count": 10,
   "metadata": {},
   "outputs": [
    {
     "name": "stdout",
     "output_type": "stream",
     "text": [
      "Pickling Successful\n"
     ]
    }
   ],
   "source": [
    "import pickle \n",
    "with open(f'/data/users/tch14/pickled_data/TJ_phase_data.pickle', 'wb') as f:\n",
    "    # Pickle the 'data' dictionary using the highest protocol available.\n",
    "    pickle.dump(TJ_phase_obs, f, pickle.HIGHEST_PROTOCOL)\n",
    "    print('Pickling Successful')"
   ]
  },
  {
   "cell_type": "code",
   "execution_count": 32,
   "metadata": {},
   "outputs": [],
   "source": [
    "del TJ_phase_obs"
   ]
  },
  {
   "cell_type": "code",
   "execution_count": 25,
   "metadata": {},
   "outputs": [
    {
     "name": "stdout",
     "output_type": "stream",
     "text": [
      "CRITICAL:FKMC.import_funcs:looking in /data/users/tch14/slurm_runs/117734\n",
      "INFO:FKMC.import_funcs:job ids range from 0 to 899\n",
      "INFO:FKMC.import_funcs:structure_names = ('repeats', 'Us', 'Ts')\n",
      "INFO:FKMC.import_funcs:structure_dims = (array(1), 30, 30)\n",
      "INFO:FKMC.import_funcs:Expected number of jobs 900\n",
      "INFO:FKMC.import_funcs:Logger keys: ['total_jobs', 'Us', 'Ts', 'Ns', 'repeats', 'structure_names', 'parameters', 'MCMC_params', 'logs', 'desc'] \n",
      "\n",
      "INFO:FKMC.import_funcs:MCMC_params: Munch({'state': None, 'N_steps': 100000, 'N_burn_in': 10000, 'thin': 100, 'logger': <FKMC.montecarlo.Eigenspectrum_IPR_all object at 0x7f3bd84376d8>, 'proposal': <function p_multi_site_uniform_reflect at 0x7f3be33d1400>, 'accept_function': <function perturbation_accept at 0x7f3be33d1730>, 'warnings': True}) \n",
      "\n",
      "INFO:FKMC.import_funcs:MCMC Steps: 100000 with thinning = 100 for 1000 recorded steps\n",
      "INFO:FKMC.import_funcs:[(0, 'repeats', array(1)), (1, 'Us', 30), (2, 'Ts', 30)]\n",
      "INFO:FKMC.import_funcs:available observables = ['A', 'Fc', 'Ff', 'IPRs', 'Mf_moments', 'N_cumulants', 'N_sites', 'N_steps', 'Nc', 'Nf', 'accept_rates', 'classical_accept_rates', 'eigenval_bins', 'eigenvals', 'last_state', 'powers', 'proposal_rates', 'return_vals', 'start', 'state', 'time', 'update']\n",
      "INFO:FKMC.import_funcs:Allocating space for the requested observables:\n",
      "INFO:FKMC.import_funcs:observables['Mf_moments'] = np.array(shape = (6, 900, 5), dtype = float64) approx size: 0.00Gb\n",
      "INFO:FKMC.import_funcs:observables['IPRs'] = np.array(shape = (6, 900, 2000), dtype = <class 'numpy.float64'>) approx size: 0.04Gb\n",
      "INFO:FKMC.import_funcs:observables['DOS'] = np.array(shape = (6, 900, 2000), dtype = <class 'numpy.float64'>) approx size: 0.04Gb\n",
      "0 INFO:FKMC.import_funcs:\n",
      "Took 0.36s to do the first 10, should take 32.45s to do the remaining 890\n",
      "\n",
      "18 36 54 72 90 108 126 144 162 180 198 216 234 252 270 288 306 324 342 360 378 396 414 432 INFO:FKMC.import_funcs:\n",
      "Took 39.50s to do the first 450, should take 39.50s to do the remaining 450\n",
      "\n",
      "450 468 486 504 522 540 558 576 594 612 630 648 666 684 702 720 738 756 774 792 810 828 846 864 882 INFO:FKMC.import_funcs:########################################################################\n",
      "\n",
      "INFO:FKMC.import_funcs:Observables has keys: dict_keys(['Mf_moments', 'sigma_Mf_moments', 'E_bins', 'IPR', 'DOS', 'total_jobs', 'Us', 'Ts', 'Ns', 'repeats', 'structure_names', 'parameters', 'MCMC_params', 'desc', 'structure_dims', 'hints', 'T'])\n"
     ]
    }
   ],
   "source": [
    "## TU phase data\n",
    "fpath = Path('/data/users/tch14/slurm_runs/117734')\n",
    "\n",
    "\n",
    "TU_phase_obs = get_data_funcmap(fpath,\n",
    "                         functions = [mean_over_MCMC('Mf_moments'), IPRandDOS(E_bins = np.linspace(-10, 10, 2000 + 1))],\n",
    "                          structure_names = ('repeats','Us','Ts'),\n",
    "                         )\n",
    "\n",
    "import pickle \n",
    "with open(f'/data/users/tch14/pickled_data/TU_phase_data.pickle', 'wb') as f:\n",
    "    # Pickle the 'data' dictionary using the highest protocol available.\n",
    "    pickle.dump(TU_phase_obs, f, pickle.HIGHEST_PROTOCOL)\n",
    "    print('Pickling Successful')"
   ]
  },
  {
   "cell_type": "code",
   "execution_count": 17,
   "metadata": {},
   "outputs": [
    {
     "name": "stdout",
     "output_type": "stream",
     "text": [
      "CRITICAL:FKMC.import_funcs:looking in /data/users/tch14/slurm_runs/119596\n",
      "INFO:FKMC.import_funcs:job ids range from 0 to 899\n",
      "INFO:FKMC.import_funcs:structure_names = ('repeats', 'alphas', 'Ts')\n",
      "INFO:FKMC.import_funcs:structure_dims = (array(1), 30, 30)\n",
      "INFO:FKMC.import_funcs:Expected number of jobs 900\n",
      "WARNING:FKMC.import_funcs:Missing jobs: {58}\n",
      "\n",
      "INFO:FKMC.import_funcs:Logger keys: ['total_jobs', 'U', 'Ts', 'Ns', 'alphas', 'repeats', 'structure_names', 'parameters', 'MCMC_params', 'logs', 'desc'] \n",
      "\n",
      "INFO:FKMC.import_funcs:MCMC_params: Munch({'state': None, 'N_steps': 100000, 'N_burn_in': 10000, 'thin': 100, 'logger': <FKMC.montecarlo.Eigenspectrum_IPR_all object at 0x7f3be29eae10>, 'proposal': <function p_multi_site_uniform_reflect at 0x7f3be33d1400>, 'accept_function': <function perturbation_accept at 0x7f3be33d1730>, 'warnings': True}) \n",
      "\n",
      "INFO:FKMC.import_funcs:MCMC Steps: 100000 with thinning = 100 for 1000 recorded steps\n",
      "INFO:FKMC.import_funcs:[(0, 'repeats', array(1)), (1, 'alphas', 30), (2, 'Ts', 30)]\n",
      "INFO:FKMC.import_funcs:available observables = ['A', 'Fc', 'Ff', 'IPRs', 'Mf_moments', 'N_cumulants', 'N_sites', 'N_steps', 'Nc', 'Nf', 'accept_rates', 'classical_accept_rates', 'eigenval_bins', 'eigenvals', 'last_state', 'powers', 'proposal_rates', 'return_vals', 'start', 'state', 'time', 'update']\n",
      "INFO:FKMC.import_funcs:Allocating space for the requested observables:\n",
      "INFO:FKMC.import_funcs:observables['Mf_moments'] = np.array(shape = (6, 900, 5), dtype = float64) approx size: 0.00Gb\n",
      "INFO:FKMC.import_funcs:observables['IPRs'] = np.array(shape = (6, 900, 2000), dtype = <class 'numpy.float64'>) approx size: 0.04Gb\n",
      "INFO:FKMC.import_funcs:observables['DOS'] = np.array(shape = (6, 900, 2000), dtype = <class 'numpy.float64'>) approx size: 0.04Gb\n",
      "0 INFO:FKMC.import_funcs:\n",
      "Took 0.49s to do the first 10, should take 43.14s to do the remaining 889\n",
      "\n",
      "17 34 51 68 85 102 119 136 153 170 187 204 221 238 255 272 289 306 323 340 357 374 391 408 425 442 INFO:FKMC.import_funcs:\n",
      "Took 27.07s to do the first 449, should take 27.13s to do the remaining 450\n",
      "\n",
      "459 476 493 510 527 544 561 578 595 612 629 646 663 680 697 714 731 748 765 782 799 816 833 850 867 884 INFO:FKMC.import_funcs:########################################################################\n",
      "\n",
      "INFO:FKMC.import_funcs:Observables has keys: dict_keys(['Mf_moments', 'sigma_Mf_moments', 'E_bins', 'IPR', 'DOS', 'total_jobs', 'U', 'Ts', 'Ns', 'alphas', 'repeats', 'structure_names', 'parameters', 'MCMC_params', 'desc', 'structure_dims', 'hints', 'T'])\n"
     ]
    }
   ],
   "source": [
    "## TAlpha phase data\n",
    "fpath = Path('/data/users/tch14/slurm_runs/119596')\n",
    "\n",
    "TAlpha_phase_obs1 = get_data_funcmap(fpath,\n",
    "                         functions = [mean_over_MCMC('Mf_moments'), IPRandDOS()],\n",
    "                          structure_names = ('repeats','alphas','Ts'),\n",
    "                         )"
   ]
  },
  {
   "cell_type": "code",
   "execution_count": 13,
   "metadata": {},
   "outputs": [
    {
     "name": "stdout",
     "output_type": "stream",
     "text": [
      "CRITICAL:FKMC.import_funcs:looking in /data/users/tch14/slurm_runs/128530\n",
      "INFO:FKMC.import_funcs:job ids range from 0 to 899\n",
      "INFO:FKMC.import_funcs:structure_names = ('repeats', 'alphas', 'Ts')\n",
      "INFO:FKMC.import_funcs:structure_dims = (array(1), 30, 30)\n",
      "INFO:FKMC.import_funcs:Expected number of jobs 900\n",
      "INFO:FKMC.import_funcs:Logger keys: ['total_jobs', 'U', 'Ts', 'Ns', 'alphas', 'repeats', 'structure_names', 'parameters', 'MCMC_params', 'logs', 'desc'] \n",
      "\n",
      "INFO:FKMC.import_funcs:MCMC_params: Munch({'state': None, 'N_steps': 100000, 'N_burn_in': 10000, 'thin': 100, 'logger': <FKMC.montecarlo.Eigenspectrum_IPR_all object at 0x7f3be2a37c50>, 'proposal': <function p_multi_site_uniform_reflect at 0x7f3be33d1400>, 'accept_function': <function perturbation_accept at 0x7f3be33d1730>, 'warnings': True}) \n",
      "\n",
      "INFO:FKMC.import_funcs:MCMC Steps: 100000 with thinning = 100 for 1000 recorded steps\n",
      "INFO:FKMC.import_funcs:[(0, 'repeats', array(1)), (1, 'alphas', 30), (2, 'Ts', 30)]\n",
      "INFO:FKMC.import_funcs:available observables = ['A', 'Fc', 'Ff', 'IPRs', 'Mf_moments', 'N_cumulants', 'N_sites', 'N_steps', 'Nc', 'Nf', 'accept_rates', 'classical_accept_rates', 'eigenval_bins', 'eigenvals', 'last_state', 'powers', 'proposal_rates', 'return_vals', 'start', 'state', 'time', 'update']\n",
      "INFO:FKMC.import_funcs:Allocating space for the requested observables:\n",
      "INFO:FKMC.import_funcs:observables['Mf_moments'] = np.array(shape = (6, 900, 5), dtype = float64) approx size: 0.00Gb\n",
      "INFO:FKMC.import_funcs:observables['IPRs'] = np.array(shape = (6, 900, 2000), dtype = <class 'numpy.float64'>) approx size: 0.04Gb\n",
      "INFO:FKMC.import_funcs:observables['DOS'] = np.array(shape = (6, 900, 2000), dtype = <class 'numpy.float64'>) approx size: 0.04Gb\n",
      "0 INFO:FKMC.import_funcs:\n",
      "Took 0.96s to do the first 10, should take 85.03s to do the remaining 890\n",
      "\n",
      "18 36 54 72 90 108 126 144 162 180 198 216 234 252 270 288 306 324 342 360 378 396 414 432 INFO:FKMC.import_funcs:\n",
      "Took 71.09s to do the first 450, should take 71.09s to do the remaining 450\n",
      "\n",
      "450 468 486 504 522 540 558 576 594 612 630 648 666 684 702 720 738 756 774 792 810 828 846 864 882 INFO:FKMC.import_funcs:########################################################################\n",
      "\n",
      "INFO:FKMC.import_funcs:Observables has keys: dict_keys(['Mf_moments', 'sigma_Mf_moments', 'E_bins', 'IPR', 'DOS', 'total_jobs', 'U', 'Ts', 'Ns', 'alphas', 'repeats', 'structure_names', 'parameters', 'MCMC_params', 'desc', 'structure_dims', 'hints', 'T'])\n"
     ]
    }
   ],
   "source": [
    "fpath = Path('/data/users/tch14/slurm_runs/128530')\n",
    "\n",
    "TAlpha_phase_obs2 = get_data_funcmap(fpath,\n",
    "                         functions = [mean_over_MCMC('Mf_moments'), IPRandDOS()],\n",
    "                          structure_names = ('repeats','alphas','Ts'),\n",
    "                         )"
   ]
  },
  {
   "cell_type": "code",
   "execution_count": 21,
   "metadata": {},
   "outputs": [],
   "source": [
    "for name in ['Mf_moments', 'IPR', 'DOS']:\n",
    "    TAlpha_phase_obs[name] = np.concatenate([TAlpha_phase_obs1[name], TAlpha_phase_obs2[name]], axis = 1)"
   ]
  },
  {
   "cell_type": "code",
   "execution_count": 22,
   "metadata": {},
   "outputs": [
    {
     "data": {
      "text/plain": [
       "(6, 2, 30, 30, 5)"
      ]
     },
     "execution_count": 22,
     "metadata": {},
     "output_type": "execute_result"
    }
   ],
   "source": [
    "TAlpha_phase_obs.Mf_moments.shape"
   ]
  },
  {
   "cell_type": "code",
   "execution_count": 23,
   "metadata": {},
   "outputs": [
    {
     "data": {
      "text/plain": [
       "('Ns', 'repeats', 'alphas', 'Ts', 'MCstep')"
      ]
     },
     "execution_count": 23,
     "metadata": {},
     "output_type": "execute_result"
    }
   ],
   "source": [
    "TAlpha_phase_obs.hints.Mf_moments"
   ]
  },
  {
   "cell_type": "code",
   "execution_count": 24,
   "metadata": {},
   "outputs": [
    {
     "name": "stdout",
     "output_type": "stream",
     "text": [
      "Pickling Successful\n"
     ]
    }
   ],
   "source": [
    "import pickle \n",
    "with open(f'/data/users/tch14/pickled_data/TAlpha_phase_data.pickle', 'wb') as f:\n",
    "    # Pickle the 'data' dictionary using the highest protocol available.\n",
    "    pickle.dump(TAlpha_phase_obs, f, pickle.HIGHEST_PROTOCOL)\n",
    "    print('Pickling Successful')"
   ]
  },
  {
   "cell_type": "code",
   "execution_count": 40,
   "metadata": {},
   "outputs": [],
   "source": [
    "del TAlpha_phase_obs"
   ]
  },
  {
   "cell_type": "code",
   "execution_count": null,
   "metadata": {},
   "outputs": [],
   "source": []
  }
 ],
 "metadata": {
  "kernelspec": {
   "display_name": "IntelPython3",
   "language": "python",
   "name": "intelpython3"
  },
  "language_info": {
   "codemirror_mode": {
    "name": "ipython",
    "version": 3
   },
   "file_extension": ".py",
   "mimetype": "text/x-python",
   "name": "python",
   "nbconvert_exporter": "python",
   "pygments_lexer": "ipython3",
   "version": "3.6.8"
  }
 },
 "nbformat": 4,
 "nbformat_minor": 2
}
