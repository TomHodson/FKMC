{
 "cells": [
  {
   "cell_type": "markdown",
   "metadata": {},
   "source": [
    "# Short range Linear T sweep figure for short paper"
   ]
  },
  {
   "cell_type": "code",
   "execution_count": 2,
   "metadata": {},
   "outputs": [],
   "source": [
    "%load_ext autoreload\n",
    "%autoreload 2"
   ]
  },
  {
   "cell_type": "code",
   "execution_count": 11,
   "metadata": {},
   "outputs": [],
   "source": [
    "from pathlib import Path\n",
    "import numpy as np\n",
    "import os\n",
    "from matplotlib import pyplot as plt\n",
    "import matplotlib as mpl\n",
    "from time import time\n",
    "from munch import Munch\n",
    "\n",
    "from itertools import count\n",
    "from matplotlib import colors\n",
    "\n",
    "from FKMC.general import index_histogram_array, sort_IPRs, smooth, shapes\n",
    "from FKMC.import_funcs import get_data_structured, get_data_funcmap, mean_over_MCMC, IPRandDOS\n",
    "from multiprocessing import Pool\n",
    "import shutil\n",
    "import pickle \n",
    "\n",
    "%matplotlib inline\n",
    "np.seterr(all='warn')\n",
    "textwidth = 6.268\n",
    "mpl.rcParams['figure.dpi'] = 70\n",
    "default_figargs = dict(figsize = (textwidth,textwidth))\n",
    "\n",
    "import logging\n",
    "mpl_logger = logging.getLogger('matplotlib')\n",
    "mpl_logger.setLevel(logging.WARNING) \n",
    "\n",
    "import_log = logging.getLogger('FKMC.import_funcs')\n",
    "import_log.setLevel(logging.WARNING)"
   ]
  },
  {
   "cell_type": "code",
   "execution_count": 5,
   "metadata": {},
   "outputs": [],
   "source": [
    "def load_data(data_ids):\n",
    "\n",
    "    obs = {i : get_data_structured(Path(f'/data/users/tch14/slurm_runs/{i}'),\n",
    "                    requested_observables = ['Mf_moments','eigenvals', 'IPRs', 'state'],\n",
    "                    structure_names = ('Ts','repeats','initial_state'),\n",
    "                    structure_dims = (None, 10, 4),\n",
    "                   )\n",
    "           for i in data_ids}\n",
    "    \n",
    "    return obs\n",
    "\n",
    "def concat_data(obs):\n",
    "    ob = Munch()\n",
    "    single_run = next(iter(obs.values()))\n",
    "    print(single_run.keys())\n",
    "    \n",
    "    #copy all of the stuff that doesn't change over\n",
    "    for key in ['Ns', 'parameters', 'MCMC_params', 'desc', 'structure_names', 'structure_dims', 'hints']:\n",
    "        ob[key] = single_run[key]\n",
    "        \n",
    "    \n",
    "    ob.Ts = np.concatenate([o.Ts for o in obs.values() if o], axis = 0)\n",
    "    \n",
    "    ob.Mf_moments = np.concatenate([o.Mf_moments for o in obs.values() if o], axis = 1)\n",
    "    \n",
    "\n",
    "    #o_orig.E_vals = [np.concatenate([a.eigenvals[i] for a in obs.values() if a], axis = 0) for i in range(len(o_orig.Ns))]\n",
    "    #o_orig.IPRs = [np.concatenate([a.IPRs[i] for a in obs.values() if a], axis = 0) for i in range(len(o_orig.Ns))]\n",
    "\n",
    "    ob.E_vals = np.concatenate([a.eigenvals[i] for a in obs.values() if a], axis = 0)\n",
    "    ob.IPRs = np.concatenate([a.IPRs[i] for a in obs.values() if a], axis = 0)\n",
    "    \n",
    "    return ob\n",
    "\n",
    "\n",
    "def save_correlation_functions():\n",
    "    pass\n",
    "            \n",
    "import pickle\n",
    "\n",
    "def save_data(filename, data):\n",
    "    with open(filename, 'wb') as file:\n",
    "        pickle.dump(data, file, pickle.HIGHEST_PROTOCOL)\n",
    "        print('Pickling Successful')\n",
    "    \n",
    "#SR_raw = load_data(short_range_ids)\n",
    "#SR_concat = concat_data(SR_raw)\n",
    "#del SR_raw\n",
    "#save_data('./short_range_linear_T.npz', SR_concat)\n",
    "\n"
   ]
  },
  {
   "cell_type": "code",
   "execution_count": 29,
   "metadata": {},
   "outputs": [
    {
     "name": "stdout",
     "output_type": "stream",
     "text": [
      "CRITICAL:FKMC.import_funcs:looking in /data/users/tch14/slurm_runs/131722\n",
      "WARNING:FKMC.import_funcs:Missing jobs: {10, 14, 18, 22, 26, 30, 34, 38, 42, 50, 58, 62, 66, 70, 74, 78, 82, 90, 94, 98, 102, 106, 110, 114, 118, 122, 126, 130, 134, 138, 142, 146, 150, 154, 158, 162, 166, 170, 174, 178, 182, 186, 190, 194, 198, 202, 204, 205, 206, 207, 208, 209, 210, 211, 212, 213, 214, 215, 216, 217, 218, 219, 220, 221, 222, 223, 224, 225, 226, 227, 228, 229, 230, 231, 232, 233, 234, 235, 236, 237, 238, 239, 240, 241, 242, 243, 244, 245, 246, 247, 248, 249, 250, 251, 252, 253, 254, 255, 256, 257, 258, 259, 260, 261, 262, 263, 264, 265, 266, 267, 268, 269, 270, 271, 272, 273, 274, 275, 276, 277, 278, 279, 280, 281, 282, 283, 284, 285, 286, 287, 288, 289, 290, 291, 292, 293, 294, 295, 296, 297, 298, 299, 300, 301, 302, 303, 304, 305, 306, 307, 308, 309, 310, 311, 312, 313, 314, 315, 316, 317, 318, 319, 320, 321, 322, 323, 324, 325, 326, 327, 328, 329, 330, 331, 332, 333, 334, 335, 336, 337, 338, 339, 340, 341, 342, 343, 344, 345, 346, 347, 348, 349, 350, 351, 352, 353, 354, 355, 356, 357, 358, 359, 360, 361, 362, 363, 364, 365, 366, 367, 368, 369, 370, 371, 372, 373, 374, 375, 376, 377, 378, 379, 380, 381, 382, 383, 384, 385, 386, 387, 388, 389, 390, 391, 392, 393, 394, 395, 396, 397, 398, 399, 400, 401, 402, 403, 404, 405, 406, 407, 408, 409, 410, 411, 412, 413, 414, 415, 416, 417, 418, 419, 420, 421, 422, 423, 424, 425, 426, 427, 428, 429, 430, 431, 432, 433, 434, 435, 436, 437, 438, 439, 440, 441, 442, 443, 444, 445, 446, 447, 448, 449, 450, 451, 452, 453, 454, 455, 456, 457, 458, 459, 460, 461, 462, 463, 464, 465, 466, 467, 468, 469, 470, 471, 472, 473, 474, 475, 476, 477, 478, 479, 480, 481, 482, 483, 484, 485, 486, 487, 488, 489, 490, 491, 492, 493, 494, 495, 496, 497, 498, 499, 500, 501, 502, 503, 504, 505, 506, 507, 508, 509, 510, 511, 512, 513, 514, 515, 516, 517, 518, 519, 520, 521, 522, 523, 524, 525, 526, 527, 528, 529, 530, 531, 532, 533, 534, 535, 536, 537, 538, 539, 540, 541, 542, 543, 544, 545, 546, 547, 548, 549, 550, 551, 552, 553, 554, 555, 556, 557, 558, 559, 560, 561, 562, 563, 564, 565, 566, 567, 568, 569, 570, 571, 572, 573, 574, 575, 576, 577, 578, 579, 580, 581, 582, 583, 584, 585, 586, 587, 588, 589, 590, 591, 592, 593, 594, 595, 596, 597, 598, 599, 600, 601, 602, 603, 604, 605, 606, 607, 608, 609, 610, 611, 612, 613, 614, 615, 616, 617, 618, 619, 620, 621, 622, 623, 624, 625, 626, 627, 628, 629, 630, 631, 632, 633, 634, 635, 636, 637, 638, 639, 640, 641, 642, 643, 644, 645, 646, 647, 648, 649, 650, 651, 652, 653, 654, 655, 656, 657, 658, 659, 660, 661, 662, 663, 664, 665, 666, 667, 668, 669, 670, 671, 672, 673, 674, 675, 676, 677, 678, 679, 680, 681, 682, 683, 684, 685, 686, 687, 688, 689, 690, 691, 692, 693, 694, 695, 696, 697, 698, 699, 700, 701, 702, 703, 704, 705, 706, 707, 708, 709, 710, 711, 712, 713, 714, 715, 716, 717, 718, 719, 720, 721, 722, 723, 724, 725, 726, 727, 728, 729, 730, 731, 732, 733, 734, 735, 736, 737, 738, 739, 740, 741, 742, 743, 744, 745, 746, 747, 748, 749, 750, 751, 752, 753, 754, 755, 756, 757, 758, 759, 760, 761, 762, 763, 764, 765, 766, 767, 768, 769, 770, 771, 772, 773, 774, 775, 776, 777, 778, 779, 780, 781, 782, 783, 784, 785, 786, 787, 788, 789, 790, 791, 792, 793, 794, 795, 796, 797, 798, 799, 800, 801, 802, 803, 804, 805, 806, 807, 808, 809, 810, 811, 812, 813, 814, 815, 816, 817, 818, 819, 820, 821, 822, 823, 824, 825, 826, 827, 828, 829, 830, 831, 832, 833, 834, 835, 836, 837, 838, 839, 840, 841, 842, 843, 844, 845, 846, 847, 848, 849, 850, 851, 852, 853, 854, 855, 856, 857, 858, 859, 860, 861, 862, 863, 864, 865, 866, 867, 868, 869, 870, 871, 872, 873, 874, 875, 876, 877, 878, 879, 880, 881, 882, 883, 884, 885, 886, 887, 888, 889, 890, 891, 892, 893, 894, 895, 896, 897, 898, 899, 900, 901, 902, 903, 904, 905, 906, 907, 908, 909, 910, 911, 912, 913, 914, 915, 916, 917, 918, 919, 920, 921, 922, 923, 924, 925, 926, 927, 928, 929, 930, 931, 932, 933, 934, 935, 936, 937, 938, 939, 940, 941, 942, 943, 944, 945, 946, 947, 948, 949, 950, 951, 952, 953, 954, 955, 956, 957, 958, 959, 960, 961, 962, 963, 964, 965, 966, 967, 968, 969, 970, 971, 972, 973, 974, 975, 976, 977, 978, 979, 980, 981, 982, 983, 984, 985, 986, 987, 988, 989, 990, 991, 992, 993, 994, 995, 996, 997, 998, 999}\n",
      "\n",
      "0 3 6 9 12 15 18 21 24 27 30 33 36 39 42 45 48 51 54 57 60 63 66 69 72 75 78 81 84 87 90 93 96 99 102 105 108 111 114 117 120 123 126 129 132 135 138 141 144 147 150 153 156 CRITICAL:FKMC.import_funcs:looking in /data/users/tch14/slurm_runs/131719\n",
      "0 20 40 60 80 100 120 140 160 180 200 220 240 260 280 300 320 340 360 380 400 420 440 460 480 500 520 540 560 580 600 620 640 660 680 700 720 740 760 780 800 820 840 860 880 900 920 940 960 980 CRITICAL:FKMC.import_funcs:looking in /data/users/tch14/slurm_runs/131718\n",
      "0 20 40 60 80 100 120 140 160 180 200 220 240 260 280 300 320 340 360 380 400 420 440 460 480 500 520 540 560 580 600 620 640 660 680 700 720 740 760 780 800 820 840 860 880 900 920 940 960 980 CRITICAL:FKMC.import_funcs:looking in /data/users/tch14/slurm_runs/131717\n",
      "0 20 40 60 80 100 120 140 160 180 200 220 240 260 280 300 320 340 360 380 400 420 440 460 480 500 520 540 560 580 600 620 640 660 680 700 720 740 760 780 800 820 840 860 880 900 920 940 960 980 CRITICAL:FKMC.import_funcs:looking in /data/users/tch14/slurm_runs/131716\n",
      "0 20 40 60 80 100 120 140 160 180 200 220 240 260 280 300 320 340 360 380 400 420 440 460 480 500 520 540 560 580 600 620 640 660 680 700 720 740 760 780 800 820 840 860 880 900 920 940 960 980 CRITICAL:FKMC.import_funcs:looking in /data/users/tch14/slurm_runs/129519\n",
      "0 20 40 60 80 100 120 140 160 180 200 220 240 260 280 300 320 340 360 380 400 420 440 460 480 500 520 540 560 580 600 620 640 660 680 700 720 740 760 780 800 820 840 860 880 900 920 940 960 980 CRITICAL:FKMC.import_funcs:looking in /data/users/tch14/slurm_runs/129518\n",
      "0 20 40 60 80 100 120 140 160 180 200 220 240 260 280 300 320 340 360 380 400 420 440 460 480 500 520 540 560 580 600 620 640 660 680 700 720 740 760 780 800 820 840 860 880 900 920 940 960 980 CRITICAL:FKMC.import_funcs:looking in /data/users/tch14/slurm_runs/129462\n",
      "0 20 40 60 80 100 120 140 160 180 200 220 240 260 280 300 320 340 360 380 400 420 440 460 480 500 520 540 560 580 600 620 640 660 680 700 720 740 760 780 800 820 840 860 880 900 920 940 960 980 "
     ]
    }
   ],
   "source": [
    "bigger_U_ids = [131722, 131719, 131718, 131717, 131716, 129519, 129518, 129462]\n",
    "big_U_raw = load_data(bigger_U_ids)"
   ]
  },
  {
   "cell_type": "code",
   "execution_count": null,
   "metadata": {},
   "outputs": [],
   "source": [
    "save_DOS_and_IPR_means('/data/users/tch14/pickled_data/Bigger_U_IPR_and_DOS_processed.pickle', raw_data = big_U_raw)"
   ]
  },
  {
   "cell_type": "code",
   "execution_count": null,
   "metadata": {},
   "outputs": [],
   "source": [
    "del big_U_raw"
   ]
  },
  {
   "cell_type": "code",
   "execution_count": 7,
   "metadata": {},
   "outputs": [],
   "source": []
  },
  {
   "cell_type": "code",
   "execution_count": 5,
   "metadata": {},
   "outputs": [
    {
     "name": "stdout",
     "output_type": "stream",
     "text": [
      "CRITICAL:FKMC.import_funcs:looking in /data/users/tch14/slurm_runs/108646\n",
      "0 20 40 60 80 100 120 140 160 180 200 220 240 260 280 300 320 340 360 380 400 420 440 460 480 500 520 540 560 580 600 620 640 660 680 700 720 740 760 780 800 820 840 860 880 900 920 940 960 980 CRITICAL:FKMC.import_funcs:looking in /data/users/tch14/slurm_runs/110591\n",
      "0 20 40 60 80 100 120 140 160 180 200 220 240 260 280 300 320 340 360 380 400 420 440 460 480 500 520 540 560 580 600 620 640 660 680 700 720 740 760 780 800 820 840 860 880 900 920 940 960 980 CRITICAL:FKMC.import_funcs:looking in /data/users/tch14/slurm_runs/111591\n",
      "0 20 40 60 80 100 120 140 160 180 200 220 240 260 280 300 320 340 360 380 400 420 440 460 480 500 520 540 560 580 600 620 640 660 680 700 720 740 760 780 800 820 840 860 880 900 920 940 960 980 CRITICAL:FKMC.import_funcs:looking in /data/users/tch14/slurm_runs/112592\n",
      "0 20 40 60 80 100 120 140 160 180 200 220 240 260 280 300 320 340 360 380 400 420 440 460 480 500 520 540 560 580 600 620 640 660 680 700 720 740 760 780 800 820 840 860 880 900 920 940 960 980 CRITICAL:FKMC.import_funcs:looking in /data/users/tch14/slurm_runs/112645\n",
      "0 20 40 60 80 100 120 140 160 180 200 220 240 260 280 300 320 340 360 380 400 420 440 460 480 500 520 540 560 580 600 620 640 660 680 700 720 740 760 780 800 820 840 860 880 900 920 940 960 980 CRITICAL:FKMC.import_funcs:looking in /data/users/tch14/slurm_runs/112646\n",
      "0 20 40 60 80 100 120 140 160 180 200 220 240 260 280 300 320 340 360 380 400 420 440 460 480 500 520 540 560 580 600 620 640 660 680 700 720 740 760 780 800 820 840 860 880 900 920 940 960 980 CRITICAL:FKMC.import_funcs:looking in /data/users/tch14/slurm_runs/112647\n",
      "0 20 40 60 80 100 120 140 160 180 200 220 240 260 280 300 320 340 360 380 400 420 440 460 480 500 520 540 560 580 600 620 640 660 680 700 720 740 760 780 800 820 840 860 880 900 920 940 960 980 CRITICAL:FKMC.import_funcs:looking in /data/users/tch14/slurm_runs/112648\n",
      "0 20 40 60 80 100 120 140 160 180 200 220 240 260 280 300 320 340 360 380 400 420 440 460 480 500 520 540 560 580 600 620 640 660 680 700 720 740 760 780 800 820 840 860 880 900 920 940 960 980 "
     ]
    }
   ],
   "source": [
    "short_range_ids = [108646, 110591, 111591, 112592, 112645, 112646, 112647, 112648]\n",
    "SR_raw = load_data(short_range_ids)"
   ]
  },
  {
   "cell_type": "code",
   "execution_count": 12,
   "metadata": {},
   "outputs": [
    {
     "name": "stdout",
     "output_type": "stream",
     "text": [
      "dict_keys(['total_size', 'Mf_moments', 'eigenvals', 'IPRs', 'Ns', 'Ts', 'parameters', 'MCMC_params', 'desc', 'structure_names', 'structure_dims', 'hints', 'T'])\n",
      "IPRs.shape = (200, 16000), E_vals.shape = (200, 16000)\n",
      "Pickling Successful\n",
      "IPRs.shape = (200, 32000), E_vals.shape = (200, 32000)\n",
      "Pickling Successful\n",
      "IPRs.shape = (200, 64000), E_vals.shape = (200, 64000)\n",
      "Pickling Successful\n",
      "IPRs.shape = (200, 128000), E_vals.shape = (200, 128000)\n",
      "Pickling Successful\n",
      "IPRs.shape = (200, 256000), E_vals.shape = (200, 256000)\n",
      "Pickling Successful\n",
      "IPRs.shape = (200, 512000), E_vals.shape = (200, 512000)\n",
      "Pickling Successful\n"
     ]
    }
   ],
   "source": [
    "save_DOS_and_IPR_means('/data/users/tch14/pickled_data/Short_range_IPR_and_DOS_processed.pickle', raw_data = SR_raw)"
   ]
  },
  {
   "cell_type": "code",
   "execution_count": 17,
   "metadata": {},
   "outputs": [
    {
     "name": "stdout",
     "output_type": "stream",
     "text": [
      "dict_keys(['total_size', 'Mf_moments', 'eigenvals', 'IPRs', 'Ns', 'Ts', 'parameters', 'MCMC_params', 'desc', 'structure_names', 'structure_dims', 'hints', 'T'])\n"
     ]
    }
   ],
   "source": [
    "SR_concat = concat_data(SR_raw)"
   ]
  },
  {
   "cell_type": "code",
   "execution_count": 21,
   "metadata": {},
   "outputs": [
    {
     "name": "stdout",
     "output_type": "stream",
     "text": [
      "Pickling Successful\n"
     ]
    }
   ],
   "source": [
    "save_data('/data/users/tch14/pickled_data/Short_range_linear_T.pickle', SR_concat)"
   ]
  },
  {
   "cell_type": "code",
   "execution_count": 24,
   "metadata": {},
   "outputs": [
    {
     "ename": "NameError",
     "evalue": "name 'SR_raw' is not defined",
     "output_type": "error",
     "traceback": [
      "\u001b[0;31m---------------------------------------------------------------------------\u001b[0m",
      "\u001b[0;31mNameError\u001b[0m                                 Traceback (most recent call last)",
      "\u001b[0;32m<ipython-input-24-aff7b9e99a84>\u001b[0m in \u001b[0;36m<module>\u001b[0;34m()\u001b[0m\n\u001b[0;32m----> 1\u001b[0;31m \u001b[0;32mdel\u001b[0m \u001b[0mSR_raw\u001b[0m\u001b[0;34m\u001b[0m\u001b[0;34m\u001b[0m\u001b[0m\n\u001b[0m",
      "\u001b[0;31mNameError\u001b[0m: name 'SR_raw' is not defined"
     ]
    }
   ],
   "source": [
    "del SR_raw"
   ]
  },
  {
   "cell_type": "code",
   "execution_count": 25,
   "metadata": {},
   "outputs": [
    {
     "ename": "NameError",
     "evalue": "name 'SR_concat' is not defined",
     "output_type": "error",
     "traceback": [
      "\u001b[0;31m---------------------------------------------------------------------------\u001b[0m",
      "\u001b[0;31mNameError\u001b[0m                                 Traceback (most recent call last)",
      "\u001b[0;32m<ipython-input-25-0b640e663cde>\u001b[0m in \u001b[0;36m<module>\u001b[0;34m()\u001b[0m\n\u001b[0;32m----> 1\u001b[0;31m \u001b[0;32mdel\u001b[0m \u001b[0mSR_concat\u001b[0m\u001b[0;34m\u001b[0m\u001b[0;34m\u001b[0m\u001b[0m\n\u001b[0m",
      "\u001b[0;31mNameError\u001b[0m: name 'SR_concat' is not defined"
     ]
    }
   ],
   "source": [
    "del SR_concat"
   ]
  },
  {
   "cell_type": "code",
   "execution_count": 8,
   "metadata": {},
   "outputs": [
    {
     "name": "stdout",
     "output_type": "stream",
     "text": [
      "CRITICAL:FKMC.import_funcs:looking in /data/users/tch14/slurm_runs/119733\n",
      "0 20 40 60 80 100 120 140 160 180 200 220 240 260 280 300 320 340 360 380 400 420 440 460 480 500 520 540 560 580 600 620 640 660 680 700 720 740 760 780 800 820 840 860 880 900 920 940 960 980 CRITICAL:FKMC.import_funcs:looking in /data/users/tch14/slurm_runs/119734\n",
      "0 20 40 60 80 100 120 140 160 180 200 220 240 260 280 300 320 340 360 380 400 420 440 460 480 500 520 540 560 580 600 620 "
     ]
    },
    {
     "ename": "KeyboardInterrupt",
     "evalue": "",
     "output_type": "error",
     "traceback": [
      "\u001b[0;31m---------------------------------------------------------------------------\u001b[0m",
      "\u001b[0;31mKeyboardInterrupt\u001b[0m                         Traceback (most recent call last)",
      "\u001b[0;32m<ipython-input-8-74a4baeee499>\u001b[0m in \u001b[0;36m<module>\u001b[0;34m()\u001b[0m\n\u001b[1;32m      1\u001b[0m \u001b[0mlong_range_ids\u001b[0m \u001b[0;34m=\u001b[0m \u001b[0;34m[\u001b[0m\u001b[0;36m119700\u001b[0m \u001b[0;34m+\u001b[0m \u001b[0mi\u001b[0m \u001b[0;32mfor\u001b[0m \u001b[0mi\u001b[0m \u001b[0;32min\u001b[0m \u001b[0;34m[\u001b[0m\u001b[0;36m33\u001b[0m\u001b[0;34m,\u001b[0m \u001b[0;36m34\u001b[0m\u001b[0;34m,\u001b[0m \u001b[0;36m37\u001b[0m\u001b[0;34m,\u001b[0m \u001b[0;36m39\u001b[0m\u001b[0;34m,\u001b[0m \u001b[0;36m41\u001b[0m\u001b[0;34m,\u001b[0m \u001b[0;36m42\u001b[0m\u001b[0;34m,\u001b[0m \u001b[0;36m44\u001b[0m\u001b[0;34m,\u001b[0m \u001b[0;36m45\u001b[0m\u001b[0;34m]\u001b[0m\u001b[0;34m]\u001b[0m\u001b[0;34m\u001b[0m\u001b[0;34m\u001b[0m\u001b[0m\n\u001b[0;32m----> 2\u001b[0;31m \u001b[0mLR_raw\u001b[0m \u001b[0;34m=\u001b[0m \u001b[0mload_data\u001b[0m\u001b[0;34m(\u001b[0m\u001b[0mlong_range_ids\u001b[0m\u001b[0;34m)\u001b[0m\u001b[0;34m\u001b[0m\u001b[0;34m\u001b[0m\u001b[0m\n\u001b[0m",
      "\u001b[0;32m<ipython-input-6-ad125947bd6d>\u001b[0m in \u001b[0;36mload_data\u001b[0;34m(data_ids)\u001b[0m\n\u001b[1;32m      6\u001b[0m                     \u001b[0mstructure_dims\u001b[0m \u001b[0;34m=\u001b[0m \u001b[0;34m(\u001b[0m\u001b[0;32mNone\u001b[0m\u001b[0;34m,\u001b[0m \u001b[0;36m10\u001b[0m\u001b[0;34m,\u001b[0m \u001b[0;36m4\u001b[0m\u001b[0;34m)\u001b[0m\u001b[0;34m,\u001b[0m\u001b[0;34m\u001b[0m\u001b[0;34m\u001b[0m\u001b[0m\n\u001b[1;32m      7\u001b[0m                    )\n\u001b[0;32m----> 8\u001b[0;31m            for i in data_ids}\n\u001b[0m\u001b[1;32m      9\u001b[0m \u001b[0;34m\u001b[0m\u001b[0m\n\u001b[1;32m     10\u001b[0m     \u001b[0;32mreturn\u001b[0m \u001b[0mobs\u001b[0m\u001b[0;34m\u001b[0m\u001b[0;34m\u001b[0m\u001b[0m\n",
      "\u001b[0;32m<ipython-input-6-ad125947bd6d>\u001b[0m in \u001b[0;36m<dictcomp>\u001b[0;34m(.0)\u001b[0m\n\u001b[1;32m      6\u001b[0m                     \u001b[0mstructure_dims\u001b[0m \u001b[0;34m=\u001b[0m \u001b[0;34m(\u001b[0m\u001b[0;32mNone\u001b[0m\u001b[0;34m,\u001b[0m \u001b[0;36m10\u001b[0m\u001b[0;34m,\u001b[0m \u001b[0;36m4\u001b[0m\u001b[0;34m)\u001b[0m\u001b[0;34m,\u001b[0m\u001b[0;34m\u001b[0m\u001b[0;34m\u001b[0m\u001b[0m\n\u001b[1;32m      7\u001b[0m                    )\n\u001b[0;32m----> 8\u001b[0;31m            for i in data_ids}\n\u001b[0m\u001b[1;32m      9\u001b[0m \u001b[0;34m\u001b[0m\u001b[0m\n\u001b[1;32m     10\u001b[0m     \u001b[0;32mreturn\u001b[0m \u001b[0mobs\u001b[0m\u001b[0;34m\u001b[0m\u001b[0;34m\u001b[0m\u001b[0m\n",
      "\u001b[0;32m~/FKMC/FKMC/import_funcs.py\u001b[0m in \u001b[0;36mget_data_structured\u001b[0;34m(this_run, requested_observables, MCMC_slice, structure_names, structure_dims)\u001b[0m\n\u001b[1;32m    373\u001b[0m \u001b[0;34m\u001b[0m\u001b[0m\n\u001b[1;32m    374\u001b[0m     \u001b[0mlogger\u001b[0m\u001b[0;34m.\u001b[0m\u001b[0minfo\u001b[0m\u001b[0;34m(\u001b[0m\u001b[0;34mf'Copying the data approx size: {observables.total_size/1e9:.2f}Gb'\u001b[0m\u001b[0;34m)\u001b[0m\u001b[0;34m\u001b[0m\u001b[0;34m\u001b[0m\u001b[0m\n\u001b[0;32m--> 375\u001b[0;31m     \u001b[0mcopy\u001b[0m\u001b[0;34m(\u001b[0m\u001b[0mrequested_observables\u001b[0m\u001b[0;34m,\u001b[0m \u001b[0mdatafiles\u001b[0m\u001b[0;34m,\u001b[0m \u001b[0mobservables\u001b[0m\u001b[0;34m,\u001b[0m \u001b[0mMCMC_slice\u001b[0m\u001b[0;34m)\u001b[0m\u001b[0;34m\u001b[0m\u001b[0;34m\u001b[0m\u001b[0m\n\u001b[0m\u001b[1;32m    376\u001b[0m     \u001b[0mreshape\u001b[0m\u001b[0;34m(\u001b[0m\u001b[0mstructure_dims\u001b[0m\u001b[0;34m,\u001b[0m \u001b[0mrequested_observables\u001b[0m\u001b[0;34m,\u001b[0m \u001b[0mobservables\u001b[0m\u001b[0;34m)\u001b[0m\u001b[0;34m\u001b[0m\u001b[0;34m\u001b[0m\u001b[0m\n\u001b[1;32m    377\u001b[0m \u001b[0;34m\u001b[0m\u001b[0m\n",
      "\u001b[0;32m~/FKMC/FKMC/import_funcs.py\u001b[0m in \u001b[0;36mcopy\u001b[0;34m(requested_observables, datafiles, observables, MCMC_slice)\u001b[0m\n\u001b[1;32m    245\u001b[0m         \u001b[0;31m#load this datafile\u001b[0m\u001b[0;34m\u001b[0m\u001b[0;34m\u001b[0m\u001b[0;34m\u001b[0m\u001b[0m\n\u001b[1;32m    246\u001b[0m         \u001b[0;32mtry\u001b[0m\u001b[0;34m:\u001b[0m\u001b[0;34m\u001b[0m\u001b[0;34m\u001b[0m\u001b[0m\n\u001b[0;32m--> 247\u001b[0;31m             \u001b[0mnpz_file\u001b[0m \u001b[0;34m=\u001b[0m \u001b[0mnp\u001b[0m\u001b[0;34m.\u001b[0m\u001b[0mload\u001b[0m\u001b[0;34m(\u001b[0m\u001b[0mfile\u001b[0m\u001b[0;34m,\u001b[0m \u001b[0mallow_pickle\u001b[0m \u001b[0;34m=\u001b[0m \u001b[0;32mTrue\u001b[0m\u001b[0;34m)\u001b[0m\u001b[0;34m[\u001b[0m\u001b[0;34m'logs'\u001b[0m\u001b[0;34m]\u001b[0m\u001b[0;34m\u001b[0m\u001b[0;34m\u001b[0m\u001b[0m\n\u001b[0m\u001b[1;32m    248\u001b[0m         \u001b[0;32mexcept\u001b[0m \u001b[0mException\u001b[0m \u001b[0;32mas\u001b[0m \u001b[0me\u001b[0m\u001b[0;34m:\u001b[0m\u001b[0;34m\u001b[0m\u001b[0;34m\u001b[0m\u001b[0m\n\u001b[1;32m    249\u001b[0m             \u001b[0mlogger\u001b[0m\u001b[0;34m.\u001b[0m\u001b[0mwarning\u001b[0m\u001b[0;34m(\u001b[0m\u001b[0;34mf'{e} on {file}'\u001b[0m\u001b[0;34m)\u001b[0m\u001b[0;34m\u001b[0m\u001b[0;34m\u001b[0m\u001b[0m\n",
      "\u001b[0;32m~/conda-envs/intelpython3.5/lib/python3.6/site-packages/numpy/lib/npyio.py\u001b[0m in \u001b[0;36mload\u001b[0;34m(file, mmap_mode, allow_pickle, fix_imports, encoding)\u001b[0m\n\u001b[1;32m    427\u001b[0m         \u001b[0m_ZIP_SUFFIX\u001b[0m \u001b[0;34m=\u001b[0m \u001b[0;34mb'PK\\x05\\x06'\u001b[0m \u001b[0;31m# empty zip files start with this\u001b[0m\u001b[0;34m\u001b[0m\u001b[0;34m\u001b[0m\u001b[0m\n\u001b[1;32m    428\u001b[0m         \u001b[0mN\u001b[0m \u001b[0;34m=\u001b[0m \u001b[0mlen\u001b[0m\u001b[0;34m(\u001b[0m\u001b[0mformat\u001b[0m\u001b[0;34m.\u001b[0m\u001b[0mMAGIC_PREFIX\u001b[0m\u001b[0;34m)\u001b[0m\u001b[0;34m\u001b[0m\u001b[0;34m\u001b[0m\u001b[0m\n\u001b[0;32m--> 429\u001b[0;31m         \u001b[0mmagic\u001b[0m \u001b[0;34m=\u001b[0m \u001b[0mfid\u001b[0m\u001b[0;34m.\u001b[0m\u001b[0mread\u001b[0m\u001b[0;34m(\u001b[0m\u001b[0mN\u001b[0m\u001b[0;34m)\u001b[0m\u001b[0;34m\u001b[0m\u001b[0;34m\u001b[0m\u001b[0m\n\u001b[0m\u001b[1;32m    430\u001b[0m         \u001b[0;31m# If the file size is less than N, we need to make sure not\u001b[0m\u001b[0;34m\u001b[0m\u001b[0;34m\u001b[0m\u001b[0;34m\u001b[0m\u001b[0m\n\u001b[1;32m    431\u001b[0m         \u001b[0;31m# to seek past the beginning of the file\u001b[0m\u001b[0;34m\u001b[0m\u001b[0;34m\u001b[0m\u001b[0;34m\u001b[0m\u001b[0m\n",
      "\u001b[0;31mKeyboardInterrupt\u001b[0m: "
     ]
    }
   ],
   "source": [
    "long_range_ids = [119700 + i for i in [33, 34, 37, 39, 41, 42, 44, 45]]\n",
    "LR_raw = load_data(long_range_ids)"
   ]
  },
  {
   "cell_type": "code",
   "execution_count": 10,
   "metadata": {},
   "outputs": [
    {
     "name": "stdout",
     "output_type": "stream",
     "text": [
      "dict_keys(['total_size', 'Mf_moments', 'eigenvals', 'IPRs', 'Ns', 'Ts', 'parameters', 'MCMC_params', 'desc', 'structure_names', 'structure_dims', 'hints', 'T'])\n",
      "IPRs.shape = (200, 16000), E_vals.shape = (200, 16000)\n",
      "IPRs.shape = (200, 32000), E_vals.shape = (200, 32000)\n",
      "IPRs.shape = (200, 64000), E_vals.shape = (200, 64000)\n",
      "IPRs.shape = (200, 128000), E_vals.shape = (200, 128000)\n",
      "IPRs.shape = (200, 256000), E_vals.shape = (200, 256000)\n",
      "IPRs.shape = (200, 512000), E_vals.shape = (200, 512000)\n",
      "Pickling Successful\n"
     ]
    }
   ],
   "source": [
    "def save_DOS_and_IPR_means(filename, raw_data):\n",
    "    ob = Munch()\n",
    "    single_run = next(iter(raw_data.values()))\n",
    "    print(single_run.keys())\n",
    "    \n",
    "    #copy all of the stuff that doesn't change over\n",
    "    for key in ['Ns', 'parameters', 'MCMC_params', 'desc', 'structure_names', 'structure_dims', 'hints']:\n",
    "        ob[key] = single_run[key]\n",
    "        \n",
    "    ob.Ts = np.concatenate([o.Ts for o in raw_data.values() if o], axis = 0)\n",
    "    #si = np.argsort(ob.Ts)\n",
    "    #ob.Ts = ob.Ts[si]\n",
    "\n",
    "    \n",
    "    ob.E_bins = np.linspace(-6, 6, 2000 + 1)\n",
    "    ob.E_hist = [None for N in ob.Ns]\n",
    "    ob.IPR_hist = [None for N in ob.Ns]\n",
    "    \n",
    "    return None\n",
    "\n",
    "    for i, N in enumerate(ob.Ns):\n",
    "        E_vals = np.concatenate([a.eigenvals[i] for a in raw_data.values() if a], axis = 0)\n",
    "        IPRs = np.concatenate([a.IPRs[i] for a in raw_data.values() if a], axis = 0)\n",
    "\n",
    "        #use this to select specific initial states if necessary \n",
    "\n",
    "        \n",
    "        newshape = E_vals.shape[0:1] + (-1,)\n",
    "        IPRs = IPRs.reshape(*newshape)\n",
    "        E_vals = E_vals.reshape(*newshape)\n",
    "\n",
    "        shapes(IPRs=IPRs, E_vals = E_vals)\n",
    "\n",
    "        \n",
    "        ob.E_hist[i], _, indices = index_histogram_array(ob.E_bins, E_vals)\n",
    "        ob.IPR_hist[i] = sort_IPRs(indices, IPRs, ob.E_bins)\n",
    "        \n",
    "    with open(filename, 'wb') as file:\n",
    "            pickle.dump(ob, file, pickle.HIGHEST_PROTOCOL)\n",
    "            print('Pickling Successful')\n",
    "\n",
    "save_DOS_and_IPR_means('/data/users/tch14/pickled_data/Long_range_IPR_and_DOS_processed.pickle', raw_data = LR_raw)"
   ]
  },
  {
   "cell_type": "code",
   "execution_count": 28,
   "metadata": {},
   "outputs": [
    {
     "name": "stdout",
     "output_type": "stream",
     "text": [
      "dict_keys(['total_size', 'Mf_moments', 'eigenvals', 'IPRs', 'Ns', 'Ts', 'parameters', 'MCMC_params', 'desc', 'structure_names', 'structure_dims', 'hints', 'T'])\n"
     ]
    }
   ],
   "source": [
    "LR_concat = concat_data(LR_raw)"
   ]
  },
  {
   "cell_type": "code",
   "execution_count": 29,
   "metadata": {},
   "outputs": [
    {
     "name": "stdout",
     "output_type": "stream",
     "text": [
      "Pickling Successful\n"
     ]
    }
   ],
   "source": [
    "save_data('/data/users/tch14/pickled_data/Long_range_linear_T.pickle', LR_concat)"
   ]
  },
  {
   "cell_type": "code",
   "execution_count": 30,
   "metadata": {},
   "outputs": [],
   "source": [
    "del LR_raw"
   ]
  },
  {
   "cell_type": "code",
   "execution_count": 31,
   "metadata": {},
   "outputs": [],
   "source": [
    "del LR_concat"
   ]
  },
  {
   "cell_type": "code",
   "execution_count": null,
   "metadata": {},
   "outputs": [],
   "source": [
    "LR_raw[0]"
   ]
  },
  {
   "cell_type": "code",
   "execution_count": 29,
   "metadata": {},
   "outputs": [
    {
     "name": "stdout",
     "output_type": "stream",
     "text": [
      "dict_keys(['total_size', 'Mf_moments', 'eigenvals', 'IPRs', 'state', 'Ns', 'Ts', 'parameters', 'MCMC_params', 'desc', 'structure_names', 'structure_dims', 'hints', 'T'])\n",
      "ob.hints.state = ('Ns', 'Ts', 'repeats', 'initial_state', 'MCstep', 'N')\n",
      "[ 0.5 -0.5  0.5 -0.5]\n",
      "[ 0.5 -0.5  0.5 -0.5  0.5 -0.5  0.5 -0.5]\n",
      "[-0.5  0.5 -0.5  0.5 -0.5  0.5 -0.5  0.5 -0.5  0.5 -0.5  0.5 -0.5  0.5\n",
      " -0.5  0.5]\n",
      "[ 0.5 -0.5  0.5 -0.5  0.5 -0.5  0.5 -0.5  0.5 -0.5  0.5 -0.5  0.5 -0.5\n",
      "  0.5 -0.5  0.5 -0.5  0.5 -0.5  0.5 -0.5  0.5 -0.5  0.5 -0.5  0.5 -0.5\n",
      "  0.5 -0.5  0.5 -0.5]\n",
      "[-0.5  0.5 -0.5  0.5 -0.5  0.5 -0.5  0.5 -0.5  0.5 -0.5  0.5 -0.5  0.5\n",
      " -0.5  0.5 -0.5  0.5 -0.5  0.5 -0.5  0.5 -0.5  0.5 -0.5  0.5 -0.5  0.5\n",
      " -0.5  0.5 -0.5  0.5 -0.5  0.5 -0.5  0.5 -0.5  0.5 -0.5  0.5 -0.5  0.5\n",
      " -0.5  0.5 -0.5  0.5 -0.5  0.5 -0.5  0.5 -0.5  0.5 -0.5  0.5 -0.5  0.5\n",
      " -0.5  0.5 -0.5  0.5 -0.5  0.5 -0.5  0.5]\n",
      "[-0.5  0.5 -0.5  0.5 -0.5  0.5 -0.5  0.5 -0.5  0.5 -0.5  0.5 -0.5  0.5\n",
      " -0.5  0.5 -0.5  0.5 -0.5  0.5 -0.5  0.5 -0.5  0.5 -0.5  0.5 -0.5  0.5\n",
      " -0.5  0.5 -0.5  0.5 -0.5  0.5 -0.5  0.5 -0.5  0.5 -0.5  0.5 -0.5  0.5\n",
      " -0.5  0.5 -0.5  0.5 -0.5  0.5 -0.5  0.5 -0.5  0.5 -0.5  0.5 -0.5  0.5\n",
      " -0.5  0.5 -0.5  0.5 -0.5  0.5 -0.5  0.5 -0.5  0.5 -0.5  0.5 -0.5  0.5\n",
      " -0.5  0.5 -0.5  0.5 -0.5  0.5 -0.5  0.5 -0.5  0.5 -0.5  0.5 -0.5  0.5\n",
      " -0.5  0.5 -0.5  0.5 -0.5  0.5 -0.5  0.5 -0.5  0.5 -0.5  0.5 -0.5  0.5\n",
      " -0.5  0.5 -0.5  0.5 -0.5  0.5 -0.5  0.5 -0.5  0.5 -0.5  0.5 -0.5  0.5\n",
      " -0.5  0.5 -0.5  0.5 -0.5  0.5 -0.5  0.5 -0.5  0.5 -0.5  0.5 -0.5  0.5\n",
      " -0.5  0.5]\n",
      "(200, 128, 128)\n",
      "Pickling Successful\n"
     ]
    },
    {
     "data": {
      "image/png": "[encoded data removed]",
      "text/plain": [
       "<Figure size 700x700 with 3 Axes>"
      ]
     },
     "metadata": {},
     "output_type": "display_data"
    }
   ],
   "source": [
    "from FKMC.general import solve_H_vectorised, diag2column, spread\n",
    "from itertools import count\n",
    "\n",
    "def save_correlation_functions(filename, raw_data):\n",
    "    ob = Munch()\n",
    "    single_run = next(iter(raw_data.values()))\n",
    "    print(single_run.keys())\n",
    "    \n",
    "    #copy all of the stuff that doesn't change over\n",
    "    for key in ['Ns', 'parameters', 'MCMC_params', 'desc', 'structure_names', 'structure_dims', 'hints']:\n",
    "        ob[key] = single_run[key]\n",
    "        \n",
    "    ob.Ts = np.concatenate([o.Ts for o in raw_data.values() if o], axis = 0)\n",
    "    \n",
    "    print(f'ob.hints.state = {ob.hints.state}')\n",
    "    \n",
    "    #ob.E_bins = np.linspace(-6, 6, 2000 + 1)\n",
    "    #ob.E_hist = [None for N in ob.Ns]\n",
    "    #ob.IPR_hist = [None for N in ob.Ns]\n",
    "    ob.C = [None for N in ob.Ns]\n",
    "    ob.R = [None for N in ob.Ns]\n",
    "    \n",
    "    ob.hints.C = ('Ts', 'repeats', 'N')\n",
    "    ob.hints.R = ('Ts', 'repeats', 'N')\n",
    "    \n",
    "    f, axes = plt.subplots(1, 3, figsize = (10,10))\n",
    "    \n",
    "    for i, N in zip(count(), ob.Ns):\n",
    "        '''\n",
    "        E_vals = np.concatenate([a.eigenvals[i] for a in raw_data.values() if a], axis = 0)\n",
    "        IPRs = np.concatenate([a.IPRs[i] for a in raw_data.values() if a], axis = 0)\n",
    "\n",
    "        #use this to select specific initial states if necessary \n",
    "\n",
    "        newshape = E_vals.shape[0:1] + (-1,)\n",
    "        IPRs = IPRs.reshape(*newshape)\n",
    "        E_vals = E_vals.reshape(*newshape)\n",
    "\n",
    "        shapes(IPRs=IPRs, E_vals = E_vals)\n",
    "\n",
    "        \n",
    "        ob.E_hist[i], _, indices = index_histogram_array(ob.E_bins, E_vals)\n",
    "        ob.IPR_hist[i] = sort_IPRs(indices, IPRs, ob.E_bins)\n",
    "        '''\n",
    "        state = np.concatenate([a.state[i] for a in raw_data.values() if a], axis = 0)\n",
    "        state = state - 1/2\n",
    "        \n",
    "        print(state[0, 0, 0, 0, :]) #zeros and ones\n",
    "        sT, srepeats, sinitial, sMCstep, sN = state.shape\n",
    "        state = state.reshape(sT, srepeats*sinitial*sMCstep, sN)\n",
    "        \n",
    "        alternating = 2*(np.arange(sN) % 2) - 1\n",
    "        state = state * alternating\n",
    "        \n",
    "        \n",
    "        #do it for each temperature\n",
    "        ob.C[i] = np.array([diag2column(np.cov(state[j], rowvar = False)) for j in range(sT)])\n",
    "        ob.R[i] = np.array([diag2column(np.corrcoef(state[j], rowvar = False)) for j in range(sT)])\n",
    "        \n",
    "        axes[0].loglog(ob.C[i][100].mean(axis = 0), label = f'N = {N}')\n",
    "        axes[1].loglog(ob.R[i][100].mean(axis = 0))\n",
    "\n",
    "        \n",
    "    #axes[2].loglog(C[0, : ], label = 'Correlator')\n",
    "    axes[0].legend()\n",
    "    print(ob.R[-1].shape)\n",
    "    axes[2].pcolormesh(ob.R[-1].mean(axis = 2))\n",
    "        \n",
    "        \n",
    "    with open(filename, 'wb') as file:\n",
    "            pickle.dump(ob, file, pickle.HIGHEST_PROTOCOL)\n",
    "            print('Pickling Successful')\n",
    "\n",
    "save_correlation_functions('/data/users/tch14/pickled_data/Long_range_linear_T_correlation_funcs.pickle', LR_raw)"
   ]
  },
  {
   "cell_type": "code",
   "execution_count": 8,
   "metadata": {},
   "outputs": [],
   "source": [
    "def load(i): \n",
    "    #copy stuff to the workspace for faster file access\n",
    "    p = Path(f'/workspace/tch14/slurm_runs_scratch/{i}')\n",
    "    if not p.exists():\n",
    "        logger.info(f'Copying {i} into workspace first.')\n",
    "        t = time()\n",
    "        original = Path(f'/data/users/tch14/slurm_runs/{i}')\n",
    "        shutil.copytree(src = original, dst = p)\n",
    "        logger.info(f'Took {time() - t:.0f}s to do the copy.')\n",
    "    \n",
    "    return get_data_funcmap(p,\n",
    "                functions = [IPRandDOS(), mean_over_MCMC('Mf_moments')],\n",
    "                structure_names = ('Ts','repeats','initial_state'),\n",
    "                structure_dims = (None, 10, 4),\n",
    "               )\n",
    "\n",
    "def load_data(data_ids):\n",
    "    return {i : load(i) for i in data_ids}\n",
    "\n",
    "def load_data_multi(data_ids):\n",
    "    with Pool(6) as p:\n",
    "        data = p.map(load, data_ids)\n",
    "        obs = {i : d for i, d in zip(data_ids, data)}\n",
    "    return obs"
   ]
  },
  {
   "cell_type": "code",
   "execution_count": 5,
   "metadata": {},
   "outputs": [
    {
     "name": "stdout",
     "output_type": "stream",
     "text": [
      "CRITICAL:FKMC.import_funcs:looking in /workspace/tch14/slurm_runs_scratch/119742\n",
      "CRITICAL:FKMC.import_funcs:looking in /workspace/tch14/slurm_runs_scratch/119739\n",
      "CRITICAL:FKMC.import_funcs:looking in /workspace/tch14/slurm_runs_scratch/119741\n",
      "CRITICAL:FKMC.import_funcs:looking in /workspace/tch14/slurm_runs_scratch/119733\n",
      "CRITICAL:FKMC.import_funcs:looking in /workspace/tch14/slurm_runs_scratch/119737\n",
      "CRITICAL:FKMC.import_funcs:looking in /workspace/tch14/slurm_runs_scratch/119734\n",
      "INFO:FKMC.import_funcs:job ids range from 0 to 999\n",
      "INFO:FKMC.import_funcs:job ids range from 0 to 999\n",
      "INFO:FKMC.import_funcs:job ids range from 0 to 999\n",
      "INFO:FKMC.import_funcs:job ids range from 0 to 999\n",
      "INFO:FKMC.import_funcs:job ids range from 0 to 999\n",
      "INFO:FKMC.import_funcs:job ids range from 0 to 999\n",
      "INFO:FKMC.import_funcs:structure_names = ('Ts', 'repeats', 'initial_state')\n",
      "INFO:FKMC.import_funcs:structure_dims = (25, 10, 4)\n",
      "INFO:FKMC.import_funcs:Expected number of jobs 1000\n",
      "INFO:FKMC.import_funcs:Logger keys: ['Ns', 'Ts', 'parameters', 'MCMC_params', 'logs', 'desc'] \n",
      "\n",
      "INFO:FKMC.import_funcs:MCMC_params: {'state': '...', 'N_steps': 100000, 'N_burn_in': 1000, 'thin': 1000, 'logger': <FKMC.montecarlo.Eigenspectrum_IPR_all object at 0x7fbf73d687b8>, 'proposal': <function p_multi_site_uniform_reflect at 0x7fbf37bcf598>, 'accept_function': <function perturbation_accept at 0x7fbf37bcf8c8>, 'warnings': True} \n",
      "\n",
      "INFO:FKMC.import_funcs:MCMC Steps: 100000 with thinning = 1000 for 100 recorded steps\n",
      "INFO:FKMC.import_funcs:[(0, 'Ts', 25), (1, 'repeats', 10), (2, 'initial_state', 4)]\n",
      "INFO:FKMC.import_funcs:available observables = ['A', 'Fc', 'Ff', 'IPRs', 'Mf_moments', 'N_cumulants', 'N_sites', 'N_steps', 'Nc', 'Nf', 'accept_rates', 'classical_accept_rates', 'eigenval_bins', 'eigenvals', 'last_state', 'powers', 'proposal_rates', 'return_vals', 'start', 'state', 'time', 'update']\n",
      "INFO:FKMC.import_funcs:Allocating space for the requested observables:\n",
      "INFO:FKMC.import_funcs:structure_names = ('Ts', 'repeats', 'initial_state')\n",
      "INFO:FKMC.import_funcs:structure_dims = (25, 10, 4)\n",
      "INFO:FKMC.import_funcs:Expected number of jobs 1000\n",
      "INFO:FKMC.import_funcs:Logger keys: ['Ns', 'Ts', 'parameters', 'MCMC_params', 'logs', 'desc'] \n",
      "\n",
      "INFO:FKMC.import_funcs:MCMC_params: {'state': '...', 'N_steps': 100000, 'N_burn_in': 1000, 'thin': 1000, 'logger': <FKMC.montecarlo.Eigenspectrum_IPR_all object at 0x7fbf73d69710>, 'proposal': <function p_multi_site_uniform_reflect at 0x7fbf37bcf598>, 'accept_function': <function perturbation_accept at 0x7fbf37bcf8c8>, 'warnings': True} \n",
      "\n",
      "INFO:FKMC.import_funcs:structure_names = ('Ts', 'repeats', 'initial_state')\n",
      "INFO:FKMC.import_funcs:MCMC Steps: 100000 with thinning = 1000 for 100 recorded steps\n",
      "INFO:FKMC.import_funcs:[(0, 'Ts', 25), (1, 'repeats', 10), (2, 'initial_state', 4)]\n",
      "INFO:FKMC.import_funcs:structure_dims = (25, 10, 4)\n",
      "INFO:FKMC.import_funcs:available observables = ['A', 'Fc', 'Ff', 'IPRs', 'Mf_moments', 'N_cumulants', 'N_sites', 'N_steps', 'Nc', 'Nf', 'accept_rates', 'classical_accept_rates', 'eigenval_bins', 'eigenvals', 'last_state', 'powers', 'proposal_rates', 'return_vals', 'start', 'state', 'time', 'update']\n",
      "INFO:FKMC.import_funcs:Expected number of jobs 1000\n",
      "INFO:FKMC.import_funcs:Allocating space for the requested observables:\n",
      "INFO:FKMC.import_funcs:Logger keys: ['Ns', 'Ts', 'parameters', 'MCMC_params', 'logs', 'desc'] \n",
      "\n",
      "INFO:FKMC.import_funcs:MCMC_params: {'state': '...', 'N_steps': 100000, 'N_burn_in': 1000, 'thin': 1000, 'logger': <FKMC.montecarlo.Eigenspectrum_IPR_all object at 0x7fbf73d695f8>, 'proposal': <function p_multi_site_uniform_reflect at 0x7fbf37bcf598>, 'accept_function': <function perturbation_accept at 0x7fbf37bcf8c8>, 'warnings': True} \n",
      "\n",
      "INFO:FKMC.import_funcs:MCMC Steps: 100000 with thinning = 1000 for 100 recorded steps\n",
      "INFO:FKMC.import_funcs:[(0, 'Ts', 25), (1, 'repeats', 10), (2, 'initial_state', 4)]\n",
      "INFO:FKMC.import_funcs:available observables = ['A', 'Fc', 'Ff', 'IPRs', 'Mf_moments', 'N_cumulants', 'N_sites', 'N_steps', 'Nc', 'Nf', 'accept_rates', 'classical_accept_rates', 'eigenval_bins', 'eigenvals', 'last_state', 'powers', 'proposal_rates', 'return_vals', 'start', 'state', 'time', 'update']\n",
      "INFO:FKMC.import_funcs:Allocating space for the requested observables:\n",
      "INFO:FKMC.import_funcs:structure_names = ('Ts', 'repeats', 'initial_state')\n",
      "INFO:FKMC.import_funcs:structure_dims = (25, 10, 4)\n",
      "INFO:FKMC.import_funcs:structure_names = ('Ts', 'repeats', 'initial_state')\n",
      "INFO:FKMC.import_funcs:Expected number of jobs 1000\n",
      "INFO:FKMC.import_funcs:Logger keys: ['Ns', 'Ts', 'parameters', 'MCMC_params', 'logs', 'desc'] \n",
      "INFO:FKMC.import_funcs:structure_dims = (25, 10, 4)\n",
      "\n",
      "INFO:FKMC.import_funcs:Expected number of jobs 1000\n",
      "INFO:FKMC.import_funcs:MCMC_params: {'state': '...', 'N_steps': 100000, 'N_burn_in': 1000, 'thin': 1000, 'logger': <FKMC.montecarlo.Eigenspectrum_IPR_all object at 0x7fbf73d68908>, 'proposal': <function p_multi_site_uniform_reflect at 0x7fbf37bcf598>, 'accept_function': <function perturbation_accept at 0x7fbf37bcf8c8>, 'warnings': True} \n",
      "INFO:FKMC.import_funcs:Logger keys: ['Ns', 'Ts', 'parameters', 'MCMC_params', 'logs', 'desc'] \n",
      "\n",
      "INFO:FKMC.import_funcs:MCMC Steps: 100000 with thinning = 1000 for 100 recorded steps\n",
      "INFO:FKMC.import_funcs:[(0, 'Ts', 25), (1, 'repeats', 10), (2, 'initial_state', 4)]\n",
      "\n",
      "INFO:FKMC.import_funcs:available observables = ['A', 'Fc', 'Ff', 'IPRs', 'Mf_moments', 'N_cumulants', 'N_sites', 'N_steps', 'Nc', 'Nf', 'accept_rates', 'classical_accept_rates', 'eigenval_bins', 'eigenvals', 'last_state', 'powers', 'proposal_rates', 'return_vals', 'start', 'state', 'time', 'update']\n",
      "INFO:FKMC.import_funcs:MCMC_params: {'state': '...', 'N_steps': 100000, 'N_burn_in': 1000, 'thin': 1000, 'logger': <FKMC.montecarlo.Eigenspectrum_IPR_all object at 0x7fbf73d69668>, 'proposal': <function p_multi_site_uniform_reflect at 0x7fbf37bcf598>, 'accept_function': <function perturbation_accept at 0x7fbf37bcf8c8>, 'warnings': True} \n",
      "INFO:FKMC.import_funcs:Allocating space for the requested observables:\n",
      "\n",
      "INFO:FKMC.import_funcs:structure_names = ('Ts', 'repeats', 'initial_state')\n",
      "INFO:FKMC.import_funcs:MCMC Steps: 100000 with thinning = 1000 for 100 recorded steps\n",
      "INFO:FKMC.import_funcs:structure_dims = (25, 10, 4)\n",
      "INFO:FKMC.import_funcs:Expected number of jobs 1000\n",
      "INFO:FKMC.import_funcs:[(0, 'Ts', 25), (1, 'repeats', 10), (2, 'initial_state', 4)]\n",
      "INFO:FKMC.import_funcs:Logger keys: ['Ns', 'Ts', 'parameters', 'MCMC_params', 'logs', 'desc'] \n",
      "\n",
      "INFO:FKMC.import_funcs:MCMC_params: {'state': '...', 'N_steps': 100000, 'N_burn_in': 1000, 'thin': 1000, 'logger': <FKMC.montecarlo.Eigenspectrum_IPR_all object at 0x7fbf73d68860>, 'proposal': <function p_multi_site_uniform_reflect at 0x7fbf37bcf598>, 'accept_function': <function perturbation_accept at 0x7fbf37bcf8c8>, 'warnings': True} \n",
      "INFO:FKMC.import_funcs:available observables = ['A', 'Fc', 'Ff', 'IPRs', 'Mf_moments', 'N_cumulants', 'N_sites', 'N_steps', 'Nc', 'Nf', 'accept_rates', 'classical_accept_rates', 'eigenval_bins', 'eigenvals', 'last_state', 'powers', 'proposal_rates', 'return_vals', 'start', 'state', 'time', 'update']\n",
      "\n",
      "INFO:FKMC.import_funcs:MCMC Steps: 100000 with thinning = 1000 for 100 recorded steps\n",
      "INFO:FKMC.import_funcs:[(0, 'Ts', 25), (1, 'repeats', 10), (2, 'initial_state', 4)]\n",
      "INFO:FKMC.import_funcs:Allocating space for the requested observables:\n",
      "INFO:FKMC.import_funcs:available observables = ['A', 'Fc', 'Ff', 'IPRs', 'Mf_moments', 'N_cumulants', 'N_sites', 'N_steps', 'Nc', 'Nf', 'accept_rates', 'classical_accept_rates', 'eigenval_bins', 'eigenvals', 'last_state', 'powers', 'proposal_rates', 'return_vals', 'start', 'state', 'time', 'update']\n",
      "INFO:FKMC.import_funcs:Allocating space for the requested observables:\n",
      "INFO:FKMC.import_funcs:observables['IPRs'] = np.array(shape = (6, 1000, 2000), dtype = <class 'numpy.float64'>) approx size: 0.05Gb\n",
      "INFO:FKMC.import_funcs:observables['DOS'] = np.array(shape = (6, 1000, 2000), dtype = <class 'numpy.float64'>) approx size: 0.05Gb\n",
      "INFO:FKMC.import_funcs:observables['Mf_moments'] = np.array(shape = (6, 1000, 5), dtype = float64) approx size: 0.00Gb\n",
      "INFO:FKMC.import_funcs:observables['IPRs'] = np.array(shape = (6, 1000, 2000), dtype = <class 'numpy.float64'>) approx size: 0.05Gb\n",
      "INFO:FKMC.import_funcs:observables['DOS'] = np.array(shape = (6, 1000, 2000), dtype = <class 'numpy.float64'>) approx size: 0.05Gb\n",
      "INFO:FKMC.import_funcs:observables['IPRs'] = np.array(shape = (6, 1000, 2000), dtype = <class 'numpy.float64'>) approx size: 0.05Gb\n",
      "INFO:FKMC.import_funcs:observables['DOS'] = np.array(shape = (6, 1000, 2000), dtype = <class 'numpy.float64'>) approx size: 0.05Gb\n",
      "INFO:FKMC.import_funcs:observables['Mf_moments'] = np.array(shape = (6, 1000, 5), dtype = float64) approx size: 0.00Gb\n",
      "INFO:FKMC.import_funcs:observables['Mf_moments'] = np.array(shape = (6, 1000, 5), dtype = float64) approx size: 0.00Gb\n",
      "INFO:FKMC.import_funcs:observables['IPRs'] = np.array(shape = (6, 1000, 2000), dtype = <class 'numpy.float64'>) approx size: 0.05Gb\n",
      "INFO:FKMC.import_funcs:observables['DOS'] = np.array(shape = (6, 1000, 2000), dtype = <class 'numpy.float64'>) approx size: 0.05Gb\n",
      "INFO:FKMC.import_funcs:observables['Mf_moments'] = np.array(shape = (6, 1000, 5), dtype = float64) approx size: 0.00Gb\n",
      "INFO:FKMC.import_funcs:observables['IPRs'] = np.array(shape = (6, 1000, 2000), dtype = <class 'numpy.float64'>) approx size: 0.05Gb\n",
      "INFO:FKMC.import_funcs:observables['IPRs'] = np.array(shape = (6, 1000, 2000), dtype = <class 'numpy.float64'>) approx size: 0.05Gb\n",
      "INFO:FKMC.import_funcs:observables['DOS'] = np.array(shape = (6, 1000, 2000), dtype = <class 'numpy.float64'>) approx size: 0.05Gb\n",
      "INFO:FKMC.import_funcs:observables['DOS'] = np.array(shape = (6, 1000, 2000), dtype = <class 'numpy.float64'>) approx size: 0.05Gb\n",
      "INFO:FKMC.import_funcs:observables['Mf_moments'] = np.array(shape = (6, 1000, 5), dtype = float64) approx size: 0.00Gb\n",
      "INFO:FKMC.import_funcs:observables['Mf_moments'] = np.array(shape = (6, 1000, 5), dtype = float64) approx size: 0.00Gb\n",
      "0 INFO:FKMC.import_funcs:\n",
      "Took 1.69s to do the first 10, should take 167.57s to do the remaining 990\n",
      "\n",
      "INFO:FKMC.import_funcs:After 10 files, 24.5% of the time was file I/O\n",
      "0 INFO:FKMC.import_funcs:\n",
      "Took 1.74s to do the first 10, should take 172.20s to do the remaining 990\n",
      "\n",
      "INFO:FKMC.import_funcs:After 10 files, 29.8% of the time was file I/O\n",
      "0 INFO:FKMC.import_funcs:\n",
      "Took 1.85s to do the first 10, should take 183.07s to do the remaining 990\n",
      "\n",
      "INFO:FKMC.import_funcs:After 10 files, 35.7% of the time was file I/O\n",
      "0 INFO:FKMC.import_funcs:\n",
      "Took 1.95s to do the first 10, should take 193.50s to do the remaining 990\n",
      "\n",
      "INFO:FKMC.import_funcs:After 10 files, 35.8% of the time was file I/O\n",
      "0 INFO:FKMC.import_funcs:\n",
      "Took 1.96s to do the first 10, should take 194.44s to do the remaining 990\n",
      "\n",
      "INFO:FKMC.import_funcs:After 10 files, 39.1% of the time was file I/O\n",
      "0 INFO:FKMC.import_funcs:\n",
      "Took 2.06s to do the first 10, should take 203.57s to do the remaining 990\n",
      "\n",
      "INFO:FKMC.import_funcs:After 10 files, 39.1% of the time was file I/O\n",
      "20 40 60 80 100 INFO:FKMC.import_funcs:After 100 files, 32.0% of the time was file I/O\n",
      "20 40 60 80 100 INFO:FKMC.import_funcs:After 100 files, 33.3% of the time was file I/O\n",
      "20 40 60 80 100 INFO:FKMC.import_funcs:After 100 files, 38.9% of the time was file I/O\n",
      "20 40 60 80 100 INFO:FKMC.import_funcs:After 100 files, 41.5% of the time was file I/O\n",
      "20 40 60 80 100 INFO:FKMC.import_funcs:After 100 files, 42.9% of the time was file I/O\n",
      "20 40 60 80 100 INFO:FKMC.import_funcs:After 100 files, 42.1% of the time was file I/O\n",
      "120 140 160 180 200 220 240 260 280 300 320 340 360 380 400 420 440 460 480 INFO:FKMC.import_funcs:\n",
      "Took 71.22s to do the first 500, should take 71.22s to do the remaining 500\n",
      "\n",
      "120 140 160 180 200 220 240 260 280 300 320 340 360 380 400 420 440 460 480 INFO:FKMC.import_funcs:\n",
      "Took 79.62s to do the first 500, should take 79.62s to do the remaining 500\n",
      "\n",
      "120 140 160 180 200 220 240 260 280 300 320 340 360 380 400 420 440 460 480 INFO:FKMC.import_funcs:\n",
      "Took 86.36s to do the first 500, should take 86.36s to do the remaining 500\n",
      "\n",
      "120 140 160 180 200 220 240 260 280 300 320 340 360 380 400 420 440 460 480 INFO:FKMC.import_funcs:\n",
      "Took 88.76s to do the first 500, should take 88.76s to do the remaining 500\n",
      "\n",
      "120 140 160 180 200 220 240 260 280 300 320 340 360 380 400 420 440 460 480 INFO:FKMC.import_funcs:\n",
      "Took 89.21s to do the first 500, should take 89.21s to do the remaining 500\n",
      "\n",
      "120 140 160 180 200 220 240 260 280 300 320 340 360 380 400 420 440 460 480 INFO:FKMC.import_funcs:\n",
      "Took 90.53s to do the first 500, should take 90.53s to do the remaining 500\n",
      "\n",
      "500 520 540 560 580 600 620 640 660 680 700 720 740 760 780 800 820 840 860 880 900 920 940 960 980 INFO:FKMC.import_funcs:########################################################################\n",
      "\n",
      "INFO:FKMC.import_funcs:Observables has keys: dict_keys(['E_bins', 'IPR', 'DOS', 'dIPR', 'dDOS', 'Mf_moments', 'sigma_Mf_moments', 'Ns', 'Ts', 'parameters', 'MCMC_params', 'desc', 'structure_names', 'structure_dims', 'hints', 'T'])\n",
      "CRITICAL:FKMC.import_funcs:looking in /workspace/tch14/slurm_runs_scratch/119744\n",
      "INFO:FKMC.import_funcs:Allocating space for the requested observables:\n",
      "INFO:FKMC.import_funcs:job ids range from 0 to 999\n",
      "INFO:FKMC.import_funcs:structure_names = ('Ts', 'repeats', 'initial_state')\n",
      "INFO:FKMC.import_funcs:structure_dims = (25, 10, 4)\n",
      "INFO:FKMC.import_funcs:Expected number of jobs 1000\n",
      "INFO:FKMC.import_funcs:Logger keys: ['Ns', 'Ts', 'parameters', 'MCMC_params', 'logs', 'desc'] \n",
      "\n",
      "INFO:FKMC.import_funcs:MCMC_params: {'state': '...', 'N_steps': 100000, 'N_burn_in': 1000, 'thin': 1000, 'logger': <FKMC.montecarlo.Eigenspectrum_IPR_all object at 0x7fbf73d95588>, 'proposal': <function p_multi_site_uniform_reflect at 0x7fbf37bcf598>, 'accept_function': <function perturbation_accept at 0x7fbf37bcf8c8>, 'warnings': True} \n",
      "\n",
      "INFO:FKMC.import_funcs:MCMC Steps: 100000 with thinning = 1000 for 100 recorded steps\n",
      "INFO:FKMC.import_funcs:[(0, 'Ts', 25), (1, 'repeats', 10), (2, 'initial_state', 4)]\n",
      "INFO:FKMC.import_funcs:available observables = ['A', 'Fc', 'Ff', 'IPRs', 'Mf_moments', 'N_cumulants', 'N_sites', 'N_steps', 'Nc', 'Nf', 'accept_rates', 'classical_accept_rates', 'eigenval_bins', 'eigenvals', 'last_state', 'powers', 'proposal_rates', 'return_vals', 'start', 'state', 'time', 'update']\n",
      "INFO:FKMC.import_funcs:observables['IPRs'] = np.array(shape = (6, 1000, 2000), dtype = <class 'numpy.float64'>) approx size: 0.05Gb\n",
      "INFO:FKMC.import_funcs:observables['Mf_moments'] = np.array(shape = (6, 1000, 5), dtype = float64) approx size: 0.00Gb\n",
      "INFO:FKMC.import_funcs:observables['DOS'] = np.array(shape = (6, 1000, 2000), dtype = <class 'numpy.float64'>) approx size: 0.05Gb\n",
      "0 INFO:FKMC.import_funcs:\n",
      "Took 1.65s to do the first 10, should take 163.78s to do the remaining 990\n",
      "\n",
      "INFO:FKMC.import_funcs:After 10 files, 21.4% of the time was file I/O\n",
      "500 520 540 560 580 600 620 640 660 680 700 720 740 760 780 800 820 840 860 880 900 920 940 960 980 INFO:FKMC.import_funcs:########################################################################\n",
      "\n",
      "INFO:FKMC.import_funcs:Observables has keys: dict_keys(['E_bins', 'IPR', 'DOS', 'dIPR', 'dDOS', 'Mf_moments', 'sigma_Mf_moments', 'Ns', 'Ts', 'parameters', 'MCMC_params', 'desc', 'structure_names', 'structure_dims', 'hints', 'T'])\n",
      "CRITICAL:FKMC.import_funcs:looking in /workspace/tch14/slurm_runs_scratch/119745\n",
      "INFO:FKMC.import_funcs:Allocating space for the requested observables:\n",
      "INFO:FKMC.import_funcs:job ids range from 0 to 999\n",
      "INFO:FKMC.import_funcs:structure_names = ('Ts', 'repeats', 'initial_state')\n",
      "INFO:FKMC.import_funcs:structure_dims = (25, 10, 4)\n",
      "INFO:FKMC.import_funcs:Expected number of jobs 1000\n",
      "INFO:FKMC.import_funcs:Logger keys: ['Ns', 'Ts', 'parameters', 'MCMC_params', 'logs', 'desc'] \n",
      "\n",
      "INFO:FKMC.import_funcs:MCMC_params: {'state': '...', 'N_steps': 100000, 'N_burn_in': 1000, 'thin': 1000, 'logger': <FKMC.montecarlo.Eigenspectrum_IPR_all object at 0x7fbf73d925f8>, 'proposal': <function p_multi_site_uniform_reflect at 0x7fbf37bcf598>, 'accept_function': <function perturbation_accept at 0x7fbf37bcf8c8>, 'warnings': True} \n",
      "\n",
      "INFO:FKMC.import_funcs:MCMC Steps: 100000 with thinning = 1000 for 100 recorded steps\n",
      "INFO:FKMC.import_funcs:[(0, 'Ts', 25), (1, 'repeats', 10), (2, 'initial_state', 4)]\n",
      "INFO:FKMC.import_funcs:available observables = ['A', 'Fc', 'Ff', 'IPRs', 'Mf_moments', 'N_cumulants', 'N_sites', 'N_steps', 'Nc', 'Nf', 'accept_rates', 'classical_accept_rates', 'eigenval_bins', 'eigenvals', 'last_state', 'powers', 'proposal_rates', 'return_vals', 'start', 'state', 'time', 'update']\n",
      "INFO:FKMC.import_funcs:observables['IPRs'] = np.array(shape = (6, 1000, 2000), dtype = <class 'numpy.float64'>) approx size: 0.05Gb\n",
      "INFO:FKMC.import_funcs:observables['Mf_moments'] = np.array(shape = (6, 1000, 5), dtype = float64) approx size: 0.00Gb\n",
      "INFO:FKMC.import_funcs:observables['DOS'] = np.array(shape = (6, 1000, 2000), dtype = <class 'numpy.float64'>) approx size: 0.05Gb\n",
      "0 INFO:FKMC.import_funcs:\n",
      "Took 1.70s to do the first 10, should take 168.54s to do the remaining 990\n",
      "\n",
      "INFO:FKMC.import_funcs:After 10 files, 21.7% of the time was file I/O\n",
      "20 40 60 80 100 INFO:FKMC.import_funcs:After 100 files, 23.4% of the time was file I/O\n",
      "500 520 540 560 580 600 620 640 660 680 700 720 740 760 780 800 820 840 860 880 900 920 940 960 980 INFO:FKMC.import_funcs:########################################################################\n",
      "\n",
      "INFO:FKMC.import_funcs:Observables has keys: dict_keys(['E_bins', 'IPR', 'DOS', 'dIPR', 'dDOS', 'Mf_moments', 'sigma_Mf_moments', 'Ns', 'Ts', 'parameters', 'MCMC_params', 'desc', 'structure_names', 'structure_dims', 'hints', 'T'])\n",
      "500 520 540 560 580 600 620 640 660 680 700 720 740 760 780 800 820 840 860 880 900 920 940 960 980 INFO:FKMC.import_funcs:########################################################################\n",
      "INFO:FKMC.import_funcs:Observables has keys: dict_keys(['E_bins', 'IPR', 'DOS', 'dIPR', 'dDOS', 'Mf_moments', 'sigma_Mf_moments', 'Ns', 'Ts', 'parameters', 'MCMC_params', 'desc', 'structure_names', 'structure_dims', 'hints', 'T'])\n",
      "\n",
      "500 520 540 560 580 600 620 640 660 680 700 720 740 760 780 800 820 840 860 880 900 920 940 960 980 INFO:FKMC.import_funcs:########################################################################\n",
      "\n",
      "INFO:FKMC.import_funcs:Observables has keys: dict_keys(['E_bins', 'IPR', 'DOS', 'dIPR', 'dDOS', 'Mf_moments', 'sigma_Mf_moments', 'Ns', 'Ts', 'parameters', 'MCMC_params', 'desc', 'structure_names', 'structure_dims', 'hints', 'T'])\n",
      "500 520 540 560 580 600 620 640 660 680 700 720 740 760 780 800 820 840 860 880 900 920 940 960 980 INFO:FKMC.import_funcs:########################################################################\n",
      "INFO:FKMC.import_funcs:Observables has keys: dict_keys(['E_bins', 'IPR', 'DOS', 'dIPR', 'dDOS', 'Mf_moments', 'sigma_Mf_moments', 'Ns', 'Ts', 'parameters', 'MCMC_params', 'desc', 'structure_names', 'structure_dims', 'hints', 'T'])\n",
      "\n",
      "20 40 60 80 100 INFO:FKMC.import_funcs:After 100 files, 26.8% of the time was file I/O\n",
      "120 140 160 180 200 220 240 260 280 300 320 340 360 380 400 420 440 460 480 INFO:FKMC.import_funcs:\n",
      "Took 53.85s to do the first 500, should take 53.85s to do the remaining 500\n",
      "\n",
      "120 140 160 180 200 220 240 260 280 300 320 340 360 380 400 420 440 460 480 INFO:FKMC.import_funcs:\n",
      "Took 48.50s to do the first 500, should take 48.50s to do the remaining 500\n",
      "\n",
      "500 520 540 560 580 600 620 640 660 680 700 720 740 760 780 800 820 840 860 880 900 920 940 960 980 INFO:FKMC.import_funcs:########################################################################\n",
      "\n",
      "INFO:FKMC.import_funcs:Observables has keys: dict_keys(['E_bins', 'IPR', 'DOS', 'dIPR', 'dDOS', 'Mf_moments', 'sigma_Mf_moments', 'Ns', 'Ts', 'parameters', 'MCMC_params', 'desc', 'structure_names', 'structure_dims', 'hints', 'T'])\n",
      "500 520 540 560 580 600 620 640 660 680 700 720 740 760 780 800 820 840 860 880 900 920 940 960 980 INFO:FKMC.import_funcs:########################################################################\n",
      "\n",
      "INFO:FKMC.import_funcs:Observables has keys: dict_keys(['E_bins', 'IPR', 'DOS', 'dIPR', 'dDOS', 'Mf_moments', 'sigma_Mf_moments', 'Ns', 'Ts', 'parameters', 'MCMC_params', 'desc', 'structure_names', 'structure_dims', 'hints', 'T'])\n",
      "Done!\n",
      "CPU times: user 2.08 s, sys: 4.08 s, total: 6.16 s\n",
      "Wall time: 3min 58s\n"
     ]
    }
   ],
   "source": [
    "%%time\n",
    "logger = logging.getLogger('FKMC.import_funcs')\n",
    "logger.setLevel(logging.INFO) \n",
    "long_range_ids = [119700 + i for i in [33, 34, 37, 39, 41, 42, 44, 45]]\n",
    "LR_raw = load_data_multi(long_range_ids)\n",
    "print('Done!')"
   ]
  },
  {
   "cell_type": "code",
   "execution_count": 20,
   "metadata": {},
   "outputs": [
    {
     "data": {
      "text/plain": [
       "dict_keys([119733, 119734, 119737, 119739, 119741, 119742, 119744, 119745])"
      ]
     },
     "execution_count": 20,
     "metadata": {},
     "output_type": "execute_result"
    }
   ],
   "source": [
    "LR_raw.keys()"
   ]
  },
  {
   "cell_type": "code",
   "execution_count": 6,
   "metadata": {},
   "outputs": [
    {
     "name": "stdout",
     "output_type": "stream",
     "text": [
      "dict_keys(['E_bins', 'IPR', 'DOS', 'dIPR', 'dDOS', 'Mf_moments', 'sigma_Mf_moments', 'Ns', 'Ts', 'parameters', 'MCMC_params', 'desc', 'structure_names', 'structure_dims', 'hints', 'T'])\n",
      "Copying DOS\n",
      "Copying IPR\n",
      "Copying dIPR\n",
      "Copying dDOS\n",
      "Copying Mf_moments\n",
      "Pickling Successful\n"
     ]
    }
   ],
   "source": [
    "def concat_data(obs):\n",
    "    ob = Munch()\n",
    "    single_run = next(iter(obs.values()))\n",
    "    print(single_run.keys())\n",
    "\n",
    "    #copy all of the stuff that doesn't change over\n",
    "    for key in ['Ns', 'parameters', 'MCMC_params', 'desc', 'structure_names', 'structure_dims', 'hints', 'E_bins']:\n",
    "        ob[key] = single_run[key]\n",
    "        \n",
    "    for name in ['Ts']:\n",
    "        ob[name] = np.concatenate([o[name] for o in obs.values() if o], axis = 0)\n",
    "    \n",
    "    #the below have shape ('Ns', 'Ts', 'repeats', 'initial_state', 'energy index') \n",
    "    #so we need to concat along the 2nd axis\n",
    "    concat_axis = 1\n",
    "    for name in ['DOS', 'IPR', 'dIPR', 'dDOS', 'Mf_moments']:\n",
    "        print(f'Copying {name}')\n",
    "        ob[name] = np.concatenate([o[name] for o in obs.values() if o], axis = concat_axis)\n",
    "\n",
    "    \n",
    "    return ob\n",
    "\n",
    "ob = concat_data(LR_raw)\n",
    "save_data(data = ob, filename = '/workspace/tch14/pickled_data/Long_range_linear_T_sweep_IPR_DOS_and_errors.pickle')"
   ]
  },
  {
   "cell_type": "code",
   "execution_count": 61,
   "metadata": {},
   "outputs": [
    {
     "name": "stdout",
     "output_type": "stream",
     "text": [
      "CRITICAL:FKMC.import_funcs:looking in /data/users/tch14/slurm_runs/153974\n",
      "0 1 2 3 4 5 6 7 8 9 10 11 12 13 14 15 16 17 18 19 20 21 22 23 Pickling Successful\n"
     ]
    }
   ],
   "source": [
    "i = 153974\n",
    "d = get_data_funcmap(Path(f'/data/users/tch14/slurm_runs/{i}'),\n",
    "                functions = [IPRandDOS(), mean_over_MCMC('Mf_moments')],\n",
    "                structure_names = ('repeats','initial_state', 'Ts'),\n",
    "                structure_dims = (2, 3, None),\n",
    "               )\n",
    "save_data(data = d, filename = '/workspace/tch14/pickled_data/High_Temp_IPR_DOS_and_errors.pickle')"
   ]
  },
  {
   "cell_type": "code",
   "execution_count": 57,
   "metadata": {},
   "outputs": [
    {
     "name": "stdout",
     "output_type": "stream",
     "text": [
      "Pickling Successful\n"
     ]
    }
   ],
   "source": []
  },
  {
   "cell_type": "code",
   "execution_count": 8,
   "metadata": {},
   "outputs": [
    {
     "name": "stdout",
     "output_type": "stream",
     "text": [
      "CRITICAL:FKMC.import_funcs:looking in /data/users/tch14/slurm_runs/154077\n",
      "0 1 2 3 4 5 6 7 8 9 10 11 12 13 14 15 16 17 18 19 20 21 22 23 Pickling Successful\n"
     ]
    }
   ],
   "source": [
    "i = 154077\n",
    "d = get_data_funcmap(Path(f'/data/users/tch14/slurm_runs/{i}'),\n",
    "                functions = [IPRandDOS(), mean_over_MCMC('Mf_moments')],\n",
    "                structure_names = ('repeats','initial_state', 'Ts'),\n",
    "                structure_dims = (1, 3, None),\n",
    "               )\n",
    "save_data(data = d, filename = '/workspace/tch14/pickled_data/High_Temp_IPR_DOS_and_errors_2.pickle')"
   ]
  },
  {
   "cell_type": "code",
   "execution_count": 53,
   "metadata": {},
   "outputs": [
    {
     "data": {
      "text/plain": [
       "array([100,  50,  10,   5])"
      ]
     },
     "execution_count": 53,
     "metadata": {},
     "output_type": "execute_result"
    }
   ],
   "source": [
    "d.Ts"
   ]
  },
  {
   "cell_type": "code",
   "execution_count": 14,
   "metadata": {},
   "outputs": [],
   "source": [
    "## multi T mutli U data\n",
    "def load(i): \n",
    "    #copy stuff to the workspace for faster file access\n",
    "    p = Path(f'/workspace/tch14/slurm_runs_scratch/{i}')\n",
    "    if not p.exists():\n",
    "        logger.info(f'Copying {i} into workspace first.')\n",
    "        t = time()\n",
    "        original = Path(f'/data/users/tch14/slurm_runs/{i}')\n",
    "        shutil.copytree(src = original, dst = p)\n",
    "        logger.info(f'Took {time() - t:.0f}s to do the copy.')\n",
    "    \n",
    "    return get_data_funcmap(p,\n",
    "                functions = [IPRandDOS(E_bins = np.linspace(-10, 10, 2000 + 1)), mean_over_MCMC('Mf_moments')],\n",
    "                structure_names = ('repeats','Us','Ts'),\n",
    "               )\n",
    "\n",
    "logger = logging.getLogger('FKMC.import_funcs')\n",
    "logger.setLevel(logging.INFO) \n",
    "multiTmultiU_obs = load(154259)"
   ]
  },
  {
   "cell_type": "code",
   "execution_count": 15,
   "metadata": {},
   "outputs": [
    {
     "name": "stdout",
     "output_type": "stream",
     "text": [
      "Pickling Successful\n"
     ]
    }
   ],
   "source": [
    "with open('/workspace/tch14/pickled_data/multiUmultiT_highT.pickle', 'wb') as f:\n",
    "    # Pickle the 'data' dictionary using the highest protocol available.\n",
    "    pickle.dump(multiTmultiU_obs, f, pickle.HIGHEST_PROTOCOL)\n",
    "    print('Pickling Successful')"
   ]
  },
  {
   "cell_type": "code",
   "execution_count": null,
   "metadata": {},
   "outputs": [],
   "source": []
  }
 ],
 "metadata": {
  "kernelspec": {
   "display_name": "IntelPython3",
   "language": "python",
   "name": "intelpython3"
  },
  "language_info": {
   "codemirror_mode": {
    "name": "ipython",
    "version": 3
   },
   "file_extension": ".py",
   "mimetype": "text/x-python",
   "name": "python",
   "nbconvert_exporter": "python",
   "pygments_lexer": "ipython3",
   "version": "3.6.8"
  }
 },
 "nbformat": 4,
 "nbformat_minor": 2
}
