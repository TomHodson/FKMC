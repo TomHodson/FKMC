{
 "cells": [
  {
   "cell_type": "code",
   "execution_count": null,
   "metadata": {},
   "outputs": [],
   "source": [
    "%load_ext autoreload\n",
    "%autoreload 2"
   ]
  },
  {
   "cell_type": "code",
   "execution_count": 2,
   "metadata": {},
   "outputs": [],
   "source": [
    "from pathlib import Path\n",
    "import numpy as np\n",
    "import os\n",
    "from matplotlib import pyplot as plt\n",
    "import matplotlib as mpl\n",
    "from time import time\n",
    "from munch import Munch\n",
    "\n",
    "%matplotlib inline\n",
    "np.seterr(all='warn')\n",
    "textwidth = 6.268\n",
    "mpl.rcParams['figure.dpi'] = 70\n",
    "default_figargs = dict(figsize = (textwidth,textwidth))\n",
    "\n",
    "import logging\n",
    "mpl_logger = logging.getLogger('matplotlib')\n",
    "mpl_logger.setLevel(logging.WARNING) "
   ]
  },
  {
   "cell_type": "code",
   "execution_count": 5,
   "metadata": {},
   "outputs": [
    {
     "name": "stdout",
     "output_type": "stream",
     "text": [
      "Munch({'N_sites': 128, 't': 1, 'alpha': 1.25, 'mu': 0, 'beta': 1000.0, 'J': 0.001, 'U': 5, 'normalise': True, 'J_matrix': array([[ 0.00000000e+00,  1.51299192e-04, -6.36374311e-05, ...,\n",
      "         3.83593424e-05, -6.36374311e-05,  1.51299192e-04],\n",
      "       [ 1.51299192e-04,  0.00000000e+00,  1.51299192e-04, ...,\n",
      "        -2.67965848e-05,  3.83593424e-05, -6.36374311e-05],\n",
      "       [-6.36374311e-05,  1.51299192e-04,  0.00000000e+00, ...,\n",
      "         2.02970474e-05, -2.67965848e-05,  3.83593424e-05],\n",
      "       ...,\n",
      "       [ 3.83593424e-05, -2.67965848e-05,  2.02970474e-05, ...,\n",
      "         0.00000000e+00,  1.51299192e-04, -6.36374311e-05],\n",
      "       [-6.36374311e-05,  3.83593424e-05, -2.67965848e-05, ...,\n",
      "         1.51299192e-04,  0.00000000e+00,  1.51299192e-04],\n",
      "       [ 1.51299192e-04, -6.36374311e-05,  3.83593424e-05, ...,\n",
      "        -6.36374311e-05,  1.51299192e-04,  0.00000000e+00]])}) Munch({'state': None, 'N_steps': 50000, 'N_burn_in': 1000, 'thin': 100, 'logger': <FKMC.montecarlo.Eigenspectrum_IPR_all object at 0x7fe3a4da7978>, 'proposal': <function p_multi_site_uniform_reflect at 0x7fe33ec7d378>, 'accept_function': <function perturbation_accept at 0x7fe33ec7d6a8>, 'warnings': True})\n"
     ]
    }
   ],
   "source": [
    "import pickle\n",
    "fpath = Path('/data/users/tch14/slurm_runs/101765')\n",
    "with open(fpath/'data.pickle.backup', 'rb') as f:\n",
    "    obs = pickle.load(f)\n",
    "    \n",
    "    print(obs.parameters, obs.MCMC_params)"
   ]
  },
  {
   "cell_type": "code",
   "execution_count": 6,
   "metadata": {},
   "outputs": [
    {
     "data": {
      "text/plain": [
       "('Ns', 'repeats', 'Js', 'Ts', 'moment', 'MCstep')"
      ]
     },
     "execution_count": 6,
     "metadata": {},
     "output_type": "execute_result"
    }
   ],
   "source": [
    "obs.Mf_moments_shapehint"
   ]
  },
  {
   "cell_type": "code",
   "execution_count": null,
   "metadata": {},
   "outputs": [],
   "source": [
    "from matplotlib import colors\n",
    "from itertools import count\n",
    "norm = colors.Normalize(vmin=0, vmax=1)\n",
    "\n",
    "f, axes = plt.subplots(1,6, figsize = (6*5,5), sharey = 'row')\n",
    "\n",
    "for i, N, ax in zip(count(), obs.Ns, axes):\n",
    "    ax.set(title = f'N = {N}')\n",
    "    cs = ax.pcolormesh(obs.Ts, obs.Js, Y[i], cmap='RdBu_r', norm = norm)\n",
    "    ax.plot((J_val,J_val), (0,10), 'w--')\n",
    "\n",
    "f.colorbar(cs)"
   ]
  }
 ],
 "metadata": {
  "kernelspec": {
   "display_name": "IntelPython3",
   "language": "python",
   "name": "intelpython3"
  },
  "language_info": {
   "codemirror_mode": {
    "name": "ipython",
    "version": 3
   },
   "file_extension": ".py",
   "mimetype": "text/x-python",
   "name": "python",
   "nbconvert_exporter": "python",
   "pygments_lexer": "ipython3",
   "version": "3.6.8"
  }
 },
 "nbformat": 4,
 "nbformat_minor": 2
}
