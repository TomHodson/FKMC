{
 "cells": [
  {
   "cell_type": "code",
   "execution_count": 36,
   "metadata": {},
   "outputs": [
    {
     "data": {
      "text/plain": [
       "({2: set(),\n",
       "  3: set(),\n",
       "  4: {2},\n",
       "  5: set(),\n",
       "  6: {2, 3},\n",
       "  7: set(),\n",
       "  8: {2},\n",
       "  9: {3},\n",
       "  10: {2, 5}},\n",
       " array([ True,  True,  True,  True, False,  True, False,  True, False,\n",
       "        False, False]))"
      ]
     },
     "execution_count": 36,
     "metadata": {},
     "output_type": "execute_result"
    }
   ],
   "source": [
    "import numpy as np\n",
    "from itertools import count\n",
    "\n",
    "def euler_sieve(n):\n",
    "    prime = np.ones(shape = n, dtype = np.bool)\n",
    "    for i,p in enumerate(prime):\n",
    "        if p and 1 < i:\n",
    "            multiples = range(2*i, n, i)\n",
    "            prime[multiples] = False\n",
    "    return prime\n",
    "\n",
    "def totient_sieve(n):\n",
    "    #count how many numbers are NOT coprime to n\n",
    "    #one is defined to be relatively prime to everything so take care of that by taking 1 off\n",
    "    #at the end do n - counts - 1 to get the number that are coprime\n",
    "    prime = np.ones(shape = n, dtype = np.bool)\n",
    "    factors = {n : set() for n in range(2, n)}\n",
    "    \n",
    "    for i,p in enumerate(prime):\n",
    "        if p and 1 < i:\n",
    "            multiples = range(2*i, n, i)\n",
    "            prime[multiples] = False\n",
    "            for m in multiples: factors[m].add(i)\n",
    "            \n",
    "    return factors, prime\n",
    "\n",
    "totient_sieve(11)\n",
    "    "
   ]
  },
  {
   "cell_type": "code",
   "execution_count": 37,
   "metadata": {},
   "outputs": [],
   "source": [
    "from matplotlib import pyplot as plt\n"
   ]
  },
  {
   "cell_type": "code",
   "execution_count": null,
   "metadata": {},
   "outputs": [],
   "source": []
  }
 ],
 "metadata": {
  "kernelspec": {
   "display_name": "IntelPython3",
   "language": "python",
   "name": "intelpython3"
  },
  "language_info": {
   "codemirror_mode": {
    "name": "ipython",
    "version": 3
   },
   "file_extension": ".py",
   "mimetype": "text/x-python",
   "name": "python",
   "nbconvert_exporter": "python",
   "pygments_lexer": "ipython3",
   "version": "3.6.8"
  }
 },
 "nbformat": 4,
 "nbformat_minor": 2
}
