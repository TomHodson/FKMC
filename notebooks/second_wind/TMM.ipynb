{
 "cells": [
  {
   "cell_type": "code",
   "execution_count": 2,
   "metadata": {},
   "outputs": [],
   "source": [
    "%load_ext autoreload\n",
    "%autoreload 2"
   ]
  },
  {
   "cell_type": "code",
   "execution_count": 3,
   "metadata": {},
   "outputs": [],
   "source": [
    "import numpy as np\n",
    "from matplotlib import pyplot as plt\n",
    "import matplotlib as mpl\n",
    "import timeit\n",
    "import h5py\n",
    "from pathlib import Path\n",
    "import numpy as np\n",
    "from itertools import product, count\n",
    "import pickle\n",
    "import scipy.special\n",
    "import scipy.stats\n",
    "from math import exp\n",
    "import multiprocessing\n",
    "import functools\n",
    "\n",
    "from montecarlo import *\n",
    "\n",
    "%matplotlib inline\n",
    "np.seterr(all='warn')\n",
    "textwidth = 6.268\n",
    "mpl.rcParams['figure.dpi'] = 70\n",
    "default_figargs = dict(figsize = (textwidth,textwidth))\n",
    "colors = plt.rcParams['axes.prop_cycle'].by_key()['color']\n",
    "\n",
    "from montecarlo import *"
   ]
  },
  {
   "cell_type": "code",
   "execution_count": 63,
   "metadata": {},
   "outputs": [],
   "source": [
    "parameters = dict(\n",
    "J = 1,\n",
    "U = 1,\n",
    "t = 1,\n",
    "mu = 0,\n",
    "beta = 1,\n",
    "N = 100,\n",
    "alpha = 1.5,\n",
    "normalise = True,\n",
    ")\n",
    "\n",
    "parameters['J_matrix'] = interaction_matrix(**parameters)"
   ]
  },
  {
   "cell_type": "code",
   "execution_count": 73,
   "metadata": {},
   "outputs": [],
   "source": [
    "f_electrons = np.arange(parameters['N'])%2\n",
    "perturbation = np.random.choice([1,-1], size=f_electrons.shape[0], p=[0.02,0.98])\n",
    "perturbed_f_electrons = (f_electrons - 1/2) * perturbation + 1/2\n",
    "state = perturbed_f_electrons\n",
    "Ff, Fc, pert_evals, evecs = solve_H(state = state, **parameters)\n",
    "extra_term = - parameters['U'] * np.sum(state - 1/2)/parameters['N']\n",
    "pert_evals += extra_term"
   ]
  },
  {
   "cell_type": "code",
   "execution_count": 74,
   "metadata": {},
   "outputs": [
    {
     "data": {
      "image/png": "[encoded data removed]",
      "text/plain": [
       "<Figure size 420x280 with 1 Axes>"
      ]
     },
     "metadata": {},
     "output_type": "display_data"
    }
   ],
   "source": [
    "f, ax = plt.subplots()\n",
    "ax.hist(pert_evals, bins = 100, orientation = 'vertical');"
   ]
  },
  {
   "cell_type": "code",
   "execution_count": 75,
   "metadata": {},
   "outputs": [
    {
     "data": {
      "text/plain": [
       "array([[-2.61803399e+00, -3.81966011e-01],\n",
       "       [ 2.46136281e+28, -1.09951163e+12],\n",
       "       [ 5.74599868e+49,  2.59614843e+33]])"
      ]
     },
     "execution_count": 75,
     "metadata": {},
     "output_type": "execute_result"
    }
   ],
   "source": [
    "def TMM(disorder, E):\n",
    "    a = -(E[None, :] + disorder[:, None])\n",
    "    ones = np.ones(shape = a.shape, dtype = np.float64)\n",
    "\n",
    "    matrices = np.array([\n",
    "                        [a, -ones],\n",
    "                        [ones, 0*ones]\n",
    "                        ])\n",
    "    \n",
    "    matrices = np.einsum('ij...->...ij', matrices)\n",
    "    acc = np.identity(2)[None, :, :]\n",
    "    for m in matrices:\n",
    "        #print(matrices.shape)\n",
    "        acc = m @ acc\n",
    "    return np.linalg.eigvals(acc)\n",
    "\n",
    "def TMM(disorder, E, N):\n",
    "    a = -(E[None, :] + disorder[:, None])\n",
    "    ones = np.ones(shape = a.shape, dtype = np.float64)\n",
    "\n",
    "    matrices = np.array([\n",
    "                        [a, -ones],\n",
    "                        [ones, 0*ones]\n",
    "                        ])\n",
    "    \n",
    "    matrices = np.einsum('ij...->...ij', matrices)\n",
    "    acc = np.identity(2)[None, :, :]\n",
    "    for i in range(N):\n",
    "        #print(matrices.shape)\n",
    "        acc = m @ acc\n",
    "    return np.linalg.eigvals(acc)\n",
    "    \n",
    "TMM(disorder = parameters['U']*perturbed_f_electrons, E = np.array([1,2,3]))"
   ]
  },
  {
   "cell_type": "code",
   "execution_count": 78,
   "metadata": {},
   "outputs": [
    {
     "name": "stderr",
     "output_type": "stream",
     "text": [
      "/workspace/tch14/conda-envs/cmth_intelpython3_2/lib/python3.6/site-packages/numpy/core/numeric.py:538: ComplexWarning: Casting complex values to real discards the imaginary part\n",
      "  return array(a, dtype, copy=False, order=order)\n"
     ]
    },
    {
     "data": {
      "text/plain": [
       "[<matplotlib.lines.Line2D at 0x7fcd6b906160>,\n",
       " <matplotlib.lines.Line2D at 0x7fcd6b870d30>]"
      ]
     },
     "execution_count": 78,
     "metadata": {},
     "output_type": "execute_result"
    },
    {
     "data": {
      "image/png": "[encoded data removed]",
      "text/plain": [
       "<Figure size 420x280 with 2 Axes>"
      ]
     },
     "metadata": {},
     "output_type": "display_data"
    }
   ],
   "source": [
    "f, (ax, ax2) = plt.subplots(2)\n",
    "ax.hist(pert_evals, bins = 100, orientation = 'vertical');\n",
    "E = np.linspace(-3,3,200)\n",
    "ax2.semilogy(E + extra_term, TMM(disorder = parameters['U']*perturbed_f_electrons, E=E))"
   ]
  }
 ],
 "metadata": {
  "kernelspec": {
   "display_name": "Python3 (conda intel) #2",
   "language": "python",
   "name": "cmth_intelpython3"
  },
  "language_info": {
   "codemirror_mode": {
    "name": "ipython",
    "version": 3
   },
   "file_extension": ".py",
   "mimetype": "text/x-python",
   "name": "python",
   "nbconvert_exporter": "python",
   "pygments_lexer": "ipython3",
   "version": "3.6.8"
  }
 },
 "nbformat": 4,
 "nbformat_minor": 2
}
