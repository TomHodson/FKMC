{
 "cells": [
  {
   "cell_type": "code",
   "execution_count": 3,
   "metadata": {},
   "outputs": [],
   "source": [
    "%load_ext autoreload\n",
    "%autoreload 2"
   ]
  },
  {
   "cell_type": "code",
   "execution_count": 4,
   "metadata": {},
   "outputs": [],
   "source": [
    "import numpy as np\n",
    "from matplotlib import pyplot as plt\n",
    "import matplotlib as mpl\n",
    "import timeit\n",
    "import h5py\n",
    "from pathlib import Path\n",
    "import numpy as np\n",
    "from itertools import product\n",
    "import pickle\n",
    "import scipy.special\n",
    "import scipy.stats\n",
    "from math import exp\n",
    "import multiprocessing\n",
    "import functools\n",
    "\n",
    "from montecarlo import DataLogger\n",
    "\n",
    "%matplotlib inline\n",
    "np.seterr(all='warn')\n",
    "textwidth = 6.268\n",
    "mpl.rcParams['figure.dpi'] = 70\n",
    "default_figargs = dict(figsize = (textwidth,textwidth))\n",
    "\n",
    "from montecarlo import *"
   ]
  },
  {
   "cell_type": "code",
   "execution_count": 15,
   "metadata": {},
   "outputs": [
    {
     "name": "stderr",
     "output_type": "stream",
     "text": [
      "/workspace/tch14/FKMC/notebooks/Second Wind/montecarlo.py:121: RuntimeWarning: invalid value encountered in true_divide\n",
      "  p_classical_accept = logger.classical_accept_rates / sum(logger.classical_accept_rates) / p_propose\n",
      "/workspace/tch14/FKMC/notebooks/Second Wind/montecarlo.py:122: RuntimeWarning: invalid value encountered in true_divide\n",
      "  p_accept = logger.accept_rates / sum(logger.accept_rates) / p_propose\n"
     ]
    },
    {
     "ename": "AttributeError",
     "evalue": "'DataLogger' object has no attribute '__name__'",
     "output_type": "error",
     "traceback": [
      "\u001b[0;31m---------------------------------------------------------------------------\u001b[0m",
      "\u001b[0;31mAttributeError\u001b[0m                            Traceback (most recent call last)",
      "\u001b[0;32m<ipython-input-15-3fb1b3aadf31>\u001b[0m in \u001b[0;36m<module>\u001b[0;34m()\u001b[0m\n\u001b[1;32m     13\u001b[0m     )\n\u001b[1;32m     14\u001b[0m \u001b[0;34m\u001b[0m\u001b[0m\n\u001b[0;32m---> 15\u001b[0;31m \u001b[0mbins\u001b[0m\u001b[0;34m,\u001b[0m \u001b[0mE\u001b[0m\u001b[0;34m,\u001b[0m \u001b[0mdE\u001b[0m\u001b[0;34m,\u001b[0m \u001b[0mIPR\u001b[0m\u001b[0;34m,\u001b[0m \u001b[0mdIPR\u001b[0m \u001b[0;34m=\u001b[0m \u001b[0mFK_mcmc_2\u001b[0m\u001b[0;34m(\u001b[0m\u001b[0;34m**\u001b[0m\u001b[0mMCMC_params\u001b[0m\u001b[0;34m,\u001b[0m \u001b[0mparameters\u001b[0m \u001b[0;34m=\u001b[0m \u001b[0mparameters\u001b[0m\u001b[0;34m)\u001b[0m\u001b[0;34m\u001b[0m\u001b[0;34m\u001b[0m\u001b[0m\n\u001b[0m",
      "\u001b[0;32m/workspace/tch14/FKMC/notebooks/Second Wind/montecarlo.py\u001b[0m in \u001b[0;36mFK_mcmc_2\u001b[0;34m(state, proposal, proposal_args, accept_function, parameters, N_steps, N_burn_in, logger, warnings, info, **kwargs)\u001b[0m\n\u001b[1;32m    136\u001b[0m         \u001b[0mChance\u001b[0m \u001b[0mof\u001b[0m \u001b[0maccepting\u001b[0m \u001b[0man\u001b[0m \u001b[0mN\u001b[0m \u001b[0mspin\u001b[0m \u001b[0mflip\u001b[0m\u001b[0;34m:\u001b[0m \u001b[0;34m{\u001b[0m\u001b[0macc\u001b[0m\u001b[0;34m}\u001b[0m\u001b[0;34m\u001b[0m\u001b[0;34m\u001b[0m\u001b[0m\n\u001b[1;32m    137\u001b[0m         \u001b[0mPercentage\u001b[0m \u001b[0mof\u001b[0m \u001b[0mthe\u001b[0m \u001b[0mtime\u001b[0m \u001b[0mthe\u001b[0m \u001b[0mmatrix\u001b[0m \u001b[0;32mis\u001b[0m \u001b[0;32mnot\u001b[0m \u001b[0mdiagonalised\u001b[0m\u001b[0;34m:\u001b[0m \u001b[0;34m{\u001b[0m\u001b[0mpert_saving\u001b[0m\u001b[0;34m:\u001b[0m\u001b[0;36m.0\u001b[0m\u001b[0mf\u001b[0m\u001b[0;34m}\u001b[0m\u001b[0;34m%\u001b[0m\u001b[0;34m\u001b[0m\u001b[0;34m\u001b[0m\u001b[0m\n\u001b[0;32m--> 138\u001b[0;31m         \"\"\")\n\u001b[0m\u001b[1;32m    139\u001b[0m \u001b[0;34m\u001b[0m\u001b[0m\n\u001b[1;32m    140\u001b[0m     \u001b[0;31m#print(f'acceptance probability: {accepted / N_sites / (N_steps + N_burn_in)}, mu = {mu}')\u001b[0m\u001b[0;34m\u001b[0m\u001b[0;34m\u001b[0m\u001b[0;34m\u001b[0m\u001b[0m\n",
      "\u001b[0;31mAttributeError\u001b[0m: 'DataLogger' object has no attribute '__name__'"
     ]
    }
   ],
   "source": [
    "from time import time\n",
    "t0 = time()\n",
    "parameters = dict(N_sites = 64, t = 1, alpha = 1.5, mu = 0, beta = 1/2, J = 10, U = 10, normalise = True)\n",
    "MCMC_params = dict(\n",
    "        N_steps = int(1 * 1000),\n",
    "        N_burn_in = int(0), \n",
    "        logger = DataLogger(),\n",
    "        proposal = p_multi_site_poisson_reflect,\n",
    "        proposal_args = dict(lam = 1),\n",
    "        accept_function = perturbation_accept,\n",
    "        warnings = True,\n",
    "        info = True,\n",
    "    )\n",
    "\n",
    "bins, E, dE, IPR, dIPR = FK_mcmc_2(**MCMC_params, parameters = parameters)"
   ]
  },
  {
   "cell_type": "code",
   "execution_count": 4,
   "metadata": {},
   "outputs": [
    {
     "ename": "NameError",
     "evalue": "name 'log' is not defined",
     "output_type": "error",
     "traceback": [
      "\u001b[0;31m---------------------------------------------------------------------------\u001b[0m",
      "\u001b[0;31mNameError\u001b[0m                                 Traceback (most recent call last)",
      "\u001b[0;32m<ipython-input-4-17b47bbbdbc5>\u001b[0m in \u001b[0;36m<module>\u001b[0;34m()\u001b[0m\n\u001b[0;32m----> 1\u001b[0;31m \u001b[0msteps\u001b[0m \u001b[0;34m=\u001b[0m \u001b[0mnp\u001b[0m\u001b[0;34m.\u001b[0m\u001b[0marange\u001b[0m\u001b[0;34m(\u001b[0m\u001b[0mlog\u001b[0m\u001b[0;34m.\u001b[0m\u001b[0mN_steps\u001b[0m\u001b[0;34m)\u001b[0m\u001b[0;34m\u001b[0m\u001b[0;34m\u001b[0m\u001b[0m\n\u001b[0m\u001b[1;32m      2\u001b[0m \u001b[0msites\u001b[0m \u001b[0;34m=\u001b[0m \u001b[0mnp\u001b[0m\u001b[0;34m.\u001b[0m\u001b[0marange\u001b[0m\u001b[0;34m(\u001b[0m\u001b[0mlog\u001b[0m\u001b[0;34m.\u001b[0m\u001b[0mN_sites\u001b[0m\u001b[0;34m)\u001b[0m\u001b[0;34m\u001b[0m\u001b[0;34m\u001b[0m\u001b[0m\n\u001b[1;32m      3\u001b[0m \u001b[0;34m\u001b[0m\u001b[0m\n\u001b[1;32m      4\u001b[0m \u001b[0mf\u001b[0m\u001b[0;34m,\u001b[0m \u001b[0maxes\u001b[0m \u001b[0;34m=\u001b[0m \u001b[0mplt\u001b[0m\u001b[0;34m.\u001b[0m\u001b[0msubplots\u001b[0m\u001b[0;34m(\u001b[0m\u001b[0;36m10\u001b[0m\u001b[0;34m,\u001b[0m\u001b[0;36m2\u001b[0m\u001b[0;34m,\u001b[0m \u001b[0mfigsize\u001b[0m \u001b[0;34m=\u001b[0m \u001b[0;34m(\u001b[0m\u001b[0;36m25\u001b[0m\u001b[0;34m,\u001b[0m\u001b[0;36m15\u001b[0m\u001b[0;34m)\u001b[0m\u001b[0;34m,\u001b[0m \u001b[0msharey\u001b[0m \u001b[0;34m=\u001b[0m \u001b[0;34m'row'\u001b[0m\u001b[0;34m,\u001b[0m \u001b[0mgridspec_kw\u001b[0m \u001b[0;34m=\u001b[0m \u001b[0mdict\u001b[0m\u001b[0;34m(\u001b[0m\u001b[0mheight_ratios\u001b[0m\u001b[0;34m=\u001b[0m\u001b[0;34m[\u001b[0m\u001b[0;36m2\u001b[0m\u001b[0;34m,\u001b[0m\u001b[0;36m2\u001b[0m\u001b[0;34m,\u001b[0m\u001b[0;36m2\u001b[0m\u001b[0;34m,\u001b[0m\u001b[0;36m2\u001b[0m\u001b[0;34m,\u001b[0m\u001b[0;36m1\u001b[0m\u001b[0;34m,\u001b[0m\u001b[0;36m1\u001b[0m\u001b[0;34m,\u001b[0m\u001b[0;36m1\u001b[0m\u001b[0;34m,\u001b[0m\u001b[0;36m1\u001b[0m\u001b[0;34m,\u001b[0m\u001b[0;36m1\u001b[0m\u001b[0;34m,\u001b[0m\u001b[0;36m1\u001b[0m\u001b[0;34m]\u001b[0m\u001b[0;34m,\u001b[0m \u001b[0mwidth_ratios\u001b[0m\u001b[0;34m=\u001b[0m\u001b[0;34m[\u001b[0m\u001b[0;36m7\u001b[0m\u001b[0;34m,\u001b[0m \u001b[0;36m1\u001b[0m\u001b[0;34m]\u001b[0m\u001b[0;34m,\u001b[0m\u001b[0mwspace\u001b[0m\u001b[0;34m=\u001b[0m\u001b[0;36m0\u001b[0m\u001b[0;34m,\u001b[0m \u001b[0mhspace\u001b[0m\u001b[0;34m=\u001b[0m\u001b[0;36m0\u001b[0m\u001b[0;34m)\u001b[0m\u001b[0;34m)\u001b[0m\u001b[0;34m\u001b[0m\u001b[0;34m\u001b[0m\u001b[0m\n\u001b[1;32m      5\u001b[0m \u001b[0;34m\u001b[0m\u001b[0m\n",
      "\u001b[0;31mNameError\u001b[0m: name 'log' is not defined"
     ]
    }
   ],
   "source": [
    "steps = np.arange(log.N_steps)\n",
    "sites = np.arange(log.N_sites)\n",
    "\n",
    "f, axes = plt.subplots(10,2, figsize = (25,15), sharey = 'row', gridspec_kw = dict(height_ratios=[2,2,2,2,1,1,1,1,1,1], width_ratios=[7, 1],wspace=0, hspace=0))\n",
    "\n",
    "axs, axs1 = axes.T\n",
    "observables = [_, _, _, _, log.Ff, log.Fc, log.Ff + log.Fc, log.Nf, log.Nc, log.Mf_moments[2], log.cMf_moments[2]]\n",
    "observable_ylabels = ['f Occupation', 'Staggered Spins', 'Correlation', 'Eigenspectrum',\n",
    "                      'Ff', 'Fc', 'F', 'Nf', 'Nc', 'M**2', '(M-M_bar)**2']\n",
    "\n",
    "axs[0].pcolor(steps, sites, log.state.T, cmap = 'gray', vmin = 0, vmax = 1)\n",
    "axs[1].pcolor(steps, sites, (log.state * log.A).T, cmap = 'gray', vmin = -1, vmax = 1)\n",
    "#axs[2].pcolor(steps, sites[:correlation.shape[-1]], 1-correlation.T, cmap = 'gray', vmin = 0, vmax = 1)\n",
    "\n",
    "x = np.reshape(steps[:, np.newaxis] * np.ones_like(log.eigenvals), [-1,])\n",
    "y = np.reshape(log.eigenvals, [-1])\n",
    "axs[3].scatter(x, y, alpha = 0.1,)\n",
    "\n",
    "for ax,observable in list(zip(axs,observables))[4:]: ax.plot(steps, observable)\n",
    "\n",
    "#axs1[0].plot(r.states.mean(axis=0), sites)\n",
    "#axs1[1].plot(r.ts.mean(axis=0), sites)\n",
    "#axs1[2].plot(correlation.mean(axis=0), sites[:correlation.shape[-1]])\n",
    "\n",
    "\n",
    "hist_kwargs = dict(orientation='horizontal', bins = 20, density = True)\n",
    "#axs1[3].plot(r.q_energy_histogram / np.sum(r.q_energy_histogram), r.q_energy_histogram_bins[:-1])\n",
    "\n",
    "for ax,observable in list(zip(axs1,observables))[4:8]: ax.hist(observable, **hist_kwargs)\n",
    "\n",
    "for ylabel, ax in zip(observable_ylabels, axs): ax.set(ylabel=ylabel)\n",
    "axs[5].set(xlabel = 'MC Step (One trial per site per step)');"
   ]
  },
  {
   "cell_type": "code",
   "execution_count": 5,
   "metadata": {},
   "outputs": [
    {
     "ename": "NameError",
     "evalue": "name 'mcmc' is not defined",
     "output_type": "error",
     "traceback": [
      "\u001b[0;31m---------------------------------------------------------------------------\u001b[0m",
      "\u001b[0;31mNameError\u001b[0m                                 Traceback (most recent call last)",
      "\u001b[0;32m<ipython-input-5-d81eb226b65b>\u001b[0m in \u001b[0;36m<module>\u001b[0;34m()\u001b[0m\n\u001b[1;32m     27\u001b[0m \u001b[0;31m#log = FK_mcmc_random_pair(\u001b[0m\u001b[0;34m\u001b[0m\u001b[0;34m\u001b[0m\u001b[0;34m\u001b[0m\u001b[0m\n\u001b[1;32m     28\u001b[0m \u001b[0;31m#log = FK_mcmc_multi_site(\u001b[0m\u001b[0;34m\u001b[0m\u001b[0;34m\u001b[0m\u001b[0;34m\u001b[0m\u001b[0m\n\u001b[0;32m---> 29\u001b[0;31m log =  mcmc(\n\u001b[0m\u001b[1;32m     30\u001b[0m     \u001b[0mstate\u001b[0m\u001b[0;34m=\u001b[0m\u001b[0mnp\u001b[0m\u001b[0;34m.\u001b[0m\u001b[0mzeros\u001b[0m\u001b[0;34m(\u001b[0m\u001b[0mN\u001b[0m\u001b[0;34m)\u001b[0m\u001b[0;34m,\u001b[0m\u001b[0;34m\u001b[0m\u001b[0;34m\u001b[0m\u001b[0m\n\u001b[1;32m     31\u001b[0m     \u001b[0mN_steps\u001b[0m \u001b[0;34m=\u001b[0m \u001b[0mN_steps\u001b[0m\u001b[0;34m,\u001b[0m \u001b[0mN_burn_in\u001b[0m \u001b[0;34m=\u001b[0m \u001b[0mN_burn_in\u001b[0m\u001b[0;34m,\u001b[0m\u001b[0;34m\u001b[0m\u001b[0;34m\u001b[0m\u001b[0m\n",
      "\u001b[0;31mNameError\u001b[0m: name 'mcmc' is not defined"
     ]
    }
   ],
   "source": [
    "##compare to montecarlo\n",
    "from direct_partition_functions import direct, states_to_numbers, number_to_state, enumerate_states\n",
    "from montecarlo import *\n",
    "\n",
    "N = 4\n",
    "beta = 1/10\n",
    "U = 1\n",
    "J = 5\n",
    "mu = 4\n",
    "t = 1\n",
    "alpha = 1.5\n",
    "state = np.zeros(N, dtype = np.float64)\n",
    "mcmc_steps = np.array([1e2,1e3,1e4], dtype = np.int)\n",
    "N_steps = max(mcmc_steps)\n",
    "N_burn_in = 0\n",
    "\n",
    "ix, state_labels, states, Ffs, Fcs, Nfs, Ncs, Mf_moments = enumerate_states(N, mu, beta, U, J, t, alpha, normalise = True)\n",
    "Boltz_factors = np.exp(- beta * (Ffs + Fcs))\n",
    "Ps = Boltz_factors / np.sum(Boltz_factors)\n",
    "\n",
    "#calculate the thermodynamic means\n",
    "Fc, Ff, Nf, Nc = np.sum(np.array([Fcs, Ffs, Nfs, Ncs]) * Ps[None, :], axis = 1) \n",
    "Ff = np.sum(Ffs * Ps)\n",
    "Mf_moment = np.sum(Mf_moments*Ps[None, :], axis = 1)\n",
    "\n",
    "#log = FK_mcmc(\n",
    "#log = FK_mcmc_random_pair(\n",
    "#log = FK_mcmc_multi_site(\n",
    "log =  mcmc(\n",
    "    state=np.zeros(N),            \n",
    "    N_steps = N_steps, N_burn_in = N_burn_in,\n",
    "    mu = mu, beta = beta, J = J, alpha=alpha, U = U, t=t,\n",
    "    logger = DataLogger(), normalise = True, N_multi_site = 4,\n",
    "    )\n",
    "\n",
    "mc_state_labels = states_to_numbers(log.state)\n",
    "mc_label_count = np.bincount(mc_state_labels, minlength = 2**N)\n",
    "\n",
    "#reorder the states into order of increasing energy\n",
    "mc_label_count = mc_label_count[ix]/np.sum(mc_label_count)\n",
    "\n",
    "mc_energies = log.Ff + log.Fc\n",
    "print(f'p_acc = {log.p_acc}')\n",
    "print(f'p_facc = {log.p_acc/log.p_facc}')"
   ]
  },
  {
   "cell_type": "code",
   "execution_count": 6,
   "metadata": {},
   "outputs": [
    {
     "ename": "NameError",
     "evalue": "name 'mc_state_labels' is not defined",
     "output_type": "error",
     "traceback": [
      "\u001b[0;31m---------------------------------------------------------------------------\u001b[0m",
      "\u001b[0;31mNameError\u001b[0m                                 Traceback (most recent call last)",
      "\u001b[0;32m<ipython-input-6-94bdd7d13ac2>\u001b[0m in \u001b[0;36m<module>\u001b[0;34m()\u001b[0m\n\u001b[1;32m      4\u001b[0m     \u001b[0;31m#don't use the whole mcmc run, just the first N_mc_steps to see if it's converging\u001b[0m\u001b[0;34m\u001b[0m\u001b[0;34m\u001b[0m\u001b[0;34m\u001b[0m\u001b[0m\n\u001b[1;32m      5\u001b[0m     \u001b[0mchunksize\u001b[0m \u001b[0;34m=\u001b[0m \u001b[0mint\u001b[0m\u001b[0;34m(\u001b[0m\u001b[0mN_mc_steps\u001b[0m\u001b[0;34m/\u001b[0m\u001b[0;36m5\u001b[0m\u001b[0;34m)\u001b[0m\u001b[0;34m\u001b[0m\u001b[0;34m\u001b[0m\u001b[0m\n\u001b[0;32m----> 6\u001b[0;31m     \u001b[0mchunks\u001b[0m \u001b[0;34m=\u001b[0m \u001b[0mmc_state_labels\u001b[0m\u001b[0;34m[\u001b[0m\u001b[0;34m:\u001b[0m\u001b[0mN_mc_steps\u001b[0m\u001b[0;34m]\u001b[0m\u001b[0;34m.\u001b[0m\u001b[0mreshape\u001b[0m\u001b[0;34m(\u001b[0m\u001b[0;34m-\u001b[0m\u001b[0;36m1\u001b[0m\u001b[0;34m,\u001b[0m\u001b[0mchunksize\u001b[0m\u001b[0;34m)\u001b[0m\u001b[0;34m\u001b[0m\u001b[0;34m\u001b[0m\u001b[0m\n\u001b[0m\u001b[1;32m      7\u001b[0m     \u001b[0mbinned_chunks\u001b[0m \u001b[0;34m=\u001b[0m \u001b[0mnp\u001b[0m\u001b[0;34m.\u001b[0m\u001b[0marray\u001b[0m\u001b[0;34m(\u001b[0m\u001b[0;34m[\u001b[0m\u001b[0mnp\u001b[0m\u001b[0;34m.\u001b[0m\u001b[0mbincount\u001b[0m\u001b[0;34m(\u001b[0m\u001b[0mchunk\u001b[0m\u001b[0;34m,\u001b[0m \u001b[0mminlength\u001b[0m \u001b[0;34m=\u001b[0m \u001b[0;36m2\u001b[0m\u001b[0;34m**\u001b[0m\u001b[0mN\u001b[0m\u001b[0;34m)\u001b[0m \u001b[0;32mfor\u001b[0m \u001b[0mchunk\u001b[0m \u001b[0;32min\u001b[0m \u001b[0mchunks\u001b[0m\u001b[0;34m]\u001b[0m\u001b[0;34m)\u001b[0m\u001b[0;34m\u001b[0m\u001b[0;34m\u001b[0m\u001b[0m\n\u001b[1;32m      8\u001b[0m     \u001b[0mdmc_label_count\u001b[0m \u001b[0;34m=\u001b[0m \u001b[0mscipy\u001b[0m\u001b[0;34m.\u001b[0m\u001b[0mstats\u001b[0m\u001b[0;34m.\u001b[0m\u001b[0msem\u001b[0m\u001b[0;34m(\u001b[0m\u001b[0mbinned_chunks\u001b[0m\u001b[0;34m,\u001b[0m \u001b[0maxis\u001b[0m \u001b[0;34m=\u001b[0m \u001b[0;36m0\u001b[0m\u001b[0;34m)\u001b[0m\u001b[0;34m\u001b[0m\u001b[0;34m\u001b[0m\u001b[0m\n",
      "\u001b[0;31mNameError\u001b[0m: name 'mc_state_labels' is not defined"
     ]
    },
    {
     "data": {
      "image/png": "[encoded data removed]",
      "text/plain": [
       "<Figure size 1050x1050 with 12 Axes>"
      ]
     },
     "metadata": {},
     "output_type": "display_data"
    }
   ],
   "source": [
    "f, axes = plt.subplots(4,len(mcmc_steps), figsize = (5*len(mcmc_steps), 5*3), sharey = 'row')\n",
    "for N_mc_steps, ax in zip(mcmc_steps, axes.T):\n",
    "\n",
    "    #don't use the whole mcmc run, just the first N_mc_steps to see if it's converging\n",
    "    chunksize = int(N_mc_steps/5)\n",
    "    chunks = mc_state_labels[:N_mc_steps].reshape(-1,chunksize)\n",
    "    binned_chunks = np.array([np.bincount(chunk, minlength = 2**N) for chunk in chunks])\n",
    "    dmc_label_count = scipy.stats.sem(binned_chunks, axis = 0)\n",
    "    \n",
    "    mc_label_count = np.bincount(mc_state_labels[:N_mc_steps], minlength = 2**N)\n",
    "    mc_label_count = mc_label_count[ix]\n",
    "    dmc_label_count = dmc_label_count[ix]\n",
    "    \n",
    "    ax[0].set(title = f'{N_mc_steps} MC steps', xlabel = 'state label')\n",
    "    \n",
    "    ax[0].plot(np.arange(2**N), Ps, '--x')\n",
    "    ax[0].errorbar(np.arange(2**N), mc_label_count/np.sum(mc_label_count),\n",
    "                yerr= dmc_label_count/np.sum(mc_label_count), fmt = '.')\n",
    "    \n",
    "    for a, x, xlabel in zip(ax, \n",
    "                            [np.arange(2**N), Ffs + Fcs, Nfs+Ncs, Mf_moments[1],Mf_moments[2]],\n",
    "                            ['State label','Total Free energy', 'N', 'M', 'M**2']):\n",
    "        i = np.argsort(x)\n",
    "        a.plot(x[i], Ps[i], '--x')\n",
    "        a.errorbar(x[i], mc_label_count[i]/np.sum(mc_label_count),\n",
    "                    yerr= dmc_label_count[i]/np.sum(mc_label_count), fmt = '.')\n",
    "        a.set(xlabel = xlabel)\n",
    "\n",
    "for ax in axes: ax[0].set(ylabel = 'State Probability');"
   ]
  },
  {
   "cell_type": "markdown",
   "metadata": {},
   "source": [
    "To check the sanity of the monte carlo routine, the above plot compares the boltzman factor $exp(-\\beta F) $ for each state of a small system (N=6) with the number of occurances seen during a monte carlo run. Each column shows these factors after an increasing number of montecarlo steps. Each row represents the states by a differnt measure, first they're simply ordered by increasing free energy, second they're plotted against free energy so that degernate states clump together. The 3rd and 4th show the overall occupation $Nf + Nc$ and the squared staggered magnetisation. "
   ]
  },
  {
   "cell_type": "code",
   "execution_count": 13,
   "metadata": {},
   "outputs": [
    {
     "name": "stdout",
     "output_type": "stream",
     "text": [
      "[array([  6.19781219,   6.04456463,   5.78802148,   5.42001975,\n",
      "         4.93784396,   4.34465553,   3.64900488,   2.86356685,\n",
      "         2.0034439 ,   1.08443479,   0.12157759,  -0.8718833 ,\n",
      "        -1.88510524,  -2.90992343,  -3.94092028,  -4.97540304,\n",
      "        -6.0133717 ,  -7.05751904,  -8.11326261,  -9.18876724,\n",
      "       -10.29487555, -11.44483196, -12.65367453, -13.93720202,\n",
      "       -15.31051688, -16.78629398, -18.3730837 , -20.07404748,\n",
      "       -21.88646986, -23.80218781]), array([ -1.12731361,  -1.32463727,  -1.55374899,  -1.81885339,\n",
      "        -2.12443312,  -2.47518936,  -2.87596185,  -3.33162938,\n",
      "        -3.84699359,  -4.42665114,  -5.07486023,  -5.79540909,\n",
      "        -6.59149359,  -7.46561092,  -8.41947499,  -9.45395775,\n",
      "       -10.5690592 , -11.76390738, -13.0367884 , -14.38520505,\n",
      "       -15.80596148, -17.29526946, -18.84887076, -20.46216875,\n",
      "       -22.13036177, -23.84857105, -25.61195684, -27.41581795,\n",
      "       -29.25567175, -31.12731361]), array([0.19442267, 0.21904353, 0.24464628, 0.27072613, 0.29674282,\n",
      "       0.32217842, 0.34659243, 0.36966244, 0.39120387, 0.41116892,\n",
      "       0.42963016, 0.44675601, 0.46278494, 0.47800254, 0.49272324,\n",
      "       0.50727676, 0.52199746, 0.53721506, 0.55324399, 0.57036984,\n",
      "       0.58883108, 0.60879613, 0.63033756, 0.65340757, 0.67782158,\n",
      "       0.70325718, 0.72927387, 0.75535372, 0.78095647, 0.80557733]), array([0.08833067, 0.10272882, 0.11908487, 0.1375443 , 0.15822878,\n",
      "       0.18122625, 0.20658111, 0.23428533, 0.26427144, 0.29640827,\n",
      "       0.3305    , 0.36628887, 0.40346133, 0.4416573 , 0.48048179,\n",
      "       0.51951821, 0.5583427 , 0.59653867, 0.63371113, 0.6695    ,\n",
      "       0.70359173, 0.73572856, 0.76571467, 0.79341889, 0.81877375,\n",
      "       0.84177122, 0.8624557 , 0.88091513, 0.89727118, 0.91166933]), 0.31160873236544473, 0.21926108368420297]\n"
     ]
    },
    {
     "ename": "ValueError",
     "evalue": "operands could not be broadcast together with shapes (10000,) (30,) ",
     "output_type": "error",
     "traceback": [
      "\u001b[0;31m---------------------------------------------------------------------------\u001b[0m",
      "\u001b[0;31mValueError\u001b[0m                                Traceback (most recent call last)",
      "\u001b[0;32m<ipython-input-13-f2da13a82a35>\u001b[0m in \u001b[0;36m<module>\u001b[0;34m()\u001b[0m\n\u001b[1;32m     11\u001b[0m \u001b[0;34m\u001b[0m\u001b[0m\n\u001b[1;32m     12\u001b[0m \u001b[0;32mfor\u001b[0m \u001b[0mx\u001b[0m\u001b[0;34m,\u001b[0m \u001b[0mlabel\u001b[0m\u001b[0;34m,\u001b[0m \u001b[0mexact\u001b[0m \u001b[0;32min\u001b[0m \u001b[0mzip\u001b[0m\u001b[0;34m(\u001b[0m\u001b[0mobservables\u001b[0m\u001b[0;34m,\u001b[0m \u001b[0mlabels\u001b[0m\u001b[0;34m,\u001b[0m \u001b[0mexacts\u001b[0m\u001b[0;34m)\u001b[0m\u001b[0;34m:\u001b[0m\u001b[0;34m\u001b[0m\u001b[0;34m\u001b[0m\u001b[0m\n\u001b[0;32m---> 13\u001b[0;31m     \u001b[0max\u001b[0m\u001b[0;34m.\u001b[0m\u001b[0mplot\u001b[0m\u001b[0;34m(\u001b[0m\u001b[0mnp\u001b[0m\u001b[0;34m.\u001b[0m\u001b[0marange\u001b[0m\u001b[0;34m(\u001b[0m\u001b[0mx\u001b[0m\u001b[0;34m.\u001b[0m\u001b[0mshape\u001b[0m\u001b[0;34m[\u001b[0m\u001b[0;36m0\u001b[0m\u001b[0;34m]\u001b[0m\u001b[0;34m)\u001b[0m\u001b[0;34m,\u001b[0m \u001b[0;34m(\u001b[0m\u001b[0mrunning_mean\u001b[0m\u001b[0;34m(\u001b[0m\u001b[0mx\u001b[0m\u001b[0;34m)\u001b[0m\u001b[0;34m-\u001b[0m\u001b[0mexact\u001b[0m\u001b[0;34m)\u001b[0m\u001b[0;34m/\u001b[0m\u001b[0mexact\u001b[0m \u001b[0;34m*\u001b[0m \u001b[0;36m100\u001b[0m\u001b[0;34m,\u001b[0m \u001b[0mlabel\u001b[0m \u001b[0;34m=\u001b[0m \u001b[0mlabel\u001b[0m\u001b[0;34m)\u001b[0m\u001b[0;34m\u001b[0m\u001b[0;34m\u001b[0m\u001b[0m\n\u001b[0m\u001b[1;32m     14\u001b[0m \u001b[0;34m\u001b[0m\u001b[0m\n\u001b[1;32m     15\u001b[0m \u001b[0max\u001b[0m\u001b[0;34m.\u001b[0m\u001b[0mplot\u001b[0m\u001b[0;34m(\u001b[0m\u001b[0;34m(\u001b[0m\u001b[0;36m0\u001b[0m\u001b[0;34m,\u001b[0m\u001b[0mx\u001b[0m\u001b[0;34m.\u001b[0m\u001b[0mshape\u001b[0m\u001b[0;34m[\u001b[0m\u001b[0;36m0\u001b[0m\u001b[0;34m]\u001b[0m\u001b[0;34m)\u001b[0m\u001b[0;34m,\u001b[0m\u001b[0;34m(\u001b[0m\u001b[0;36m0\u001b[0m\u001b[0;34m,\u001b[0m\u001b[0;36m0\u001b[0m\u001b[0;34m)\u001b[0m\u001b[0;34m,\u001b[0m \u001b[0;34m'k--'\u001b[0m\u001b[0;34m)\u001b[0m\u001b[0;34m\u001b[0m\u001b[0;34m\u001b[0m\u001b[0m\n",
      "\u001b[0;31mValueError\u001b[0m: operands could not be broadcast together with shapes (10000,) (30,) "
     ]
    },
    {
     "data": {
      "image/png": "[encoded data removed]",
      "text/plain": [
       "<Figure size 840x350 with 1 Axes>"
      ]
     },
     "metadata": {},
     "output_type": "display_data"
    }
   ],
   "source": [
    "def running_mean(quantity):\n",
    "    'return an array where the ith element is the mean of the first i values of the given array'\n",
    "    return np.cumsum(quantity, axis = 0) / np.arange(1,quantity.shape[0]+1)\n",
    "\n",
    "exacts = [Ff, Fc, Nf, Nc, Mf_moment[2], Mf_moment[4]]\n",
    "print(exacts)\n",
    "observables = [log.Ff, log.Fc,log.Nf,log.Nc,log.Mf_moments[2], log.Mf_moments[4]]\n",
    "labels = ['Ff', 'Fc', 'Nf', 'Nc', 'M**2', 'M**4']\n",
    "\n",
    "f, ax = plt.subplots(1,1, figsize = (12,5), sharex = 'all', gridspec_kw=dict(hspace = 0.5))\n",
    "\n",
    "for x, label, exact in zip(observables, labels, exacts):\n",
    "    ax.plot(np.arange(x.shape[0]), (running_mean(x)-exact)/exact * 100, label = label)\n",
    "\n",
    "ax.plot((0,x.shape[0]),(0,0), 'k--')\n",
    "ax.set(ylabel = '% deviation from expected value', xlim = (100,2000))\n",
    "ax.legend()"
   ]
  },
  {
   "cell_type": "markdown",
   "metadata": {},
   "source": [
    "The above plot shows the mean of each observable after x monte carlo steps, showing gradual convergence. Currently the Ff, Fc and Nc observables don't converge to the correct values!"
   ]
  }
 ],
 "metadata": {
  "kernelspec": {
   "display_name": "Python3 (conda intel) #2",
   "language": "python",
   "name": "cmth_intelpython3"
  },
  "language_info": {
   "codemirror_mode": {
    "name": "ipython",
    "version": 3
   },
   "file_extension": ".py",
   "mimetype": "text/x-python",
   "name": "python",
   "nbconvert_exporter": "python",
   "pygments_lexer": "ipython3",
   "version": "3.6.8"
  }
 },
 "nbformat": 4,
 "nbformat_minor": 2
}
