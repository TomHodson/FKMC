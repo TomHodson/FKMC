{
 "cells": [
  {
   "cell_type": "code",
   "execution_count": 2,
   "metadata": {},
   "outputs": [],
   "source": [
    "import numpy as np\n",
    "from matplotlib import pyplot as plt\n",
    "import timeit\n",
    "\n",
    "%matplotlib inline\n",
    "%load_ext autoreload\n",
    "%autoreload 2\n",
    "\n",
    "import h5py\n",
    "from pathlib import Path\n",
    "from FKMC.jobmanager import *"
   ]
  },
  {
   "cell_type": "code",
   "execution_count": 3,
   "metadata": {},
   "outputs": [
    {
     "data": {
      "text/plain": [
       "array([ 31,  40,  52,  68,  87, 113, 146, 189, 244, 316])"
      ]
     },
     "execution_count": 3,
     "metadata": {},
     "output_type": "execute_result"
    }
   ],
   "source": [
    "np.logspace(1.5,2.5,10, dtype = np.int)"
   ]
  },
  {
   "cell_type": "code",
   "execution_count": null,
   "metadata": {},
   "outputs": [],
   "source": []
  },
  {
   "cell_type": "code",
   "execution_count": null,
   "metadata": {},
   "outputs": [],
   "source": [
    "config = dict(\n",
    "              mcmc_routine='quantum_cython_mcmc',\n",
    "              N_steps = 500,\n",
    "              bins = 10,\n",
    "              N_burn_in = 100,\n",
    "              N_system = np.logspace(1.5,2.5,10, dtype = np.int),\n",
    "              mu = 0,\n",
    "              beta = np.array([0.6,0.8,1.0,1.2]),\n",
    "              U = np.array([0.1,1,2,3,5]),\n",
    "              V = np.array([-0.1,-0.3,-1]),\n",
    "              alpha = 1.5,\n",
    "              outer_loop = np.array(['V','beta'], dtype=h5py.special_dtype(vlen=str)),\n",
    "              inner_loop = np.array(['U','N_system'], dtype=h5py.special_dtype(vlen=str)),\n",
    "              quantum = True,\n",
    "              output_history = False,\n",
    "              output_correlator = False,\n",
    "              output_state = False,\n",
    "              energy_max = 4,\n",
    "              energy_min = -4,\n",
    "              N_energy_bins = 100,\n",
    "            )\n",
    "\n",
    "working_dir = Path('../data/IPR_scaling')\n",
    "setup_mcmc(config, working_dir, overwrite = True)\n",
    "\n",
    "config = read_config_file(working_dir)\n",
    "config"
   ]
  }
 ],
 "metadata": {
  "kernelspec": {
   "display_name": "Python3 (conda intel)",
   "language": "python",
   "name": "cmth_intelpython3"
  },
  "language_info": {
   "codemirror_mode": {
    "name": "ipython",
    "version": 3
   },
   "file_extension": ".py",
   "mimetype": "text/x-python",
   "name": "python",
   "nbconvert_exporter": "python",
   "pygments_lexer": "ipython3",
   "version": "3.6.5"
  }
 },
 "nbformat": 4,
 "nbformat_minor": 2
}
