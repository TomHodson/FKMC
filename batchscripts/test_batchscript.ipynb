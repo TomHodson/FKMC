{
 "cells": [
  {
   "cell_type": "code",
   "execution_count": 7,
   "metadata": {},
   "outputs": [
    {
     "name": "stdout",
     "output_type": "stream",
     "text": [
      "job_id: -1, task_id: 11\n"
     ]
    }
   ],
   "source": [
    "from munch import Munch\n",
    "\n",
    "#give information to the dispatch script\n",
    "batch_params = Munch(total_jobs = 5)\n",
    "\n",
    "import os\n",
    "job_id = int(os.getenv('JOB_ID', -1)) #this is the same for the whole array job\n",
    "task_id = int(os.getenv('TASK_ID', 11)) #this is sequential for every task in the job\n",
    "\n",
    "filename = f'{task_id}.npz'\n",
    "\n",
    "print(f'job_id: {job_id}, task_id: {task_id}')\n",
    "\n",
    "import numpy as np\n",
    "np.savez_compressed(filename, np.arange(10), allow_pickle = True,)"
   ]
  },
  {
   "cell_type": "code",
   "execution_count": null,
   "metadata": {},
   "outputs": [],
   "source": []
  }
 ],
 "metadata": {
  "kernelspec": {
   "display_name": "Python [conda env:idp]",
   "language": "python",
   "name": "conda-env-idp-py"
  },
  "language_info": {
   "codemirror_mode": {
    "name": "ipython",
    "version": 3
   },
   "file_extension": ".py",
   "mimetype": "text/x-python",
   "name": "python",
   "nbconvert_exporter": "python",
   "pygments_lexer": "ipython3",
   "version": "3.6.5"
  }
 },
 "nbformat": 4,
 "nbformat_minor": 2
}
