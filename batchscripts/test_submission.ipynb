{
 "cells": [
  {
   "cell_type": "code",
   "execution_count": 99,
   "metadata": {},
   "outputs": [],
   "source": [
    "from pathlib import Path\n",
    "import subprocess as sb\n",
    "from subprocess import CalledProcessError\n",
    "import shutil\n",
    "from sys import exit, argv\n",
    "from datetime import datetime\n",
    "from re import match\n",
    "\n",
    "class CX1job(object): \n",
    "    job_id = None\n",
    "    jobscript = Path.home() / 'FKMC/batchscripts/CX1_jobscript.sh'\n",
    "    running = False\n",
    "    \n",
    "    def __init__(self, python_script, job_name, job_folder_name, array_indices): \n",
    "        self.python_script = python_script\n",
    "        self.job_name = job_name\n",
    "        self.job_folder_name = job_folder_name\n",
    "        self.array_indices = array_indices\n",
    "        self.submit_dir = Path('/rds/general/user/tch14/home/HPC_data') / job_folder_name\n",
    "      \n",
    "    def submit(self, held = False):\n",
    "        #http://docs.adaptivecomputing.com/torque/4-0-2/Content/topics/commands/qsub.htm\n",
    "        start, stop = self.array_indices\n",
    "        indices = f'{start}-{stop}'\n",
    "    \n",
    "        qsub_args = ['qsub', \n",
    "                     '-h' if held else '', \n",
    "                     '-v', f'PYTHON_SCRIPT={self.python_script.name}, SUBMIT_DIR={self.submit_dir}',\n",
    "                     '-N', f'{self.job_name}',\n",
    "                     '-J', f'{indices}',\n",
    "                     '-lselect=1:ncpus=1:mem=4gb:avx=true',\n",
    "                     #'-lwalltime=24:00:00',\n",
    "                     '-lwalltime=00:00:60',\n",
    "                     '-o', str(self.submit_dir / 'logs'),\n",
    "                     '-e', str(self.submit_dir / 'logs'),\n",
    "                   str(self.jobscript)]\n",
    "        print(' '.join(qsub_args))\n",
    "        \n",
    "        try:\n",
    "            #jobid has the form 1649928[].pbs\n",
    "            jobstring = sb.check_output(qsub_args, encoding = 'utf8', stderr=sb.PIPE)\n",
    "            self.job_id = match(r'(\\d+)\\[\\]\\.pbs', jobstring).groups()[0]\n",
    "            \n",
    "        except CalledProcessError as e:\n",
    "            print(e.output, e.stderr, e.returncode)\n",
    "            raise e\n",
    "        \n",
    "        print(f'Job created with id {self.job_id}')\n",
    "        return self\n",
    "\n",
    "    def cancel(self):\n",
    "        if self.job_id == None: \n",
    "            print(\"Can't cancel, no job_id\")\n",
    "            return\n",
    "        print(f'Cancelling job with id {self.job_id}')\n",
    "        try:\n",
    "            sb.check_output(['qdel', self.job_id + '[]'], encoding = 'utf8', stderr=sb.PIPE)\n",
    "        except CalledProcessError as e:\n",
    "            print(e.output, e.stderr, e.returncode)\n",
    "            raise e\n",
    "    \n",
    "    def release(self):\n",
    "        if self.job_id == None: \n",
    "            print(\"Can't release, no job_id\")\n",
    "            return\n",
    "        print(f'Releasing job with id {self.job_id}')\n",
    "        try:\n",
    "            output = sb.check_output(['qrls', self.job_id + '[]'], encoding = 'utf8', stderr=sb.PIPE)\n",
    "            self.running = True\n",
    "        except CalledProcessError as e:\n",
    "            print(e.output, e.stderr, e.returncode)\n",
    "            raise e\n",
    "            \n",
    "    def status(self):\n",
    "        try:\n",
    "            output = sb.check_output(['qstat', self.job_id], encoding = 'utf8', stderr=sb.PIPE)\n",
    "        except CalledProcessError as e:\n",
    "            #print(e.output, e.stderr, e.returncode)\n",
    "            return 'Job finished'\n",
    "        return output\n",
    "        "
   ]
  },
  {
   "cell_type": "code",
   "execution_count": 100,
   "metadata": {},
   "outputs": [
    {
     "name": "stdout",
     "output_type": "stream",
     "text": [
      "qsub -h -v PYTHON_SCRIPT=test_batchscript.py, SUBMIT_DIR=/rds/general/user/tch14/home/HPC_data/test_batchscript_1593789594 -N test_batchscript -J 0-5 -lselect=1:ncpus=1:mem=4gb:avx=true -lwalltime=00:00:60 -o /rds/general/user/tch14/home/HPC_data/test_batchscript_1593789594/logs -e /rds/general/user/tch14/home/HPC_data/test_batchscript_1593789594/logs /rds/general/user/tch14/home/FKMC/batchscripts/CX1_jobscript.sh\n",
      "Job created with id 1813741\n",
      "Releasing job with id 1813741\n"
     ]
    }
   ],
   "source": [
    "### resolve paths to the scripts\n",
    "ipynb_script = Path('test_batchscript.ipynb').resolve() #resolve give the absolute path\n",
    "py_script = ipynb_script.parent / (ipynb_script.stem + '.py')\n",
    "job_name = ipynb_script.stem\n",
    "job_folder_name = f'{job_name}_{time.time():.0f}'\n",
    "indices = (0,5)\n",
    "\n",
    "### Regenerate the py from the ipynb based on timestamps\n",
    "if ipynb_script.stat().st_mtime > py_script.stat().st_mtime:\n",
    "    print('Regenerating py script from ipynb')\n",
    "    sb.check_output(['jupyter', 'nbconvert', '--to', 'script', ipynb_script])   \n",
    "\n",
    "### make the job which gives access to some platform specific info like paths and such\n",
    "job = CX1job(py_script, job_name, job_folder_name, indices)\n",
    "\n",
    "### Make the file where the code and data will be saved\n",
    "code_dir = job.submit_dir / 'code'\n",
    "data_dir = job.submit_dir / 'data'\n",
    "logs_dir = job.submit_dir / 'logs'\n",
    "for d in [code_dir, data_dir, logs_dir]: d.mkdir(parents=True, exist_ok=True)\n",
    "\n",
    "### copy the code over\n",
    "shutil.copy(str(py_script), code_dir)\n",
    "shutil.copy(str(ipynb_script), code_dir)\n",
    "\n",
    "job.submit(held = True)\n",
    "time.sleep(0.1)\n",
    "job.release()"
   ]
  },
  {
   "cell_type": "code",
   "execution_count": 87,
   "metadata": {},
   "outputs": [
    {
     "data": {
      "text/plain": [
       "'Job finished'"
      ]
     },
     "execution_count": 87,
     "metadata": {},
     "output_type": "execute_result"
    }
   ],
   "source": [
    "job.status()"
   ]
  },
  {
   "cell_type": "code",
   "execution_count": 63,
   "metadata": {},
   "outputs": [
    {
     "name": "stdout",
     "output_type": "stream",
     "text": [
      "Cancelling job with id 1811744\n"
     ]
    }
   ],
   "source": [
    "job.cancel()"
   ]
  },
  {
   "cell_type": "code",
   "execution_count": 92,
   "metadata": {},
   "outputs": [
    {
     "name": "stdout",
     "output_type": "stream",
     "text": [
      "/bin/sh: module: line 1: syntax error: unexpected end of file\n",
      "/bin/sh: error importing function definition for `BASH_FUNC_module'\n",
      "   Job ID           Class            Job Name        Status     Comment   \n",
      "-------------- --------------- -------------------- -------- -------------\n",
      "1811230        Jupyter         jupyterhub           Running  finishing today at 17:20\n"
     ]
    }
   ],
   "source": [
    "!qstat"
   ]
  },
  {
   "cell_type": "code",
   "execution_count": 85,
   "metadata": {},
   "outputs": [
    {
     "name": "stdout",
     "output_type": "stream",
     "text": [
      "/bin/sh: module: line 1: syntax error: unexpected end of file\n",
      "/bin/sh: error importing function definition for `BASH_FUNC_module'\n"
     ]
    }
   ],
   "source": [
    "!qdel 1811899[]"
   ]
  },
  {
   "cell_type": "code",
   "execution_count": 82,
   "metadata": {},
   "outputs": [
    {
     "data": {
      "text/plain": [
       "'mv /rds/general/user/tch14/home/HPC_data/logs/*.pbs.* /rds/general/user/tch14/home/HPC_data/old_logs'"
      ]
     },
     "execution_count": 82,
     "metadata": {},
     "output_type": "execute_result"
    }
   ],
   "source": [
    "a = ['mv', '/rds/general/user/tch14/home/HPC_data/logs/*.pbs.*', '/rds/general/user/tch14/home/HPC_data/old_logs']\n",
    "b = ' '.join(a)\n",
    "b"
   ]
  },
  {
   "cell_type": "code",
   "execution_count": 91,
   "metadata": {},
   "outputs": [
    {
     "data": {
      "text/plain": [
       "1593777163.0801446"
      ]
     },
     "execution_count": 91,
     "metadata": {},
     "output_type": "execute_result"
    }
   ],
   "source": [
    "time.time()"
   ]
  },
  {
   "cell_type": "code",
   "execution_count": 2,
   "metadata": {},
   "outputs": [
    {
     "data": {
      "text/plain": [
       "[1, 2, 4, 3]"
      ]
     },
     "execution_count": 2,
     "metadata": {},
     "output_type": "execute_result"
    }
   ],
   "source": [
    "a = [1,2,3]\n",
    "a.insert(-1, 4)\n",
    "a"
   ]
  },
  {
   "cell_type": "code",
   "execution_count": null,
   "metadata": {},
   "outputs": [],
   "source": []
  }
 ],
 "metadata": {
  "kernelspec": {
   "display_name": "Python [conda env:intelpython3.5] *",
   "language": "python",
   "name": "conda-env-intelpython3.5-py"
  },
  "language_info": {
   "codemirror_mode": {
    "name": "ipython",
    "version": 3
   },
   "file_extension": ".py",
   "mimetype": "text/x-python",
   "name": "python",
   "nbconvert_exporter": "python",
   "pygments_lexer": "ipython3",
   "version": "3.6.8"
  }
 },
 "nbformat": 4,
 "nbformat_minor": 2
}
