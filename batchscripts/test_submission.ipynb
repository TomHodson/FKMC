{
 "cells": [
  {
   "cell_type": "code",
   "execution_count": 55,
   "metadata": {},
   "outputs": [
    {
     "name": "stdout",
     "output_type": "stream",
     "text": [
      "blas_mkl_info:\n",
      "    libraries = ['mkl_rt', 'pthread']\n",
      "    library_dirs = ['/rds/general/user/tch14/home/anaconda3/lib']\n",
      "    define_macros = [('SCIPY_MKL_H', None), ('HAVE_CBLAS', None)]\n",
      "    include_dirs = ['/rds/general/user/tch14/home/anaconda3/include']\n",
      "blas_opt_info:\n",
      "    libraries = ['mkl_rt', 'pthread']\n",
      "    library_dirs = ['/rds/general/user/tch14/home/anaconda3/lib']\n",
      "    define_macros = [('SCIPY_MKL_H', None), ('HAVE_CBLAS', None)]\n",
      "    include_dirs = ['/rds/general/user/tch14/home/anaconda3/include']\n",
      "lapack_mkl_info:\n",
      "    libraries = ['mkl_rt', 'pthread']\n",
      "    library_dirs = ['/rds/general/user/tch14/home/anaconda3/lib']\n",
      "    define_macros = [('SCIPY_MKL_H', None), ('HAVE_CBLAS', None)]\n",
      "    include_dirs = ['/rds/general/user/tch14/home/anaconda3/include']\n",
      "lapack_opt_info:\n",
      "    libraries = ['mkl_rt', 'pthread']\n",
      "    library_dirs = ['/rds/general/user/tch14/home/anaconda3/lib']\n",
      "    define_macros = [('SCIPY_MKL_H', None), ('HAVE_CBLAS', None)]\n",
      "    include_dirs = ['/rds/general/user/tch14/home/anaconda3/include']\n"
     ]
    }
   ],
   "source": [
    "from pathlib import Path\n",
    "import subprocess as sb\n",
    "from subprocess import CalledProcessError\n",
    "import shutil\n",
    "from sys import exit, argv\n",
    "from datetime import datetime\n",
    "from re import match\n",
    "\n",
    "import numpy as np\n",
    "\n",
    "np.show_config()\n",
    "        "
   ]
  },
  {
   "cell_type": "code",
   "execution_count": 1,
   "metadata": {},
   "outputs": [
    {
     "data": {
      "text/plain": [
       "'1924299[].pbs 1924300[].pbs 1924301[].pbs 1924302[].pbs 1924303[].pbs 1924304[].pbs 1924305[].pbs 1924306[].pbs 1924307[].pbs 1924308[].pbs 1924309[].pbs 1924310[].pbs 1924311[].pbs 1924312[].pbs 1924313[].pbs 1924314[].pbs 1924315[].pbs 1924316[].pbs 1927077.pbs'"
      ]
     },
     "execution_count": 1,
     "metadata": {},
     "output_type": "execute_result"
    }
   ],
   "source": [
    "import subprocess as sb\n",
    "qstat = sb.check_output(['qstat'], encoding = 'utf8')  \n",
    "#qstat = sb.check_output(['qstat'], encoding = 'utf8')   \n",
    "qstat = [row.split() for row in qstat.split('\\n')][2:-1]\n",
    "' '.join([r[0] if len(r)>0 else r for r in qstat])"
   ]
  },
  {
   "cell_type": "code",
   "execution_count": 27,
   "metadata": {},
   "outputs": [
    {
     "name": "stdout",
     "output_type": "stream",
     "text": [
      "The autoreload extension is already loaded. To reload it, use:\n",
      "  %reload_ext autoreload\n",
      "Imported pathlib::Path, os, munch::Munch, pickle, logging, itertools::count, matplotlib::colors\n",
      "Names are pyplot = plt, matplotlib = mpl, numpy = np\n"
     ]
    }
   ],
   "source": [
    "%load_ext autoreload\n",
    "%autoreload 2\n",
    "%run ~/FKMC/notebooks/notebook_preamble.py\n",
    "%matplotlib inline\n",
    "np.seterr(under = 'ignore')\n",
    "from time import time\n",
    "from munch import munchify"
   ]
  },
  {
   "cell_type": "code",
   "execution_count": 42,
   "metadata": {},
   "outputs": [
    {
     "data": {
      "text/plain": [
       "array([<FKMC.montecarlo.Eigenspectrum_IPR_all object at 0x1554614a6cd0>,\n",
       "       <FKMC.montecarlo.Eigenspectrum_IPR_all object at 0x155461498ad0>,\n",
       "       <FKMC.montecarlo.Eigenspectrum_IPR_all object at 0x1554614984d0>,\n",
       "       <FKMC.montecarlo.Eigenspectrum_IPR_all object at 0x155461498110>,\n",
       "       <FKMC.montecarlo.Eigenspectrum_IPR_all object at 0x155461498910>,\n",
       "       <FKMC.montecarlo.Eigenspectrum_IPR_all object at 0x155461498750>,\n",
       "       <FKMC.montecarlo.Eigenspectrum_IPR_all object at 0x155461498490>,\n",
       "       <FKMC.montecarlo.Eigenspectrum_IPR_all object at 0x155461498190>,\n",
       "       <FKMC.montecarlo.Eigenspectrum_IPR_all object at 0x155461498610>,\n",
       "       <FKMC.montecarlo.Eigenspectrum_IPR_all object at 0x155461498d50>],\n",
       "      dtype=object)"
      ]
     },
     "execution_count": 42,
     "metadata": {},
     "output_type": "execute_result"
    }
   ],
   "source": [
    "submit_dir = Path('/home/tch14/HPC_data/Tsweep_U5_J5_test')\n",
    "filename = '35_1.npz'\n",
    "d = munchify(np.load(submit_dir / 'data' / filename, allow_pickle = True))\n",
    "logs = d['logs'][()]\n",
    "logs"
   ]
  },
  {
   "cell_type": "code",
   "execution_count": 43,
   "metadata": {},
   "outputs": [
    {
     "data": {
      "text/plain": [
       "[70, 80, 90, 110, 130, 150, 180, 210, 250, 300]"
      ]
     },
     "execution_count": 43,
     "metadata": {},
     "output_type": "execute_result"
    }
   ],
   "source": [
    "[l.N_sites if l else None for l in logs]"
   ]
  },
  {
   "cell_type": "code",
   "execution_count": 39,
   "metadata": {},
   "outputs": [
    {
     "data": {
      "text/plain": [
       "posix.uname_result(sysname='Linux', nodename='cx1-101-17-3.cx1.hpc.ic.ac.uk', release='4.18.0-193.6.3.el8_2.x86_64', version='#1 SMP Wed Jun 10 11:09:32 UTC 2020', machine='x86_64')"
      ]
     },
     "execution_count": 39,
     "metadata": {},
     "output_type": "execute_result"
    }
   ],
   "source": [
    "os.uname()"
   ]
  },
  {
   "cell_type": "code",
   "execution_count": 34,
   "metadata": {},
   "outputs": [
    {
     "name": "stdout",
     "output_type": "stream",
     "text": [
      "1950671[].pbs Large_IPR_D_0 B\n",
      "1950672[].pbs Large_IPR_D_1 H\n",
      "1950673[].pbs Large_IPR_D_2 H\n",
      "1950674[].pbs Large_IPR_D_3 H\n",
      "1950675[].pbs Large_IPR_D_4 H\n",
      "1950676[].pbs Large_IPR_D_5 H\n",
      "1950677[].pbs Large_IPR_D_6 H\n",
      "1950678[].pbs Large_IPR_D_7 H\n",
      "1950679[].pbs Large_IPR_D_8 H\n",
      "1950680[].pbs Large_IPR_D_9 H\n",
      "1950681[].pbs Large_IPR_D_10 H\n",
      "1950682[].pbs Large_IPR_D_11 H\n",
      "1950683[].pbs Large_IPR_D_12 H\n",
      "1950684[].pbs Large_IPR_D_13 H\n",
      "1950685[].pbs Large_IPR_D_14 H\n",
      "1950686[].pbs Large_IPR_D_15 H\n",
      "1950687[].pbs Large_IPR_D_16 H\n",
      "1950688[].pbs Large_IPR_D_17 H\n",
      "1950689[].pbs Large_IPR_D_18 H\n",
      "1950690[].pbs Large_IPR_D_19 H\n"
     ]
    }
   ],
   "source": [
    "import subprocess as sb\n",
    "import json\n",
    "from munch import munchify\n",
    "from pathlib import Path\n",
    "\n",
    "stdout = sb.run(\n",
    "    \"qstat -f -F json\".split(),\n",
    "    check=True,\n",
    "    stdout=sb.PIPE,\n",
    ").stdout\n",
    "\n",
    "qstat = munchify(json.loads(stdout))\n",
    "name = 'Large'\n",
    "for jobid, job in qstat.Jobs.items():\n",
    "    if name in job.Job_Name:\n",
    "        print(f'{jobid} {job.Job_Name} {job.job_state}')\n"
   ]
  },
  {
   "cell_type": "code",
   "execution_count": 98,
   "metadata": {},
   "outputs": [
    {
     "name": "stdout",
     "output_type": "stream",
     "text": [
      "1951833[20].pbs Large_IPR_D_0 R\n",
      "Runtime:  00:00:13\n",
      "CPU model:  24\n",
      "N CPUs:  48\n",
      "Warranty End:  2021-09-02\n",
      "\n",
      "Python Logs:\n",
      "Generating initial state as this is the first run with these params\n",
      "Diagonalisation benchmark: 0.96 seconds\n",
      "N = 740: 0% through after 0.00m             rejects: classical = nan% quantum = nan% overall = nan%\n",
      "\n",
      "1951833[21].pbs Large_IPR_D_0 R\n",
      "Runtime:  00:00:13\n",
      "CPU model:  24\n",
      "N CPUs:  48\n",
      "Warranty End:  2021-09-02\n",
      "\n",
      "Python Logs:\n",
      "Generating initial state as this is the first run with these params\n",
      "Diagonalisation benchmark: 0.97 seconds\n",
      "N = 740: 0% through after 0.00m             rejects: classical = nan% quantum = nan% overall = nan%\n",
      "\n",
      "1951833[22].pbs Large_IPR_D_0 R\n",
      "Runtime:  00:00:13\n",
      "CPU model:  24\n",
      "N CPUs:  48\n",
      "Warranty End:  2021-09-02\n",
      "\n",
      "Python Logs:\n",
      "Generating initial state as this is the first run with these params\n",
      "Diagonalisation benchmark: 0.89 seconds\n",
      "N = 740: 0% through after 0.00m             rejects: classical = nan% quantum = nan% overall = nan%\n",
      "\n",
      "1951833[23].pbs Large_IPR_D_0 R\n",
      "Runtime:  00:00:13\n",
      "CPU model:  24\n",
      "N CPUs:  48\n",
      "Warranty End:  2021-09-02\n",
      "\n",
      "Python Logs:\n",
      "Generating initial state as this is the first run with these params\n",
      "Diagonalisation benchmark: 0.98 seconds\n",
      "N = 740: 0% through after 0.00m             rejects: classical = nan% quantum = nan% overall = nan%\n",
      "\n",
      "1951833[24].pbs Large_IPR_D_0 R\n",
      "Runtime:  00:00:13\n",
      "CPU model:  24\n",
      "N CPUs:  48\n",
      "Warranty End:  2019-04-19\n",
      "\n",
      "Python Logs:\n",
      "Generating initial state as this is the first run with these params\n",
      "Diagonalisation benchmark: 0.86 seconds\n",
      "N = 550: 0% through after 0.00m             rejects: classical = nan% quantum = nan% overall = nan%\n",
      "\n",
      "1951833[25].pbs Large_IPR_D_0 R\n",
      "Runtime:  00:00:14\n",
      "CPU model:  24\n",
      "N CPUs:  48\n",
      "Warranty End:  2019-04-19\n",
      "\n",
      "Python Logs:\n",
      "Generating initial state as this is the first run with these params\n",
      "Diagonalisation benchmark: 0.95 seconds\n",
      "N = 740: 0% through after 0.00m             rejects: classical = nan% quantum = nan% overall = nan%\n",
      "\n",
      "1951833[26].pbs Large_IPR_D_0 R\n",
      "Runtime:  00:00:14\n",
      "CPU model:  24\n",
      "N CPUs:  48\n",
      "Warranty End:  2019-04-19\n",
      "\n",
      "Python Logs:\n",
      "Generating initial state as this is the first run with these params\n",
      "Diagonalisation benchmark: 0.93 seconds\n",
      "N = 740: 0% through after 0.00m             rejects: classical = nan% quantum = nan% overall = nan%\n",
      "\n",
      "1951833[27].pbs Large_IPR_D_0 R\n",
      "Runtime:  00:00:14\n",
      "CPU model:  24\n",
      "N CPUs:  48\n",
      "Warranty End:  2019-04-19\n",
      "\n",
      "Python Logs:\n",
      "Generating initial state as this is the first run with these params\n",
      "Diagonalisation benchmark: 0.92 seconds\n",
      "N = 740: 0% through after 0.00m             rejects: classical = nan% quantum = nan% overall = nan%\n",
      "\n",
      "1951833[28].pbs Large_IPR_D_0 R\n",
      "Runtime:  00:00:14\n",
      "CPU model:  24\n",
      "N CPUs:  48\n",
      "Warranty End:  2019-04-19\n",
      "\n",
      "Python Logs:\n",
      "Generating initial state as this is the first run with these params\n",
      "Diagonalisation benchmark: 1.00 seconds\n",
      "N = 550: 0% through after 0.00m             rejects: classical = nan% quantum = nan% overall = nan%\n",
      "\n",
      "1951833[29].pbs Large_IPR_D_0 R\n",
      "Runtime:  00:00:14\n",
      "CPU model:  24\n",
      "N CPUs:  48\n",
      "Warranty End:  2019-08-05\n",
      "\n",
      "Python Logs:\n",
      "Generating initial state as this is the first run with these params\n",
      "Diagonalisation benchmark: 0.92 seconds\n",
      "N = 550: 0% through after 0.00m             rejects: classical = nan% quantum = nan% overall = nan%\n",
      "\n",
      "1951833[33].pbs Large_IPR_D_0 R\n",
      "Runtime:  00:00:14\n",
      "CPU model:  24\n",
      "N CPUs:  48\n",
      "Warranty End:  2019-08-05\n",
      "\n",
      "Python Logs:\n",
      "N = 1000: 10% through after 1.48m             rejects: classical = 100% quantum = 8% overall = 100%\n",
      "N = 1000: 20% through after 5.22m             rejects: classical = 100% quantum = 37% overall = 100%\n",
      "N = 1000: 30% through after 12.51m             rejects: classical = 99% quantum = 59% overall = 100%\n",
      "\n",
      "1951833[35].pbs Large_IPR_D_0 R\n",
      "Runtime:  00:00:14\n",
      "CPU model:  24\n",
      "N CPUs:  48\n",
      "Warranty End:  2019-08-05\n",
      "\n",
      "Python Logs:\n",
      "N = 1000: 10% through after 1.58m             rejects: classical = 100% quantum = 9% overall = 100%\n",
      "N = 1000: 20% through after 5.35m             rejects: classical = 100% quantum = 39% overall = 100%\n",
      "N = 1000: 30% through after 11.77m             rejects: classical = 99% quantum = 59% overall = 100%\n",
      "\n",
      "1951833[37].pbs Large_IPR_D_0 R\n",
      "Runtime:  00:00:14\n",
      "CPU model:  24\n",
      "N CPUs:  48\n",
      "Warranty End:  2019-08-05\n",
      "\n",
      "Python Logs:\n",
      "N = 1000: 0% through after 0.01m             rejects: classical = nan% quantum = nan% overall = nan%\n",
      "N = 1000: 10% through after 1.88m             rejects: classical = 100% quantum = 8% overall = 100%\n",
      "N = 1000: 20% through after 6.41m             rejects: classical = 100% quantum = 35% overall = 100%\n",
      "\n",
      "1951833[39].pbs Large_IPR_D_0 R\n",
      "Runtime:  00:00:14\n",
      "CPU model:  24\n",
      "N CPUs:  48\n",
      "Warranty End:  2019-08-05\n",
      "\n",
      "Python Logs:\n",
      "N = 1000: 10% through after 1.72m             rejects: classical = 100% quantum = 11% overall = 100%\n",
      "N = 1000: 20% through after 5.75m             rejects: classical = 100% quantum = 34% overall = 100%\n",
      "N = 1000: 30% through after 19.21m             rejects: classical = 99% quantum = 68% overall = 100%\n",
      "\n"
     ]
    }
   ],
   "source": [
    "stdout = sb.run(\n",
    "    [\"qstat\", \n",
    "     \"-t\", \"-f\",\n",
    "     \"-F\", \"json\",\n",
    "     #\"1950671[].pbs\"\n",
    "    ],\n",
    "    check=True,\n",
    "    stdout=sb.PIPE,\n",
    ").stdout\n",
    "\n",
    "def qstat(job_id=None, array=False):\n",
    "    args =  [\"qstat\", \"-f\", \"-F\", \"json\"]\n",
    "    if array: args.append('-t')\n",
    "    if job_id is not None: args.append(job_id)\n",
    "    return munchify(json.loads(sb.run(args, check=True, stdout=sb.PIPE).stdout))\n",
    "\n",
    "def pbsnodes(node):\n",
    "    args =  [\"pbsnodes\", \"-F\", \"json\", node]\n",
    "    return munchify(json.loads(sb.run(args, check=True, stdout=sb.PIPE).stdout))\n",
    "    \n",
    "\n",
    "#dict_keys(['Job_Name', 'Job_Owner', 'resources_used', 'job_state', 'queue', 'server', 'ctime',\n",
    "#           'Error_Path', 'exec_host', 'exec_vnode', 'group_list', 'Join_Path', 'Keep_Files', 'Mail_Points', \n",
    "#           'mtime', 'Output_Path', 'Priority', 'qtime', 'Rerunable', 'Resource_List', 'stime', 'session_id',\n",
    "#           'jobdir', 'substate', 'Variable_List', 'comment', 'etime', 'run_count', 'eligible_time', 'array_id',\n",
    "#           'array_index', 'pset', 'project'])\n",
    "\n",
    "name = 'Large'\n",
    "for jobid, job in qstat(array=True).Jobs.items():\n",
    "    if name in job.Job_Name and job.job_state in \"R\":\n",
    "        print(f'{jobid} {job.Job_Name} {job.job_state}')\n",
    "        logs = Path(job.Output_Path.split(':')[-1])\n",
    "        jid = jobid.split('.')[0]\n",
    "        \n",
    "        print(\"Runtime: \", job.eligible_time)\n",
    "        \n",
    "        node = job.exec_vnode.split(':')[0][1:]\n",
    "        nodeinfo = munchify(json.loads(sb.run([\"pbsnodes\", \"-F\", \"json\", node], check=True, stdout=sb.PIPE,).stdout)).nodes[node]\n",
    "        if 'resources_available' in nodeinfo: \n",
    "            #print(nodeinfo.resources_available)\n",
    "            print(\"CPU model: \", nodeinfo.resources_available.cpumodel)\n",
    "            print(\"N CPUs: \", nodeinfo.resources_available.ncpus)\n",
    "            print(\"Warranty End: \", nodeinfo.resources_available.warranty_end)\n",
    "        \n",
    "        \n",
    "        err = logs / f\"{jid}.ER\"\n",
    "        if err.exists():\n",
    "            tail = err.open().readlines()[-3:]\n",
    "            if len(tail) > 0:\n",
    "                print('\\nErrors:')\n",
    "                print(\"\".join(tail))\n",
    "        \n",
    "        print('\\nPython Logs:')\n",
    "        log = logs / f\"{jid}.pythonlog\"\n",
    "        if log.exists():\n",
    "            tail = log.open().readlines()[-3:]\n",
    "            print(\"\".join(tail))\n",
    "        \n",
    "        out = logs / f\"{jobid}.OU\"\n",
    "        if out.exists():\n",
    "            tail = out.open().readlines()[-3:]\n",
    "            print(\"\".join(tail))"
   ]
  },
  {
   "cell_type": "code",
   "execution_count": 14,
   "metadata": {},
   "outputs": [
    {
     "data": {
      "text/plain": [
       "'B'"
      ]
     },
     "execution_count": 14,
     "metadata": {},
     "output_type": "execute_result"
    }
   ],
   "source": [
    "qstat.Jobs['1950671[].pbs'].job_state"
   ]
  },
  {
   "cell_type": "code",
   "execution_count": null,
   "metadata": {},
   "outputs": [],
   "source": []
  }
 ],
 "metadata": {
  "kernelspec": {
   "display_name": "Anaconda3/base",
   "language": "python",
   "name": "base"
  },
  "language_info": {
   "codemirror_mode": {
    "name": "ipython",
    "version": 3
   },
   "file_extension": ".py",
   "mimetype": "text/x-python",
   "name": "python",
   "nbconvert_exporter": "python",
   "pygments_lexer": "ipython3",
   "version": "3.7.4"
  }
 },
 "nbformat": 4,
 "nbformat_minor": 4
}
