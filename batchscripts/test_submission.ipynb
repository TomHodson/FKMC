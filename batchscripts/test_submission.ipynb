{
 "cells": [
  {
   "cell_type": "code",
   "execution_count": 3,
   "metadata": {},
   "outputs": [],
   "source": [
    "from pathlib import Path\n",
    "import subprocess as sb\n",
    "from subprocess import CalledProcessError\n",
    "import shutil\n",
    "from sys import exit, argv\n",
    "from datetime import datetime\n",
    "from re import match\n",
    "\n",
    "class CX1job(object): \n",
    "    job_id = None\n",
    "    jobscript = Path.home() / 'FKMC/batchscripts/CX1_jobscript.sh'\n",
    "    running = False\n",
    "    \n",
    "    def __init__(self, python_script, job_name, job_folder_name, array_indices): \n",
    "        self.python_script = python_script\n",
    "        self.job_name = job_name\n",
    "        self.job_folder_name = job_folder_name\n",
    "        self.array_indices = array_indices\n",
    "        self.submit_dir = Path('/rds/general/user/tch14/home/HPC_data') / job_folder_name\n",
    "      \n",
    "    def submit(self, held = False):\n",
    "        #http://docs.adaptivecomputing.com/torque/4-0-2/Content/topics/commands/qsub.htm\n",
    "        start, stop = self.array_indices\n",
    "        indices = f'{start}-{stop}'\n",
    "    \n",
    "        qsub_args = ['qsub', \n",
    "                     '-h' if held else '', \n",
    "                     '-v', f'PYTHON_SCRIPT={self.python_script.name}, SUBMIT_DIR={self.submit_dir}',\n",
    "                     '-N', f'{self.job_name}',\n",
    "                     '-J', f'{indices}',\n",
    "                     '-lselect=1:ncpus=1:mem=4gb:avx=true',\n",
    "                     #'-lwalltime=24:00:00',\n",
    "                     '-lwalltime=00:00:60',\n",
    "                     '-o', str(self.submit_dir / 'logs'),\n",
    "                     '-e', str(self.submit_dir / 'logs'),\n",
    "                   str(self.jobscript)]\n",
    "        print(' '.join(qsub_args))\n",
    "        \n",
    "        try:\n",
    "            #jobid has the form 1649928[].pbs\n",
    "            jobstring = sb.check_output(qsub_args, encoding = 'utf8', stderr=sb.PIPE)\n",
    "            self.job_id = match(r'(\\d+)\\[\\]\\.pbs', jobstring).groups()[0]\n",
    "            \n",
    "        except CalledProcessError as e:\n",
    "            print(e.output, e.stderr, e.returncode)\n",
    "            raise e\n",
    "        \n",
    "        print(f'Job created with id {self.job_id}')\n",
    "        return self\n",
    "\n",
    "    def cancel(self):\n",
    "        if self.job_id == None: \n",
    "            print(\"Can't cancel, no job_id\")\n",
    "            return\n",
    "        print(f'Cancelling job with id {self.job_id}')\n",
    "        try:\n",
    "            sb.check_output(['qdel', self.job_id + '[]'], encoding = 'utf8', stderr=sb.PIPE)\n",
    "        except CalledProcessError as e:\n",
    "            print(e.output, e.stderr, e.returncode)\n",
    "            raise e\n",
    "    \n",
    "    def release(self):\n",
    "        if self.job_id == None: \n",
    "            print(\"Can't release, no job_id\")\n",
    "            return\n",
    "        print(f'Releasing job with id {self.job_id}')\n",
    "        try:\n",
    "            output = sb.check_output(['qrls', self.job_id + '[]'], encoding = 'utf8', stderr=sb.PIPE)\n",
    "            self.running = True\n",
    "        except CalledProcessError as e:\n",
    "            print(e.output, e.stderr, e.returncode)\n",
    "            raise e\n",
    "            \n",
    "    def status(self):\n",
    "        try:\n",
    "            output = sb.check_output(['qstat', self.job_id], encoding = 'utf8', stderr=sb.PIPE)\n",
    "        except CalledProcessError as e:\n",
    "            #print(e.output, e.stderr, e.returncode)\n",
    "            return 'Job finished'\n",
    "        return output\n",
    "        "
   ]
  },
  {
   "cell_type": "code",
   "execution_count": 100,
   "metadata": {},
   "outputs": [
    {
     "name": "stdout",
     "output_type": "stream",
     "text": [
      "qsub -h -v PYTHON_SCRIPT=test_batchscript.py, SUBMIT_DIR=/rds/general/user/tch14/home/HPC_data/test_batchscript_1593789594 -N test_batchscript -J 0-5 -lselect=1:ncpus=1:mem=4gb:avx=true -lwalltime=00:00:60 -o /rds/general/user/tch14/home/HPC_data/test_batchscript_1593789594/logs -e /rds/general/user/tch14/home/HPC_data/test_batchscript_1593789594/logs /rds/general/user/tch14/home/FKMC/batchscripts/CX1_jobscript.sh\n",
      "Job created with id 1813741\n",
      "Releasing job with id 1813741\n"
     ]
    }
   ],
   "source": [
    "### resolve paths to the scripts\n",
    "ipynb_script = Path('test_batchscript.ipynb').resolve() #resolve give the absolute path\n",
    "py_script = ipynb_script.parent / (ipynb_script.stem + '.py')\n",
    "job_name = ipynb_script.stem\n",
    "job_folder_name = f'{job_name}_{time.time():.0f}'\n",
    "indices = (0,5)\n",
    "\n",
    "### Regenerate the py from the ipynb based on timestamps\n",
    "if ipynb_script.stat().st_mtime > py_script.stat().st_mtime:\n",
    "    print('Regenerating py script from ipynb')\n",
    "    sb.check_output(['jupyter', 'nbconvert', '--to', 'script', ipynb_script])   \n",
    "\n",
    "### make the job which gives access to some platform specific info like paths and such\n",
    "job = CX1job(py_script, job_name, job_folder_name, indices)\n",
    "\n",
    "### Make the file where the code and data will be saved\n",
    "code_dir = job.submit_dir / 'code'\n",
    "data_dir = job.submit_dir / 'data'\n",
    "logs_dir = job.submit_dir / 'logs'\n",
    "for d in [code_dir, data_dir, logs_dir]: d.mkdir(parents=True, exist_ok=True)\n",
    "\n",
    "### copy the code over\n",
    "shutil.copy(str(py_script), code_dir)\n",
    "shutil.copy(str(ipynb_script), code_dir)\n",
    "\n",
    "job.submit(held = True)\n",
    "time.sleep(0.1)\n",
    "job.release()"
   ]
  },
  {
   "cell_type": "code",
   "execution_count": 87,
   "metadata": {},
   "outputs": [
    {
     "data": {
      "text/plain": [
       "'Job finished'"
      ]
     },
     "execution_count": 87,
     "metadata": {},
     "output_type": "execute_result"
    }
   ],
   "source": [
    "job.status()"
   ]
  },
  {
   "cell_type": "code",
   "execution_count": 63,
   "metadata": {},
   "outputs": [
    {
     "name": "stdout",
     "output_type": "stream",
     "text": [
      "Cancelling job with id 1811744\n"
     ]
    }
   ],
   "source": [
    "job.cancel()"
   ]
  },
  {
   "cell_type": "code",
   "execution_count": 92,
   "metadata": {},
   "outputs": [
    {
     "name": "stdout",
     "output_type": "stream",
     "text": [
      "/bin/sh: module: line 1: syntax error: unexpected end of file\n",
      "/bin/sh: error importing function definition for `BASH_FUNC_module'\n",
      "   Job ID           Class            Job Name        Status     Comment   \n",
      "-------------- --------------- -------------------- -------- -------------\n",
      "1811230        Jupyter         jupyterhub           Running  finishing today at 17:20\n"
     ]
    }
   ],
   "source": [
    "!qstat"
   ]
  },
  {
   "cell_type": "code",
   "execution_count": 85,
   "metadata": {},
   "outputs": [
    {
     "name": "stdout",
     "output_type": "stream",
     "text": [
      "/bin/sh: module: line 1: syntax error: unexpected end of file\n",
      "/bin/sh: error importing function definition for `BASH_FUNC_module'\n"
     ]
    }
   ],
   "source": [
    "!qdel 1811899[]"
   ]
  },
  {
   "cell_type": "code",
   "execution_count": 82,
   "metadata": {},
   "outputs": [
    {
     "data": {
      "text/plain": [
       "'mv /rds/general/user/tch14/home/HPC_data/logs/*.pbs.* /rds/general/user/tch14/home/HPC_data/old_logs'"
      ]
     },
     "execution_count": 82,
     "metadata": {},
     "output_type": "execute_result"
    }
   ],
   "source": [
    "a = ['mv', '/rds/general/user/tch14/home/HPC_data/logs/*.pbs.*', '/rds/general/user/tch14/home/HPC_data/old_logs']\n",
    "b = ' '.join(a)\n",
    "b"
   ]
  },
  {
   "cell_type": "code",
   "execution_count": 91,
   "metadata": {},
   "outputs": [
    {
     "data": {
      "text/plain": [
       "1593777163.0801446"
      ]
     },
     "execution_count": 91,
     "metadata": {},
     "output_type": "execute_result"
    }
   ],
   "source": [
    "time.time()"
   ]
  },
  {
   "cell_type": "code",
   "execution_count": 2,
   "metadata": {},
   "outputs": [
    {
     "data": {
      "text/plain": [
       "[1, 2, 4, 3]"
      ]
     },
     "execution_count": 2,
     "metadata": {},
     "output_type": "execute_result"
    }
   ],
   "source": [
    "a = [1,2,3]\n",
    "a.insert(-1, 4)\n",
    "a"
   ]
  },
  {
   "cell_type": "code",
   "execution_count": 21,
   "metadata": {},
   "outputs": [
    {
     "data": {
      "text/plain": [
       "'1869234[].pbs 1869234[0].pbs 1869234[1].pbs 1869234[2].pbs 1869234[3].pbs 1869234[4].pbs 1869234[5].pbs 1869234[6].pbs 1869234[7].pbs 1869234[8].pbs 1869234[9].pbs 1869234[10].pbs 1869234[11].pbs 1869234[12].pbs 1869234[13].pbs 1869234[14].pbs 1869234[15].pbs 1869234[16].pbs 1869234[17].pbs 1869234[18].pbs 1869234[19].pbs 1869234[20].pbs 1869234[21].pbs 1869234[22].pbs 1869234[23].pbs 1869234[24].pbs 1869234[25].pbs 1869234[26].pbs 1869234[27].pbs 1869234[28].pbs 1869234[29].pbs 1869234[30].pbs 1869234[31].pbs 1869234[32].pbs 1869234[33].pbs 1869234[34].pbs 1869234[35].pbs 1869234[36].pbs 1869234[37].pbs 1869234[38].pbs 1869234[39].pbs 1869234[40].pbs 1869234[41].pbs 1869234[42].pbs 1869234[43].pbs 1869234[44].pbs 1869234[45].pbs 1869234[46].pbs 1869234[47].pbs 1869234[48].pbs 1869234[49].pbs 1869234[50].pbs 1869234[51].pbs 1869234[52].pbs 1869234[53].pbs 1869234[54].pbs 1869234[55].pbs 1869234[56].pbs 1869234[57].pbs 1869234[58].pbs 1869234[59].pbs 1869234[60].pbs 1869234[61].pbs 1869234[62].pbs 1869234[63].pbs 1869234[64].pbs 1869234[65].pbs 1869234[66].pbs 1869234[67].pbs 1869234[68].pbs 1869234[69].pbs 1869234[70].pbs 1869234[71].pbs 1869234[72].pbs 1869234[73].pbs 1869234[74].pbs 1869234[75].pbs 1869234[76].pbs 1869234[77].pbs 1869234[78].pbs 1869234[79].pbs 1869234[80].pbs 1869234[81].pbs 1869234[82].pbs 1869234[83].pbs 1869234[84].pbs 1869234[85].pbs 1869234[86].pbs 1869234[87].pbs 1869234[88].pbs 1869234[89].pbs 1869234[90].pbs 1869234[91].pbs 1869234[92].pbs 1869234[93].pbs 1869234[94].pbs 1869234[95].pbs 1869234[96].pbs 1869234[97].pbs 1869234[98].pbs 1869234[99].pbs 1869234[100].pbs 1869234[101].pbs 1869234[102].pbs 1869234[103].pbs 1869234[104].pbs 1869234[105].pbs 1869234[106].pbs 1869234[107].pbs 1869234[108].pbs 1869234[109].pbs 1869234[110].pbs 1869234[111].pbs 1869234[112].pbs 1869234[113].pbs 1869234[114].pbs 1869234[115].pbs 1869234[116].pbs 1869234[117].pbs 1869234[118].pbs 1869234[119].pbs 1869234[120].pbs 1869234[121].pbs 1869234[122].pbs 1869234[123].pbs 1869234[124].pbs 1869234[125].pbs 1869234[126].pbs 1869234[127].pbs 1869234[128].pbs 1869234[129].pbs 1869234[130].pbs 1869234[131].pbs 1869234[132].pbs 1869234[133].pbs 1869234[134].pbs 1869234[135].pbs 1869234[136].pbs 1869234[137].pbs 1869234[138].pbs 1869234[139].pbs 1869234[140].pbs 1869234[141].pbs 1869234[142].pbs 1869234[143].pbs 1869234[144].pbs 1869234[145].pbs 1869234[146].pbs 1869234[147].pbs 1869234[148].pbs 1869234[149].pbs 1869234[150].pbs 1869234[151].pbs 1869234[152].pbs 1869234[153].pbs 1869234[154].pbs 1869234[155].pbs 1869234[156].pbs 1869234[157].pbs 1869234[158].pbs 1869234[159].pbs 1869234[160].pbs 1869234[161].pbs 1869234[162].pbs 1869234[163].pbs 1869234[164].pbs 1869234[165].pbs 1869234[166].pbs 1869234[167].pbs 1869234[168].pbs 1869234[169].pbs 1869234[170].pbs 1869234[171].pbs 1869234[172].pbs 1869234[173].pbs 1869234[174].pbs 1869234[175].pbs 1869234[176].pbs 1869234[177].pbs 1869234[178].pbs 1869234[179].pbs 1869234[180].pbs 1869234[181].pbs 1869234[182].pbs 1869234[183].pbs 1869234[184].pbs 1869234[185].pbs 1869234[186].pbs 1869234[187].pbs 1869234[188].pbs 1869234[189].pbs 1869234[190].pbs 1869234[191].pbs 1869234[192].pbs 1869234[193].pbs 1869234[194].pbs 1869234[195].pbs 1869234[196].pbs 1869234[197].pbs 1869234[198].pbs 1869234[199].pbs'"
      ]
     },
     "execution_count": 21,
     "metadata": {},
     "output_type": "execute_result"
    }
   ],
   "source": [
    "qstat = sb.check_output(['qstat', '-t', '1869234[]'], encoding = 'utf8')  \n",
    "#qstat = sb.check_output(['qstat'], encoding = 'utf8')   \n",
    "qstat = [row.split() for row in qstat.split('\\n')][2:-1]\n",
    "' '.join([r[0] if len(r)>0 else r for r in qstat])"
   ]
  },
  {
   "cell_type": "code",
   "execution_count": null,
   "metadata": {},
   "outputs": [],
   "source": []
  }
 ],
 "metadata": {
  "kernelspec": {
   "display_name": "Anaconda3/base",
   "language": "python",
   "name": "base"
  },
  "language_info": {
   "codemirror_mode": {
    "name": "ipython",
    "version": 3
   },
   "file_extension": ".py",
   "mimetype": "text/x-python",
   "name": "python",
   "nbconvert_exporter": "python",
   "pygments_lexer": "ipython3",
   "version": "3.7.4"
  }
 },
 "nbformat": 4,
 "nbformat_minor": 2
}
